{
 "cells": [
  {
   "cell_type": "code",
   "execution_count": null,
   "id": "5be85c19",
   "metadata": {},
   "outputs": [],
   "source": [
    "import pandas as pd\n",
    "import numpy as np\n",
    "import seaborn as sns\n",
    "import matplotlib.pyplot as plt"
   ]
  },
  {
   "cell_type": "markdown",
   "id": "c6d6ed5a",
   "metadata": {},
   "source": [
    "# Graphing and Visualizations"
   ]
  },
  {
   "cell_type": "code",
   "execution_count": null,
   "id": "9a55cf75",
   "metadata": {},
   "outputs": [],
   "source": [
    "data = pd.read_csv(\"../Data/Intermediate/CDCSTDoverall2000_2020_processed.csv\")"
   ]
  },
  {
   "cell_type": "code",
   "execution_count": null,
   "id": "8d5dbc5d",
   "metadata": {},
   "outputs": [],
   "source": [
    "data.head()\n",
    "data.drop(columns=[\"Unnamed: 0\"])"
   ]
  },
  {
   "cell_type": "code",
   "execution_count": null,
   "id": "31b6e6a9",
   "metadata": {},
   "outputs": [],
   "source": [
    "df_sum = data.groupby(['year'])['cases_gonorrhea','cases_chlamydia','cases_early_non-primary_non-secondary_syphilis','cases_primary_and_secondary_syphilis'].sum().reset_index()"
   ]
  },
  {
   "cell_type": "code",
   "execution_count": null,
   "id": "caa587d8",
   "metadata": {},
   "outputs": [],
   "source": [
    "df_sum.head()\n",
    "df_sum = df_sum[df_sum.year >= 2002]"
   ]
  },
  {
   "cell_type": "code",
   "execution_count": null,
   "id": "32d8f2c3",
   "metadata": {
    "scrolled": false
   },
   "outputs": [],
   "source": [
    "sns.set_theme(style=\"ticks\", palette=None)\n",
    "fig, ax = plt.subplots(nrows=2,ncols=1)\n",
    "plt.figure(figsize = (10,8))\n",
    "plt.subplot(2,1,1)\n",
    "plt.plot(df_sum['cases_chlamydia'], 'k', label='Chlamydia', marker = \".\")\n",
    "plt.plot(df_sum['cases_gonorrhea'], 'r', label='Gonorrhea', marker = \".\")\n",
    "plt.legend()\n",
    "plt.ylabel('Case Counts')\n",
    "# plt.xticks(df_sum['year'])\n",
    "plt.title(\"U.S. STI Cases, 2002-2020\")\n",
    "plt.xticks(ticks=[2,3,4,5,6,7,8,9,10,11,12,13,14,15,16,17,18,19,20], labels=[2002, 2003, 2004, 2005, 2006, 2007, 2008, 2009, 2010, 2011, 2012, 2013, 2014, 2015, 2016, 2017, 2018, 2019, 2020])\n",
    "current_values = plt.gca().get_yticks()\n",
    "plt.gca().set_yticklabels(['{:,.0f}'.format(x) for x in current_values])\n",
    "\n",
    "plt.subplot(2,1,2)\n",
    "plt.plot(df_sum['cases_early_non-primary_non-secondary_syphilis'], 'b', label='Early, Non-Primary, Non-Secondary Syphilis', marker = \".\")\n",
    "plt.plot(df_sum['cases_primary_and_secondary_syphilis'], 'orange', label='Primary and Secondary Syphilis', marker = \".\")\n",
    "plt.legend()\n",
    "plt.ylabel('Case Counts')\n",
    "# plt.xticks(df_sum['year'])\n",
    "plt.xlabel('Year')\n",
    "plt.xticks(ticks=[2,3,4,5,6,7,8,9,10,11,12,13,14,15,16,17,18,19,20], labels=[2002, 2003, 2004, 2005, 2006, 2007, 2008, 2009, 2010, 2011, 2012, 2013, 2014, 2015, 2016, 2017, 2018, 2019, 2020])\n",
    "current_values = plt.gca().get_yticks()\n",
    "plt.gca().set_yticklabels(['{:,.0f}'.format(x) for x in current_values])\n",
    "plt.savefig('../Output/PosterPresentation/cases_gonorrhea_chlamydia_syphilis',dpi=300)\n",
    "plt.show()"
   ]
  },
  {
   "cell_type": "markdown",
   "id": "902a7c12",
   "metadata": {},
   "source": [
    "# Predictions"
   ]
  },
  {
   "cell_type": "markdown",
   "id": "3fbeba36",
   "metadata": {},
   "source": [
    "## National-Level Chlamydia Prediction"
   ]
  },
  {
   "cell_type": "code",
   "execution_count": null,
   "id": "ddabfe51",
   "metadata": {},
   "outputs": [],
   "source": [
    "data = pd.read_csv(\"../Data/Final/STI0220_cov20_pop0220.csv\")\n",
    "data.drop(columns=[\"Unnamed: 0\"])\n",
    "data.head()"
   ]
  },
  {
   "cell_type": "code",
   "execution_count": null,
   "id": "16df8a50",
   "metadata": {
    "scrolled": true
   },
   "outputs": [],
   "source": [
    "df_sum = data.groupby(['year'])['cases_gonorrhea','cases_chlamydia','cases_early_non-primary_non-secondary_syphilis','cases_primary_and_secondary_syphilis', \"total_pop\"].sum().reset_index()\n",
    "df_sum.head()"
   ]
  },
  {
   "cell_type": "code",
   "execution_count": null,
   "id": "b595fc00",
   "metadata": {},
   "outputs": [],
   "source": [
    "df_model = df_sum[[\"year\", \"cases_chlamydia\"]]\n",
    "df_model[\"year\"] = df_model[\"year\"].astype(int)\n",
    "# actual_value = df_model.at[20, \"cases_chlamydia\"]\n",
    "df_plot = df_model\n",
    "df_model = df_model[df_model[\"year\"] <= 2019]\n",
    "df_model.head(21)"
   ]
  },
  {
   "cell_type": "code",
   "execution_count": null,
   "id": "7d40f5e0",
   "metadata": {},
   "outputs": [],
   "source": [
    "from statsmodels.tsa.arima.model import ARIMA\n",
    "model = ARIMA(df_model[\"cases_chlamydia\"], order=(2,2,0))\n",
    "model_fit = model.fit()"
   ]
  },
  {
   "cell_type": "code",
   "execution_count": null,
   "id": "6a6621fe",
   "metadata": {
    "scrolled": true
   },
   "outputs": [],
   "source": [
    " # summary of fit model\n",
    "print(model_fit.summary())"
   ]
  },
  {
   "cell_type": "code",
   "execution_count": null,
   "id": "1be79ab2",
   "metadata": {
    "scrolled": true
   },
   "outputs": [],
   "source": [
    "pred = model_fit.predict(20).to_frame()\n",
    "fitted_value = pred.iloc[0][0]"
   ]
  },
  {
   "cell_type": "code",
   "execution_count": null,
   "id": "2d9eccb2",
   "metadata": {},
   "outputs": [],
   "source": [
    "# print(\"Predicted: \" + str(fitted_value) + \" Actual: \" + str(actual_value))"
   ]
  },
  {
   "cell_type": "code",
   "execution_count": null,
   "id": "dad7f365",
   "metadata": {
    "scrolled": true
   },
   "outputs": [],
   "source": [
    "sns.set_theme(style=\"ticks\", palette=None)\n",
    "plt.figure(figsize = (15,8))\n",
    "g = sns.lineplot(data = df_plot, x = 'year', y = 'cases_chlamydia', marker = \"o\")\n",
    "g.set_ylabel('Case Counts')\n",
    "g.set_xlabel('Year')\n",
    "g.set_xticks(df_sum['year'])\n",
    "g.set_title(\"U.S. Chlamydia Cases, 2002-2020 and Predicted Chlamydia Cases (Red), 2020\")\n",
    "plt.legend(labels=[\"Actual Gonorrhea Cases\"])\n",
    "current_values = plt.gca().get_yticks()\n",
    "plt.gca().set_yticklabels(['{:,.0f}'.format(x) for x in current_values])\n",
    "plt.scatter(2020, fitted_value, marker='o', s=25, c=\"red\")\n",
    "plt.savefig('../Output/PosterPresentation/ModelOutputs/arima_chlamydia.png',dpi=300)\n",
    "plt.show()"
   ]
  },
  {
   "cell_type": "markdown",
   "id": "a14a45ca",
   "metadata": {},
   "source": [
    "# Counterfactual Visualization"
   ]
  },
  {
   "cell_type": "code",
   "execution_count": null,
   "id": "5c93fdc7",
   "metadata": {},
   "outputs": [],
   "source": [
    "data = pd.read_csv(\"../Data/Final/STI0220_cov20_pop0220.csv\")\n",
    "data.drop(columns=[\"Unnamed: 0\"])\n",
    "data.head()"
   ]
  },
  {
   "cell_type": "code",
   "execution_count": null,
   "id": "50aeed01",
   "metadata": {},
   "outputs": [],
   "source": [
    "df_sum = data.groupby(['year', \"fips\"])['cases_gonorrhea','cases_chlamydia','cases_early_non-primary_non-secondary_syphilis','cases_primary_and_secondary_syphilis', \"total_pop\"].sum().reset_index()\n",
    "df_sum.head()"
   ]
  },
  {
   "cell_type": "code",
   "execution_count": null,
   "id": "c6381f77",
   "metadata": {},
   "outputs": [],
   "source": [
    "df_model = df_sum[[\"year\", \"fips\", \"cases_chlamydia\"]]\n",
    "df_model[\"year\"] = df_model[\"year\"].astype(int)\n",
    "\n",
    "df_model1 = df_model[df_model.fips == 1001]\n",
    "df_plot1 = df_model1\n",
    "df_model1 = df_model1[df_model1[\"year\"] <= 2019]\n",
    "df_model1.head(21)"
   ]
  },
  {
   "cell_type": "code",
   "execution_count": null,
   "id": "64af5317",
   "metadata": {},
   "outputs": [],
   "source": [
    "from statsmodels.tsa.arima.model import ARIMA\n",
    "model = ARIMA(df_model1[\"cases_chlamydia\"], order=(2,2,0))\n",
    "model_fit = model.fit()\n",
    "\n",
    "pred = model_fit.predict(20).to_frame()\n",
    "fitted_value = pred.iloc[0][0]"
   ]
  },
  {
   "cell_type": "code",
   "execution_count": null,
   "id": "6c666483",
   "metadata": {},
   "outputs": [],
   "source": [
    "# sns.set_theme(style=\"ticks\", palette=None)\n",
    "# plt.figure(figsize = (15,8))\n",
    "# g = sns.lineplot(data = df_plot1, x = 'year', y = 'cases_chlamydia', marker = \"o\")\n",
    "# g.set_ylabel('Case Counts')\n",
    "# g.set_xlabel('Year')\n",
    "# g.set_xticks(df_sum['year'])\n",
    "# g.set_title(\"U.S. Chlamydia Cases, 2002-2020 and Predicted Chlamydia Cases (Red), 2020\")\n",
    "# plt.legend(labels=[\"Actual Gonorrhea Cases\"])\n",
    "# current_values = plt.gca().get_yticks()\n",
    "# plt.gca().set_yticklabels(['{:,.0f}'.format(x) for x in current_values])\n",
    "# plt.scatter(2020, fitted_value, marker='o', s=25, c=\"red\")\n",
    "# plt.savefig('../Output/PosterPresentation/ModelOutputs/CounterfactualVisualization/arima_chlamydia.png',dpi=300)\n",
    "# plt.show()"
   ]
  }
 ],
 "metadata": {
  "kernelspec": {
   "display_name": "Python 3 (ipykernel)",
   "language": "python",
   "name": "python3"
  },
  "language_info": {
   "codemirror_mode": {
    "name": "ipython",
    "version": 3
   },
   "file_extension": ".py",
   "mimetype": "text/x-python",
   "name": "python",
   "nbconvert_exporter": "python",
   "pygments_lexer": "ipython3",
   "version": "3.10.5"
  }
 },
 "nbformat": 4,
 "nbformat_minor": 5
}
