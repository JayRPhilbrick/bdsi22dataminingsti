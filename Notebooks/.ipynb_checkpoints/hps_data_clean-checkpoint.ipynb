{
 "cells": [
  {
   "cell_type": "code",
   "execution_count": 72,
   "id": "c3291815-d649-4105-bb21-3d3be2fbb5df",
   "metadata": {},
   "outputs": [],
   "source": [
    "import pandas as pd\n",
    "import numpy as np\n",
    "import glob"
   ]
  },
  {
   "cell_type": "code",
   "execution_count": 73,
   "id": "079ea21e-615e-48fd-9bcb-002f5eff3862",
   "metadata": {},
   "outputs": [],
   "source": [
    "tot_df = []\n",
    "# for j,i in enumerate(np.arange(2016, 2021, 1)):\n",
    "\n",
    "for f in glob.glob(\"../Data/Raw/HPS/*.csv\") :\n",
    "    tot_df.append(pd.read_csv(f, skiprows = 3))\n",
    "df = pd.concat(tot_df, axis = 0)"
   ]
  },
  {
   "cell_type": "code",
   "execution_count": 74,
   "id": "48997730-fefe-4334-9cba-9e90799cbf36",
   "metadata": {},
   "outputs": [
    {
     "data": {
      "text/html": [
       "<div>\n",
       "<style scoped>\n",
       "    .dataframe tbody tr th:only-of-type {\n",
       "        vertical-align: middle;\n",
       "    }\n",
       "\n",
       "    .dataframe tbody tr th {\n",
       "        vertical-align: top;\n",
       "    }\n",
       "\n",
       "    .dataframe thead th {\n",
       "        text-align: right;\n",
       "    }\n",
       "</style>\n",
       "<table border=\"1\" class=\"dataframe\">\n",
       "  <thead>\n",
       "    <tr style=\"text-align: right;\">\n",
       "      <th></th>\n",
       "      <th>Week</th>\n",
       "      <th>Area</th>\n",
       "      <th>Total Population age 18+</th>\n",
       "      <th>Measure Universe</th>\n",
       "      <th>Number</th>\n",
       "      <th>Margin of Error +/-</th>\n",
       "      <th>Percent</th>\n",
       "      <th>MOE +/-</th>\n",
       "    </tr>\n",
       "  </thead>\n",
       "  <tbody>\n",
       "    <tr>\n",
       "      <th>0</th>\n",
       "      <td>9</td>\n",
       "      <td>United States</td>\n",
       "      <td>249170916.0</td>\n",
       "      <td>224696243.0</td>\n",
       "      <td>93226987.0</td>\n",
       "      <td>1473584.0</td>\n",
       "      <td>41.5</td>\n",
       "      <td>0.6</td>\n",
       "    </tr>\n",
       "    <tr>\n",
       "      <th>1</th>\n",
       "      <td>9</td>\n",
       "      <td>Alabama</td>\n",
       "      <td>3717378.0</td>\n",
       "      <td>3259291.0</td>\n",
       "      <td>1275813.0</td>\n",
       "      <td>125056.0</td>\n",
       "      <td>39.1</td>\n",
       "      <td>3.7</td>\n",
       "    </tr>\n",
       "    <tr>\n",
       "      <th>2</th>\n",
       "      <td>9</td>\n",
       "      <td>Alaska</td>\n",
       "      <td>524925.0</td>\n",
       "      <td>481229.0</td>\n",
       "      <td>219225.0</td>\n",
       "      <td>18656.0</td>\n",
       "      <td>45.6</td>\n",
       "      <td>3.8</td>\n",
       "    </tr>\n",
       "    <tr>\n",
       "      <th>3</th>\n",
       "      <td>9</td>\n",
       "      <td>Arizona</td>\n",
       "      <td>5597268.0</td>\n",
       "      <td>5011175.0</td>\n",
       "      <td>2397147.0</td>\n",
       "      <td>189511.0</td>\n",
       "      <td>47.8</td>\n",
       "      <td>3.4</td>\n",
       "    </tr>\n",
       "    <tr>\n",
       "      <th>4</th>\n",
       "      <td>9</td>\n",
       "      <td>Arkansas</td>\n",
       "      <td>2246527.0</td>\n",
       "      <td>2007590.0</td>\n",
       "      <td>912633.0</td>\n",
       "      <td>94893.0</td>\n",
       "      <td>45.5</td>\n",
       "      <td>4.8</td>\n",
       "    </tr>\n",
       "  </tbody>\n",
       "</table>\n",
       "</div>"
      ],
      "text/plain": [
       "  Week           Area  Total Population age 18+  Measure Universe      Number  \\\n",
       "0    9  United States               249170916.0       224696243.0  93226987.0   \n",
       "1    9        Alabama                 3717378.0         3259291.0   1275813.0   \n",
       "2    9         Alaska                  524925.0          481229.0    219225.0   \n",
       "3    9        Arizona                 5597268.0         5011175.0   2397147.0   \n",
       "4    9       Arkansas                 2246527.0         2007590.0    912633.0   \n",
       "\n",
       "   Margin of Error +/-  Percent  MOE +/-  \n",
       "0            1473584.0     41.5      0.6  \n",
       "1             125056.0     39.1      3.7  \n",
       "2              18656.0     45.6      3.8  \n",
       "3             189511.0     47.8      3.4  \n",
       "4              94893.0     45.5      4.8  "
      ]
     },
     "execution_count": 74,
     "metadata": {},
     "output_type": "execute_result"
    }
   ],
   "source": [
    "df.head()"
   ]
  },
  {
   "cell_type": "code",
   "execution_count": 75,
   "id": "557ca78c-f7e9-4f75-aefc-ea236655b296",
   "metadata": {},
   "outputs": [
    {
     "data": {
      "text/plain": [
       "array(['United States', 'Alabama', 'Alaska', 'Arizona', 'Arkansas',\n",
       "       'California', 'Colorado', 'Connecticut', 'Delaware',\n",
       "       'District of Columbia', 'Florida', 'Georgia', 'Hawaii', 'Idaho',\n",
       "       'Illinois', 'Indiana', 'Iowa', 'Kansas', 'Kentucky', 'Louisiana',\n",
       "       'Maine', 'Maryland', 'Massachusetts', 'Michigan', 'Minnesota',\n",
       "       'Mississippi', 'Missouri', 'Montana', 'Nebraska', 'Nevada',\n",
       "       'New Hampshire', 'New Jersey', 'New Mexico', 'New York',\n",
       "       'North Carolina', 'North Dakota', 'Ohio', 'Oklahoma', 'Oregon',\n",
       "       'Pennsylvania', 'Rhode Island', 'South Carolina', 'South Dakota',\n",
       "       'Tennessee', 'Texas', 'Utah', 'Vermont', 'Virginia', 'Washington',\n",
       "       'West Virginia', 'Wisconsin', 'Wyoming',\n",
       "       'Atlanta-Sandy Springs-Alpharetta, GA Metro Area',\n",
       "       'Boston-Cambridge-Newton, MA-NH Metro Area',\n",
       "       'Chicago-Naperville-Elgin, IL-IN-WI Metro Area',\n",
       "       'Dallas-Fort Worth-Arlington, TX Metro Area',\n",
       "       'Detroit-Warren-Dearborn, MI Metro Area',\n",
       "       'Houston-The Woodlands-Sugar Land, TX Metro Area',\n",
       "       'Los Angeles-Long Beach-Anaheim, CA Metro Area',\n",
       "       'Miami-Fort Lauderdale-Pompano Beach, FL Metro Area',\n",
       "       'New York-Newark-Jersey City, NY-NJ-PA Metro Area',\n",
       "       'Philadelphia-Camden-Wilmington, PA-NJ-DE-MD Metro Area',\n",
       "       'Phoenix-Mesa-Chandler, AZ Metro Area',\n",
       "       'Riverside-San Bernardino-Ontario, CA Metro Area',\n",
       "       'San Francisco-Oakland-Berkeley, CA Metro Area',\n",
       "       'Seattle-Tacoma-Bellevue, WA Metro Area',\n",
       "       'Washington-Arlington-Alexandria, DC-VA-MD-WV Metro Area', nan],\n",
       "      dtype=object)"
      ]
     },
     "execution_count": 75,
     "metadata": {},
     "output_type": "execute_result"
    }
   ],
   "source": [
    "pd.unique(df.Area)"
   ]
  },
  {
   "cell_type": "code",
   "execution_count": 76,
   "id": "300316f2-6285-4c27-8a77-403317116317",
   "metadata": {},
   "outputs": [],
   "source": [
    "us_states = ['Alabama', 'Alaska', 'Arizona', 'Arkansas',\n",
    "       'California', 'Colorado', 'Connecticut', 'Delaware',\n",
    "       'District of Columbia', 'Florida', 'Georgia', 'Hawaii', 'Idaho',\n",
    "       'Illinois', 'Indiana', 'Iowa', 'Kansas', 'Kentucky', 'Louisiana',\n",
    "       'Maine', 'Maryland', 'Massachusetts', 'Michigan', 'Minnesota',\n",
    "       'Mississippi', 'Missouri', 'Montana', 'Nebraska', 'Nevada',\n",
    "       'New Hampshire', 'New Jersey', 'New Mexico', 'New York',\n",
    "       'North Carolina', 'North Dakota', 'Ohio', 'Oklahoma', 'Oregon',\n",
    "       'Pennsylvania', 'Rhode Island', 'South Carolina', 'South Dakota',\n",
    "       'Tennessee', 'Texas', 'Utah', 'Vermont', 'Virginia', 'Washington',\n",
    "       'West Virginia', 'Wisconsin', 'Wyoming']"
   ]
  },
  {
   "cell_type": "code",
   "execution_count": 77,
   "id": "858f1d6f-1e99-4b51-88fa-11b53f97ca92",
   "metadata": {},
   "outputs": [
    {
     "data": {
      "text/plain": [
       "51"
      ]
     },
     "execution_count": 77,
     "metadata": {},
     "output_type": "execute_result"
    }
   ],
   "source": [
    "len(us_states)"
   ]
  },
  {
   "cell_type": "code",
   "execution_count": 78,
   "id": "a252d199-8c6b-4fcd-a5cf-b1c7d3c67859",
   "metadata": {},
   "outputs": [],
   "source": [
    "df = df.loc[df.Area.isin(us_states)]"
   ]
  },
  {
   "cell_type": "code",
   "execution_count": 79,
   "id": "5dc3d202-6c77-4c6a-b004-1c20763b2d4e",
   "metadata": {},
   "outputs": [
    {
     "data": {
      "text/html": [
       "<div>\n",
       "<style scoped>\n",
       "    .dataframe tbody tr th:only-of-type {\n",
       "        vertical-align: middle;\n",
       "    }\n",
       "\n",
       "    .dataframe tbody tr th {\n",
       "        vertical-align: top;\n",
       "    }\n",
       "\n",
       "    .dataframe thead th {\n",
       "        text-align: right;\n",
       "    }\n",
       "</style>\n",
       "<table border=\"1\" class=\"dataframe\">\n",
       "  <thead>\n",
       "    <tr style=\"text-align: right;\">\n",
       "      <th></th>\n",
       "      <th>Week</th>\n",
       "      <th>Area</th>\n",
       "      <th>Total Population age 18+</th>\n",
       "      <th>Measure Universe</th>\n",
       "      <th>Number</th>\n",
       "      <th>Margin of Error +/-</th>\n",
       "      <th>Percent</th>\n",
       "      <th>MOE +/-</th>\n",
       "    </tr>\n",
       "  </thead>\n",
       "  <tbody>\n",
       "    <tr>\n",
       "      <th>1</th>\n",
       "      <td>9</td>\n",
       "      <td>Alabama</td>\n",
       "      <td>3717378.0</td>\n",
       "      <td>3259291.0</td>\n",
       "      <td>1275813.0</td>\n",
       "      <td>125056.0</td>\n",
       "      <td>39.1</td>\n",
       "      <td>3.7</td>\n",
       "    </tr>\n",
       "    <tr>\n",
       "      <th>2</th>\n",
       "      <td>9</td>\n",
       "      <td>Alaska</td>\n",
       "      <td>524925.0</td>\n",
       "      <td>481229.0</td>\n",
       "      <td>219225.0</td>\n",
       "      <td>18656.0</td>\n",
       "      <td>45.6</td>\n",
       "      <td>3.8</td>\n",
       "    </tr>\n",
       "    <tr>\n",
       "      <th>3</th>\n",
       "      <td>9</td>\n",
       "      <td>Arizona</td>\n",
       "      <td>5597268.0</td>\n",
       "      <td>5011175.0</td>\n",
       "      <td>2397147.0</td>\n",
       "      <td>189511.0</td>\n",
       "      <td>47.8</td>\n",
       "      <td>3.4</td>\n",
       "    </tr>\n",
       "    <tr>\n",
       "      <th>4</th>\n",
       "      <td>9</td>\n",
       "      <td>Arkansas</td>\n",
       "      <td>2246527.0</td>\n",
       "      <td>2007590.0</td>\n",
       "      <td>912633.0</td>\n",
       "      <td>94893.0</td>\n",
       "      <td>45.5</td>\n",
       "      <td>4.8</td>\n",
       "    </tr>\n",
       "    <tr>\n",
       "      <th>5</th>\n",
       "      <td>9</td>\n",
       "      <td>California</td>\n",
       "      <td>29939021.0</td>\n",
       "      <td>26957069.0</td>\n",
       "      <td>11039544.0</td>\n",
       "      <td>557812.0</td>\n",
       "      <td>41.0</td>\n",
       "      <td>1.9</td>\n",
       "    </tr>\n",
       "  </tbody>\n",
       "</table>\n",
       "</div>"
      ],
      "text/plain": [
       "  Week        Area  Total Population age 18+  Measure Universe      Number  \\\n",
       "1    9     Alabama                 3717378.0         3259291.0   1275813.0   \n",
       "2    9      Alaska                  524925.0          481229.0    219225.0   \n",
       "3    9     Arizona                 5597268.0         5011175.0   2397147.0   \n",
       "4    9    Arkansas                 2246527.0         2007590.0    912633.0   \n",
       "5    9  California                29939021.0        26957069.0  11039544.0   \n",
       "\n",
       "   Margin of Error +/-  Percent  MOE +/-  \n",
       "1             125056.0     39.1      3.7  \n",
       "2              18656.0     45.6      3.8  \n",
       "3             189511.0     47.8      3.4  \n",
       "4              94893.0     45.5      4.8  \n",
       "5             557812.0     41.0      1.9  "
      ]
     },
     "execution_count": 79,
     "metadata": {},
     "output_type": "execute_result"
    }
   ],
   "source": [
    "df.head()"
   ]
  },
  {
   "cell_type": "code",
   "execution_count": 80,
   "id": "fee6b708-f007-498f-ae7e-5e62115deda7",
   "metadata": {},
   "outputs": [],
   "source": [
    "df.columns = df.columns.str.lower()\n",
    "df.columns = df.columns.str.replace(' ','_')\n",
    "df = df.rename(columns = { \"total_population_age_18+\" : \"total_population_age_18\"})"
   ]
  },
  {
   "cell_type": "code",
   "execution_count": 81,
   "id": "d152f20e-4100-4660-9588-87ed84ae7b4e",
   "metadata": {},
   "outputs": [],
   "source": [
    "df[['week','total_population_age_18','number','percent','measure_universe']] = df[['week','total_population_age_18','number','percent','measure_universe']].apply(pd.to_numeric)"
   ]
  },
  {
   "cell_type": "code",
   "execution_count": 82,
   "id": "e607c8cf-15e4-4369-8337-d0af44add805",
   "metadata": {},
   "outputs": [],
   "source": [
    "df = df.sort_values(by= \"week\")"
   ]
  },
  {
   "cell_type": "code",
   "execution_count": 83,
   "id": "f000212b-db4d-49aa-ac1f-98012984a684",
   "metadata": {},
   "outputs": [],
   "source": [
    "df = df.drop(['margin_of_error_+/-','moe_+/-'],axis = 1)"
   ]
  },
  {
   "cell_type": "code",
   "execution_count": 86,
   "id": "55bae39e-dee1-428d-ba85-7d08eeb54626",
   "metadata": {},
   "outputs": [
    {
     "data": {
      "text/html": [
       "<div>\n",
       "<style scoped>\n",
       "    .dataframe tbody tr th:only-of-type {\n",
       "        vertical-align: middle;\n",
       "    }\n",
       "\n",
       "    .dataframe tbody tr th {\n",
       "        vertical-align: top;\n",
       "    }\n",
       "\n",
       "    .dataframe thead th {\n",
       "        text-align: right;\n",
       "    }\n",
       "</style>\n",
       "<table border=\"1\" class=\"dataframe\">\n",
       "  <thead>\n",
       "    <tr style=\"text-align: right;\">\n",
       "      <th></th>\n",
       "      <th>week</th>\n",
       "      <th>area</th>\n",
       "      <th>total_population_age_18</th>\n",
       "      <th>measure_universe</th>\n",
       "      <th>number</th>\n",
       "      <th>percent</th>\n",
       "      <th>year</th>\n",
       "    </tr>\n",
       "  </thead>\n",
       "  <tbody>\n",
       "    <tr>\n",
       "      <th>51</th>\n",
       "      <td>1</td>\n",
       "      <td>Wyoming</td>\n",
       "      <td>433400.0</td>\n",
       "      <td>402567.0</td>\n",
       "      <td>132781.0</td>\n",
       "      <td>33.0</td>\n",
       "      <td>2020</td>\n",
       "    </tr>\n",
       "    <tr>\n",
       "      <th>27</th>\n",
       "      <td>1</td>\n",
       "      <td>Montana</td>\n",
       "      <td>822204.0</td>\n",
       "      <td>756801.0</td>\n",
       "      <td>304322.0</td>\n",
       "      <td>40.2</td>\n",
       "      <td>2020</td>\n",
       "    </tr>\n",
       "    <tr>\n",
       "      <th>28</th>\n",
       "      <td>1</td>\n",
       "      <td>Nebraska</td>\n",
       "      <td>1418191.0</td>\n",
       "      <td>1307022.0</td>\n",
       "      <td>469750.0</td>\n",
       "      <td>35.9</td>\n",
       "      <td>2020</td>\n",
       "    </tr>\n",
       "    <tr>\n",
       "      <th>29</th>\n",
       "      <td>1</td>\n",
       "      <td>Nevada</td>\n",
       "      <td>2399457.0</td>\n",
       "      <td>2196353.0</td>\n",
       "      <td>912002.0</td>\n",
       "      <td>41.5</td>\n",
       "      <td>2020</td>\n",
       "    </tr>\n",
       "    <tr>\n",
       "      <th>30</th>\n",
       "      <td>1</td>\n",
       "      <td>New Hampshire</td>\n",
       "      <td>1073014.0</td>\n",
       "      <td>977491.0</td>\n",
       "      <td>369968.0</td>\n",
       "      <td>37.8</td>\n",
       "      <td>2020</td>\n",
       "    </tr>\n",
       "  </tbody>\n",
       "</table>\n",
       "</div>"
      ],
      "text/plain": [
       "    week           area  total_population_age_18  measure_universe    number  \\\n",
       "51     1        Wyoming                 433400.0          402567.0  132781.0   \n",
       "27     1        Montana                 822204.0          756801.0  304322.0   \n",
       "28     1       Nebraska                1418191.0         1307022.0  469750.0   \n",
       "29     1         Nevada                2399457.0         2196353.0  912002.0   \n",
       "30     1  New Hampshire                1073014.0          977491.0  369968.0   \n",
       "\n",
       "    percent  year  \n",
       "51     33.0  2020  \n",
       "27     40.2  2020  \n",
       "28     35.9  2020  \n",
       "29     41.5  2020  \n",
       "30     37.8  2020  "
      ]
     },
     "execution_count": 86,
     "metadata": {},
     "output_type": "execute_result"
    }
   ],
   "source": [
    "df.head()"
   ]
  },
  {
   "cell_type": "code",
   "execution_count": 85,
   "id": "44a6f3f5-0099-4700-984f-bcc60a87c630",
   "metadata": {},
   "outputs": [],
   "source": [
    "df['year'] = 2020"
   ]
  },
  {
   "cell_type": "code",
   "execution_count": 87,
   "id": "31f049c5-ffb4-441a-8e0f-2109fc7b1629",
   "metadata": {},
   "outputs": [],
   "source": [
    "df.to_csv(\"../Data/clean/HPS/hps_clean.csv\")"
   ]
  },
  {
   "cell_type": "code",
   "execution_count": null,
   "id": "10e4cd81-841b-4169-b5ca-c10e1992ae3d",
   "metadata": {},
   "outputs": [],
   "source": []
  }
 ],
 "metadata": {
  "kernelspec": {
   "display_name": "Python 3 (ipykernel)",
   "language": "python",
   "name": "python3"
  },
  "language_info": {
   "codemirror_mode": {
    "name": "ipython",
    "version": 3
   },
   "file_extension": ".py",
   "mimetype": "text/x-python",
   "name": "python",
   "nbconvert_exporter": "python",
   "pygments_lexer": "ipython3",
   "version": "3.9.13"
  }
 },
 "nbformat": 4,
 "nbformat_minor": 5
}
