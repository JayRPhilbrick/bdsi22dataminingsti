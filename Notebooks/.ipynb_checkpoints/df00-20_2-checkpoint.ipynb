{
 "cells": [
  {
   "cell_type": "code",
   "execution_count": 6,
   "id": "3b2eb08b-760f-436a-92fe-811dac749f16",
   "metadata": {},
   "outputs": [],
   "source": [
    "import pandas as pd\n",
    "import numpy as np\n",
    "import os\n",
    "from functools import reduce\n",
    "from tabulate import tabulate"
   ]
  },
  {
   "cell_type": "code",
   "execution_count": 9,
   "id": "cefa1e09-0b33-48ec-92a7-e49a84438554",
   "metadata": {},
   "outputs": [
    {
     "name": "stdout",
     "output_type": "stream",
     "text": [
      "/Users/dawsonkinsman/Dropbox (University of Michigan)/bdsi22dataminingsti/Data/Intermediate\n"
     ]
    },
    {
     "ename": "FileNotFoundError",
     "evalue": "[Errno 2] No such file or directory: '../Data/Clean'",
     "output_type": "error",
     "traceback": [
      "\u001b[0;31m---------------------------------------------------------------------------\u001b[0m",
      "\u001b[0;31mFileNotFoundError\u001b[0m                         Traceback (most recent call last)",
      "Input \u001b[0;32mIn [9]\u001b[0m, in \u001b[0;36m<cell line: 4>\u001b[0;34m()\u001b[0m\n\u001b[1;32m      2\u001b[0m folder \u001b[38;5;241m=\u001b[39m \u001b[38;5;124m'\u001b[39m\u001b[38;5;124m../Data/Clean\u001b[39m\u001b[38;5;124m'\u001b[39m\n\u001b[1;32m      3\u001b[0m \u001b[38;5;28mprint\u001b[39m(os\u001b[38;5;241m.\u001b[39mgetcwd())\n\u001b[0;32m----> 4\u001b[0m \u001b[38;5;28;01mfor\u001b[39;00m dirs \u001b[38;5;129;01min\u001b[39;00m \u001b[43mos\u001b[49m\u001b[38;5;241;43m.\u001b[39;49m\u001b[43mlistdir\u001b[49m\u001b[43m(\u001b[49m\u001b[43mfolder\u001b[49m\u001b[43m)\u001b[49m:\n\u001b[1;32m      5\u001b[0m     \u001b[38;5;28;01mif\u001b[39;00m \u001b[38;5;129;01mnot\u001b[39;00m dirs\u001b[38;5;241m.\u001b[39mendswith((\u001b[38;5;124m'\u001b[39m\u001b[38;5;124m.txt\u001b[39m\u001b[38;5;124m'\u001b[39m, \u001b[38;5;124m'\u001b[39m\u001b[38;5;124mcheckpoints\u001b[39m\u001b[38;5;124m'\u001b[39m, \u001b[38;5;124m'\u001b[39m\u001b[38;5;124mHPS\u001b[39m\u001b[38;5;124m'\u001b[39m, \u001b[38;5;124m'\u001b[39m\u001b[38;5;124mACS\u001b[39m\u001b[38;5;124m'\u001b[39m, \u001b[38;5;124m'\u001b[39m\u001b[38;5;124mUSAFacts\u001b[39m\u001b[38;5;124m'\u001b[39m, \u001b[38;5;124m'\u001b[39m\u001b[38;5;124mgraphics\u001b[39m\u001b[38;5;124m'\u001b[39m, \u001b[38;5;124m'\u001b[39m\u001b[38;5;124mility\u001b[39m\u001b[38;5;124m'\u001b[39m)):\n\u001b[1;32m      6\u001b[0m         \u001b[38;5;66;03m#print(dirs)\u001b[39;00m\n\u001b[1;32m      7\u001b[0m         \u001b[38;5;28;01mfor\u001b[39;00m files \u001b[38;5;129;01min\u001b[39;00m os\u001b[38;5;241m.\u001b[39mlistdir(os\u001b[38;5;241m.\u001b[39mpath\u001b[38;5;241m.\u001b[39mjoin(folder,dirs)):\n",
      "\u001b[0;31mFileNotFoundError\u001b[0m: [Errno 2] No such file or directory: '../Data/Clean'"
     ]
    }
   ],
   "source": [
    "total = []\n",
    "folder = '../Data/Clean'\n",
    "print(os.getcwd())\n",
    "for dirs in os.listdir(folder):\n",
    "    if not dirs.endswith(('.txt', 'checkpoints', 'HPS', 'ACS', 'USAFacts', 'graphics', 'ility')):\n",
    "        #print(dirs)\n",
    "        for files in os.listdir(os.path.join(folder,dirs)):\n",
    "            if not files.endswith(('.txt', 'checkpoints', 'STD2019_2020_clean.csv')):\n",
    "                total.append(pd.read_csv(os.path.join(folder,(os.path.join(dirs,files))), sep = ',', index_col = 0))\n",
    "                print(os.path.join(folder, os.path.join(dirs, files)))\n",
    "    \n",
    "folder2 = '../Data/Intermediate'\n",
    "for files2 in os.listdir(folder2):\n",
    "    if not (files2.endswith(('.txt', 'checkpoints', 'hps_processed.csv'))):\n",
    "            total.append(pd.read_csv(os.path.join(folder2,files2), sep = ',', index_col = 0))\n",
    "            print(files2)\n",
    "            print(pd.DataFrame(pd.read_csv(os.path.join(folder2,files2), sep = ',', index_col = 0)).shape)"
   ]
  },
  {
   "cell_type": "code",
   "execution_count": null,
   "id": "0c6b2a03-e262-4c5e-9415-1a595f564f1f",
   "metadata": {},
   "outputs": [],
   "source": [
    "for index, i in enumerate(total):\n",
    "    if 'year' in i.columns:\n",
    "        if 'geography' in i.columns:\n",
    "            i.drop(columns = 'geography', inplace = True)\n",
    "            print('Done')\n",
    "        if 'county_name' in i.columns:\n",
    "            i.drop(columns = 'county_name' , inplace = True)\n",
    "            print('done')"
   ]
  }
 ],
 "metadata": {
  "kernelspec": {
   "display_name": "Python 3 (ipykernel)",
   "language": "python",
   "name": "python3"
  },
  "language_info": {
   "codemirror_mode": {
    "name": "ipython",
    "version": 3
   },
   "file_extension": ".py",
   "mimetype": "text/x-python",
   "name": "python",
   "nbconvert_exporter": "python",
   "pygments_lexer": "ipython3",
   "version": "3.9.12"
  }
 },
 "nbformat": 4,
 "nbformat_minor": 5
}
