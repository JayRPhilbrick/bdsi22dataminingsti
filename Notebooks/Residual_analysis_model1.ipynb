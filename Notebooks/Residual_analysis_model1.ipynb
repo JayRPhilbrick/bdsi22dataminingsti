{
 "cells": [
  {
   "cell_type": "code",
   "execution_count": 661,
   "id": "6ad67c75",
   "metadata": {},
   "outputs": [],
   "source": [
    "import numpy as np\n",
    "import pandas as pd\n",
    "import matplotlib.pyplot as plt"
   ]
  },
  {
   "cell_type": "code",
   "execution_count": 662,
   "id": "67b8aeab",
   "metadata": {},
   "outputs": [],
   "source": [
    "df = pd.read_csv(\"../Data/Final/model1_pred_vals_errors.csv\")\n",
    "df = df.drop(columns = \"Unnamed: 0\")\n",
    "df.head()\n",
    "df = df.dropna(axis=0)\n",
    "df[\"covid_cases\"] = df[\"covid_cases\"] / df[\"total_pop\"]"
   ]
  },
  {
   "cell_type": "code",
   "execution_count": 663,
   "id": "dedadeef",
   "metadata": {},
   "outputs": [
    {
     "name": "stdout",
     "output_type": "stream",
     "text": [
      "Number of missing Chlamydia cases:-248170.60527808627\n",
      "Number of missing Gonorrhea cases:86859.87445350274\n",
      "Number of missing Early Syphilis cases: 1469.3063690458616\n",
      "Number of missing Late Syphilis cases: 2762.7778085621476\n"
     ]
    }
   ],
   "source": [
    "print(\"Number of missing Chlamydia cases:\" + str(df[\"errors_chlamydia\"].sum(axis=0)))\n",
    "print(\"Number of missing Gonorrhea cases:\" + str(df[\"errors_gonorrhea\"].sum(axis=0)))\n",
    "print(\"Number of missing Early Syphilis cases: \" + str((df[\"errors_early_non-primary_non-secondary_syphilis\"].sum(axis=0))))\n",
    "print(\"Number of missing Late Syphilis cases: \" + str((df[\"errors_early_primary_and_secondary_syphilis\"].sum(axis=0))))"
   ]
  },
  {
   "cell_type": "code",
   "execution_count": 664,
   "id": "c2ae35e7",
   "metadata": {},
   "outputs": [],
   "source": [
    "df[\"adj_errors_chlamydia_sq\"] = df[\"adj_errors_chlamydia\"] * df[\"adj_errors_chlamydia\"]\n",
    "df[\"adj_errors_gonorrhea_sq\"] = df[\"adj_errors_gonorrhea\"] * df[\"adj_errors_gonorrhea\"]\n",
    "df[\"adj_errors_early_non-primary_non-secondary_syphilis_sq\"] = df[\"adj_errors_early_non-primary_non-secondary_syphilis\"] * df[\"adj_errors_early_non-primary_non-secondary_syphilis\"]\n",
    "df[\"adj_errors_early_primary_and_secondary_syphilis_sq\"] = df[\"adj_errors_early_primary_and_secondary_syphilis\"] * df[\"adj_errors_early_primary_and_secondary_syphilis\"]"
   ]
  },
  {
   "cell_type": "code",
   "execution_count": 665,
   "id": "be5e3d0d",
   "metadata": {
    "scrolled": true
   },
   "outputs": [
    {
     "data": {
      "text/plain": [
       "['fips',\n",
       " 'pred_values_chlamydia',\n",
       " 'errors_chlamydia',\n",
       " 'pred_values_gonorrhea',\n",
       " 'errors_gonorrhea',\n",
       " 'pred_values_early_non-primary_non-secondary_syphilis',\n",
       " 'errors_early_non-primary_non-secondary_syphilis',\n",
       " 'pred_values_primary_and_secondary_syphilis',\n",
       " 'errors_early_primary_and_secondary_syphilis',\n",
       " 'total_pop',\n",
       " 'pct_female',\n",
       " 'pct_white',\n",
       " 'pct_black',\n",
       " 'pct_native_american',\n",
       " 'pct_asian',\n",
       " 'pct_native_hawaiian_pacific_islander',\n",
       " 'pct_two_or_more_races',\n",
       " 'pct_hispanic',\n",
       " 'per_capita_income_2020',\n",
       " 'employment_pop_ratio',\n",
       " 'unemployment_rate',\n",
       " 'pct_ind_agriculture_forestry_fishing_and_hunting_and_mining',\n",
       " 'pct_ind_construction',\n",
       " 'pct_ind_manufacturing',\n",
       " 'pct_ind_wholesale_trade',\n",
       " 'pct_ind_retail_trade',\n",
       " 'pct_ind_transportation_and_warehousing_and_utilities',\n",
       " 'pct_ind_information',\n",
       " 'pct_ind_finance_and_insurance_and_real_estate_and_rental_and_leasing',\n",
       " 'pct_ind_professional_scientific_and_management_and_administrative_and_waste_management_services',\n",
       " 'pct_ind_educational_services_and_health_care_and_social_assistance',\n",
       " 'pct_ind_arts_entertainment_and_recreation_and_accommodation_and_food_services',\n",
       " 'pct_ind_other_services_except_public_administration',\n",
       " 'pct_ind_public_administration',\n",
       " 'health_insurance_rate',\n",
       " 'poverty_rate',\n",
       " 'covid_cases',\n",
       " 'adj_errors_gonorrhea',\n",
       " 'adj_errors_chlamydia',\n",
       " 'adj_errors_early_non-primary_non-secondary_syphilis',\n",
       " 'adj_errors_early_primary_and_secondary_syphilis',\n",
       " 'adj_errors_chlamydia_sq',\n",
       " 'adj_errors_gonorrhea_sq',\n",
       " 'adj_errors_early_non-primary_non-secondary_syphilis_sq',\n",
       " 'adj_errors_early_primary_and_secondary_syphilis_sq']"
      ]
     },
     "execution_count": 665,
     "metadata": {},
     "output_type": "execute_result"
    }
   ],
   "source": [
    "list(df.columns)"
   ]
  },
  {
   "cell_type": "code",
   "execution_count": 666,
   "id": "3ca167d3",
   "metadata": {},
   "outputs": [],
   "source": [
    "# adj_errors_gonorrhea ~ total_pop + pct_female + pct_black + pct_native_american + pct_asian + pct_native_hawaiian_pacific_islander + pct_two_or_more_races + pct_hispanic + per_capita_income_2020 + unemployment_rate + employment_pop_ratio + poverty_rate + health_insurance_rate + covid_cases + pct_ind_agriculture_forestry_fishing_and_hunting_and_mining + pct_ind_construction + pct_ind_manufacturing + pct_ind_wholesale_trade + pct_ind_retail_trade + pct_ind_transportation_and_warehousing_and_utilities + pct_ind_information + pct_ind_finance_and_insurance_and_real_estate_and_rental_and_leasing + pct_ind_professional_scientific_and_management_and_administrative_and_waste_management_services + pct_ind_educational_services_and_health_care_and_social_assistance + pct_ind_arts_entertainment_and_recreation_and_accommodation_and_food_services + pct_ind_other_services_except_public_administration + pct_ind_public_administration \n",
    "\n",
    "# adj_errors_gonorrhea ~ total_pop + pct_female + pct_black + pct_native_american + pct_asian + pct_native_hawaiian_pacific_islander + pct_two_or_more_races + pct_hispanic + per_capita_income_2020 + unemployment_rate + employment_pop_ratio + poverty_rate + health_insurance_rate + covid_cases"
   ]
  },
  {
   "cell_type": "code",
   "execution_count": 667,
   "id": "c1cb3cde",
   "metadata": {},
   "outputs": [
    {
     "name": "stdout",
     "output_type": "stream",
     "text": [
      "Intercept                              -1.697101e-03\n",
      "total_pop                               1.486988e-11\n",
      "pct_female                              2.265480e-03\n",
      "pct_black                               1.157793e-03\n",
      "pct_native_american                    -1.704771e-03\n",
      "pct_asian                              -1.909875e-03\n",
      "pct_native_hawaiian_pacific_islander    1.196187e-03\n",
      "pct_two_or_more_races                   8.326818e-04\n",
      "pct_hispanic                           -8.386518e-05\n",
      "per_capita_income_2020                 -5.004642e-09\n",
      "unemployment_rate                      -2.091771e-06\n",
      "employment_pop_ratio                   -5.497305e-07\n",
      "poverty_rate                            1.879973e-06\n",
      "health_insurance_rate                   7.919570e-06\n",
      "covid_cases                             3.591740e-03\n",
      "dtype: float64\n"
     ]
    }
   ],
   "source": [
    "import statsmodels.formula.api as smf\n",
    "import statsmodels.regression.linear_model as lm\n",
    "\n",
    "formula = \"adj_errors_gonorrhea ~ total_pop + pct_female + pct_black + pct_native_american + pct_asian + pct_native_hawaiian_pacific_islander + pct_two_or_more_races + pct_hispanic + per_capita_income_2020 + unemployment_rate + employment_pop_ratio + poverty_rate + health_insurance_rate + covid_cases\"\n",
    "result = smf.ols(formula=formula, data=df).fit_regularized(method=\"sqrt_lasso\", alpha = 0.00000257)\n",
    "\n",
    "regularized_regression_parameters = result.params\n",
    "print(regularized_regression_parameters)"
   ]
  },
  {
   "cell_type": "code",
   "execution_count": 668,
   "id": "ff4f1b34",
   "metadata": {
    "scrolled": false
   },
   "outputs": [
    {
     "name": "stderr",
     "output_type": "stream",
     "text": [
      "C:\\Users\\philb\\AppData\\Local\\Temp\\ipykernel_25468\\152569687.py:22: FutureWarning: The pandas.np module is deprecated and will be removed from pandas in a future version. Import numpy directly instead.\n",
      "  ax.scatter(x=pd.np.arange(coef_df.shape[0]),\n"
     ]
    },
    {
     "data": {
      "image/png": "[encoded data removed]",
      "text/plain": [
       "<Figure size 432x576 with 1 Axes>"
      ]
     },
     "metadata": {},
     "output_type": "display_data"
    }
   ],
   "source": [
    "import statsmodels.formula.api as smf\n",
    "import statsmodels.regression.linear_model as lm\n",
    "\n",
    "formula = \"adj_errors_gonorrhea ~ total_pop + pct_female + pct_black + pct_native_american + pct_asian + pct_native_hawaiian_pacific_islander + pct_two_or_more_races + pct_hispanic + per_capita_income_2020 + unemployment_rate + employment_pop_ratio + poverty_rate + health_insurance_rate + covid_cases\"\n",
    "lin_reg = smf.ols(formula=formula, data=df).fit()\n",
    "\n",
    "\n",
    "err_series = lin_reg.params - lin_reg.conf_int()[0]\n",
    "coef_df = pd.DataFrame({'coef': lin_reg.params.values[1:],\n",
    "                        'err': err_series.values[1:],\n",
    "                        'varname': err_series.index.values[1:]\n",
    "                       })\n",
    "coef_df\n",
    "\n",
    "fig, ax = plt.subplots(figsize=(6, 8))\n",
    "coef_df.plot(x='varname', y='coef', kind='bar', \n",
    "             ax=ax, color='none', \n",
    "             yerr='err', legend=False)\n",
    "ax.set_ylabel('')\n",
    "ax.set_xlabel('Regressor')\n",
    "ax.set_title('Regression Coeffs. of Gonorrhea Error on 2020 Covariates')\n",
    "ax.scatter(x=pd.np.arange(coef_df.shape[0]), \n",
    "           marker='s', s=120, \n",
    "           y=coef_df['coef'], color='black')\n",
    "ax.axhline(y=0, linestyle='--', color='red', linewidth=2)\n",
    "ax.xaxis.set_ticks_position('none')\n",
    "plt.savefig(\"../Output/PosterPresentation/ErrorRegressions/gonorrhea_trimmed_regressors.jpg\")"
   ]
  },
  {
   "cell_type": "code",
   "execution_count": 669,
   "id": "71004efe",
   "metadata": {
    "scrolled": false
   },
   "outputs": [
    {
     "data": {
      "text/html": [
       "<table class=\"simpletable\">\n",
       "<caption>OLS Regression Results</caption>\n",
       "<tr>\n",
       "  <th>Dep. Variable:</th>    <td>adj_errors_gonorrhea</td> <th>  R-squared:         </th>  <td>   0.089</td> \n",
       "</tr>\n",
       "<tr>\n",
       "  <th>Model:</th>                     <td>OLS</td>         <th>  Adj. R-squared:    </th>  <td>   0.085</td> \n",
       "</tr>\n",
       "<tr>\n",
       "  <th>Method:</th>               <td>Least Squares</td>    <th>  F-statistic:       </th>  <td>   21.83</td> \n",
       "</tr>\n",
       "<tr>\n",
       "  <th>Date:</th>               <td>Wed, 27 Jul 2022</td>   <th>  Prob (F-statistic):</th>  <td>5.10e-54</td> \n",
       "</tr>\n",
       "<tr>\n",
       "  <th>Time:</th>                   <td>20:12:30</td>       <th>  Log-Likelihood:    </th>  <td>  17807.</td> \n",
       "</tr>\n",
       "<tr>\n",
       "  <th>No. Observations:</th>        <td>  3133</td>        <th>  AIC:               </th> <td>-3.558e+04</td>\n",
       "</tr>\n",
       "<tr>\n",
       "  <th>Df Residuals:</th>            <td>  3118</td>        <th>  BIC:               </th> <td>-3.549e+04</td>\n",
       "</tr>\n",
       "<tr>\n",
       "  <th>Df Model:</th>                <td>    14</td>        <th>                     </th>      <td> </td>    \n",
       "</tr>\n",
       "<tr>\n",
       "  <th>Covariance Type:</th>        <td>nonrobust</td>      <th>                     </th>      <td> </td>    \n",
       "</tr>\n",
       "</table>\n",
       "<table class=\"simpletable\">\n",
       "<tr>\n",
       "                    <td></td>                      <th>coef</th>     <th>std err</th>      <th>t</th>      <th>P>|t|</th>  <th>[0.025</th>    <th>0.975]</th>  \n",
       "</tr>\n",
       "<tr>\n",
       "  <th>Intercept</th>                            <td>   -0.0017</td> <td>    0.000</td> <td>   -3.552</td> <td> 0.000</td> <td>   -0.003</td> <td>   -0.001</td>\n",
       "</tr>\n",
       "<tr>\n",
       "  <th>total_pop</th>                            <td> 1.487e-11</td> <td> 5.19e-11</td> <td>    0.286</td> <td> 0.775</td> <td>-8.69e-11</td> <td> 1.17e-10</td>\n",
       "</tr>\n",
       "<tr>\n",
       "  <th>pct_female</th>                           <td>    0.0023</td> <td>    0.001</td> <td>    3.329</td> <td> 0.001</td> <td>    0.001</td> <td>    0.004</td>\n",
       "</tr>\n",
       "<tr>\n",
       "  <th>pct_black</th>                            <td>    0.0012</td> <td>    0.000</td> <td>    9.135</td> <td> 0.000</td> <td>    0.001</td> <td>    0.001</td>\n",
       "</tr>\n",
       "<tr>\n",
       "  <th>pct_native_american</th>                  <td>   -0.0017</td> <td>    0.000</td> <td>   -6.728</td> <td> 0.000</td> <td>   -0.002</td> <td>   -0.001</td>\n",
       "</tr>\n",
       "<tr>\n",
       "  <th>pct_asian</th>                            <td>   -0.0019</td> <td>    0.001</td> <td>   -2.767</td> <td> 0.006</td> <td>   -0.003</td> <td>   -0.001</td>\n",
       "</tr>\n",
       "<tr>\n",
       "  <th>pct_native_hawaiian_pacific_islander</th> <td>    0.0012</td> <td>    0.001</td> <td>    0.936</td> <td> 0.349</td> <td>   -0.001</td> <td>    0.004</td>\n",
       "</tr>\n",
       "<tr>\n",
       "  <th>pct_two_or_more_races</th>                <td>    0.0008</td> <td>    0.001</td> <td>    1.083</td> <td> 0.279</td> <td>   -0.001</td> <td>    0.002</td>\n",
       "</tr>\n",
       "<tr>\n",
       "  <th>pct_hispanic</th>                         <td>-8.386e-05</td> <td>    0.000</td> <td>   -0.571</td> <td> 0.568</td> <td>   -0.000</td> <td>    0.000</td>\n",
       "</tr>\n",
       "<tr>\n",
       "  <th>per_capita_income_2020</th>               <td>-5.005e-09</td> <td> 3.64e-09</td> <td>   -1.374</td> <td> 0.169</td> <td>-1.21e-08</td> <td> 2.14e-09</td>\n",
       "</tr>\n",
       "<tr>\n",
       "  <th>unemployment_rate</th>                    <td>-2.092e-06</td> <td> 8.13e-06</td> <td>   -0.257</td> <td> 0.797</td> <td> -1.8e-05</td> <td> 1.39e-05</td>\n",
       "</tr>\n",
       "<tr>\n",
       "  <th>employment_pop_ratio</th>                 <td>-5.496e-07</td> <td> 3.01e-06</td> <td>   -0.182</td> <td> 0.855</td> <td>-6.46e-06</td> <td> 5.36e-06</td>\n",
       "</tr>\n",
       "<tr>\n",
       "  <th>poverty_rate</th>                         <td>  1.88e-06</td> <td> 4.31e-06</td> <td>    0.436</td> <td> 0.663</td> <td>-6.58e-06</td> <td> 1.03e-05</td>\n",
       "</tr>\n",
       "<tr>\n",
       "  <th>health_insurance_rate</th>                <td>  7.92e-06</td> <td> 3.84e-06</td> <td>    2.061</td> <td> 0.039</td> <td> 3.84e-07</td> <td> 1.55e-05</td>\n",
       "</tr>\n",
       "<tr>\n",
       "  <th>covid_cases</th>                          <td>    0.0036</td> <td>    0.001</td> <td>    5.901</td> <td> 0.000</td> <td>    0.002</td> <td>    0.005</td>\n",
       "</tr>\n",
       "</table>\n",
       "<table class=\"simpletable\">\n",
       "<tr>\n",
       "  <th>Omnibus:</th>       <td>3493.096</td> <th>  Durbin-Watson:     </th>  <td>   1.948</td>  \n",
       "</tr>\n",
       "<tr>\n",
       "  <th>Prob(Omnibus):</th>  <td> 0.000</td>  <th>  Jarque-Bera (JB):  </th> <td>6729905.348</td>\n",
       "</tr>\n",
       "<tr>\n",
       "  <th>Skew:</th>           <td>-4.546</td>  <th>  Prob(JB):          </th>  <td>    0.00</td>  \n",
       "</tr>\n",
       "<tr>\n",
       "  <th>Kurtosis:</th>       <td>229.872</td> <th>  Cond. No.          </th>  <td>3.04e+07</td>  \n",
       "</tr>\n",
       "</table><br/><br/>Notes:<br/>[1] Standard Errors assume that the covariance matrix of the errors is correctly specified.<br/>[2] The condition number is large, 3.04e+07. This might indicate that there are<br/>strong multicollinearity or other numerical problems."
      ],
      "text/plain": [
       "<class 'statsmodels.iolib.summary.Summary'>\n",
       "\"\"\"\n",
       "                             OLS Regression Results                             \n",
       "================================================================================\n",
       "Dep. Variable:     adj_errors_gonorrhea   R-squared:                       0.089\n",
       "Model:                              OLS   Adj. R-squared:                  0.085\n",
       "Method:                   Least Squares   F-statistic:                     21.83\n",
       "Date:                  Wed, 27 Jul 2022   Prob (F-statistic):           5.10e-54\n",
       "Time:                          20:12:30   Log-Likelihood:                 17807.\n",
       "No. Observations:                  3133   AIC:                        -3.558e+04\n",
       "Df Residuals:                      3118   BIC:                        -3.549e+04\n",
       "Df Model:                            14                                         \n",
       "Covariance Type:              nonrobust                                         \n",
       "========================================================================================================\n",
       "                                           coef    std err          t      P>|t|      [0.025      0.975]\n",
       "--------------------------------------------------------------------------------------------------------\n",
       "Intercept                               -0.0017      0.000     -3.552      0.000      -0.003      -0.001\n",
       "total_pop                             1.487e-11   5.19e-11      0.286      0.775   -8.69e-11    1.17e-10\n",
       "pct_female                               0.0023      0.001      3.329      0.001       0.001       0.004\n",
       "pct_black                                0.0012      0.000      9.135      0.000       0.001       0.001\n",
       "pct_native_american                     -0.0017      0.000     -6.728      0.000      -0.002      -0.001\n",
       "pct_asian                               -0.0019      0.001     -2.767      0.006      -0.003      -0.001\n",
       "pct_native_hawaiian_pacific_islander     0.0012      0.001      0.936      0.349      -0.001       0.004\n",
       "pct_two_or_more_races                    0.0008      0.001      1.083      0.279      -0.001       0.002\n",
       "pct_hispanic                         -8.386e-05      0.000     -0.571      0.568      -0.000       0.000\n",
       "per_capita_income_2020               -5.005e-09   3.64e-09     -1.374      0.169   -1.21e-08    2.14e-09\n",
       "unemployment_rate                    -2.092e-06   8.13e-06     -0.257      0.797    -1.8e-05    1.39e-05\n",
       "employment_pop_ratio                 -5.496e-07   3.01e-06     -0.182      0.855   -6.46e-06    5.36e-06\n",
       "poverty_rate                           1.88e-06   4.31e-06      0.436      0.663   -6.58e-06    1.03e-05\n",
       "health_insurance_rate                  7.92e-06   3.84e-06      2.061      0.039    3.84e-07    1.55e-05\n",
       "covid_cases                              0.0036      0.001      5.901      0.000       0.002       0.005\n",
       "==============================================================================\n",
       "Omnibus:                     3493.096   Durbin-Watson:                   1.948\n",
       "Prob(Omnibus):                  0.000   Jarque-Bera (JB):          6729905.348\n",
       "Skew:                          -4.546   Prob(JB):                         0.00\n",
       "Kurtosis:                     229.872   Cond. No.                     3.04e+07\n",
       "==============================================================================\n",
       "\n",
       "Notes:\n",
       "[1] Standard Errors assume that the covariance matrix of the errors is correctly specified.\n",
       "[2] The condition number is large, 3.04e+07. This might indicate that there are\n",
       "strong multicollinearity or other numerical problems.\n",
       "\"\"\""
      ]
     },
     "execution_count": 669,
     "metadata": {},
     "output_type": "execute_result"
    }
   ],
   "source": [
    "lin_reg.summary()"
   ]
  },
  {
   "cell_type": "code",
   "execution_count": 670,
   "id": "d0f1057a",
   "metadata": {},
   "outputs": [
    {
     "name": "stdout",
     "output_type": "stream",
     "text": [
      "Intercept                               3.575156e-03\n",
      "total_pop                              -1.117140e-10\n",
      "pct_female                              8.875913e-04\n",
      "pct_black                              -7.245798e-04\n",
      "pct_native_american                    -4.141717e-03\n",
      "pct_asian                              -4.888923e-03\n",
      "pct_native_hawaiian_pacific_islander    2.755502e-03\n",
      "pct_two_or_more_races                   1.279058e-03\n",
      "pct_hispanic                           -5.689343e-04\n",
      "per_capita_income_2020                 -7.672306e-09\n",
      "unemployment_rate                      -3.446335e-05\n",
      "employment_pop_ratio                   -1.714196e-05\n",
      "poverty_rate                           -3.015673e-05\n",
      "health_insurance_rate                  -2.650822e-05\n",
      "covid_cases                             1.107227e-03\n",
      "dtype: float64\n"
     ]
    }
   ],
   "source": [
    "import statsmodels.formula.api as smf\n",
    "import statsmodels.regression.linear_model as lm\n",
    "\n",
    "formula = \"adj_errors_chlamydia ~ total_pop + pct_female + pct_black + pct_native_american + pct_asian + pct_native_hawaiian_pacific_islander + pct_two_or_more_races + pct_hispanic + per_capita_income_2020 + unemployment_rate + employment_pop_ratio + poverty_rate + health_insurance_rate + covid_cases\"\n",
    "result = smf.ols(formula=formula, data=df).fit_regularized(method=\"sqrt_lasso\", alpha = .009)\n",
    "\n",
    "regularized_regression_parameters = result.params\n",
    "print(regularized_regression_parameters)"
   ]
  },
  {
   "cell_type": "code",
   "execution_count": 671,
   "id": "211ccda1",
   "metadata": {},
   "outputs": [
    {
     "name": "stderr",
     "output_type": "stream",
     "text": [
      "C:\\Users\\philb\\AppData\\Local\\Temp\\ipykernel_25468\\1310256416.py:22: FutureWarning: The pandas.np module is deprecated and will be removed from pandas in a future version. Import numpy directly instead.\n",
      "  ax.scatter(x=pd.np.arange(coef_df.shape[0]),\n"
     ]
    },
    {
     "data": {
      "image/png": "[encoded data removed]",
      "text/plain": [
       "<Figure size 432x576 with 1 Axes>"
      ]
     },
     "metadata": {},
     "output_type": "display_data"
    }
   ],
   "source": [
    "import statsmodels.formula.api as smf\n",
    "import statsmodels.regression.linear_model as lm\n",
    "\n",
    "formula = \"adj_errors_chlamydia ~ total_pop + pct_female + pct_black + pct_native_american + pct_asian + pct_native_hawaiian_pacific_islander + pct_two_or_more_races + pct_hispanic + per_capita_income_2020 + unemployment_rate + employment_pop_ratio + poverty_rate + health_insurance_rate + covid_cases\"\n",
    "lin_reg = smf.ols(formula=formula, data=df).fit()\n",
    "\n",
    "\n",
    "err_series = lin_reg.params - lin_reg.conf_int()[0]\n",
    "coef_df = pd.DataFrame({'coef': lin_reg.params.values[1:],\n",
    "                        'err': err_series.values[1:],\n",
    "                        'varname': err_series.index.values[1:]\n",
    "                       })\n",
    "coef_df\n",
    "\n",
    "fig, ax = plt.subplots(figsize=(6, 8))\n",
    "coef_df.plot(x='varname', y='coef', kind='bar', \n",
    "             ax=ax, color='none', \n",
    "             yerr='err', legend=False)\n",
    "ax.set_ylabel('')\n",
    "ax.set_xlabel('Regressor')\n",
    "ax.set_title('Regression Coeffs. of Chlamydia Error on 2020 Covariates')\n",
    "ax.scatter(x=pd.np.arange(coef_df.shape[0]), \n",
    "           marker='s', s=120, \n",
    "           y=coef_df['coef'], color='black')\n",
    "ax.axhline(y=0, linestyle='--', color='red', linewidth=2)\n",
    "ax.xaxis.set_ticks_position('none')\n",
    "plt.savefig(\"../Output/PosterPresentation/ErrorRegressions/chlamydia_trimmed_regressors.jpg\")"
   ]
  },
  {
   "cell_type": "code",
   "execution_count": 672,
   "id": "69c90b62",
   "metadata": {},
   "outputs": [
    {
     "data": {
      "text/html": [
       "<table class=\"simpletable\">\n",
       "<caption>OLS Regression Results</caption>\n",
       "<tr>\n",
       "  <th>Dep. Variable:</th>    <td>adj_errors_chlamydia</td> <th>  R-squared:         </th>  <td>   0.082</td> \n",
       "</tr>\n",
       "<tr>\n",
       "  <th>Model:</th>                     <td>OLS</td>         <th>  Adj. R-squared:    </th>  <td>   0.078</td> \n",
       "</tr>\n",
       "<tr>\n",
       "  <th>Method:</th>               <td>Least Squares</td>    <th>  F-statistic:       </th>  <td>   20.00</td> \n",
       "</tr>\n",
       "<tr>\n",
       "  <th>Date:</th>               <td>Wed, 27 Jul 2022</td>   <th>  Prob (F-statistic):</th>  <td>4.04e-49</td> \n",
       "</tr>\n",
       "<tr>\n",
       "  <th>Time:</th>                   <td>20:12:31</td>       <th>  Log-Likelihood:    </th>  <td>  16129.</td> \n",
       "</tr>\n",
       "<tr>\n",
       "  <th>No. Observations:</th>        <td>  3133</td>        <th>  AIC:               </th> <td>-3.223e+04</td>\n",
       "</tr>\n",
       "<tr>\n",
       "  <th>Df Residuals:</th>            <td>  3118</td>        <th>  BIC:               </th> <td>-3.214e+04</td>\n",
       "</tr>\n",
       "<tr>\n",
       "  <th>Df Model:</th>                <td>    14</td>        <th>                     </th>      <td> </td>    \n",
       "</tr>\n",
       "<tr>\n",
       "  <th>Covariance Type:</th>        <td>nonrobust</td>      <th>                     </th>      <td> </td>    \n",
       "</tr>\n",
       "</table>\n",
       "<table class=\"simpletable\">\n",
       "<tr>\n",
       "                    <td></td>                      <th>coef</th>     <th>std err</th>      <th>t</th>      <th>P>|t|</th>  <th>[0.025</th>    <th>0.975]</th>  \n",
       "</tr>\n",
       "<tr>\n",
       "  <th>Intercept</th>                            <td>    0.0036</td> <td>    0.001</td> <td>    4.379</td> <td> 0.000</td> <td>    0.002</td> <td>    0.005</td>\n",
       "</tr>\n",
       "<tr>\n",
       "  <th>total_pop</th>                            <td>-1.114e-10</td> <td> 8.87e-11</td> <td>   -1.256</td> <td> 0.209</td> <td>-2.85e-10</td> <td> 6.25e-11</td>\n",
       "</tr>\n",
       "<tr>\n",
       "  <th>pct_female</th>                           <td>    0.0009</td> <td>    0.001</td> <td>    0.771</td> <td> 0.441</td> <td>   -0.001</td> <td>    0.003</td>\n",
       "</tr>\n",
       "<tr>\n",
       "  <th>pct_black</th>                            <td>   -0.0007</td> <td>    0.000</td> <td>   -3.349</td> <td> 0.001</td> <td>   -0.001</td> <td>   -0.000</td>\n",
       "</tr>\n",
       "<tr>\n",
       "  <th>pct_native_american</th>                  <td>   -0.0041</td> <td>    0.000</td> <td>   -9.575</td> <td> 0.000</td> <td>   -0.005</td> <td>   -0.003</td>\n",
       "</tr>\n",
       "<tr>\n",
       "  <th>pct_asian</th>                            <td>   -0.0049</td> <td>    0.001</td> <td>   -4.157</td> <td> 0.000</td> <td>   -0.007</td> <td>   -0.003</td>\n",
       "</tr>\n",
       "<tr>\n",
       "  <th>pct_native_hawaiian_pacific_islander</th> <td>    0.0028</td> <td>    0.002</td> <td>    1.279</td> <td> 0.201</td> <td>   -0.001</td> <td>    0.007</td>\n",
       "</tr>\n",
       "<tr>\n",
       "  <th>pct_two_or_more_races</th>                <td>    0.0013</td> <td>    0.001</td> <td>    0.985</td> <td> 0.325</td> <td>   -0.001</td> <td>    0.004</td>\n",
       "</tr>\n",
       "<tr>\n",
       "  <th>pct_hispanic</th>                         <td>   -0.0006</td> <td>    0.000</td> <td>   -2.275</td> <td> 0.023</td> <td>   -0.001</td> <td>-7.88e-05</td>\n",
       "</tr>\n",
       "<tr>\n",
       "  <th>per_capita_income_2020</th>               <td>-7.638e-09</td> <td> 6.22e-09</td> <td>   -1.228</td> <td> 0.220</td> <td>-1.98e-08</td> <td> 4.56e-09</td>\n",
       "</tr>\n",
       "<tr>\n",
       "  <th>unemployment_rate</th>                    <td>-3.445e-05</td> <td> 1.39e-05</td> <td>   -2.479</td> <td> 0.013</td> <td>-6.17e-05</td> <td> -7.2e-06</td>\n",
       "</tr>\n",
       "<tr>\n",
       "  <th>employment_pop_ratio</th>                 <td>-1.717e-05</td> <td> 5.15e-06</td> <td>   -3.336</td> <td> 0.001</td> <td>-2.73e-05</td> <td>-7.08e-06</td>\n",
       "</tr>\n",
       "<tr>\n",
       "  <th>poverty_rate</th>                         <td>-3.016e-05</td> <td> 7.37e-06</td> <td>   -4.092</td> <td> 0.000</td> <td>-4.46e-05</td> <td>-1.57e-05</td>\n",
       "</tr>\n",
       "<tr>\n",
       "  <th>health_insurance_rate</th>                <td>-2.655e-05</td> <td> 6.57e-06</td> <td>   -4.044</td> <td> 0.000</td> <td>-3.94e-05</td> <td>-1.37e-05</td>\n",
       "</tr>\n",
       "<tr>\n",
       "  <th>covid_cases</th>                          <td>    0.0011</td> <td>    0.001</td> <td>    1.076</td> <td> 0.282</td> <td>   -0.001</td> <td>    0.003</td>\n",
       "</tr>\n",
       "</table>\n",
       "<table class=\"simpletable\">\n",
       "<tr>\n",
       "  <th>Omnibus:</th>       <td>5358.354</td> <th>  Durbin-Watson:     </th>   <td>   1.967</td>  \n",
       "</tr>\n",
       "<tr>\n",
       "  <th>Prob(Omnibus):</th>  <td> 0.000</td>  <th>  Jarque-Bera (JB):  </th> <td>13961484.104</td>\n",
       "</tr>\n",
       "<tr>\n",
       "  <th>Skew:</th>           <td>11.141</td>  <th>  Prob(JB):          </th>   <td>    0.00</td>  \n",
       "</tr>\n",
       "<tr>\n",
       "  <th>Kurtosis:</th>       <td>329.273</td> <th>  Cond. No.          </th>   <td>3.04e+07</td>  \n",
       "</tr>\n",
       "</table><br/><br/>Notes:<br/>[1] Standard Errors assume that the covariance matrix of the errors is correctly specified.<br/>[2] The condition number is large, 3.04e+07. This might indicate that there are<br/>strong multicollinearity or other numerical problems."
      ],
      "text/plain": [
       "<class 'statsmodels.iolib.summary.Summary'>\n",
       "\"\"\"\n",
       "                             OLS Regression Results                             \n",
       "================================================================================\n",
       "Dep. Variable:     adj_errors_chlamydia   R-squared:                       0.082\n",
       "Model:                              OLS   Adj. R-squared:                  0.078\n",
       "Method:                   Least Squares   F-statistic:                     20.00\n",
       "Date:                  Wed, 27 Jul 2022   Prob (F-statistic):           4.04e-49\n",
       "Time:                          20:12:31   Log-Likelihood:                 16129.\n",
       "No. Observations:                  3133   AIC:                        -3.223e+04\n",
       "Df Residuals:                      3118   BIC:                        -3.214e+04\n",
       "Df Model:                            14                                         \n",
       "Covariance Type:              nonrobust                                         \n",
       "========================================================================================================\n",
       "                                           coef    std err          t      P>|t|      [0.025      0.975]\n",
       "--------------------------------------------------------------------------------------------------------\n",
       "Intercept                                0.0036      0.001      4.379      0.000       0.002       0.005\n",
       "total_pop                            -1.114e-10   8.87e-11     -1.256      0.209   -2.85e-10    6.25e-11\n",
       "pct_female                               0.0009      0.001      0.771      0.441      -0.001       0.003\n",
       "pct_black                               -0.0007      0.000     -3.349      0.001      -0.001      -0.000\n",
       "pct_native_american                     -0.0041      0.000     -9.575      0.000      -0.005      -0.003\n",
       "pct_asian                               -0.0049      0.001     -4.157      0.000      -0.007      -0.003\n",
       "pct_native_hawaiian_pacific_islander     0.0028      0.002      1.279      0.201      -0.001       0.007\n",
       "pct_two_or_more_races                    0.0013      0.001      0.985      0.325      -0.001       0.004\n",
       "pct_hispanic                            -0.0006      0.000     -2.275      0.023      -0.001   -7.88e-05\n",
       "per_capita_income_2020               -7.638e-09   6.22e-09     -1.228      0.220   -1.98e-08    4.56e-09\n",
       "unemployment_rate                    -3.445e-05   1.39e-05     -2.479      0.013   -6.17e-05    -7.2e-06\n",
       "employment_pop_ratio                 -1.717e-05   5.15e-06     -3.336      0.001   -2.73e-05   -7.08e-06\n",
       "poverty_rate                         -3.016e-05   7.37e-06     -4.092      0.000   -4.46e-05   -1.57e-05\n",
       "health_insurance_rate                -2.655e-05   6.57e-06     -4.044      0.000   -3.94e-05   -1.37e-05\n",
       "covid_cases                              0.0011      0.001      1.076      0.282      -0.001       0.003\n",
       "==============================================================================\n",
       "Omnibus:                     5358.354   Durbin-Watson:                   1.967\n",
       "Prob(Omnibus):                  0.000   Jarque-Bera (JB):         13961484.104\n",
       "Skew:                          11.141   Prob(JB):                         0.00\n",
       "Kurtosis:                     329.273   Cond. No.                     3.04e+07\n",
       "==============================================================================\n",
       "\n",
       "Notes:\n",
       "[1] Standard Errors assume that the covariance matrix of the errors is correctly specified.\n",
       "[2] The condition number is large, 3.04e+07. This might indicate that there are\n",
       "strong multicollinearity or other numerical problems.\n",
       "\"\"\""
      ]
     },
     "execution_count": 672,
     "metadata": {},
     "output_type": "execute_result"
    }
   ],
   "source": [
    "lin_reg.summary()"
   ]
  },
  {
   "cell_type": "code",
   "execution_count": 673,
   "id": "24b0649b",
   "metadata": {},
   "outputs": [],
   "source": [
    "# import statsmodels.formula.api as smf\n",
    "# import statsmodels.regression.linear_model as lm\n",
    "\n",
    "# formula = \"adj_errors_chlamydia ~ total_pop + pct_female + pct_black + pct_native_american + pct_asian + pct_native_hawaiian_pacific_islander + pct_two_or_more_races + pct_hispanic + per_capita_income_2020 + unemployment_rate + employment_pop_ratio + poverty_rate + health_insurance_rate + poverty_rate + covid_cases + pct_ind_agriculture_forestry_fishing_and_hunting_and_mining + pct_ind_construction + pct_ind_manufacturing + pct_ind_wholesale_trade + pct_ind_retail_trade + pct_ind_transportation_and_warehousing_and_utilities + pct_ind_information + pct_ind_finance_and_insurance_and_real_estate_and_rental_and_leasing + pct_ind_professional_scientific_and_management_and_administrative_and_waste_management_services + pct_ind_educational_services_and_health_care_and_social_assistance + pct_ind_arts_entertainment_and_recreation_and_accommodation_and_food_services + pct_ind_other_services_except_public_administration + pct_ind_public_administration\"\n",
    "# result = smf.ols(formula=formula, data=df).fit_regularized(method=\"elastic_net\", alpha = 0.00000001)\n",
    "\n",
    "# regularized_regression_parameters = result.params\n",
    "# print(regularized_regression_parameters)"
   ]
  },
  {
   "cell_type": "code",
   "execution_count": 674,
   "id": "339a0c79",
   "metadata": {},
   "outputs": [],
   "source": [
    "# formula = \"adj_errors_gonorrhea_sq ~ total_pop + pct_female + pct_black + pct_native_american + pct_asian + pct_native_hawaiian_pacific_islander + pct_two_or_more_races + pct_hispanic + per_capita_income_2020 + unemployment_rate + employment_pop_ratio + poverty_rate + health_insurance_rate + poverty_rate + covid_cases + pct_ind_agriculture_forestry_fishing_and_hunting_and_mining + pct_ind_construction + pct_ind_manufacturing + pct_ind_wholesale_trade + pct_ind_retail_trade + pct_ind_transportation_and_warehousing_and_utilities + pct_ind_information + pct_ind_finance_and_insurance_and_real_estate_and_rental_and_leasing + pct_ind_professional_scientific_and_management_and_administrative_and_waste_management_services + pct_ind_educational_services_and_health_care_and_social_assistance + pct_ind_arts_entertainment_and_recreation_and_accommodation_and_food_services + pct_ind_other_services_except_public_administration + pct_ind_public_administration\"\n",
    "# result = smf.ols(formula=formula, data=df).fit_regularized(method=\"elastic_net\", alpha = 0.000000000000000001)\n",
    "\n",
    "# regularized_regression_parameters = result.params\n",
    "# print(regularized_regression_parameters)"
   ]
  },
  {
   "cell_type": "code",
   "execution_count": 675,
   "id": "7535cd4e",
   "metadata": {},
   "outputs": [],
   "source": [
    "# formula = \"adj_errors_gonorrhea_sq ~ total_pop + pct_female + pct_black + pct_native_american + pct_asian + pct_native_hawaiian_pacific_islander + pct_two_or_more_races + pct_hispanic + per_capita_income_2020 + unemployment_rate + poverty_rate + health_insurance_rate + poverty_rate + covid_cases\"\n",
    "# result = smf.ols(formula=formula, data=df).fit_regularized(method=\"elastic_net\")\n",
    "\n",
    "# regularized_regression_parameters = result.params\n",
    "# print(regularized_regression_parameters)"
   ]
  },
  {
   "cell_type": "code",
   "execution_count": 676,
   "id": "a85e7501",
   "metadata": {},
   "outputs": [],
   "source": [
    "# formula = \"adj_errors_chlamydia ~ total_pop + pct_female + pct_black + pct_native_american + pct_asian + pct_native_hawaiian_pacific_islander + pct_two_or_more_races + pct_hispanic + per_capita_income_2020 + unemployment_rate + poverty_rate + health_insurance_rate + poverty_rate + covid_cases\"\n",
    "# result = smf.ols(formula=formula, data=df).fit_regularized(method=\"elastic_net\")\n",
    "\n",
    "# print(result.params)"
   ]
  },
  {
   "cell_type": "code",
   "execution_count": 677,
   "id": "6accf852",
   "metadata": {},
   "outputs": [],
   "source": [
    "# formula = \"adj_errors_chlamydia_sq ~ total_pop + pct_female + pct_black + pct_native_american + pct_asian + pct_native_hawaiian_pacific_islander + pct_two_or_more_races + pct_hispanic + per_capita_income_2020 + unemployment_rate + poverty_rate + health_insurance_rate + poverty_rate + covid_cases\"\n",
    "# result = smf.ols(formula=formula, data=df).fit_regularized(method=\"elastic_net\")\n",
    "\n",
    "# regularized_regression_parameters = result.params\n",
    "# print(regularized_regression_parameters)"
   ]
  },
  {
   "cell_type": "code",
   "execution_count": 678,
   "id": "58a70383",
   "metadata": {},
   "outputs": [],
   "source": [
    "from numpy import arange\n",
    "from pandas import read_csv\n",
    "from sklearn.linear_model import LassoCV\n",
    "from sklearn.model_selection import RepeatedKFold\n",
    "from sklearn.linear_model import Lasso\n",
    "from sklearn.linear_model import LassoCV\n",
    "from yellowbrick.datasets import load_concrete\n",
    "from yellowbrick.regressor import AlphaSelection\n",
    "# load the dataset\n",
    "\n",
    "data = df.values"
   ]
  },
  {
   "cell_type": "markdown",
   "id": "be76b602",
   "metadata": {},
   "source": [
    "## Chlamydia CV"
   ]
  },
  {
   "cell_type": "code",
   "execution_count": 679,
   "id": "e01b7927",
   "metadata": {
    "scrolled": true
   },
   "outputs": [
    {
     "name": "stderr",
     "output_type": "stream",
     "text": [
      "C:\\Users\\philb\\AppData\\Local\\Programs\\Python\\Python310\\lib\\site-packages\\sklearn\\linear_model\\_coordinate_descent.py:634: UserWarning: Coordinate descent without L1 regularization may lead to unexpected results and is discouraged. Set l1_ratio > 0 to add L1 regularization.\n",
      "  model = cd_fast.enet_coordinate_descent_gram(\n",
      "C:\\Users\\philb\\AppData\\Local\\Programs\\Python\\Python310\\lib\\site-packages\\sklearn\\linear_model\\_coordinate_descent.py:634: ConvergenceWarning: Objective did not converge. You might want to increase the number of iterations. Duality gap: 8.605630876626557e-06, tolerance: 1.7838333220309595e-09\n",
      "  model = cd_fast.enet_coordinate_descent_gram(\n",
      "C:\\Users\\philb\\AppData\\Local\\Programs\\Python\\Python310\\lib\\site-packages\\sklearn\\linear_model\\_coordinate_descent.py:634: UserWarning: Coordinate descent without L1 regularization may lead to unexpected results and is discouraged. Set l1_ratio > 0 to add L1 regularization.\n",
      "  model = cd_fast.enet_coordinate_descent_gram(\n",
      "C:\\Users\\philb\\AppData\\Local\\Programs\\Python\\Python310\\lib\\site-packages\\sklearn\\linear_model\\_coordinate_descent.py:634: ConvergenceWarning: Objective did not converge. You might want to increase the number of iterations. Duality gap: 8.301224910646475e-06, tolerance: 1.706708251795861e-09\n",
      "  model = cd_fast.enet_coordinate_descent_gram(\n",
      "C:\\Users\\philb\\AppData\\Local\\Programs\\Python\\Python310\\lib\\site-packages\\sklearn\\linear_model\\_coordinate_descent.py:634: UserWarning: Coordinate descent without L1 regularization may lead to unexpected results and is discouraged. Set l1_ratio > 0 to add L1 regularization.\n",
      "  model = cd_fast.enet_coordinate_descent_gram(\n",
      "C:\\Users\\philb\\AppData\\Local\\Programs\\Python\\Python310\\lib\\site-packages\\sklearn\\linear_model\\_coordinate_descent.py:634: ConvergenceWarning: Objective did not converge. You might want to increase the number of iterations. Duality gap: 6.917855226116654e-06, tolerance: 1.4298193429919047e-09\n",
      "  model = cd_fast.enet_coordinate_descent_gram(\n",
      "C:\\Users\\philb\\AppData\\Local\\Programs\\Python\\Python310\\lib\\site-packages\\sklearn\\linear_model\\_coordinate_descent.py:634: UserWarning: Coordinate descent without L1 regularization may lead to unexpected results and is discouraged. Set l1_ratio > 0 to add L1 regularization.\n",
      "  model = cd_fast.enet_coordinate_descent_gram(\n",
      "C:\\Users\\philb\\AppData\\Local\\Programs\\Python\\Python310\\lib\\site-packages\\sklearn\\linear_model\\_coordinate_descent.py:634: ConvergenceWarning: Objective did not converge. You might want to increase the number of iterations. Duality gap: 8.423790443040661e-06, tolerance: 1.7229746184284745e-09\n",
      "  model = cd_fast.enet_coordinate_descent_gram(\n",
      "C:\\Users\\philb\\AppData\\Local\\Programs\\Python\\Python310\\lib\\site-packages\\sklearn\\linear_model\\_coordinate_descent.py:634: UserWarning: Coordinate descent without L1 regularization may lead to unexpected results and is discouraged. Set l1_ratio > 0 to add L1 regularization.\n",
      "  model = cd_fast.enet_coordinate_descent_gram(\n",
      "C:\\Users\\philb\\AppData\\Local\\Programs\\Python\\Python310\\lib\\site-packages\\sklearn\\linear_model\\_coordinate_descent.py:634: ConvergenceWarning: Objective did not converge. You might want to increase the number of iterations. Duality gap: 7.543566448376144e-06, tolerance: 1.5500502321293565e-09\n",
      "  model = cd_fast.enet_coordinate_descent_gram(\n"
     ]
    },
    {
     "data": {
      "image/png": "[encoded data removed]",
      "text/plain": [
       "<Figure size 576x396 with 1 Axes>"
      ]
     },
     "metadata": {},
     "output_type": "display_data"
    },
    {
     "data": {
      "text/plain": [
       "<AxesSubplot:title={'center':'LassoCV Alpha Error'}, xlabel='alpha', ylabel='error (or score)'>"
      ]
     },
     "execution_count": 679,
     "metadata": {},
     "output_type": "execute_result"
    }
   ],
   "source": [
    "X, y = data[:, 9:24], data[:, 39]\n",
    "\n",
    "# Create a list of alphas to cross-validate against\n",
    "alphas = np.linspace(0, 1, num=1000)\n",
    "\n",
    "# Instantiate the linear model and visualizer\n",
    "model = LassoCV(alphas=alphas)\n",
    "visualizer = AlphaSelection(model)\n",
    "visualizer.fit(X, y)\n",
    "visualizer.show()"
   ]
  },
  {
   "cell_type": "markdown",
   "id": "b870d979",
   "metadata": {},
   "source": [
    "## Gonorrhea CV"
   ]
  },
  {
   "cell_type": "code",
   "execution_count": 680,
   "id": "75aff3a4",
   "metadata": {},
   "outputs": [
    {
     "name": "stderr",
     "output_type": "stream",
     "text": [
      "C:\\Users\\philb\\AppData\\Local\\Programs\\Python\\Python310\\lib\\site-packages\\sklearn\\linear_model\\_coordinate_descent.py:634: UserWarning: Coordinate descent without L1 regularization may lead to unexpected results and is discouraged. Set l1_ratio > 0 to add L1 regularization.\n",
      "  model = cd_fast.enet_coordinate_descent_gram(\n",
      "C:\\Users\\philb\\AppData\\Local\\Programs\\Python\\Python310\\lib\\site-packages\\sklearn\\linear_model\\_coordinate_descent.py:634: ConvergenceWarning: Objective did not converge. You might want to increase the number of iterations. Duality gap: 0.0025872670240320735, tolerance: 5.592480727374286e-07\n",
      "  model = cd_fast.enet_coordinate_descent_gram(\n",
      "C:\\Users\\philb\\AppData\\Local\\Programs\\Python\\Python310\\lib\\site-packages\\sklearn\\linear_model\\_coordinate_descent.py:634: UserWarning: Coordinate descent without L1 regularization may lead to unexpected results and is discouraged. Set l1_ratio > 0 to add L1 regularization.\n",
      "  model = cd_fast.enet_coordinate_descent_gram(\n",
      "C:\\Users\\philb\\AppData\\Local\\Programs\\Python\\Python310\\lib\\site-packages\\sklearn\\linear_model\\_coordinate_descent.py:634: ConvergenceWarning: Objective did not converge. You might want to increase the number of iterations. Duality gap: 0.0028148005969984022, tolerance: 6.17539771790325e-07\n",
      "  model = cd_fast.enet_coordinate_descent_gram(\n",
      "C:\\Users\\philb\\AppData\\Local\\Programs\\Python\\Python310\\lib\\site-packages\\sklearn\\linear_model\\_coordinate_descent.py:634: UserWarning: Coordinate descent without L1 regularization may lead to unexpected results and is discouraged. Set l1_ratio > 0 to add L1 regularization.\n",
      "  model = cd_fast.enet_coordinate_descent_gram(\n",
      "C:\\Users\\philb\\AppData\\Local\\Programs\\Python\\Python310\\lib\\site-packages\\sklearn\\linear_model\\_coordinate_descent.py:634: ConvergenceWarning: Objective did not converge. You might want to increase the number of iterations. Duality gap: 0.0023922633824826965, tolerance: 5.322340490317591e-07\n",
      "  model = cd_fast.enet_coordinate_descent_gram(\n",
      "C:\\Users\\philb\\AppData\\Local\\Programs\\Python\\Python310\\lib\\site-packages\\sklearn\\linear_model\\_coordinate_descent.py:634: UserWarning: Coordinate descent without L1 regularization may lead to unexpected results and is discouraged. Set l1_ratio > 0 to add L1 regularization.\n",
      "  model = cd_fast.enet_coordinate_descent_gram(\n",
      "C:\\Users\\philb\\AppData\\Local\\Programs\\Python\\Python310\\lib\\site-packages\\sklearn\\linear_model\\_coordinate_descent.py:634: ConvergenceWarning: Objective did not converge. You might want to increase the number of iterations. Duality gap: 0.002719816154592099, tolerance: 5.833850591232641e-07\n",
      "  model = cd_fast.enet_coordinate_descent_gram(\n",
      "C:\\Users\\philb\\AppData\\Local\\Programs\\Python\\Python310\\lib\\site-packages\\sklearn\\linear_model\\_coordinate_descent.py:634: UserWarning: Coordinate descent without L1 regularization may lead to unexpected results and is discouraged. Set l1_ratio > 0 to add L1 regularization.\n",
      "  model = cd_fast.enet_coordinate_descent_gram(\n",
      "C:\\Users\\philb\\AppData\\Local\\Programs\\Python\\Python310\\lib\\site-packages\\sklearn\\linear_model\\_coordinate_descent.py:634: ConvergenceWarning: Objective did not converge. You might want to increase the number of iterations. Duality gap: 0.0018057183957367275, tolerance: 4.0658655833845864e-07\n",
      "  model = cd_fast.enet_coordinate_descent_gram(\n",
      "C:\\Users\\philb\\AppData\\Local\\Programs\\Python\\Python310\\lib\\site-packages\\sklearn\\linear_model\\_coordinate_descent.py:1771: UserWarning: With alpha=0, this algorithm does not converge well. You are advised to use the LinearRegression estimator\n",
      "  model.fit(X, y)\n",
      "C:\\Users\\philb\\AppData\\Local\\Programs\\Python\\Python310\\lib\\site-packages\\sklearn\\linear_model\\_coordinate_descent.py:648: UserWarning: Coordinate descent with no regularization may lead to unexpected results and is discouraged.\n",
      "  model = cd_fast.enet_coordinate_descent(\n",
      "C:\\Users\\philb\\AppData\\Local\\Programs\\Python\\Python310\\lib\\site-packages\\sklearn\\linear_model\\_coordinate_descent.py:648: ConvergenceWarning: Objective did not converge. You might want to increase the number of iterations, check the scale of the features or consider increasing regularisation. Duality gap: 3.090e-03, tolerance: 6.750e-07 Linear regression models with null weight for the l1 regularization term are more efficiently fitted using one of the solvers implemented in sklearn.linear_model.Ridge/RidgeCV instead.\n",
      "  model = cd_fast.enet_coordinate_descent(\n"
     ]
    },
    {
     "data": {
      "image/png": "[encoded data removed]",
      "text/plain": [
       "<Figure size 576x396 with 1 Axes>"
      ]
     },
     "metadata": {},
     "output_type": "display_data"
    },
    {
     "data": {
      "text/plain": [
       "<AxesSubplot:title={'center':'LassoCV Alpha Error'}, xlabel='alpha', ylabel='error (or score)'>"
      ]
     },
     "execution_count": 680,
     "metadata": {},
     "output_type": "execute_result"
    }
   ],
   "source": [
    "X, y = data[:, 9:24], data[:, 38]\n",
    "\n",
    "# Create a list of alphas to cross-validate against\n",
    "alphas = np.linspace(0, 1, num=1000)\n",
    "\n",
    "\n",
    "# Instantiate the linear model and visualizer\n",
    "model = LassoCV(alphas=alphas)\n",
    "visualizer = AlphaSelection(model)\n",
    "visualizer.fit(X, y)\n",
    "visualizer.show()"
   ]
  }
 ],
 "metadata": {
  "kernelspec": {
   "display_name": "Python 3 (ipykernel)",
   "language": "python",
   "name": "python3"
  },
  "language_info": {
   "codemirror_mode": {
    "name": "ipython",
    "version": 3
   },
   "file_extension": ".py",
   "mimetype": "text/x-python",
   "name": "python",
   "nbconvert_exporter": "python",
   "pygments_lexer": "ipython3",
   "version": "3.10.5"
  }
 },
 "nbformat": 4,
 "nbformat_minor": 5
}
