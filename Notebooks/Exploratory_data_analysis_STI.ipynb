{
 "cells": [
  {
   "cell_type": "code",
   "execution_count": 1,
   "id": "ca71b843-70b0-4547-a5e1-a46d3fcb6c35",
   "metadata": {},
   "outputs": [],
   "source": [
    "import pandas as pd\n",
    "import numpy as np\n",
    "import seaborn as sns\n",
    "import matplotlib.pyplot as plt"
   ]
  },
  {
   "cell_type": "code",
   "execution_count": 5,
   "id": "61a302e8-8d51-4eff-a953-59cc58773f81",
   "metadata": {},
   "outputs": [
    {
     "ename": "NameError",
     "evalue": "name 'pd' is not defined",
     "output_type": "error",
     "traceback": [
      "\u001b[0;31m---------------------------------------------------------------------------\u001b[0m",
      "\u001b[0;31mNameError\u001b[0m                                 Traceback (most recent call last)",
      "Input \u001b[0;32mIn [5]\u001b[0m, in \u001b[0;36m<cell line: 1>\u001b[0;34m()\u001b[0m\n\u001b[0;32m----> 1\u001b[0m data \u001b[38;5;241m=\u001b[39m \u001b[43mpd\u001b[49m\u001b[38;5;241m.\u001b[39mread_csv(\u001b[38;5;124m\"\u001b[39m\u001b[38;5;124m../Data/clean/CDC/CDCSTDoverall2000_2020_clean.csv\u001b[39m\u001b[38;5;124m\"\u001b[39m)\n",
      "\u001b[0;31mNameError\u001b[0m: name 'pd' is not defined"
     ]
    }
   ],
   "source": [
    "data = pd.read_csv(\"../Data/clean/CDC/CDCSTDoverall2000_2020_clean.csv\")"
   ]
  },
  {
   "cell_type": "code",
   "execution_count": null,
   "id": "061b375b-04ff-47f3-8ae6-fbc761c5e454",
   "metadata": {},
   "outputs": [],
   "source": [
    "df_sum = data.groupby(['year'])['cases_gonorrhea','cases_chlamydia','cases_early_non-primary_non-secondary_syphilis','cases_primary_and_secondary_syphilis'].sum().reset_index()"
   ]
  },
  {
   "cell_type": "code",
   "execution_count": 78,
   "id": "081c48a1-a024-4082-a4ca-1743740e43c8",
   "metadata": {},
   "outputs": [
    {
     "data": {
      "text/html": [
       "<div>\n",
       "<style scoped>\n",
       "    .dataframe tbody tr th:only-of-type {\n",
       "        vertical-align: middle;\n",
       "    }\n",
       "\n",
       "    .dataframe tbody tr th {\n",
       "        vertical-align: top;\n",
       "    }\n",
       "\n",
       "    .dataframe thead th {\n",
       "        text-align: right;\n",
       "    }\n",
       "</style>\n",
       "<table border=\"1\" class=\"dataframe\">\n",
       "  <thead>\n",
       "    <tr style=\"text-align: right;\">\n",
       "      <th></th>\n",
       "      <th>year</th>\n",
       "      <th>cases_gonorrhea</th>\n",
       "      <th>cases_chlamydia</th>\n",
       "      <th>cases_early_non-primary_non-secondary_syphilis</th>\n",
       "      <th>cases_primary_and_secondary_syphilis</th>\n",
       "    </tr>\n",
       "  </thead>\n",
       "  <tbody>\n",
       "    <tr>\n",
       "      <th>0</th>\n",
       "      <td>2000</td>\n",
       "      <td>211146.0</td>\n",
       "      <td>382937.0</td>\n",
       "      <td>9989.0</td>\n",
       "      <td>6117.0</td>\n",
       "    </tr>\n",
       "    <tr>\n",
       "      <th>1</th>\n",
       "      <td>2001</td>\n",
       "      <td>245376.0</td>\n",
       "      <td>487710.0</td>\n",
       "      <td>9262.0</td>\n",
       "      <td>6287.0</td>\n",
       "    </tr>\n",
       "    <tr>\n",
       "      <th>2</th>\n",
       "      <td>2002</td>\n",
       "      <td>345771.0</td>\n",
       "      <td>813734.0</td>\n",
       "      <td>9064.0</td>\n",
       "      <td>7089.0</td>\n",
       "    </tr>\n",
       "    <tr>\n",
       "      <th>3</th>\n",
       "      <td>2003</td>\n",
       "      <td>332157.0</td>\n",
       "      <td>869687.0</td>\n",
       "      <td>8989.0</td>\n",
       "      <td>7352.0</td>\n",
       "    </tr>\n",
       "    <tr>\n",
       "      <th>4</th>\n",
       "      <td>2004</td>\n",
       "      <td>327207.0</td>\n",
       "      <td>921261.0</td>\n",
       "      <td>8101.0</td>\n",
       "      <td>8152.0</td>\n",
       "    </tr>\n",
       "    <tr>\n",
       "      <th>5</th>\n",
       "      <td>2005</td>\n",
       "      <td>336097.0</td>\n",
       "      <td>964913.0</td>\n",
       "      <td>8586.0</td>\n",
       "      <td>8935.0</td>\n",
       "    </tr>\n",
       "    <tr>\n",
       "      <th>6</th>\n",
       "      <td>2006</td>\n",
       "      <td>356037.0</td>\n",
       "      <td>1027346.0</td>\n",
       "      <td>9534.0</td>\n",
       "      <td>9895.0</td>\n",
       "    </tr>\n",
       "    <tr>\n",
       "      <th>7</th>\n",
       "      <td>2007</td>\n",
       "      <td>353727.0</td>\n",
       "      <td>1107441.0</td>\n",
       "      <td>11154.0</td>\n",
       "      <td>11620.0</td>\n",
       "    </tr>\n",
       "    <tr>\n",
       "      <th>8</th>\n",
       "      <td>2008</td>\n",
       "      <td>331487.0</td>\n",
       "      <td>1199261.0</td>\n",
       "      <td>12601.0</td>\n",
       "      <td>13639.0</td>\n",
       "    </tr>\n",
       "    <tr>\n",
       "      <th>9</th>\n",
       "      <td>2009</td>\n",
       "      <td>299468.0</td>\n",
       "      <td>1243433.0</td>\n",
       "      <td>13220.0</td>\n",
       "      <td>14216.0</td>\n",
       "    </tr>\n",
       "    <tr>\n",
       "      <th>10</th>\n",
       "      <td>2010</td>\n",
       "      <td>308238.0</td>\n",
       "      <td>1307386.0</td>\n",
       "      <td>13779.0</td>\n",
       "      <td>13989.0</td>\n",
       "    </tr>\n",
       "    <tr>\n",
       "      <th>11</th>\n",
       "      <td>2011</td>\n",
       "      <td>320177.0</td>\n",
       "      <td>1408438.0</td>\n",
       "      <td>13328.0</td>\n",
       "      <td>14216.0</td>\n",
       "    </tr>\n",
       "    <tr>\n",
       "      <th>12</th>\n",
       "      <td>2012</td>\n",
       "      <td>333797.0</td>\n",
       "      <td>1422567.0</td>\n",
       "      <td>14722.0</td>\n",
       "      <td>15965.0</td>\n",
       "    </tr>\n",
       "    <tr>\n",
       "      <th>13</th>\n",
       "      <td>2013</td>\n",
       "      <td>328707.0</td>\n",
       "      <td>1387626.0</td>\n",
       "      <td>17178.0</td>\n",
       "      <td>17746.0</td>\n",
       "    </tr>\n",
       "    <tr>\n",
       "      <th>14</th>\n",
       "      <td>2014</td>\n",
       "      <td>346942.0</td>\n",
       "      <td>1433505.0</td>\n",
       "      <td>19655.0</td>\n",
       "      <td>20328.0</td>\n",
       "    </tr>\n",
       "    <tr>\n",
       "      <th>15</th>\n",
       "      <td>2015</td>\n",
       "      <td>387699.0</td>\n",
       "      <td>1496914.0</td>\n",
       "      <td>24431.0</td>\n",
       "      <td>24219.0</td>\n",
       "    </tr>\n",
       "    <tr>\n",
       "      <th>16</th>\n",
       "      <td>2016</td>\n",
       "      <td>461759.0</td>\n",
       "      <td>1581698.0</td>\n",
       "      <td>29063.0</td>\n",
       "      <td>28090.0</td>\n",
       "    </tr>\n",
       "    <tr>\n",
       "      <th>17</th>\n",
       "      <td>2017</td>\n",
       "      <td>553590.0</td>\n",
       "      <td>1703383.0</td>\n",
       "      <td>34502.0</td>\n",
       "      <td>31016.0</td>\n",
       "    </tr>\n",
       "    <tr>\n",
       "      <th>18</th>\n",
       "      <td>2018</td>\n",
       "      <td>580700.0</td>\n",
       "      <td>1754481.0</td>\n",
       "      <td>39074.0</td>\n",
       "      <td>35385.0</td>\n",
       "    </tr>\n",
       "    <tr>\n",
       "      <th>19</th>\n",
       "      <td>2019</td>\n",
       "      <td>613560.0</td>\n",
       "      <td>1800311.0</td>\n",
       "      <td>42018.0</td>\n",
       "      <td>39212.0</td>\n",
       "    </tr>\n",
       "    <tr>\n",
       "      <th>20</th>\n",
       "      <td>2020</td>\n",
       "      <td>676204.0</td>\n",
       "      <td>1577119.0</td>\n",
       "      <td>43387.0</td>\n",
       "      <td>41874.0</td>\n",
       "    </tr>\n",
       "  </tbody>\n",
       "</table>\n",
       "</div>"
      ],
      "text/plain": [
       "    year  cases_gonorrhea  cases_chlamydia  \\\n",
       "0   2000         211146.0         382937.0   \n",
       "1   2001         245376.0         487710.0   \n",
       "2   2002         345771.0         813734.0   \n",
       "3   2003         332157.0         869687.0   \n",
       "4   2004         327207.0         921261.0   \n",
       "5   2005         336097.0         964913.0   \n",
       "6   2006         356037.0        1027346.0   \n",
       "7   2007         353727.0        1107441.0   \n",
       "8   2008         331487.0        1199261.0   \n",
       "9   2009         299468.0        1243433.0   \n",
       "10  2010         308238.0        1307386.0   \n",
       "11  2011         320177.0        1408438.0   \n",
       "12  2012         333797.0        1422567.0   \n",
       "13  2013         328707.0        1387626.0   \n",
       "14  2014         346942.0        1433505.0   \n",
       "15  2015         387699.0        1496914.0   \n",
       "16  2016         461759.0        1581698.0   \n",
       "17  2017         553590.0        1703383.0   \n",
       "18  2018         580700.0        1754481.0   \n",
       "19  2019         613560.0        1800311.0   \n",
       "20  2020         676204.0        1577119.0   \n",
       "\n",
       "    cases_early_non-primary_non-secondary_syphilis  \\\n",
       "0                                           9989.0   \n",
       "1                                           9262.0   \n",
       "2                                           9064.0   \n",
       "3                                           8989.0   \n",
       "4                                           8101.0   \n",
       "5                                           8586.0   \n",
       "6                                           9534.0   \n",
       "7                                          11154.0   \n",
       "8                                          12601.0   \n",
       "9                                          13220.0   \n",
       "10                                         13779.0   \n",
       "11                                         13328.0   \n",
       "12                                         14722.0   \n",
       "13                                         17178.0   \n",
       "14                                         19655.0   \n",
       "15                                         24431.0   \n",
       "16                                         29063.0   \n",
       "17                                         34502.0   \n",
       "18                                         39074.0   \n",
       "19                                         42018.0   \n",
       "20                                         43387.0   \n",
       "\n",
       "    cases_primary_and_secondary_syphilis  \n",
       "0                                 6117.0  \n",
       "1                                 6287.0  \n",
       "2                                 7089.0  \n",
       "3                                 7352.0  \n",
       "4                                 8152.0  \n",
       "5                                 8935.0  \n",
       "6                                 9895.0  \n",
       "7                                11620.0  \n",
       "8                                13639.0  \n",
       "9                                14216.0  \n",
       "10                               13989.0  \n",
       "11                               14216.0  \n",
       "12                               15965.0  \n",
       "13                               17746.0  \n",
       "14                               20328.0  \n",
       "15                               24219.0  \n",
       "16                               28090.0  \n",
       "17                               31016.0  \n",
       "18                               35385.0  \n",
       "19                               39212.0  \n",
       "20                               41874.0  "
      ]
     },
     "execution_count": 78,
     "metadata": {},
     "output_type": "execute_result"
    }
   ],
   "source": [
    "df_sum"
   ]
  },
  {
   "cell_type": "markdown",
   "id": "c1cceac9-519f-4192-b0cf-75f8cc1b2aef",
   "metadata": {},
   "source": [
    "### Cases with change in time nationally"
   ]
  },
  {
   "cell_type": "code",
   "execution_count": 111,
   "id": "d8e52b4d-abce-4c1e-bf80-d4bd492c7e00",
   "metadata": {},
   "outputs": [
    {
     "data": {
      "image/png": "[encoded data removed]",
      "text/plain": [
       "<Figure size 1080x576 with 1 Axes>"
      ]
     },
     "metadata": {
      "needs_background": "light"
     },
     "output_type": "display_data"
    }
   ],
   "source": [
    "plt.figure(figsize = (15,8))\n",
    "g = sns.lineplot(data = df_sum, x = 'year', y = 'cases_chlamydia',marker = \"o\")\n",
    "sns.lineplot(data = df_sum, x = 'year', y = 'cases_gonorrhea',marker = \">\")\n",
    "# sns.lineplot(data = df_sum, x = 'year', y = 'cases_Early Non-Primary, Non-Secondary Syphilis',marker = \"<\")\n",
    "# sns.lineplot(data = df_sum, x = 'year', y = 'cases_Primary and Secondary Syphilis', marker = \"|\")\n",
    "g.set_ylabel('cases')\n",
    "g.set_xticks(df_sum['year'])\n",
    "g.set_xticklabels(ax.get_xticklabels(),rotation = 30)\n",
    "plt.legend(labels=[\"Chlamydia\",\"Gonorrhea\"])\n",
    "plt.savefig('../Output/EDA/cases_chlamydia_gonorrhea.png',dpi=300)\n",
    "plt.show()"
   ]
  },
  {
   "cell_type": "code",
   "execution_count": 80,
   "id": "be36e709-d73c-454a-9f9f-eae64ef4c865",
   "metadata": {},
   "outputs": [
    {
     "data": {
      "image/png": "[encoded data removed]",
      "text/plain": [
       "<Figure size 1080x576 with 1 Axes>"
      ]
     },
     "metadata": {
      "needs_background": "light"
     },
     "output_type": "display_data"
    }
   ],
   "source": [
    "plt.figure(figsize = (15,8))\n",
    "g = sns.lineplot(data = df_sum, x = 'year', y = 'cases_early_non-primary_non-secondary_syphilis',marker = \"<\")\n",
    "sns.lineplot(data = df_sum, x = 'year', y = 'cases_primary_and_secondary_syphilis', marker = \"o\")\n",
    "g.set_ylabel('cases')\n",
    "g.set_xticks(df_sum['year'])\n",
    "g.set_xticklabels(ax.get_xticklabels(),rotation = 30)\n",
    "plt.legend(labels=[\"Early Non-Primary, Non-Secondary Syphilis\",\"Primary and Secondary Syphilis\"])\n",
    "plt.savefig('../Output/EDA/cases_syphilis.png',dpi=300)\n",
    "plt.show()"
   ]
  },
  {
   "cell_type": "markdown",
   "id": "763aba55-a9b9-4b47-96ff-492a81b994bd",
   "metadata": {},
   "source": [
    "### Cases over race"
   ]
  },
  {
   "cell_type": "code",
   "execution_count": 145,
   "id": "ae322ab4-ffd3-49aa-a52e-b1342f08ac04",
   "metadata": {},
   "outputs": [],
   "source": [
    "tot_df = []\n",
    "for j,i in enumerate(np.arange(2016, 2021, 1)):\n",
    "    tot_df.append(pd.read_csv('../Data/Raw/CDC/CDCSTDcountysexrace'+ \n",
    "                              str(i) +'.csv', sep = ',', skiprows = 4))\n",
    "df = pd.concat(tot_df, axis = 0)"
   ]
  },
  {
   "cell_type": "code",
   "execution_count": 146,
   "id": "bbfda538-42db-4a30-b3e2-e3ce9edea53a",
   "metadata": {
    "jupyter": {
     "source_hidden": true
    },
    "tags": []
   },
   "outputs": [
    {
     "data": {
      "text/html": [
       "<div>\n",
       "<style scoped>\n",
       "    .dataframe tbody tr th:only-of-type {\n",
       "        vertical-align: middle;\n",
       "    }\n",
       "\n",
       "    .dataframe tbody tr th {\n",
       "        vertical-align: top;\n",
       "    }\n",
       "\n",
       "    .dataframe thead th {\n",
       "        text-align: right;\n",
       "    }\n",
       "</style>\n",
       "<table border=\"1\" class=\"dataframe\">\n",
       "  <thead>\n",
       "    <tr style=\"text-align: right;\">\n",
       "      <th></th>\n",
       "      <th>Indicator</th>\n",
       "      <th>Year</th>\n",
       "      <th>Geography</th>\n",
       "      <th>FIPS</th>\n",
       "      <th>Race/Ethnicity</th>\n",
       "      <th>Sex</th>\n",
       "      <th>Cases</th>\n",
       "      <th>Rate per 100000</th>\n",
       "    </tr>\n",
       "  </thead>\n",
       "  <tbody>\n",
       "    <tr>\n",
       "      <th>0</th>\n",
       "      <td>Primary and Secondary Syphilis</td>\n",
       "      <td>2016</td>\n",
       "      <td>Abbeville County, SC</td>\n",
       "      <td>45001</td>\n",
       "      <td>White</td>\n",
       "      <td>Male</td>\n",
       "      <td>Data not available</td>\n",
       "      <td>Data not available</td>\n",
       "    </tr>\n",
       "    <tr>\n",
       "      <th>1</th>\n",
       "      <td>Primary and Secondary Syphilis</td>\n",
       "      <td>2016</td>\n",
       "      <td>Abbeville County, SC</td>\n",
       "      <td>45001</td>\n",
       "      <td>White</td>\n",
       "      <td>Female</td>\n",
       "      <td>Data not available</td>\n",
       "      <td>Data not available</td>\n",
       "    </tr>\n",
       "    <tr>\n",
       "      <th>2</th>\n",
       "      <td>Primary and Secondary Syphilis</td>\n",
       "      <td>2016</td>\n",
       "      <td>Abbeville County, SC</td>\n",
       "      <td>45001</td>\n",
       "      <td>Unknown</td>\n",
       "      <td>Male</td>\n",
       "      <td>Data not available</td>\n",
       "      <td>Data not available</td>\n",
       "    </tr>\n",
       "    <tr>\n",
       "      <th>3</th>\n",
       "      <td>Primary and Secondary Syphilis</td>\n",
       "      <td>2016</td>\n",
       "      <td>Abbeville County, SC</td>\n",
       "      <td>45001</td>\n",
       "      <td>Unknown</td>\n",
       "      <td>Female</td>\n",
       "      <td>Data not available</td>\n",
       "      <td>Data not available</td>\n",
       "    </tr>\n",
       "    <tr>\n",
       "      <th>4</th>\n",
       "      <td>Primary and Secondary Syphilis</td>\n",
       "      <td>2016</td>\n",
       "      <td>Abbeville County, SC</td>\n",
       "      <td>45001</td>\n",
       "      <td>Native Hawaiian/Other Pacific Islander</td>\n",
       "      <td>Male</td>\n",
       "      <td>Data not available</td>\n",
       "      <td>Data not available</td>\n",
       "    </tr>\n",
       "  </tbody>\n",
       "</table>\n",
       "</div>"
      ],
      "text/plain": [
       "                        Indicator  Year             Geography   FIPS  \\\n",
       "0  Primary and Secondary Syphilis  2016  Abbeville County, SC  45001   \n",
       "1  Primary and Secondary Syphilis  2016  Abbeville County, SC  45001   \n",
       "2  Primary and Secondary Syphilis  2016  Abbeville County, SC  45001   \n",
       "3  Primary and Secondary Syphilis  2016  Abbeville County, SC  45001   \n",
       "4  Primary and Secondary Syphilis  2016  Abbeville County, SC  45001   \n",
       "\n",
       "                           Race/Ethnicity     Sex               Cases  \\\n",
       "0                                   White    Male  Data not available   \n",
       "1                                   White  Female  Data not available   \n",
       "2                                 Unknown    Male  Data not available   \n",
       "3                                 Unknown  Female  Data not available   \n",
       "4  Native Hawaiian/Other Pacific Islander    Male  Data not available   \n",
       "\n",
       "      Rate per 100000  \n",
       "0  Data not available  \n",
       "1  Data not available  \n",
       "2  Data not available  \n",
       "3  Data not available  \n",
       "4  Data not available  "
      ]
     },
     "execution_count": 146,
     "metadata": {},
     "output_type": "execute_result"
    }
   ],
   "source": [
    "df.head()"
   ]
  },
  {
   "cell_type": "code",
   "execution_count": 147,
   "id": "9af2a5b6-2c06-42d9-b1d7-5270e39e842b",
   "metadata": {},
   "outputs": [],
   "source": [
    "df.loc[df[\"Year\"].str.startswith('2020',na=False), \"Year\"] = \"2020\""
   ]
  },
  {
   "cell_type": "code",
   "execution_count": 148,
   "id": "3d13c6a8-7904-445e-a4fe-e5ee9dddfb9c",
   "metadata": {},
   "outputs": [],
   "source": [
    "data_to_be_removed = [\"Cases\"]"
   ]
  },
  {
   "cell_type": "code",
   "execution_count": 149,
   "id": "ff5dd9ee-311f-41ff-a08e-9a376f9a1984",
   "metadata": {},
   "outputs": [],
   "source": [
    "for col in data_to_be_removed:\n",
    "    df.loc[df[col].str.contains(\"Data\",na = False), col] = np.nan\n",
    "    df[col] = df[col].str.replace(',','')\n",
    "df[['Cases','Year']] = df[['Cases','Year']].apply(pd.to_numeric)"
   ]
  },
  {
   "cell_type": "code",
   "execution_count": 150,
   "id": "67f5cd63-bfc4-4442-9ada-3e416f2dfbbe",
   "metadata": {},
   "outputs": [],
   "source": [
    "searchfor = ['Gonorrhea', 'Chlamydia']\n",
    "df_refine = df[df.Indicator.str.contains('|'.join(searchfor))]"
   ]
  },
  {
   "cell_type": "code",
   "execution_count": 151,
   "id": "e76ad345-7a8e-4d49-bc40-de9ea7fcaae3",
   "metadata": {},
   "outputs": [
    {
     "data": {
      "text/html": [
       "<div>\n",
       "<style scoped>\n",
       "    .dataframe tbody tr th:only-of-type {\n",
       "        vertical-align: middle;\n",
       "    }\n",
       "\n",
       "    .dataframe tbody tr th {\n",
       "        vertical-align: top;\n",
       "    }\n",
       "\n",
       "    .dataframe thead th {\n",
       "        text-align: right;\n",
       "    }\n",
       "</style>\n",
       "<table border=\"1\" class=\"dataframe\">\n",
       "  <thead>\n",
       "    <tr style=\"text-align: right;\">\n",
       "      <th></th>\n",
       "      <th>Year</th>\n",
       "      <th>Race/Ethnicity</th>\n",
       "      <th>Indicator</th>\n",
       "      <th>Cases</th>\n",
       "    </tr>\n",
       "  </thead>\n",
       "  <tbody>\n",
       "    <tr>\n",
       "      <th>0</th>\n",
       "      <td>2016</td>\n",
       "      <td>American Indian/Alaska Native</td>\n",
       "      <td>Chlamydia</td>\n",
       "      <td>0.0</td>\n",
       "    </tr>\n",
       "    <tr>\n",
       "      <th>1</th>\n",
       "      <td>2016</td>\n",
       "      <td>American Indian/Alaska Native</td>\n",
       "      <td>Gonorrhea</td>\n",
       "      <td>0.0</td>\n",
       "    </tr>\n",
       "    <tr>\n",
       "      <th>2</th>\n",
       "      <td>2016</td>\n",
       "      <td>Asian</td>\n",
       "      <td>Chlamydia</td>\n",
       "      <td>0.0</td>\n",
       "    </tr>\n",
       "    <tr>\n",
       "      <th>3</th>\n",
       "      <td>2016</td>\n",
       "      <td>Asian</td>\n",
       "      <td>Gonorrhea</td>\n",
       "      <td>0.0</td>\n",
       "    </tr>\n",
       "    <tr>\n",
       "      <th>4</th>\n",
       "      <td>2016</td>\n",
       "      <td>Black/African American</td>\n",
       "      <td>Chlamydia</td>\n",
       "      <td>0.0</td>\n",
       "    </tr>\n",
       "  </tbody>\n",
       "</table>\n",
       "</div>"
      ],
      "text/plain": [
       "   Year                 Race/Ethnicity  Indicator  Cases\n",
       "0  2016  American Indian/Alaska Native  Chlamydia    0.0\n",
       "1  2016  American Indian/Alaska Native  Gonorrhea    0.0\n",
       "2  2016                          Asian  Chlamydia    0.0\n",
       "3  2016                          Asian  Gonorrhea    0.0\n",
       "4  2016         Black/African American  Chlamydia    0.0"
      ]
     },
     "execution_count": 151,
     "metadata": {},
     "output_type": "execute_result"
    }
   ],
   "source": [
    "df_race = df_refine.groupby(['Year','Race/Ethnicity','Indicator'])['Cases'].sum().reset_index()\n",
    "df_race.head()"
   ]
  },
  {
   "cell_type": "code",
   "execution_count": 156,
   "id": "09221cd3-272f-4bd7-9f75-95dc40389681",
   "metadata": {},
   "outputs": [],
   "source": [
    "df_race = df_race[df_race.Year.isin([2019,2020])]"
   ]
  },
  {
   "cell_type": "code",
   "execution_count": 161,
   "id": "e367e5e5-08ac-4974-aa28-485848aa2747",
   "metadata": {},
   "outputs": [
    {
     "data": {
      "image/png": "[encoded data removed]",
      "text/plain": [
       "<Figure size 1080x576 with 1 Axes>"
      ]
     },
     "metadata": {
      "needs_background": "light"
     },
     "output_type": "display_data"
    }
   ],
   "source": [
    "plt.figure(figsize = (15,8))\n",
    "g = sns.barplot(data = df_race[df_race.Indicator == 'Chlamydia'], x = 'Year', y = 'Cases',hue = 'Race/Ethnicity')\n",
    "# sns.lineplot(data = df_race[df_race.Indicator == 'Gonorrhea'], x = 'Year', y = 'Cases',marker = \">\")\n",
    "# sns.lineplot(data = df_sum, x = 'year', y = 'cases_Early Non-Primary, Non-Secondary Syphilis',marker = \"<\")\n",
    "# sns.lineplot(data = df_sum, x = 'year', y = 'cases_Primary and Secondary Syphilis', marker = \"|\")\n",
    "g.set_ylabel('Cases')\n",
    "# g.set_xticks(pd.unique(df_race['Year']))\n",
    "# g.set_xticklabels(ax.get_xticklabels(),rotation = 30)\n",
    "# plt.legend(labels=[\"Chlamydia\",\"Gonorrhea\"])\n",
    "plt.savefig('../Output/EDA/cases_race_chlamydia.png',dpi=300)\n",
    "plt.title(\"Cases for Chlamydia\")\n",
    "plt.show()"
   ]
  },
  {
   "cell_type": "code",
   "execution_count": 162,
   "id": "b06d4418-4654-4c24-b32c-069877f3b2cf",
   "metadata": {},
   "outputs": [
    {
     "data": {
      "image/png": "[encoded data removed]",
      "text/plain": [
       "<Figure size 1080x576 with 1 Axes>"
      ]
     },
     "metadata": {
      "needs_background": "light"
     },
     "output_type": "display_data"
    }
   ],
   "source": [
    "plt.figure(figsize = (15,8))\n",
    "g = sns.barplot(data = df_race[df_race.Indicator == 'Gonorrhea'], x = 'Year', y = 'Cases',hue = 'Race/Ethnicity')\n",
    "# sns.lineplot(data = df_race[df_race.Indicator == 'Gonorrhea'], x = 'Year', y = 'Cases',marker = \">\")\n",
    "# sns.lineplot(data = df_sum, x = 'year', y = 'cases_Early Non-Primary, Non-Secondary Syphilis',marker = \"<\")\n",
    "# sns.lineplot(data = df_sum, x = 'year', y = 'cases_Primary and Secondary Syphilis', marker = \"|\")\n",
    "g.set_ylabel('Cases')\n",
    "# g.set_xticks(pd.unique(df_race['Year']))\n",
    "# g.set_xticklabels(ax.get_xticklabels(),rotation = 30)\n",
    "# plt.legend(labels=[\"Chlamydia\",\"Gonorrhea\"])\n",
    "plt.savefig('../Output/EDA/cases_race_gonorrhea.png',dpi=300)\n",
    "plt.title(\"Cases for Gonorrhea\")\n",
    "plt.show()"
   ]
  },
  {
   "cell_type": "markdown",
   "id": "01f32e6b-9bb7-42cb-a223-9f09e7a698c9",
   "metadata": {},
   "source": [
    "### Cases over Sex"
   ]
  },
  {
   "cell_type": "code",
   "execution_count": 163,
   "id": "11778815-6ef9-4fce-8141-dab2c4af0060",
   "metadata": {},
   "outputs": [],
   "source": [
    "tot_df = []\n",
    "for j,i in enumerate(np.arange(2016, 2021, 1)):\n",
    "    tot_df.append(pd.read_csv('../Data/Raw/CDC/CDCSTDcountysexrace'+ \n",
    "                              str(i) +'.csv', sep = ',', skiprows = 4))\n",
    "df = pd.concat(tot_df, axis = 0)"
   ]
  },
  {
   "cell_type": "code",
   "execution_count": 164,
   "id": "b0772c35-1a8a-4d7c-8e30-cf5cfbf7caae",
   "metadata": {
    "jupyter": {
     "source_hidden": true
    },
    "tags": []
   },
   "outputs": [
    {
     "data": {
      "text/html": [
       "<div>\n",
       "<style scoped>\n",
       "    .dataframe tbody tr th:only-of-type {\n",
       "        vertical-align: middle;\n",
       "    }\n",
       "\n",
       "    .dataframe tbody tr th {\n",
       "        vertical-align: top;\n",
       "    }\n",
       "\n",
       "    .dataframe thead th {\n",
       "        text-align: right;\n",
       "    }\n",
       "</style>\n",
       "<table border=\"1\" class=\"dataframe\">\n",
       "  <thead>\n",
       "    <tr style=\"text-align: right;\">\n",
       "      <th></th>\n",
       "      <th>Indicator</th>\n",
       "      <th>Year</th>\n",
       "      <th>Geography</th>\n",
       "      <th>FIPS</th>\n",
       "      <th>Race/Ethnicity</th>\n",
       "      <th>Sex</th>\n",
       "      <th>Cases</th>\n",
       "      <th>Rate per 100000</th>\n",
       "    </tr>\n",
       "  </thead>\n",
       "  <tbody>\n",
       "    <tr>\n",
       "      <th>0</th>\n",
       "      <td>Primary and Secondary Syphilis</td>\n",
       "      <td>2016</td>\n",
       "      <td>Abbeville County, SC</td>\n",
       "      <td>45001</td>\n",
       "      <td>White</td>\n",
       "      <td>Male</td>\n",
       "      <td>Data not available</td>\n",
       "      <td>Data not available</td>\n",
       "    </tr>\n",
       "    <tr>\n",
       "      <th>1</th>\n",
       "      <td>Primary and Secondary Syphilis</td>\n",
       "      <td>2016</td>\n",
       "      <td>Abbeville County, SC</td>\n",
       "      <td>45001</td>\n",
       "      <td>White</td>\n",
       "      <td>Female</td>\n",
       "      <td>Data not available</td>\n",
       "      <td>Data not available</td>\n",
       "    </tr>\n",
       "    <tr>\n",
       "      <th>2</th>\n",
       "      <td>Primary and Secondary Syphilis</td>\n",
       "      <td>2016</td>\n",
       "      <td>Abbeville County, SC</td>\n",
       "      <td>45001</td>\n",
       "      <td>Unknown</td>\n",
       "      <td>Male</td>\n",
       "      <td>Data not available</td>\n",
       "      <td>Data not available</td>\n",
       "    </tr>\n",
       "    <tr>\n",
       "      <th>3</th>\n",
       "      <td>Primary and Secondary Syphilis</td>\n",
       "      <td>2016</td>\n",
       "      <td>Abbeville County, SC</td>\n",
       "      <td>45001</td>\n",
       "      <td>Unknown</td>\n",
       "      <td>Female</td>\n",
       "      <td>Data not available</td>\n",
       "      <td>Data not available</td>\n",
       "    </tr>\n",
       "    <tr>\n",
       "      <th>4</th>\n",
       "      <td>Primary and Secondary Syphilis</td>\n",
       "      <td>2016</td>\n",
       "      <td>Abbeville County, SC</td>\n",
       "      <td>45001</td>\n",
       "      <td>Native Hawaiian/Other Pacific Islander</td>\n",
       "      <td>Male</td>\n",
       "      <td>Data not available</td>\n",
       "      <td>Data not available</td>\n",
       "    </tr>\n",
       "  </tbody>\n",
       "</table>\n",
       "</div>"
      ],
      "text/plain": [
       "                        Indicator  Year             Geography   FIPS  \\\n",
       "0  Primary and Secondary Syphilis  2016  Abbeville County, SC  45001   \n",
       "1  Primary and Secondary Syphilis  2016  Abbeville County, SC  45001   \n",
       "2  Primary and Secondary Syphilis  2016  Abbeville County, SC  45001   \n",
       "3  Primary and Secondary Syphilis  2016  Abbeville County, SC  45001   \n",
       "4  Primary and Secondary Syphilis  2016  Abbeville County, SC  45001   \n",
       "\n",
       "                           Race/Ethnicity     Sex               Cases  \\\n",
       "0                                   White    Male  Data not available   \n",
       "1                                   White  Female  Data not available   \n",
       "2                                 Unknown    Male  Data not available   \n",
       "3                                 Unknown  Female  Data not available   \n",
       "4  Native Hawaiian/Other Pacific Islander    Male  Data not available   \n",
       "\n",
       "      Rate per 100000  \n",
       "0  Data not available  \n",
       "1  Data not available  \n",
       "2  Data not available  \n",
       "3  Data not available  \n",
       "4  Data not available  "
      ]
     },
     "execution_count": 164,
     "metadata": {},
     "output_type": "execute_result"
    }
   ],
   "source": [
    "df.head()"
   ]
  },
  {
   "cell_type": "code",
   "execution_count": 165,
   "id": "fe2893e8-f62d-4e3b-8e4c-69584db12092",
   "metadata": {},
   "outputs": [],
   "source": [
    "df.loc[df[\"Year\"].str.startswith('2020',na=False), \"Year\"] = \"2020\""
   ]
  },
  {
   "cell_type": "code",
   "execution_count": 166,
   "id": "cd25125d-9a92-4271-b006-3e9055bd6e46",
   "metadata": {},
   "outputs": [],
   "source": [
    "data_to_be_removed = [\"Cases\"]"
   ]
  },
  {
   "cell_type": "code",
   "execution_count": 167,
   "id": "e93740c1-99f2-40d4-9d5e-712b8bfd4264",
   "metadata": {},
   "outputs": [],
   "source": [
    "for col in data_to_be_removed:\n",
    "    df.loc[df[col].str.contains(\"Data\",na = False), col] = np.nan\n",
    "    df[col] = df[col].str.replace(',','')\n",
    "df[['Cases','Year']] = df[['Cases','Year']].apply(pd.to_numeric)"
   ]
  },
  {
   "cell_type": "code",
   "execution_count": 168,
   "id": "242adb55-38ac-4674-864b-5f143c6f6c08",
   "metadata": {},
   "outputs": [],
   "source": [
    "searchfor = ['Gonorrhea', 'Chlamydia']\n",
    "df_refine = df[df.Indicator.str.contains('|'.join(searchfor))]"
   ]
  },
  {
   "cell_type": "code",
   "execution_count": 169,
   "id": "5ad0582a-56d8-4129-b561-dd509068a7db",
   "metadata": {},
   "outputs": [
    {
     "data": {
      "text/html": [
       "<div>\n",
       "<style scoped>\n",
       "    .dataframe tbody tr th:only-of-type {\n",
       "        vertical-align: middle;\n",
       "    }\n",
       "\n",
       "    .dataframe tbody tr th {\n",
       "        vertical-align: top;\n",
       "    }\n",
       "\n",
       "    .dataframe thead th {\n",
       "        text-align: right;\n",
       "    }\n",
       "</style>\n",
       "<table border=\"1\" class=\"dataframe\">\n",
       "  <thead>\n",
       "    <tr style=\"text-align: right;\">\n",
       "      <th></th>\n",
       "      <th>Year</th>\n",
       "      <th>Sex</th>\n",
       "      <th>Indicator</th>\n",
       "      <th>Cases</th>\n",
       "    </tr>\n",
       "  </thead>\n",
       "  <tbody>\n",
       "    <tr>\n",
       "      <th>0</th>\n",
       "      <td>2016</td>\n",
       "      <td>Female</td>\n",
       "      <td>Chlamydia</td>\n",
       "      <td>0.0</td>\n",
       "    </tr>\n",
       "    <tr>\n",
       "      <th>1</th>\n",
       "      <td>2016</td>\n",
       "      <td>Female</td>\n",
       "      <td>Gonorrhea</td>\n",
       "      <td>0.0</td>\n",
       "    </tr>\n",
       "    <tr>\n",
       "      <th>2</th>\n",
       "      <td>2016</td>\n",
       "      <td>Male</td>\n",
       "      <td>Chlamydia</td>\n",
       "      <td>0.0</td>\n",
       "    </tr>\n",
       "    <tr>\n",
       "      <th>3</th>\n",
       "      <td>2016</td>\n",
       "      <td>Male</td>\n",
       "      <td>Gonorrhea</td>\n",
       "      <td>0.0</td>\n",
       "    </tr>\n",
       "    <tr>\n",
       "      <th>4</th>\n",
       "      <td>2017</td>\n",
       "      <td>Female</td>\n",
       "      <td>Chlamydia</td>\n",
       "      <td>0.0</td>\n",
       "    </tr>\n",
       "  </tbody>\n",
       "</table>\n",
       "</div>"
      ],
      "text/plain": [
       "   Year     Sex  Indicator  Cases\n",
       "0  2016  Female  Chlamydia    0.0\n",
       "1  2016  Female  Gonorrhea    0.0\n",
       "2  2016    Male  Chlamydia    0.0\n",
       "3  2016    Male  Gonorrhea    0.0\n",
       "4  2017  Female  Chlamydia    0.0"
      ]
     },
     "execution_count": 169,
     "metadata": {},
     "output_type": "execute_result"
    }
   ],
   "source": [
    "df_race = df_refine.groupby(['Year','Sex','Indicator'])['Cases'].sum().reset_index()\n",
    "df_race.head()"
   ]
  },
  {
   "cell_type": "code",
   "execution_count": 170,
   "id": "3e7401f2-646b-480c-902b-580f5680f69c",
   "metadata": {},
   "outputs": [],
   "source": [
    "df_race = df_race[df_race.Year.isin([2019,2020])]"
   ]
  },
  {
   "cell_type": "code",
   "execution_count": 171,
   "id": "66952ae6-00b4-4ffc-aff7-41478a85df66",
   "metadata": {},
   "outputs": [
    {
     "data": {
      "image/png": "[encoded data removed]",
      "text/plain": [
       "<Figure size 1080x576 with 1 Axes>"
      ]
     },
     "metadata": {
      "needs_background": "light"
     },
     "output_type": "display_data"
    }
   ],
   "source": [
    "plt.figure(figsize = (15,8))\n",
    "g = sns.barplot(data = df_race[df_race.Indicator == 'Chlamydia'], x = 'Year', y = 'Cases',hue = 'Sex')\n",
    "# sns.lineplot(data = df_race[df_race.Indicator == 'Gonorrhea'], x = 'Year', y = 'Cases',marker = \">\")\n",
    "# sns.lineplot(data = df_sum, x = 'year', y = 'cases_Early Non-Primary, Non-Secondary Syphilis',marker = \"<\")\n",
    "# sns.lineplot(data = df_sum, x = 'year', y = 'cases_Primary and Secondary Syphilis', marker = \"|\")\n",
    "g.set_ylabel('Cases')\n",
    "# g.set_xticks(pd.unique(df_race['Year']))\n",
    "# g.set_xticklabels(ax.get_xticklabels(),rotation = 30)\n",
    "# plt.legend(labels=[\"Chlamydia\",\"Gonorrhea\"])\n",
    "plt.savefig('../Output/EDA/cases_sex_chlamydia.png',dpi=300)\n",
    "plt.title(\"Cases for Chlamydia\")\n",
    "plt.show()"
   ]
  },
  {
   "cell_type": "code",
   "execution_count": 172,
   "id": "ed2315bc-d968-4544-a06a-16806b0b5f30",
   "metadata": {},
   "outputs": [
    {
     "data": {
      "image/png": "[encoded data removed]",
      "text/plain": [
       "<Figure size 1080x576 with 1 Axes>"
      ]
     },
     "metadata": {
      "needs_background": "light"
     },
     "output_type": "display_data"
    }
   ],
   "source": [
    "plt.figure(figsize = (15,8))\n",
    "g = sns.barplot(data = df_race[df_race.Indicator == 'Gonorrhea'], x = 'Year', y = 'Cases',hue = 'Sex')\n",
    "# sns.lineplot(data = df_race[df_race.Indicator == 'Gonorrhea'], x = 'Year', y = 'Cases',marker = \">\")\n",
    "# sns.lineplot(data = df_sum, x = 'year', y = 'cases_Early Non-Primary, Non-Secondary Syphilis',marker = \"<\")\n",
    "# sns.lineplot(data = df_sum, x = 'year', y = 'cases_Primary and Secondary Syphilis', marker = \"|\")\n",
    "g.set_ylabel('Cases')\n",
    "# g.set_xticks(pd.unique(df_race['Year']))\n",
    "# g.set_xticklabels(ax.get_xticklabels(),rotation = 30)\n",
    "# plt.legend(labels=[\"Chlamydia\",\"Gonorrhea\"])\n",
    "plt.savefig('../Output/EDA/cases_sex_gonorrhea.png',dpi=300)\n",
    "plt.title(\"Cases for Gonorrhea\")\n",
    "plt.show()"
   ]
  },
  {
   "cell_type": "markdown",
   "id": "d2fd6aa5-bb3a-4c24-aae4-da9ec6108392",
   "metadata": {},
   "source": [
    "### HIV dataset"
   ]
  },
  {
   "cell_type": "code",
   "execution_count": 184,
   "id": "306e6296-9ea0-4ac3-9d95-bf024a1d94a1",
   "metadata": {},
   "outputs": [
    {
     "name": "stdout",
     "output_type": "stream",
     "text": [
      "(67578, 131)\n"
     ]
    },
    {
     "data": {
      "text/html": [
       "<div>\n",
       "<style scoped>\n",
       "    .dataframe tbody tr th:only-of-type {\n",
       "        vertical-align: middle;\n",
       "    }\n",
       "\n",
       "    .dataframe tbody tr th {\n",
       "        vertical-align: top;\n",
       "    }\n",
       "\n",
       "    .dataframe thead th {\n",
       "        text-align: right;\n",
       "    }\n",
       "</style>\n",
       "<table border=\"1\" class=\"dataframe\">\n",
       "  <thead>\n",
       "    <tr style=\"text-align: right;\">\n",
       "      <th></th>\n",
       "      <th>Indicator</th>\n",
       "      <th>Year</th>\n",
       "      <th>Geography</th>\n",
       "      <th>FIPS</th>\n",
       "      <th>Sex</th>\n",
       "      <th>Cases</th>\n",
       "      <th>Rate per 100000</th>\n",
       "      <th>Percent</th>\n",
       "    </tr>\n",
       "  </thead>\n",
       "  <tbody>\n",
       "    <tr>\n",
       "      <th>0</th>\n",
       "      <td>Receipt of HIV medical care</td>\n",
       "      <td>2020 (COVID-19 Pandemic)</td>\n",
       "      <td>Abbeville County, SC</td>\n",
       "      <td>45001</td>\n",
       "      <td>Male</td>\n",
       "      <td>39</td>\n",
       "      <td>NaN</td>\n",
       "      <td>92.9</td>\n",
       "    </tr>\n",
       "    <tr>\n",
       "      <th>1</th>\n",
       "      <td>Receipt of HIV medical care</td>\n",
       "      <td>2020 (COVID-19 Pandemic)</td>\n",
       "      <td>Abbeville County, SC</td>\n",
       "      <td>45001</td>\n",
       "      <td>Female</td>\n",
       "      <td>7</td>\n",
       "      <td>NaN</td>\n",
       "      <td>63.6</td>\n",
       "    </tr>\n",
       "    <tr>\n",
       "      <th>2</th>\n",
       "      <td>Receipt of HIV medical care</td>\n",
       "      <td>2019</td>\n",
       "      <td>Abbeville County, SC</td>\n",
       "      <td>45001</td>\n",
       "      <td>Male</td>\n",
       "      <td>35</td>\n",
       "      <td>NaN</td>\n",
       "      <td>87.5</td>\n",
       "    </tr>\n",
       "    <tr>\n",
       "      <th>3</th>\n",
       "      <td>Receipt of HIV medical care</td>\n",
       "      <td>2019</td>\n",
       "      <td>Abbeville County, SC</td>\n",
       "      <td>45001</td>\n",
       "      <td>Female</td>\n",
       "      <td>10</td>\n",
       "      <td>NaN</td>\n",
       "      <td>83.3</td>\n",
       "    </tr>\n",
       "    <tr>\n",
       "      <th>4</th>\n",
       "      <td>Receipt of HIV medical care</td>\n",
       "      <td>2018</td>\n",
       "      <td>Abbeville County, SC</td>\n",
       "      <td>45001</td>\n",
       "      <td>Male</td>\n",
       "      <td>Data not available</td>\n",
       "      <td>NaN</td>\n",
       "      <td>Data not available</td>\n",
       "    </tr>\n",
       "  </tbody>\n",
       "</table>\n",
       "</div>"
      ],
      "text/plain": [
       "                     Indicator                      Year  \\\n",
       "0  Receipt of HIV medical care  2020 (COVID-19 Pandemic)   \n",
       "1  Receipt of HIV medical care  2020 (COVID-19 Pandemic)   \n",
       "2  Receipt of HIV medical care                      2019   \n",
       "3  Receipt of HIV medical care                      2019   \n",
       "4  Receipt of HIV medical care                      2018   \n",
       "\n",
       "              Geography   FIPS     Sex               Cases Rate per 100000  \\\n",
       "0  Abbeville County, SC  45001    Male                  39             NaN   \n",
       "1  Abbeville County, SC  45001  Female                   7             NaN   \n",
       "2  Abbeville County, SC  45001    Male                  35             NaN   \n",
       "3  Abbeville County, SC  45001  Female                  10             NaN   \n",
       "4  Abbeville County, SC  45001    Male  Data not available             NaN   \n",
       "\n",
       "              Percent  \n",
       "0                92.9  \n",
       "1                63.6  \n",
       "2                87.5  \n",
       "3                83.3  \n",
       "4  Data not available  "
      ]
     },
     "execution_count": 184,
     "metadata": {},
     "output_type": "execute_result"
    }
   ],
   "source": [
    "df = pd.read_csv(\"../Data/Raw/CDC/HIV/CDCHIVcountyracesex2017_2020.csv\",skiprows=11)\n",
    "print(data.shape)\n",
    "df.head()"
   ]
  },
  {
   "cell_type": "code",
   "execution_count": 185,
   "id": "a5d2d8ee-f49c-4b09-9c02-a372b2b2b16f",
   "metadata": {},
   "outputs": [],
   "source": [
    "df.loc[df[\"Year\"].str.startswith('2020',na=False), \"Year\"] = \"2020\""
   ]
  },
  {
   "cell_type": "code",
   "execution_count": 186,
   "id": "9615c1d8-4d3b-44e3-b30e-230d890ecd09",
   "metadata": {},
   "outputs": [],
   "source": [
    "data_to_be_removed = [\"Cases\",\"Percent\",\"Rate per 100000\"]"
   ]
  },
  {
   "cell_type": "code",
   "execution_count": 187,
   "id": "d3404157-1b38-4db3-af12-25897afb81be",
   "metadata": {},
   "outputs": [],
   "source": [
    "for col in data_to_be_removed:\n",
    "    df.loc[df[col].str.contains(\"Data\",na = False), col] = np.nan\n",
    "    df[col] = df[col].str.replace(',','')\n",
    "df[['Cases','Year']] = df[['Cases','Year']].apply(pd.to_numeric)"
   ]
  },
  {
   "cell_type": "code",
   "execution_count": 188,
   "id": "e29aaef2-c0cd-4f4b-9e37-6c373c5886a1",
   "metadata": {},
   "outputs": [
    {
     "data": {
      "text/html": [
       "<div>\n",
       "<style scoped>\n",
       "    .dataframe tbody tr th:only-of-type {\n",
       "        vertical-align: middle;\n",
       "    }\n",
       "\n",
       "    .dataframe tbody tr th {\n",
       "        vertical-align: top;\n",
       "    }\n",
       "\n",
       "    .dataframe thead th {\n",
       "        text-align: right;\n",
       "    }\n",
       "</style>\n",
       "<table border=\"1\" class=\"dataframe\">\n",
       "  <thead>\n",
       "    <tr style=\"text-align: right;\">\n",
       "      <th></th>\n",
       "      <th>Indicator</th>\n",
       "      <th>Year</th>\n",
       "      <th>Geography</th>\n",
       "      <th>FIPS</th>\n",
       "      <th>Sex</th>\n",
       "      <th>Cases</th>\n",
       "      <th>Rate per 100000</th>\n",
       "      <th>Percent</th>\n",
       "    </tr>\n",
       "  </thead>\n",
       "  <tbody>\n",
       "    <tr>\n",
       "      <th>0</th>\n",
       "      <td>Receipt of HIV medical care</td>\n",
       "      <td>2020</td>\n",
       "      <td>Abbeville County, SC</td>\n",
       "      <td>45001</td>\n",
       "      <td>Male</td>\n",
       "      <td>39.0</td>\n",
       "      <td>NaN</td>\n",
       "      <td>92.9</td>\n",
       "    </tr>\n",
       "    <tr>\n",
       "      <th>1</th>\n",
       "      <td>Receipt of HIV medical care</td>\n",
       "      <td>2020</td>\n",
       "      <td>Abbeville County, SC</td>\n",
       "      <td>45001</td>\n",
       "      <td>Female</td>\n",
       "      <td>7.0</td>\n",
       "      <td>NaN</td>\n",
       "      <td>63.6</td>\n",
       "    </tr>\n",
       "    <tr>\n",
       "      <th>2</th>\n",
       "      <td>Receipt of HIV medical care</td>\n",
       "      <td>2019</td>\n",
       "      <td>Abbeville County, SC</td>\n",
       "      <td>45001</td>\n",
       "      <td>Male</td>\n",
       "      <td>35.0</td>\n",
       "      <td>NaN</td>\n",
       "      <td>87.5</td>\n",
       "    </tr>\n",
       "    <tr>\n",
       "      <th>3</th>\n",
       "      <td>Receipt of HIV medical care</td>\n",
       "      <td>2019</td>\n",
       "      <td>Abbeville County, SC</td>\n",
       "      <td>45001</td>\n",
       "      <td>Female</td>\n",
       "      <td>10.0</td>\n",
       "      <td>NaN</td>\n",
       "      <td>83.3</td>\n",
       "    </tr>\n",
       "    <tr>\n",
       "      <th>4</th>\n",
       "      <td>Receipt of HIV medical care</td>\n",
       "      <td>2018</td>\n",
       "      <td>Abbeville County, SC</td>\n",
       "      <td>45001</td>\n",
       "      <td>Male</td>\n",
       "      <td>NaN</td>\n",
       "      <td>NaN</td>\n",
       "      <td>NaN</td>\n",
       "    </tr>\n",
       "  </tbody>\n",
       "</table>\n",
       "</div>"
      ],
      "text/plain": [
       "                     Indicator  Year             Geography   FIPS     Sex  \\\n",
       "0  Receipt of HIV medical care  2020  Abbeville County, SC  45001    Male   \n",
       "1  Receipt of HIV medical care  2020  Abbeville County, SC  45001  Female   \n",
       "2  Receipt of HIV medical care  2019  Abbeville County, SC  45001    Male   \n",
       "3  Receipt of HIV medical care  2019  Abbeville County, SC  45001  Female   \n",
       "4  Receipt of HIV medical care  2018  Abbeville County, SC  45001    Male   \n",
       "\n",
       "   Cases Rate per 100000 Percent  \n",
       "0   39.0             NaN    92.9  \n",
       "1    7.0             NaN    63.6  \n",
       "2   35.0             NaN    87.5  \n",
       "3   10.0             NaN    83.3  \n",
       "4    NaN             NaN     NaN  "
      ]
     },
     "execution_count": 188,
     "metadata": {},
     "output_type": "execute_result"
    }
   ],
   "source": [
    "df.head()"
   ]
  },
  {
   "cell_type": "code",
   "execution_count": 191,
   "id": "0b468052-07ea-40da-86de-d3514c70328e",
   "metadata": {},
   "outputs": [
    {
     "data": {
      "text/html": [
       "<div>\n",
       "<style scoped>\n",
       "    .dataframe tbody tr th:only-of-type {\n",
       "        vertical-align: middle;\n",
       "    }\n",
       "\n",
       "    .dataframe tbody tr th {\n",
       "        vertical-align: top;\n",
       "    }\n",
       "\n",
       "    .dataframe thead th {\n",
       "        text-align: right;\n",
       "    }\n",
       "</style>\n",
       "<table border=\"1\" class=\"dataframe\">\n",
       "  <thead>\n",
       "    <tr style=\"text-align: right;\">\n",
       "      <th></th>\n",
       "      <th>Year</th>\n",
       "      <th>Indicator</th>\n",
       "      <th>Cases</th>\n",
       "    </tr>\n",
       "  </thead>\n",
       "  <tbody>\n",
       "    <tr>\n",
       "      <th>0</th>\n",
       "      <td>2017</td>\n",
       "      <td>HIV diagnoses</td>\n",
       "      <td>31452.0</td>\n",
       "    </tr>\n",
       "    <tr>\n",
       "      <th>1</th>\n",
       "      <td>2017</td>\n",
       "      <td>HIV prevalence</td>\n",
       "      <td>946544.0</td>\n",
       "    </tr>\n",
       "    <tr>\n",
       "      <th>2</th>\n",
       "      <td>2017</td>\n",
       "      <td>HIV viral suppression</td>\n",
       "      <td>293738.0</td>\n",
       "    </tr>\n",
       "    <tr>\n",
       "      <th>3</th>\n",
       "      <td>2017</td>\n",
       "      <td>Linkage to HIV care</td>\n",
       "      <td>13620.0</td>\n",
       "    </tr>\n",
       "    <tr>\n",
       "      <th>4</th>\n",
       "      <td>2017</td>\n",
       "      <td>PrEP coverage and number of persons prescribed</td>\n",
       "      <td>96755.0</td>\n",
       "    </tr>\n",
       "  </tbody>\n",
       "</table>\n",
       "</div>"
      ],
      "text/plain": [
       "   Year                                       Indicator     Cases\n",
       "0  2017                                   HIV diagnoses   31452.0\n",
       "1  2017                                  HIV prevalence  946544.0\n",
       "2  2017                           HIV viral suppression  293738.0\n",
       "3  2017                             Linkage to HIV care   13620.0\n",
       "4  2017  PrEP coverage and number of persons prescribed   96755.0"
      ]
     },
     "execution_count": 191,
     "metadata": {},
     "output_type": "execute_result"
    }
   ],
   "source": [
    "df_hiv = df.groupby(['Year','Indicator'])['Cases'].sum().reset_index()\n",
    "df_hiv.head()"
   ]
  },
  {
   "cell_type": "code",
   "execution_count": 194,
   "id": "e8911925-e456-4913-876f-c87926f23f0f",
   "metadata": {},
   "outputs": [
    {
     "data": {
      "image/png": "[encoded data removed]",
      "text/plain": [
       "<Figure size 1080x576 with 1 Axes>"
      ]
     },
     "metadata": {
      "needs_background": "light"
     },
     "output_type": "display_data"
    }
   ],
   "source": [
    "plt.figure(figsize = (15,8))\n",
    "g = sns.barplot(data = df_hiv, x = 'Year', y = 'Cases',hue = 'Indicator')\n",
    "# sns.lineplot(data = df_race[df_race.Indicator == 'Gonorrhea'], x = 'Year', y = 'Cases',marker = \">\")\n",
    "# sns.lineplot(data = df_sum, x = 'year', y = 'cases_Early Non-Primary, Non-Secondary Syphilis',marker = \"<\")\n",
    "# sns.lineplot(data = df_sum, x = 'year', y = 'cases_Primary and Secondary Syphilis', marker = \"|\")\n",
    "g.set_ylabel('Cases')\n",
    "# g.set_xticks(pd.unique(df_race['Year']))\n",
    "# g.set_xticklabels(ax.get_xticklabels(),rotation = 30)\n",
    "# plt.legend(labels=[\"Chlamydia\",\"Gonorrhea\"])\n",
    "plt.savefig('../Output/EDA/cases_hiv.png',dpi=300)\n",
    "# plt.title(\"Cases for Chlamydia\")\n",
    "plt.show()"
   ]
  },
  {
   "cell_type": "code",
   "execution_count": 195,
   "id": "cef7d614-237c-46f8-b114-5dc32f8b7bf1",
   "metadata": {},
   "outputs": [],
   "source": [
    "df_hiv_refine = df_hiv[df_hiv.Indicator == 'HIV diagnoses']"
   ]
  },
  {
   "cell_type": "code",
   "execution_count": 196,
   "id": "2479c124-e4b2-4d81-b415-e21463c980b9",
   "metadata": {},
   "outputs": [
    {
     "data": {
      "text/html": [
       "<div>\n",
       "<style scoped>\n",
       "    .dataframe tbody tr th:only-of-type {\n",
       "        vertical-align: middle;\n",
       "    }\n",
       "\n",
       "    .dataframe tbody tr th {\n",
       "        vertical-align: top;\n",
       "    }\n",
       "\n",
       "    .dataframe thead th {\n",
       "        text-align: right;\n",
       "    }\n",
       "</style>\n",
       "<table border=\"1\" class=\"dataframe\">\n",
       "  <thead>\n",
       "    <tr style=\"text-align: right;\">\n",
       "      <th></th>\n",
       "      <th>Year</th>\n",
       "      <th>Indicator</th>\n",
       "      <th>Cases</th>\n",
       "    </tr>\n",
       "  </thead>\n",
       "  <tbody>\n",
       "    <tr>\n",
       "      <th>0</th>\n",
       "      <td>2017</td>\n",
       "      <td>HIV diagnoses</td>\n",
       "      <td>31452.0</td>\n",
       "    </tr>\n",
       "    <tr>\n",
       "      <th>6</th>\n",
       "      <td>2018</td>\n",
       "      <td>HIV diagnoses</td>\n",
       "      <td>30776.0</td>\n",
       "    </tr>\n",
       "    <tr>\n",
       "      <th>12</th>\n",
       "      <td>2019</td>\n",
       "      <td>HIV diagnoses</td>\n",
       "      <td>29984.0</td>\n",
       "    </tr>\n",
       "    <tr>\n",
       "      <th>18</th>\n",
       "      <td>2020</td>\n",
       "      <td>HIV diagnoses</td>\n",
       "      <td>24250.0</td>\n",
       "    </tr>\n",
       "  </tbody>\n",
       "</table>\n",
       "</div>"
      ],
      "text/plain": [
       "    Year      Indicator    Cases\n",
       "0   2017  HIV diagnoses  31452.0\n",
       "6   2018  HIV diagnoses  30776.0\n",
       "12  2019  HIV diagnoses  29984.0\n",
       "18  2020  HIV diagnoses  24250.0"
      ]
     },
     "execution_count": 196,
     "metadata": {},
     "output_type": "execute_result"
    }
   ],
   "source": [
    "df_hiv_refine"
   ]
  },
  {
   "cell_type": "code",
   "execution_count": 198,
   "id": "205586a4-4c14-433c-b904-a3e96bb3bbc9",
   "metadata": {},
   "outputs": [
    {
     "data": {
      "image/png": "[encoded data removed]",
      "text/plain": [
       "<Figure size 1080x576 with 1 Axes>"
      ]
     },
     "metadata": {
      "needs_background": "light"
     },
     "output_type": "display_data"
    }
   ],
   "source": [
    "plt.figure(figsize = (15,8))\n",
    "g = sns.lineplot(data = df_hiv_refine, x = 'Year', y = 'Cases',marker = \"o\")\n",
    "# sns.lineplot(data = df_race[df_race.Indicator == 'Gonorrhea'], x = 'Year', y = 'Cases',marker = \">\")\n",
    "# sns.lineplot(data = df_sum, x = 'year', y = 'cases_Early Non-Primary, Non-Secondary Syphilis',marker = \"<\")\n",
    "# sns.lineplot(data = df_sum, x = 'year', y = 'cases_Primary and Secondary Syphilis', marker = \"|\")\n",
    "g.set_ylabel('Cases')\n",
    "g.set_xticks(pd.unique(df_hiv['Year']))\n",
    "# g.set_xticklabels(ax.get_xticklabels(),rotation = 30)\n",
    "# plt.legend(labels=[\"Chlamydia\",\"Gonorrhea\"])\n",
    "# plt.savefig('../Output/EDA/cases_hiv.png',dpi=300)\n",
    "# plt.title(\"Cases for Chlamydia\")\n",
    "plt.show()"
   ]
  },
  {
   "cell_type": "markdown",
   "id": "067151b1-4d92-4a80-9dc7-4e3c5d08a0e4",
   "metadata": {},
   "source": [
    "### Counties rate per 1000000 Chlamydia"
   ]
  },
  {
   "cell_type": "code",
   "execution_count": 86,
   "id": "752afbbc-85cf-4c2b-b4ab-b3503899a351",
   "metadata": {},
   "outputs": [],
   "source": [
    "tot_df = []\n",
    "for j,i in enumerate(np.arange(2019, 2021, 1)):\n",
    "    tot_df.append(pd.read_csv('../Data/Raw/CDC/CDCSTDcountysexrace'+ \n",
    "                              str(i) +'.csv', sep = ',', skiprows = 4))\n",
    "df = pd.concat(tot_df, axis = 0)"
   ]
  },
  {
   "cell_type": "code",
   "execution_count": 87,
   "id": "e5b0a7eb-69b8-436c-b60d-039bae6b4b9f",
   "metadata": {},
   "outputs": [],
   "source": [
    "df.loc[df[\"Year\"].str.startswith('2020',na=False), \"Year\"] = \"2020\""
   ]
  },
  {
   "cell_type": "code",
   "execution_count": 88,
   "id": "27a83a8a-f371-4994-9cb7-ce29576dccf7",
   "metadata": {},
   "outputs": [],
   "source": [
    "data_to_be_removed = [\"Cases\",\"Rate per 100000\"]"
   ]
  },
  {
   "cell_type": "code",
   "execution_count": 89,
   "id": "790af2c6-56c0-430d-9eab-b67d5a2e1f7d",
   "metadata": {},
   "outputs": [],
   "source": [
    "for col in data_to_be_removed:\n",
    "    df.loc[df[col].str.contains(\"Data\",na = False), col] = np.nan\n",
    "    df[col] = df[col].str.replace(',','')\n",
    "df[['Cases','Year','Rate per 100000']] = df[['Cases','Year','Rate per 100000']].apply(pd.to_numeric)"
   ]
  },
  {
   "cell_type": "code",
   "execution_count": 90,
   "id": "f2bef6c5-ba31-44d2-9144-b02bd25d77a7",
   "metadata": {},
   "outputs": [
    {
     "data": {
      "text/html": [
       "<div>\n",
       "<style scoped>\n",
       "    .dataframe tbody tr th:only-of-type {\n",
       "        vertical-align: middle;\n",
       "    }\n",
       "\n",
       "    .dataframe tbody tr th {\n",
       "        vertical-align: top;\n",
       "    }\n",
       "\n",
       "    .dataframe thead th {\n",
       "        text-align: right;\n",
       "    }\n",
       "</style>\n",
       "<table border=\"1\" class=\"dataframe\">\n",
       "  <thead>\n",
       "    <tr style=\"text-align: right;\">\n",
       "      <th></th>\n",
       "      <th>Indicator</th>\n",
       "      <th>Year</th>\n",
       "      <th>Geography</th>\n",
       "      <th>FIPS</th>\n",
       "      <th>Race/Ethnicity</th>\n",
       "      <th>Sex</th>\n",
       "      <th>Cases</th>\n",
       "      <th>Rate per 100000</th>\n",
       "    </tr>\n",
       "  </thead>\n",
       "  <tbody>\n",
       "    <tr>\n",
       "      <th>0</th>\n",
       "      <td>Primary and Secondary Syphilis</td>\n",
       "      <td>2019</td>\n",
       "      <td>Abbeville County, SC</td>\n",
       "      <td>45001</td>\n",
       "      <td>White</td>\n",
       "      <td>Male</td>\n",
       "      <td>NaN</td>\n",
       "      <td>NaN</td>\n",
       "    </tr>\n",
       "    <tr>\n",
       "      <th>1</th>\n",
       "      <td>Primary and Secondary Syphilis</td>\n",
       "      <td>2019</td>\n",
       "      <td>Abbeville County, SC</td>\n",
       "      <td>45001</td>\n",
       "      <td>White</td>\n",
       "      <td>Female</td>\n",
       "      <td>NaN</td>\n",
       "      <td>NaN</td>\n",
       "    </tr>\n",
       "    <tr>\n",
       "      <th>2</th>\n",
       "      <td>Primary and Secondary Syphilis</td>\n",
       "      <td>2019</td>\n",
       "      <td>Abbeville County, SC</td>\n",
       "      <td>45001</td>\n",
       "      <td>Unknown</td>\n",
       "      <td>Male</td>\n",
       "      <td>NaN</td>\n",
       "      <td>NaN</td>\n",
       "    </tr>\n",
       "    <tr>\n",
       "      <th>3</th>\n",
       "      <td>Primary and Secondary Syphilis</td>\n",
       "      <td>2019</td>\n",
       "      <td>Abbeville County, SC</td>\n",
       "      <td>45001</td>\n",
       "      <td>Unknown</td>\n",
       "      <td>Female</td>\n",
       "      <td>NaN</td>\n",
       "      <td>NaN</td>\n",
       "    </tr>\n",
       "    <tr>\n",
       "      <th>4</th>\n",
       "      <td>Primary and Secondary Syphilis</td>\n",
       "      <td>2019</td>\n",
       "      <td>Abbeville County, SC</td>\n",
       "      <td>45001</td>\n",
       "      <td>Native Hawaiian/Other Pacific Islander</td>\n",
       "      <td>Male</td>\n",
       "      <td>NaN</td>\n",
       "      <td>NaN</td>\n",
       "    </tr>\n",
       "  </tbody>\n",
       "</table>\n",
       "</div>"
      ],
      "text/plain": [
       "                        Indicator  Year             Geography   FIPS  \\\n",
       "0  Primary and Secondary Syphilis  2019  Abbeville County, SC  45001   \n",
       "1  Primary and Secondary Syphilis  2019  Abbeville County, SC  45001   \n",
       "2  Primary and Secondary Syphilis  2019  Abbeville County, SC  45001   \n",
       "3  Primary and Secondary Syphilis  2019  Abbeville County, SC  45001   \n",
       "4  Primary and Secondary Syphilis  2019  Abbeville County, SC  45001   \n",
       "\n",
       "                           Race/Ethnicity     Sex  Cases  Rate per 100000  \n",
       "0                                   White    Male    NaN              NaN  \n",
       "1                                   White  Female    NaN              NaN  \n",
       "2                                 Unknown    Male    NaN              NaN  \n",
       "3                                 Unknown  Female    NaN              NaN  \n",
       "4  Native Hawaiian/Other Pacific Islander    Male    NaN              NaN  "
      ]
     },
     "execution_count": 90,
     "metadata": {},
     "output_type": "execute_result"
    }
   ],
   "source": [
    "df.head()"
   ]
  },
  {
   "cell_type": "code",
   "execution_count": 91,
   "id": "477fedcc-c334-4e94-8175-2e1ffe7c05dc",
   "metadata": {},
   "outputs": [],
   "source": [
    "searchfor = ['Chlamydia']\n",
    "df_refine = df[df.Indicator.str.contains('|'.join(searchfor))]"
   ]
  },
  {
   "cell_type": "code",
   "execution_count": 92,
   "id": "627d0973-bbe3-49f2-ad8c-4cd3ba5680ee",
   "metadata": {},
   "outputs": [
    {
     "data": {
      "text/html": [
       "<div>\n",
       "<style scoped>\n",
       "    .dataframe tbody tr th:only-of-type {\n",
       "        vertical-align: middle;\n",
       "    }\n",
       "\n",
       "    .dataframe tbody tr th {\n",
       "        vertical-align: top;\n",
       "    }\n",
       "\n",
       "    .dataframe thead th {\n",
       "        text-align: right;\n",
       "    }\n",
       "</style>\n",
       "<table border=\"1\" class=\"dataframe\">\n",
       "  <thead>\n",
       "    <tr style=\"text-align: right;\">\n",
       "      <th></th>\n",
       "      <th>Year</th>\n",
       "      <th>FIPS</th>\n",
       "      <th>Rate per 100000</th>\n",
       "    </tr>\n",
       "  </thead>\n",
       "  <tbody>\n",
       "    <tr>\n",
       "      <th>0</th>\n",
       "      <td>2019</td>\n",
       "      <td>1001</td>\n",
       "      <td>157.507143</td>\n",
       "    </tr>\n",
       "    <tr>\n",
       "      <th>1</th>\n",
       "      <td>2019</td>\n",
       "      <td>1003</td>\n",
       "      <td>59.585714</td>\n",
       "    </tr>\n",
       "    <tr>\n",
       "      <th>2</th>\n",
       "      <td>2019</td>\n",
       "      <td>1005</td>\n",
       "      <td>769.692857</td>\n",
       "    </tr>\n",
       "    <tr>\n",
       "      <th>3</th>\n",
       "      <td>2019</td>\n",
       "      <td>1007</td>\n",
       "      <td>134.221429</td>\n",
       "    </tr>\n",
       "    <tr>\n",
       "      <th>4</th>\n",
       "      <td>2019</td>\n",
       "      <td>1009</td>\n",
       "      <td>0.000000</td>\n",
       "    </tr>\n",
       "  </tbody>\n",
       "</table>\n",
       "</div>"
      ],
      "text/plain": [
       "   Year  FIPS  Rate per 100000\n",
       "0  2019  1001       157.507143\n",
       "1  2019  1003        59.585714\n",
       "2  2019  1005       769.692857\n",
       "3  2019  1007       134.221429\n",
       "4  2019  1009         0.000000"
      ]
     },
     "execution_count": 92,
     "metadata": {},
     "output_type": "execute_result"
    }
   ],
   "source": [
    "df_race = df_refine.groupby(['Year','FIPS'])['Rate per 100000'].mean().reset_index()\n",
    "df_race.head()"
   ]
  },
  {
   "cell_type": "code",
   "execution_count": 93,
   "id": "cb316c99-2566-4df3-9c32-7b9e833b88b3",
   "metadata": {},
   "outputs": [
    {
     "data": {
      "text/html": [
       "<div>\n",
       "<style scoped>\n",
       "    .dataframe tbody tr th:only-of-type {\n",
       "        vertical-align: middle;\n",
       "    }\n",
       "\n",
       "    .dataframe tbody tr th {\n",
       "        vertical-align: top;\n",
       "    }\n",
       "\n",
       "    .dataframe thead tr th {\n",
       "        text-align: left;\n",
       "    }\n",
       "</style>\n",
       "<table border=\"1\" class=\"dataframe\">\n",
       "  <thead>\n",
       "    <tr>\n",
       "      <th></th>\n",
       "      <th>FIPS</th>\n",
       "      <th colspan=\"2\" halign=\"left\">Rate per 100000</th>\n",
       "    </tr>\n",
       "    <tr>\n",
       "      <th>Year</th>\n",
       "      <th></th>\n",
       "      <th>2019</th>\n",
       "      <th>2020</th>\n",
       "    </tr>\n",
       "  </thead>\n",
       "  <tbody>\n",
       "    <tr>\n",
       "      <th>0</th>\n",
       "      <td>1001</td>\n",
       "      <td>157.507143</td>\n",
       "      <td>263.0700</td>\n",
       "    </tr>\n",
       "    <tr>\n",
       "      <th>1</th>\n",
       "      <td>1003</td>\n",
       "      <td>59.585714</td>\n",
       "      <td>NaN</td>\n",
       "    </tr>\n",
       "    <tr>\n",
       "      <th>2</th>\n",
       "      <td>1005</td>\n",
       "      <td>769.692857</td>\n",
       "      <td>154.3500</td>\n",
       "    </tr>\n",
       "    <tr>\n",
       "      <th>3</th>\n",
       "      <td>1007</td>\n",
       "      <td>134.221429</td>\n",
       "      <td>106.8500</td>\n",
       "    </tr>\n",
       "    <tr>\n",
       "      <th>4</th>\n",
       "      <td>1009</td>\n",
       "      <td>0.000000</td>\n",
       "      <td>84.0625</td>\n",
       "    </tr>\n",
       "  </tbody>\n",
       "</table>\n",
       "</div>"
      ],
      "text/plain": [
       "      FIPS Rate per 100000          \n",
       "Year                  2019      2020\n",
       "0     1001      157.507143  263.0700\n",
       "1     1003       59.585714       NaN\n",
       "2     1005      769.692857  154.3500\n",
       "3     1007      134.221429  106.8500\n",
       "4     1009        0.000000   84.0625"
      ]
     },
     "execution_count": 93,
     "metadata": {},
     "output_type": "execute_result"
    }
   ],
   "source": [
    "df = df_race.pivot_table(index=['FIPS'], columns=['Year']).reset_index()\n",
    "# df.columns = df.columns.map('_'.join).str.strip('_')\n",
    "df.head()"
   ]
  },
  {
   "cell_type": "code",
   "execution_count": 94,
   "id": "8c51a423-644d-4f58-821f-fb3c7712ecaa",
   "metadata": {},
   "outputs": [],
   "source": [
    "df['diff_rate'] = df['Rate per 100000'][2020] -df['Rate per 100000'][2019]"
   ]
  },
  {
   "cell_type": "code",
   "execution_count": 95,
   "id": "ee3790b5-2f47-4c78-b083-56c72e075717",
   "metadata": {},
   "outputs": [
    {
     "data": {
      "text/html": [
       "<div>\n",
       "<style scoped>\n",
       "    .dataframe tbody tr th:only-of-type {\n",
       "        vertical-align: middle;\n",
       "    }\n",
       "\n",
       "    .dataframe tbody tr th {\n",
       "        vertical-align: top;\n",
       "    }\n",
       "\n",
       "    .dataframe thead tr th {\n",
       "        text-align: left;\n",
       "    }\n",
       "</style>\n",
       "<table border=\"1\" class=\"dataframe\">\n",
       "  <thead>\n",
       "    <tr>\n",
       "      <th></th>\n",
       "      <th>FIPS</th>\n",
       "      <th colspan=\"2\" halign=\"left\">Rate per 100000</th>\n",
       "      <th>diff_rate</th>\n",
       "    </tr>\n",
       "    <tr>\n",
       "      <th>Year</th>\n",
       "      <th></th>\n",
       "      <th>2019</th>\n",
       "      <th>2020</th>\n",
       "      <th></th>\n",
       "    </tr>\n",
       "  </thead>\n",
       "  <tbody>\n",
       "    <tr>\n",
       "      <th>0</th>\n",
       "      <td>1001</td>\n",
       "      <td>157.507143</td>\n",
       "      <td>263.0700</td>\n",
       "      <td>105.562857</td>\n",
       "    </tr>\n",
       "    <tr>\n",
       "      <th>1</th>\n",
       "      <td>1003</td>\n",
       "      <td>59.585714</td>\n",
       "      <td>NaN</td>\n",
       "      <td>NaN</td>\n",
       "    </tr>\n",
       "    <tr>\n",
       "      <th>2</th>\n",
       "      <td>1005</td>\n",
       "      <td>769.692857</td>\n",
       "      <td>154.3500</td>\n",
       "      <td>-615.342857</td>\n",
       "    </tr>\n",
       "    <tr>\n",
       "      <th>3</th>\n",
       "      <td>1007</td>\n",
       "      <td>134.221429</td>\n",
       "      <td>106.8500</td>\n",
       "      <td>-27.371429</td>\n",
       "    </tr>\n",
       "    <tr>\n",
       "      <th>4</th>\n",
       "      <td>1009</td>\n",
       "      <td>0.000000</td>\n",
       "      <td>84.0625</td>\n",
       "      <td>84.062500</td>\n",
       "    </tr>\n",
       "  </tbody>\n",
       "</table>\n",
       "</div>"
      ],
      "text/plain": [
       "      FIPS Rate per 100000             diff_rate\n",
       "Year                  2019      2020            \n",
       "0     1001      157.507143  263.0700  105.562857\n",
       "1     1003       59.585714       NaN         NaN\n",
       "2     1005      769.692857  154.3500 -615.342857\n",
       "3     1007      134.221429  106.8500  -27.371429\n",
       "4     1009        0.000000   84.0625   84.062500"
      ]
     },
     "execution_count": 95,
     "metadata": {},
     "output_type": "execute_result"
    }
   ],
   "source": [
    "df.head()"
   ]
  },
  {
   "cell_type": "code",
   "execution_count": 109,
   "id": "e389a4c9-d08a-4439-b7ae-c75eb9b8aab4",
   "metadata": {},
   "outputs": [
    {
     "data": {
      "image/png": "[encoded data removed]",
      "text/plain": [
       "<Figure size 1080x576 with 1 Axes>"
      ]
     },
     "metadata": {
      "needs_background": "light"
     },
     "output_type": "display_data"
    }
   ],
   "source": [
    "plt.figure(figsize = (15,8))\n",
    "g = sns.kdeplot(data = df,x = \"diff_rate\")\n",
    "plt.title(\"Chlamydia\")\n",
    "plt.savefig(\"../Output/EDA/Chlamydia_rate_diff_kernel.png\",dpi = 300)\n",
    "# plt.axhline(y=0,c=\"black\")\n",
    "plt.show()"
   ]
  },
  {
   "cell_type": "markdown",
   "id": "ca83db28-4019-4804-8abe-e0bc2c7a2608",
   "metadata": {},
   "source": [
    "### Counties rate per 1000000 Gonorrhea"
   ]
  },
  {
   "cell_type": "code",
   "execution_count": 110,
   "id": "3bed8242-c944-49c6-8376-4f02f24a6fa7",
   "metadata": {},
   "outputs": [],
   "source": [
    "tot_df = []\n",
    "for j,i in enumerate(np.arange(2019, 2021, 1)):\n",
    "    tot_df.append(pd.read_csv('../Data/Raw/CDC/CDCSTDcountysexrace'+ \n",
    "                              str(i) +'.csv', sep = ',', skiprows = 4))\n",
    "df = pd.concat(tot_df, axis = 0)"
   ]
  },
  {
   "cell_type": "code",
   "execution_count": 111,
   "id": "1dba5e01-01ee-4d3d-8dd0-552ffaf5ae94",
   "metadata": {},
   "outputs": [],
   "source": [
    "df.loc[df[\"Year\"].str.startswith('2020',na=False), \"Year\"] = \"2020\""
   ]
  },
  {
   "cell_type": "code",
   "execution_count": 112,
   "id": "2da92713-860e-46b1-bc37-f80c52116b6f",
   "metadata": {},
   "outputs": [],
   "source": [
    "data_to_be_removed = [\"Cases\",\"Rate per 100000\"]"
   ]
  },
  {
   "cell_type": "code",
   "execution_count": 113,
   "id": "0ad9b772-999a-40cc-88cb-c5732e07d845",
   "metadata": {},
   "outputs": [],
   "source": [
    "for col in data_to_be_removed:\n",
    "    df.loc[df[col].str.contains(\"Data\",na = False), col] = np.nan\n",
    "    df[col] = df[col].str.replace(',','')\n",
    "df[['Cases','Year','Rate per 100000']] = df[['Cases','Year','Rate per 100000']].apply(pd.to_numeric)"
   ]
  },
  {
   "cell_type": "code",
   "execution_count": 114,
   "id": "abe5af53-0baa-481f-a82e-c51a662123cd",
   "metadata": {},
   "outputs": [
    {
     "data": {
      "text/html": [
       "<div>\n",
       "<style scoped>\n",
       "    .dataframe tbody tr th:only-of-type {\n",
       "        vertical-align: middle;\n",
       "    }\n",
       "\n",
       "    .dataframe tbody tr th {\n",
       "        vertical-align: top;\n",
       "    }\n",
       "\n",
       "    .dataframe thead th {\n",
       "        text-align: right;\n",
       "    }\n",
       "</style>\n",
       "<table border=\"1\" class=\"dataframe\">\n",
       "  <thead>\n",
       "    <tr style=\"text-align: right;\">\n",
       "      <th></th>\n",
       "      <th>Indicator</th>\n",
       "      <th>Year</th>\n",
       "      <th>Geography</th>\n",
       "      <th>FIPS</th>\n",
       "      <th>Race/Ethnicity</th>\n",
       "      <th>Sex</th>\n",
       "      <th>Cases</th>\n",
       "      <th>Rate per 100000</th>\n",
       "    </tr>\n",
       "  </thead>\n",
       "  <tbody>\n",
       "    <tr>\n",
       "      <th>0</th>\n",
       "      <td>Primary and Secondary Syphilis</td>\n",
       "      <td>2019</td>\n",
       "      <td>Abbeville County, SC</td>\n",
       "      <td>45001</td>\n",
       "      <td>White</td>\n",
       "      <td>Male</td>\n",
       "      <td>NaN</td>\n",
       "      <td>NaN</td>\n",
       "    </tr>\n",
       "    <tr>\n",
       "      <th>1</th>\n",
       "      <td>Primary and Secondary Syphilis</td>\n",
       "      <td>2019</td>\n",
       "      <td>Abbeville County, SC</td>\n",
       "      <td>45001</td>\n",
       "      <td>White</td>\n",
       "      <td>Female</td>\n",
       "      <td>NaN</td>\n",
       "      <td>NaN</td>\n",
       "    </tr>\n",
       "    <tr>\n",
       "      <th>2</th>\n",
       "      <td>Primary and Secondary Syphilis</td>\n",
       "      <td>2019</td>\n",
       "      <td>Abbeville County, SC</td>\n",
       "      <td>45001</td>\n",
       "      <td>Unknown</td>\n",
       "      <td>Male</td>\n",
       "      <td>NaN</td>\n",
       "      <td>NaN</td>\n",
       "    </tr>\n",
       "    <tr>\n",
       "      <th>3</th>\n",
       "      <td>Primary and Secondary Syphilis</td>\n",
       "      <td>2019</td>\n",
       "      <td>Abbeville County, SC</td>\n",
       "      <td>45001</td>\n",
       "      <td>Unknown</td>\n",
       "      <td>Female</td>\n",
       "      <td>NaN</td>\n",
       "      <td>NaN</td>\n",
       "    </tr>\n",
       "    <tr>\n",
       "      <th>4</th>\n",
       "      <td>Primary and Secondary Syphilis</td>\n",
       "      <td>2019</td>\n",
       "      <td>Abbeville County, SC</td>\n",
       "      <td>45001</td>\n",
       "      <td>Native Hawaiian/Other Pacific Islander</td>\n",
       "      <td>Male</td>\n",
       "      <td>NaN</td>\n",
       "      <td>NaN</td>\n",
       "    </tr>\n",
       "  </tbody>\n",
       "</table>\n",
       "</div>"
      ],
      "text/plain": [
       "                        Indicator  Year             Geography   FIPS  \\\n",
       "0  Primary and Secondary Syphilis  2019  Abbeville County, SC  45001   \n",
       "1  Primary and Secondary Syphilis  2019  Abbeville County, SC  45001   \n",
       "2  Primary and Secondary Syphilis  2019  Abbeville County, SC  45001   \n",
       "3  Primary and Secondary Syphilis  2019  Abbeville County, SC  45001   \n",
       "4  Primary and Secondary Syphilis  2019  Abbeville County, SC  45001   \n",
       "\n",
       "                           Race/Ethnicity     Sex  Cases  Rate per 100000  \n",
       "0                                   White    Male    NaN              NaN  \n",
       "1                                   White  Female    NaN              NaN  \n",
       "2                                 Unknown    Male    NaN              NaN  \n",
       "3                                 Unknown  Female    NaN              NaN  \n",
       "4  Native Hawaiian/Other Pacific Islander    Male    NaN              NaN  "
      ]
     },
     "execution_count": 114,
     "metadata": {},
     "output_type": "execute_result"
    }
   ],
   "source": [
    "df.head()"
   ]
  },
  {
   "cell_type": "code",
   "execution_count": 115,
   "id": "f5d34636-3821-40da-bb59-62aeb06e4054",
   "metadata": {},
   "outputs": [],
   "source": [
    "searchfor = ['Gonorrhea']\n",
    "df_refine = df[df.Indicator.str.contains('|'.join(searchfor))]"
   ]
  },
  {
   "cell_type": "code",
   "execution_count": 116,
   "id": "c8ffb8c2-da21-478f-b16e-2e997ff22ae6",
   "metadata": {},
   "outputs": [
    {
     "data": {
      "text/html": [
       "<div>\n",
       "<style scoped>\n",
       "    .dataframe tbody tr th:only-of-type {\n",
       "        vertical-align: middle;\n",
       "    }\n",
       "\n",
       "    .dataframe tbody tr th {\n",
       "        vertical-align: top;\n",
       "    }\n",
       "\n",
       "    .dataframe thead th {\n",
       "        text-align: right;\n",
       "    }\n",
       "</style>\n",
       "<table border=\"1\" class=\"dataframe\">\n",
       "  <thead>\n",
       "    <tr style=\"text-align: right;\">\n",
       "      <th></th>\n",
       "      <th>Year</th>\n",
       "      <th>FIPS</th>\n",
       "      <th>Rate per 100000</th>\n",
       "    </tr>\n",
       "  </thead>\n",
       "  <tbody>\n",
       "    <tr>\n",
       "      <th>0</th>\n",
       "      <td>2019</td>\n",
       "      <td>1001</td>\n",
       "      <td>82.392857</td>\n",
       "    </tr>\n",
       "    <tr>\n",
       "      <th>1</th>\n",
       "      <td>2019</td>\n",
       "      <td>1003</td>\n",
       "      <td>16.285714</td>\n",
       "    </tr>\n",
       "    <tr>\n",
       "      <th>2</th>\n",
       "      <td>2019</td>\n",
       "      <td>1005</td>\n",
       "      <td>230.435714</td>\n",
       "    </tr>\n",
       "    <tr>\n",
       "      <th>3</th>\n",
       "      <td>2019</td>\n",
       "      <td>1007</td>\n",
       "      <td>36.364286</td>\n",
       "    </tr>\n",
       "    <tr>\n",
       "      <th>4</th>\n",
       "      <td>2019</td>\n",
       "      <td>1009</td>\n",
       "      <td>124.871429</td>\n",
       "    </tr>\n",
       "  </tbody>\n",
       "</table>\n",
       "</div>"
      ],
      "text/plain": [
       "   Year  FIPS  Rate per 100000\n",
       "0  2019  1001        82.392857\n",
       "1  2019  1003        16.285714\n",
       "2  2019  1005       230.435714\n",
       "3  2019  1007        36.364286\n",
       "4  2019  1009       124.871429"
      ]
     },
     "execution_count": 116,
     "metadata": {},
     "output_type": "execute_result"
    }
   ],
   "source": [
    "df_race = df_refine.groupby(['Year','FIPS'])['Rate per 100000'].mean().reset_index()\n",
    "df_race.head()"
   ]
  },
  {
   "cell_type": "code",
   "execution_count": 117,
   "id": "f8ae537b-f00f-4ece-8bc5-8ecd27f5caa3",
   "metadata": {},
   "outputs": [
    {
     "data": {
      "text/html": [
       "<div>\n",
       "<style scoped>\n",
       "    .dataframe tbody tr th:only-of-type {\n",
       "        vertical-align: middle;\n",
       "    }\n",
       "\n",
       "    .dataframe tbody tr th {\n",
       "        vertical-align: top;\n",
       "    }\n",
       "\n",
       "    .dataframe thead tr th {\n",
       "        text-align: left;\n",
       "    }\n",
       "</style>\n",
       "<table border=\"1\" class=\"dataframe\">\n",
       "  <thead>\n",
       "    <tr>\n",
       "      <th></th>\n",
       "      <th>FIPS</th>\n",
       "      <th colspan=\"2\" halign=\"left\">Rate per 100000</th>\n",
       "    </tr>\n",
       "    <tr>\n",
       "      <th>Year</th>\n",
       "      <th></th>\n",
       "      <th>2019</th>\n",
       "      <th>2020</th>\n",
       "    </tr>\n",
       "  </thead>\n",
       "  <tbody>\n",
       "    <tr>\n",
       "      <th>0</th>\n",
       "      <td>1001</td>\n",
       "      <td>82.392857</td>\n",
       "      <td>16.400000</td>\n",
       "    </tr>\n",
       "    <tr>\n",
       "      <th>1</th>\n",
       "      <td>1003</td>\n",
       "      <td>16.285714</td>\n",
       "      <td>37.278571</td>\n",
       "    </tr>\n",
       "    <tr>\n",
       "      <th>2</th>\n",
       "      <td>1005</td>\n",
       "      <td>230.435714</td>\n",
       "      <td>6.960000</td>\n",
       "    </tr>\n",
       "    <tr>\n",
       "      <th>3</th>\n",
       "      <td>1007</td>\n",
       "      <td>36.364286</td>\n",
       "      <td>133.320000</td>\n",
       "    </tr>\n",
       "    <tr>\n",
       "      <th>4</th>\n",
       "      <td>1009</td>\n",
       "      <td>124.871429</td>\n",
       "      <td>10.170000</td>\n",
       "    </tr>\n",
       "  </tbody>\n",
       "</table>\n",
       "</div>"
      ],
      "text/plain": [
       "      FIPS Rate per 100000            \n",
       "Year                  2019        2020\n",
       "0     1001       82.392857   16.400000\n",
       "1     1003       16.285714   37.278571\n",
       "2     1005      230.435714    6.960000\n",
       "3     1007       36.364286  133.320000\n",
       "4     1009      124.871429   10.170000"
      ]
     },
     "execution_count": 117,
     "metadata": {},
     "output_type": "execute_result"
    }
   ],
   "source": [
    "df = df_race.pivot_table(index=['FIPS'], columns=['Year']).reset_index()\n",
    "# df.columns = df.columns.map('_'.join).str.strip('_')\n",
    "df.head()"
   ]
  },
  {
   "cell_type": "code",
   "execution_count": 118,
   "id": "68a970d0-cfe5-478b-a227-82d86a09d56b",
   "metadata": {},
   "outputs": [],
   "source": [
    "df['diff_rate'] = df['Rate per 100000'][2020] -df['Rate per 100000'][2019]"
   ]
  },
  {
   "cell_type": "code",
   "execution_count": 119,
   "id": "c2491b15-5105-4897-9286-7939dcac3788",
   "metadata": {},
   "outputs": [
    {
     "data": {
      "text/html": [
       "<div>\n",
       "<style scoped>\n",
       "    .dataframe tbody tr th:only-of-type {\n",
       "        vertical-align: middle;\n",
       "    }\n",
       "\n",
       "    .dataframe tbody tr th {\n",
       "        vertical-align: top;\n",
       "    }\n",
       "\n",
       "    .dataframe thead tr th {\n",
       "        text-align: left;\n",
       "    }\n",
       "</style>\n",
       "<table border=\"1\" class=\"dataframe\">\n",
       "  <thead>\n",
       "    <tr>\n",
       "      <th></th>\n",
       "      <th>FIPS</th>\n",
       "      <th colspan=\"2\" halign=\"left\">Rate per 100000</th>\n",
       "      <th>diff_rate</th>\n",
       "    </tr>\n",
       "    <tr>\n",
       "      <th>Year</th>\n",
       "      <th></th>\n",
       "      <th>2019</th>\n",
       "      <th>2020</th>\n",
       "      <th></th>\n",
       "    </tr>\n",
       "  </thead>\n",
       "  <tbody>\n",
       "    <tr>\n",
       "      <th>0</th>\n",
       "      <td>1001</td>\n",
       "      <td>82.392857</td>\n",
       "      <td>16.400000</td>\n",
       "      <td>-65.992857</td>\n",
       "    </tr>\n",
       "    <tr>\n",
       "      <th>1</th>\n",
       "      <td>1003</td>\n",
       "      <td>16.285714</td>\n",
       "      <td>37.278571</td>\n",
       "      <td>20.992857</td>\n",
       "    </tr>\n",
       "    <tr>\n",
       "      <th>2</th>\n",
       "      <td>1005</td>\n",
       "      <td>230.435714</td>\n",
       "      <td>6.960000</td>\n",
       "      <td>-223.475714</td>\n",
       "    </tr>\n",
       "    <tr>\n",
       "      <th>3</th>\n",
       "      <td>1007</td>\n",
       "      <td>36.364286</td>\n",
       "      <td>133.320000</td>\n",
       "      <td>96.955714</td>\n",
       "    </tr>\n",
       "    <tr>\n",
       "      <th>4</th>\n",
       "      <td>1009</td>\n",
       "      <td>124.871429</td>\n",
       "      <td>10.170000</td>\n",
       "      <td>-114.701429</td>\n",
       "    </tr>\n",
       "  </tbody>\n",
       "</table>\n",
       "</div>"
      ],
      "text/plain": [
       "      FIPS Rate per 100000               diff_rate\n",
       "Year                  2019        2020            \n",
       "0     1001       82.392857   16.400000  -65.992857\n",
       "1     1003       16.285714   37.278571   20.992857\n",
       "2     1005      230.435714    6.960000 -223.475714\n",
       "3     1007       36.364286  133.320000   96.955714\n",
       "4     1009      124.871429   10.170000 -114.701429"
      ]
     },
     "execution_count": 119,
     "metadata": {},
     "output_type": "execute_result"
    }
   ],
   "source": [
    "df.head()"
   ]
  },
  {
   "cell_type": "code",
   "execution_count": 120,
   "id": "c6fa2b11-fabf-415b-835f-5bf3ebc7e6b8",
   "metadata": {},
   "outputs": [
    {
     "data": {
      "image/png": "[encoded data removed]",
      "text/plain": [
       "<Figure size 1080x576 with 1 Axes>"
      ]
     },
     "metadata": {
      "needs_background": "light"
     },
     "output_type": "display_data"
    }
   ],
   "source": [
    "plt.figure(figsize = (15,8))\n",
    "g = sns.kdeplot(data = df,x = \"diff_rate\")\n",
    "plt.title(\"Gonorrhea\")\n",
    "plt.savefig(\"../Output/EDA/Gonorrhea_rate_diff_kernel.png\",dpi = 300)\n",
    "# plt.axhline(y=0,c=\"black\")\n",
    "plt.show()"
   ]
  },
  {
   "cell_type": "code",
   "execution_count": null,
   "id": "977fa2ec-e04e-4919-a53d-7fdad231722b",
   "metadata": {},
   "outputs": [],
   "source": []
  }
 ],
 "metadata": {
  "kernelspec": {
   "display_name": "Python 3 (ipykernel)",
   "language": "python",
   "name": "python3"
  },
  "language_info": {
   "codemirror_mode": {
    "name": "ipython",
    "version": 3
   },
   "file_extension": ".py",
   "mimetype": "text/x-python",
   "name": "python",
   "nbconvert_exporter": "python",
   "pygments_lexer": "ipython3",
   "version": "3.9.13"
  }
 },
 "nbformat": 4,
 "nbformat_minor": 5
}
