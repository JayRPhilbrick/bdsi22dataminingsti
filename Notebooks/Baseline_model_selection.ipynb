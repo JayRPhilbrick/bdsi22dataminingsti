{
 "cells": [
  {
   "cell_type": "code",
   "execution_count": 5,
   "id": "d2b35ea9-cc3b-4da0-87fd-0b3e277af7a1",
   "metadata": {},
   "outputs": [],
   "source": [
    "import pandas as pd\n",
    "import numpy as np"
   ]
  },
  {
   "cell_type": "code",
   "execution_count": 6,
   "id": "e0c5de7e-b974-44d6-b324-45b62ee9516a",
   "metadata": {},
   "outputs": [],
   "source": [
    "data = pd.read_csv(\"../Data/clean/CDC/CDCSTDoverall2000_2020_clean.csv\")"
   ]
  },
  {
   "cell_type": "code",
   "execution_count": 7,
   "id": "d7096201-653a-4540-9a95-d3734a8298b7",
   "metadata": {},
   "outputs": [
    {
     "data": {
      "text/html": [
       "<div>\n",
       "<style scoped>\n",
       "    .dataframe tbody tr th:only-of-type {\n",
       "        vertical-align: middle;\n",
       "    }\n",
       "\n",
       "    .dataframe tbody tr th {\n",
       "        vertical-align: top;\n",
       "    }\n",
       "\n",
       "    .dataframe thead th {\n",
       "        text-align: right;\n",
       "    }\n",
       "</style>\n",
       "<table border=\"1\" class=\"dataframe\">\n",
       "  <thead>\n",
       "    <tr style=\"text-align: right;\">\n",
       "      <th></th>\n",
       "      <th>Unnamed: 0.1</th>\n",
       "      <th>year</th>\n",
       "      <th>geography</th>\n",
       "      <th>fips</th>\n",
       "      <th>cases_chlamydia</th>\n",
       "      <th>cases_early_non-primary_non-secondary_syphilis</th>\n",
       "      <th>cases_gonorrhea</th>\n",
       "      <th>cases_primary_and_secondary_syphilis</th>\n",
       "      <th>rate_per_100000_chlamydia</th>\n",
       "      <th>rate_per_100000_early_non-primary_non-secondary_syphilis</th>\n",
       "      <th>...</th>\n",
       "      <th>rate_per_100000_male_gonorrhea_multiracial</th>\n",
       "      <th>rate_per_100000_male_gonorrhea_native_hawaiian_other_pacific_islander</th>\n",
       "      <th>rate_per_100000_male_gonorrhea_white</th>\n",
       "      <th>rate_per_100000_male_primary_and_secondary_syphilis_american_indian_alaska_native</th>\n",
       "      <th>rate_per_100000_male_primary_and_secondary_syphilis_asian</th>\n",
       "      <th>rate_per_100000_male_primary_and_secondary_syphilis_black_african_american</th>\n",
       "      <th>rate_per_100000_male_primary_and_secondary_syphilis_hispanic_latino</th>\n",
       "      <th>rate_per_100000_male_primary_and_secondary_syphilis_multiracial</th>\n",
       "      <th>rate_per_100000_male_primary_and_secondary_syphilis_native_hawaiian_other_pacific_islander</th>\n",
       "      <th>rate_per_100000_male_primary_and_secondary_syphilis_white</th>\n",
       "    </tr>\n",
       "  </thead>\n",
       "  <tbody>\n",
       "    <tr>\n",
       "      <th>0</th>\n",
       "      <td>0</td>\n",
       "      <td>2000</td>\n",
       "      <td>Abbeville County, SC</td>\n",
       "      <td>45001</td>\n",
       "      <td>61.0</td>\n",
       "      <td>1.0</td>\n",
       "      <td>57.0</td>\n",
       "      <td>2.0</td>\n",
       "      <td>232.6</td>\n",
       "      <td>3.8</td>\n",
       "      <td>...</td>\n",
       "      <td>NaN</td>\n",
       "      <td>NaN</td>\n",
       "      <td>NaN</td>\n",
       "      <td>NaN</td>\n",
       "      <td>NaN</td>\n",
       "      <td>NaN</td>\n",
       "      <td>NaN</td>\n",
       "      <td>NaN</td>\n",
       "      <td>NaN</td>\n",
       "      <td>NaN</td>\n",
       "    </tr>\n",
       "    <tr>\n",
       "      <th>1</th>\n",
       "      <td>1</td>\n",
       "      <td>2000</td>\n",
       "      <td>Acadia Parish, LA</td>\n",
       "      <td>22001</td>\n",
       "      <td>0.0</td>\n",
       "      <td>8.0</td>\n",
       "      <td>0.0</td>\n",
       "      <td>11.0</td>\n",
       "      <td>0.0</td>\n",
       "      <td>13.6</td>\n",
       "      <td>...</td>\n",
       "      <td>NaN</td>\n",
       "      <td>NaN</td>\n",
       "      <td>NaN</td>\n",
       "      <td>NaN</td>\n",
       "      <td>NaN</td>\n",
       "      <td>NaN</td>\n",
       "      <td>NaN</td>\n",
       "      <td>NaN</td>\n",
       "      <td>NaN</td>\n",
       "      <td>NaN</td>\n",
       "    </tr>\n",
       "    <tr>\n",
       "      <th>2</th>\n",
       "      <td>2</td>\n",
       "      <td>2000</td>\n",
       "      <td>Accomack County, VA</td>\n",
       "      <td>51001</td>\n",
       "      <td>153.0</td>\n",
       "      <td>2.0</td>\n",
       "      <td>88.0</td>\n",
       "      <td>0.0</td>\n",
       "      <td>398.7</td>\n",
       "      <td>5.2</td>\n",
       "      <td>...</td>\n",
       "      <td>NaN</td>\n",
       "      <td>NaN</td>\n",
       "      <td>NaN</td>\n",
       "      <td>NaN</td>\n",
       "      <td>NaN</td>\n",
       "      <td>NaN</td>\n",
       "      <td>NaN</td>\n",
       "      <td>NaN</td>\n",
       "      <td>NaN</td>\n",
       "      <td>NaN</td>\n",
       "    </tr>\n",
       "    <tr>\n",
       "      <th>3</th>\n",
       "      <td>3</td>\n",
       "      <td>2000</td>\n",
       "      <td>Ada County, ID</td>\n",
       "      <td>16001</td>\n",
       "      <td>644.0</td>\n",
       "      <td>0.0</td>\n",
       "      <td>33.0</td>\n",
       "      <td>1.0</td>\n",
       "      <td>212.3</td>\n",
       "      <td>0.0</td>\n",
       "      <td>...</td>\n",
       "      <td>NaN</td>\n",
       "      <td>NaN</td>\n",
       "      <td>NaN</td>\n",
       "      <td>NaN</td>\n",
       "      <td>NaN</td>\n",
       "      <td>NaN</td>\n",
       "      <td>NaN</td>\n",
       "      <td>NaN</td>\n",
       "      <td>NaN</td>\n",
       "      <td>NaN</td>\n",
       "    </tr>\n",
       "    <tr>\n",
       "      <th>4</th>\n",
       "      <td>4</td>\n",
       "      <td>2000</td>\n",
       "      <td>Adair County, IA</td>\n",
       "      <td>19001</td>\n",
       "      <td>8.0</td>\n",
       "      <td>0.0</td>\n",
       "      <td>0.0</td>\n",
       "      <td>0.0</td>\n",
       "      <td>97.6</td>\n",
       "      <td>0.0</td>\n",
       "      <td>...</td>\n",
       "      <td>NaN</td>\n",
       "      <td>NaN</td>\n",
       "      <td>NaN</td>\n",
       "      <td>NaN</td>\n",
       "      <td>NaN</td>\n",
       "      <td>NaN</td>\n",
       "      <td>NaN</td>\n",
       "      <td>NaN</td>\n",
       "      <td>NaN</td>\n",
       "      <td>NaN</td>\n",
       "    </tr>\n",
       "  </tbody>\n",
       "</table>\n",
       "<p>5 rows × 133 columns</p>\n",
       "</div>"
      ],
      "text/plain": [
       "   Unnamed: 0.1  year             geography   fips  cases_chlamydia  \\\n",
       "0             0  2000  Abbeville County, SC  45001             61.0   \n",
       "1             1  2000     Acadia Parish, LA  22001              0.0   \n",
       "2             2  2000   Accomack County, VA  51001            153.0   \n",
       "3             3  2000        Ada County, ID  16001            644.0   \n",
       "4             4  2000      Adair County, IA  19001              8.0   \n",
       "\n",
       "   cases_early_non-primary_non-secondary_syphilis  cases_gonorrhea  \\\n",
       "0                                             1.0             57.0   \n",
       "1                                             8.0              0.0   \n",
       "2                                             2.0             88.0   \n",
       "3                                             0.0             33.0   \n",
       "4                                             0.0              0.0   \n",
       "\n",
       "   cases_primary_and_secondary_syphilis  rate_per_100000_chlamydia  \\\n",
       "0                                   2.0                      232.6   \n",
       "1                                  11.0                        0.0   \n",
       "2                                   0.0                      398.7   \n",
       "3                                   1.0                      212.3   \n",
       "4                                   0.0                       97.6   \n",
       "\n",
       "   rate_per_100000_early_non-primary_non-secondary_syphilis  ...  \\\n",
       "0                                                3.8         ...   \n",
       "1                                               13.6         ...   \n",
       "2                                                5.2         ...   \n",
       "3                                                0.0         ...   \n",
       "4                                                0.0         ...   \n",
       "\n",
       "   rate_per_100000_male_gonorrhea_multiracial  \\\n",
       "0                                         NaN   \n",
       "1                                         NaN   \n",
       "2                                         NaN   \n",
       "3                                         NaN   \n",
       "4                                         NaN   \n",
       "\n",
       "   rate_per_100000_male_gonorrhea_native_hawaiian_other_pacific_islander  \\\n",
       "0                                                NaN                       \n",
       "1                                                NaN                       \n",
       "2                                                NaN                       \n",
       "3                                                NaN                       \n",
       "4                                                NaN                       \n",
       "\n",
       "   rate_per_100000_male_gonorrhea_white  \\\n",
       "0                                   NaN   \n",
       "1                                   NaN   \n",
       "2                                   NaN   \n",
       "3                                   NaN   \n",
       "4                                   NaN   \n",
       "\n",
       "   rate_per_100000_male_primary_and_secondary_syphilis_american_indian_alaska_native  \\\n",
       "0                                                NaN                                   \n",
       "1                                                NaN                                   \n",
       "2                                                NaN                                   \n",
       "3                                                NaN                                   \n",
       "4                                                NaN                                   \n",
       "\n",
       "   rate_per_100000_male_primary_and_secondary_syphilis_asian  \\\n",
       "0                                                NaN           \n",
       "1                                                NaN           \n",
       "2                                                NaN           \n",
       "3                                                NaN           \n",
       "4                                                NaN           \n",
       "\n",
       "   rate_per_100000_male_primary_and_secondary_syphilis_black_african_american  \\\n",
       "0                                                NaN                            \n",
       "1                                                NaN                            \n",
       "2                                                NaN                            \n",
       "3                                                NaN                            \n",
       "4                                                NaN                            \n",
       "\n",
       "   rate_per_100000_male_primary_and_secondary_syphilis_hispanic_latino  \\\n",
       "0                                                NaN                     \n",
       "1                                                NaN                     \n",
       "2                                                NaN                     \n",
       "3                                                NaN                     \n",
       "4                                                NaN                     \n",
       "\n",
       "   rate_per_100000_male_primary_and_secondary_syphilis_multiracial  \\\n",
       "0                                                NaN                 \n",
       "1                                                NaN                 \n",
       "2                                                NaN                 \n",
       "3                                                NaN                 \n",
       "4                                                NaN                 \n",
       "\n",
       "   rate_per_100000_male_primary_and_secondary_syphilis_native_hawaiian_other_pacific_islander  \\\n",
       "0                                                NaN                                            \n",
       "1                                                NaN                                            \n",
       "2                                                NaN                                            \n",
       "3                                                NaN                                            \n",
       "4                                                NaN                                            \n",
       "\n",
       "   rate_per_100000_male_primary_and_secondary_syphilis_white  \n",
       "0                                                NaN          \n",
       "1                                                NaN          \n",
       "2                                                NaN          \n",
       "3                                                NaN          \n",
       "4                                                NaN          \n",
       "\n",
       "[5 rows x 133 columns]"
      ]
     },
     "execution_count": 7,
     "metadata": {},
     "output_type": "execute_result"
    }
   ],
   "source": [
    "data.head()"
   ]
  },
  {
   "cell_type": "code",
   "execution_count": 9,
   "id": "c3517b68-85cd-4ead-8ced-daf7b9ce5ac4",
   "metadata": {},
   "outputs": [
    {
     "name": "stderr",
     "output_type": "stream",
     "text": [
      "/var/folders/zl/tww5174129gdj_kds5bh2xx80000gn/T/ipykernel_94920/3700150800.py:1: FutureWarning: Indexing with multiple keys (implicitly converted to a tuple of keys) will be deprecated, use a list instead.\n",
      "  df_sum = data.groupby(['year'])['cases_gonorrhea','cases_chlamydia','cases_early_non-primary_non-secondary_syphilis','cases_primary_and_secondary_syphilis'].sum().reset_index()\n"
     ]
    }
   ],
   "source": [
    "df_sum = data.groupby(['year'])['cases_gonorrhea','cases_chlamydia','cases_early_non-primary_non-secondary_syphilis','cases_primary_and_secondary_syphilis'].sum().reset_index()"
   ]
  },
  {
   "cell_type": "code",
   "execution_count": 10,
   "id": "ecfb5352-3501-4edc-a1eb-87b7d60cb211",
   "metadata": {},
   "outputs": [
    {
     "data": {
      "text/html": [
       "<div>\n",
       "<style scoped>\n",
       "    .dataframe tbody tr th:only-of-type {\n",
       "        vertical-align: middle;\n",
       "    }\n",
       "\n",
       "    .dataframe tbody tr th {\n",
       "        vertical-align: top;\n",
       "    }\n",
       "\n",
       "    .dataframe thead th {\n",
       "        text-align: right;\n",
       "    }\n",
       "</style>\n",
       "<table border=\"1\" class=\"dataframe\">\n",
       "  <thead>\n",
       "    <tr style=\"text-align: right;\">\n",
       "      <th></th>\n",
       "      <th>year</th>\n",
       "      <th>cases_gonorrhea</th>\n",
       "      <th>cases_chlamydia</th>\n",
       "      <th>cases_early_non-primary_non-secondary_syphilis</th>\n",
       "      <th>cases_primary_and_secondary_syphilis</th>\n",
       "    </tr>\n",
       "  </thead>\n",
       "  <tbody>\n",
       "    <tr>\n",
       "      <th>0</th>\n",
       "      <td>2000</td>\n",
       "      <td>211146.0</td>\n",
       "      <td>382937.0</td>\n",
       "      <td>9989.0</td>\n",
       "      <td>6117.0</td>\n",
       "    </tr>\n",
       "    <tr>\n",
       "      <th>1</th>\n",
       "      <td>2001</td>\n",
       "      <td>245376.0</td>\n",
       "      <td>487710.0</td>\n",
       "      <td>9262.0</td>\n",
       "      <td>6287.0</td>\n",
       "    </tr>\n",
       "    <tr>\n",
       "      <th>2</th>\n",
       "      <td>2002</td>\n",
       "      <td>345771.0</td>\n",
       "      <td>813734.0</td>\n",
       "      <td>9064.0</td>\n",
       "      <td>7089.0</td>\n",
       "    </tr>\n",
       "    <tr>\n",
       "      <th>3</th>\n",
       "      <td>2003</td>\n",
       "      <td>332157.0</td>\n",
       "      <td>869687.0</td>\n",
       "      <td>8989.0</td>\n",
       "      <td>7352.0</td>\n",
       "    </tr>\n",
       "    <tr>\n",
       "      <th>4</th>\n",
       "      <td>2004</td>\n",
       "      <td>327207.0</td>\n",
       "      <td>921261.0</td>\n",
       "      <td>8101.0</td>\n",
       "      <td>8152.0</td>\n",
       "    </tr>\n",
       "  </tbody>\n",
       "</table>\n",
       "</div>"
      ],
      "text/plain": [
       "   year  cases_gonorrhea  cases_chlamydia  \\\n",
       "0  2000         211146.0         382937.0   \n",
       "1  2001         245376.0         487710.0   \n",
       "2  2002         345771.0         813734.0   \n",
       "3  2003         332157.0         869687.0   \n",
       "4  2004         327207.0         921261.0   \n",
       "\n",
       "   cases_early_non-primary_non-secondary_syphilis  \\\n",
       "0                                          9989.0   \n",
       "1                                          9262.0   \n",
       "2                                          9064.0   \n",
       "3                                          8989.0   \n",
       "4                                          8101.0   \n",
       "\n",
       "   cases_primary_and_secondary_syphilis  \n",
       "0                                6117.0  \n",
       "1                                6287.0  \n",
       "2                                7089.0  \n",
       "3                                7352.0  \n",
       "4                                8152.0  "
      ]
     },
     "execution_count": 10,
     "metadata": {},
     "output_type": "execute_result"
    }
   ],
   "source": [
    "df_sum.head()"
   ]
  },
  {
   "cell_type": "code",
   "execution_count": 14,
   "id": "5e7c0969-e6dd-4c78-bdce-efe32a8c99c1",
   "metadata": {},
   "outputs": [],
   "source": [
    "df = df_sum[['year','cases_chlamydia']]"
   ]
  },
  {
   "cell_type": "code",
   "execution_count": 27,
   "id": "93c7c301-507f-454d-b2df-123f9e121836",
   "metadata": {},
   "outputs": [],
   "source": [
    "df = df.drop(labels=20, axis=0)"
   ]
  },
  {
   "cell_type": "code",
   "execution_count": 28,
   "id": "81c101a7-cd74-4423-85f9-f008608b2c13",
   "metadata": {},
   "outputs": [],
   "source": [
    "import matplotlib.pyplot as plt\n",
    "import seaborn as sns "
   ]
  },
  {
   "cell_type": "code",
   "execution_count": 29,
   "id": "9e935811-66bc-41cf-a103-24bf6d655373",
   "metadata": {},
   "outputs": [
    {
     "data": {
      "image/png": "[encoded data removed]",
      "text/plain": [
       "<Figure size 432x288 with 1 Axes>"
      ]
     },
     "metadata": {
      "needs_background": "light"
     },
     "output_type": "display_data"
    }
   ],
   "source": [
    "sns.lineplot(data = df,x=\"year\",y=\"cases_chlamydia\")\n",
    "plt.show()"
   ]
  },
  {
   "cell_type": "code",
   "execution_count": 31,
   "id": "0b1e63d3-e725-4d10-97c8-32d1f341fe5e",
   "metadata": {},
   "outputs": [],
   "source": [
    "from scipy import signal"
   ]
  },
  {
   "cell_type": "code",
   "execution_count": 34,
   "id": "86fb96ea-9ee0-4e89-9a42-1975ec3bb8d7",
   "metadata": {},
   "outputs": [
    {
     "data": {
      "image/png": "[encoded data removed]",
      "text/plain": [
       "<Figure size 432x288 with 1 Axes>"
      ]
     },
     "metadata": {
      "needs_background": "light"
     },
     "output_type": "display_data"
    }
   ],
   "source": [
    "detrended = signal.detrend(df.cases_chlamydia)\n",
    "detrended_df = pd.DataFrame(detrended)\n",
    "detrended_df.plot()\n",
    "plt.show()"
   ]
  },
  {
   "cell_type": "code",
   "execution_count": 35,
   "id": "35a583f7-8a07-4620-8201-d14ac8133bc7",
   "metadata": {},
   "outputs": [],
   "source": [
    "from statsmodels.tsa.stattools import acf, pacf\n",
    "from statsmodels.graphics.tsaplots import plot_acf, plot_pacf"
   ]
  },
  {
   "cell_type": "code",
   "execution_count": 47,
   "id": "58b48787-429b-4b5e-822d-b63c6445763e",
   "metadata": {},
   "outputs": [
    {
     "name": "stderr",
     "output_type": "stream",
     "text": [
      "/opt/homebrew/lib/python3.9/site-packages/statsmodels/graphics/tsaplots.py:348: FutureWarning: The default method 'yw' can produce PACF values outside of the [-1,1] interval. After 0.13, the default will change tounadjusted Yule-Walker ('ywm'). You can use this method now by setting method='ywm'.\n",
      "  warnings.warn(\n"
     ]
    },
    {
     "data": {
      "image/png": "[encoded data removed]",
      "text/plain": [
       "<Figure size 1600x300 with 2 Axes>"
      ]
     },
     "execution_count": 47,
     "metadata": {},
     "output_type": "execute_result"
    },
    {
     "data": {
      "image/png": "[encoded data removed]",
      "text/plain": [
       "<Figure size 1600x300 with 2 Axes>"
      ]
     },
     "metadata": {
      "needs_background": "light"
     },
     "output_type": "display_data"
    }
   ],
   "source": [
    "fig, axes = plt.subplots(1,2,figsize=(16,3), dpi= 100)\n",
    "plot_acf(detrended_df[0].tolist(), lags=5, ax=axes[0])\n",
    "plot_pacf(detrended_df[0].tolist(), lags=5, ax=axes[1])"
   ]
  },
  {
   "cell_type": "code",
   "execution_count": 49,
   "id": "9892ac8c-d139-4e00-a70f-f86f6972597a",
   "metadata": {},
   "outputs": [
    {
     "name": "stdout",
     "output_type": "stream",
     "text": [
      "                               SARIMAX Results                                \n",
      "==============================================================================\n",
      "Dep. Variable:                      y   No. Observations:                   20\n",
      "Model:                 ARIMA(2, 2, 0)   Log Likelihood                -231.484\n",
      "Date:                Tue, 12 Jul 2022   AIC                            468.968\n",
      "Time:                        16:09:53   BIC                            471.640\n",
      "Sample:                             0   HQIC                           469.337\n",
      "                                 - 20                                         \n",
      "Covariance Type:                  opg                                         \n",
      "==============================================================================\n",
      "                 coef    std err          z      P>|z|      [0.025      0.975]\n",
      "------------------------------------------------------------------------------\n",
      "ar.L1         -0.1750      0.038     -4.626      0.000      -0.249      -0.101\n",
      "ar.L2         -0.5415      0.030    -18.183      0.000      -0.600      -0.483\n",
      "sigma2      1.684e+09   4.18e-12   4.03e+20      0.000    1.68e+09    1.68e+09\n",
      "===================================================================================\n",
      "Ljung-Box (L1) (Q):                   3.31   Jarque-Bera (JB):                 0.30\n",
      "Prob(Q):                              0.07   Prob(JB):                         0.86\n",
      "Heteroskedasticity (H):               0.18   Skew:                            -0.21\n",
      "Prob(H) (two-sided):                  0.05   Kurtosis:                         3.48\n",
      "===================================================================================\n",
      "\n",
      "Warnings:\n",
      "[1] Covariance matrix calculated using the outer product of gradients (complex-step).\n",
      "[2] Covariance matrix is singular or near-singular, with condition number 7.63e+36. Standard errors may be unstable.\n"
     ]
    }
   ],
   "source": [
    "from statsmodels.tsa.arima.model import ARIMA\n",
    "model = ARIMA(detrended_df[0], order=(2,2,0))\n",
    "model_fit = model.fit()\n",
    "# summary of fit model\n",
    "print(model_fit.summary())\n",
    "# line plot of residuals\n",
    "# residuals = DataFrame(model_fit.resid)\n",
    "# residuals.plot()\n",
    "# pyplot.show()\n",
    "# # density plot of residuals\n",
    "# residuals.plot(kind='kde')\n",
    "# pyplot.show()\n",
    "# # summary stats of residuals\n",
    "# print(residuals.describe())"
   ]
  },
  {
   "cell_type": "code",
   "execution_count": 54,
   "id": "eead4581-9233-4ba6-b2f4-6e16a70b5869",
   "metadata": {},
   "outputs": [
    {
     "name": "stdout",
     "output_type": "stream",
     "text": [
      "                               SARIMAX Results                                \n",
      "==============================================================================\n",
      "Dep. Variable:                      y   No. Observations:                   20\n",
      "Model:                 ARIMA(0, 2, 0)   Log Likelihood                -231.211\n",
      "Date:                Tue, 12 Jul 2022   AIC                            464.422\n",
      "Time:                        16:16:30   BIC                            465.312\n",
      "Sample:                             0   HQIC                           464.545\n",
      "                                 - 20                                         \n",
      "Covariance Type:                  opg                                         \n",
      "==============================================================================\n",
      "                 coef    std err          z      P>|z|      [0.025      0.975]\n",
      "------------------------------------------------------------------------------\n",
      "sigma2      7.522e+09   1.39e+09      5.405      0.000    4.79e+09    1.03e+10\n",
      "===================================================================================\n",
      "Ljung-Box (L1) (Q):                   3.65   Jarque-Bera (JB):                 8.56\n",
      "Prob(Q):                              0.06   Prob(JB):                         0.01\n",
      "Heteroskedasticity (H):               0.11   Skew:                            -0.58\n",
      "Prob(H) (two-sided):                  0.02   Kurtosis:                         6.17\n",
      "===================================================================================\n",
      "\n",
      "Warnings:\n",
      "[1] Covariance matrix calculated using the outer product of gradients (complex-step).\n"
     ]
    }
   ],
   "source": [
    "from statsmodels.tsa.arima.model import ARIMA\n",
    "model = ARIMA(detrended_df[0], order=(0,2,0))\n",
    "model_fit = model.fit()\n",
    "# summary of fit model\n",
    "print(model_fit.summary())"
   ]
  },
  {
   "cell_type": "code",
   "execution_count": null,
   "id": "48109e29-51b3-414d-b6a1-caaa669839e5",
   "metadata": {},
   "outputs": [],
   "source": []
  }
 ],
 "metadata": {
  "kernelspec": {
   "display_name": "Python 3 (ipykernel)",
   "language": "python",
   "name": "python3"
  },
  "language_info": {
   "codemirror_mode": {
    "name": "ipython",
    "version": 3
   },
   "file_extension": ".py",
   "mimetype": "text/x-python",
   "name": "python",
   "nbconvert_exporter": "python",
   "pygments_lexer": "ipython3",
   "version": "3.9.12"
  }
 },
 "nbformat": 4,
 "nbformat_minor": 5
}
