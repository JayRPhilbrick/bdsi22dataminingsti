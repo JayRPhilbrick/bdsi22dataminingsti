{
 "cells": [
  {
   "cell_type": "code",
   "execution_count": 1,
   "id": "d2b35ea9-cc3b-4da0-87fd-0b3e277af7a1",
   "metadata": {},
   "outputs": [],
   "source": [
    "import pandas as pd\n",
    "import numpy as np"
   ]
  },
  {
   "cell_type": "code",
   "execution_count": 2,
   "id": "e0c5de7e-b974-44d6-b324-45b62ee9516a",
   "metadata": {},
   "outputs": [],
   "source": [
    "data = pd.read_csv(\"../Data/Intermediate/CDCSTDoverall2000_2020_processed.csv\")"
   ]
  },
  {
   "cell_type": "code",
   "execution_count": 3,
   "id": "d7096201-653a-4540-9a95-d3734a8298b7",
   "metadata": {},
   "outputs": [
    {
     "data": {
      "text/html": [
       "<div>\n",
       "<style scoped>\n",
       "    .dataframe tbody tr th:only-of-type {\n",
       "        vertical-align: middle;\n",
       "    }\n",
       "\n",
       "    .dataframe tbody tr th {\n",
       "        vertical-align: top;\n",
       "    }\n",
       "\n",
       "    .dataframe thead th {\n",
       "        text-align: right;\n",
       "    }\n",
       "</style>\n",
       "<table border=\"1\" class=\"dataframe\">\n",
       "  <thead>\n",
       "    <tr style=\"text-align: right;\">\n",
       "      <th></th>\n",
       "      <th>Unnamed: 0</th>\n",
       "      <th>year</th>\n",
       "      <th>fips</th>\n",
       "      <th>cases_chlamydia</th>\n",
       "      <th>cases_early_non-primary_non-secondary_syphilis</th>\n",
       "      <th>cases_gonorrhea</th>\n",
       "      <th>cases_primary_and_secondary_syphilis</th>\n",
       "      <th>rate_per_100000_chlamydia</th>\n",
       "      <th>rate_per_100000_early_non-primary_non-secondary_syphilis</th>\n",
       "      <th>rate_per_100000_gonorrhea</th>\n",
       "      <th>...</th>\n",
       "      <th>rate_per_100000_male_gonorrhea_multiracial</th>\n",
       "      <th>rate_per_100000_male_gonorrhea_native_hawaiian_other_pacific_islander</th>\n",
       "      <th>rate_per_100000_male_gonorrhea_white</th>\n",
       "      <th>rate_per_100000_male_primary_and_secondary_syphilis_american_indian_alaska_native</th>\n",
       "      <th>rate_per_100000_male_primary_and_secondary_syphilis_asian</th>\n",
       "      <th>rate_per_100000_male_primary_and_secondary_syphilis_black_african_american</th>\n",
       "      <th>rate_per_100000_male_primary_and_secondary_syphilis_hispanic_latino</th>\n",
       "      <th>rate_per_100000_male_primary_and_secondary_syphilis_multiracial</th>\n",
       "      <th>rate_per_100000_male_primary_and_secondary_syphilis_native_hawaiian_other_pacific_islander</th>\n",
       "      <th>rate_per_100000_male_primary_and_secondary_syphilis_white</th>\n",
       "    </tr>\n",
       "  </thead>\n",
       "  <tbody>\n",
       "    <tr>\n",
       "      <th>0</th>\n",
       "      <td>0</td>\n",
       "      <td>2000</td>\n",
       "      <td>45001</td>\n",
       "      <td>61.0</td>\n",
       "      <td>1.0</td>\n",
       "      <td>57.0</td>\n",
       "      <td>2.0</td>\n",
       "      <td>232.6</td>\n",
       "      <td>3.8</td>\n",
       "      <td>217.4</td>\n",
       "      <td>...</td>\n",
       "      <td>NaN</td>\n",
       "      <td>NaN</td>\n",
       "      <td>NaN</td>\n",
       "      <td>NaN</td>\n",
       "      <td>NaN</td>\n",
       "      <td>NaN</td>\n",
       "      <td>NaN</td>\n",
       "      <td>NaN</td>\n",
       "      <td>NaN</td>\n",
       "      <td>NaN</td>\n",
       "    </tr>\n",
       "    <tr>\n",
       "      <th>1</th>\n",
       "      <td>1</td>\n",
       "      <td>2000</td>\n",
       "      <td>22001</td>\n",
       "      <td>0.0</td>\n",
       "      <td>8.0</td>\n",
       "      <td>0.0</td>\n",
       "      <td>11.0</td>\n",
       "      <td>0.0</td>\n",
       "      <td>13.6</td>\n",
       "      <td>0.0</td>\n",
       "      <td>...</td>\n",
       "      <td>NaN</td>\n",
       "      <td>NaN</td>\n",
       "      <td>NaN</td>\n",
       "      <td>NaN</td>\n",
       "      <td>NaN</td>\n",
       "      <td>NaN</td>\n",
       "      <td>NaN</td>\n",
       "      <td>NaN</td>\n",
       "      <td>NaN</td>\n",
       "      <td>NaN</td>\n",
       "    </tr>\n",
       "    <tr>\n",
       "      <th>2</th>\n",
       "      <td>2</td>\n",
       "      <td>2000</td>\n",
       "      <td>51001</td>\n",
       "      <td>153.0</td>\n",
       "      <td>2.0</td>\n",
       "      <td>88.0</td>\n",
       "      <td>0.0</td>\n",
       "      <td>398.7</td>\n",
       "      <td>5.2</td>\n",
       "      <td>229.3</td>\n",
       "      <td>...</td>\n",
       "      <td>NaN</td>\n",
       "      <td>NaN</td>\n",
       "      <td>NaN</td>\n",
       "      <td>NaN</td>\n",
       "      <td>NaN</td>\n",
       "      <td>NaN</td>\n",
       "      <td>NaN</td>\n",
       "      <td>NaN</td>\n",
       "      <td>NaN</td>\n",
       "      <td>NaN</td>\n",
       "    </tr>\n",
       "    <tr>\n",
       "      <th>3</th>\n",
       "      <td>3</td>\n",
       "      <td>2000</td>\n",
       "      <td>16001</td>\n",
       "      <td>644.0</td>\n",
       "      <td>0.0</td>\n",
       "      <td>33.0</td>\n",
       "      <td>1.0</td>\n",
       "      <td>212.3</td>\n",
       "      <td>0.0</td>\n",
       "      <td>10.9</td>\n",
       "      <td>...</td>\n",
       "      <td>NaN</td>\n",
       "      <td>NaN</td>\n",
       "      <td>NaN</td>\n",
       "      <td>NaN</td>\n",
       "      <td>NaN</td>\n",
       "      <td>NaN</td>\n",
       "      <td>NaN</td>\n",
       "      <td>NaN</td>\n",
       "      <td>NaN</td>\n",
       "      <td>NaN</td>\n",
       "    </tr>\n",
       "    <tr>\n",
       "      <th>4</th>\n",
       "      <td>4</td>\n",
       "      <td>2000</td>\n",
       "      <td>19001</td>\n",
       "      <td>8.0</td>\n",
       "      <td>0.0</td>\n",
       "      <td>0.0</td>\n",
       "      <td>0.0</td>\n",
       "      <td>97.6</td>\n",
       "      <td>0.0</td>\n",
       "      <td>0.0</td>\n",
       "      <td>...</td>\n",
       "      <td>NaN</td>\n",
       "      <td>NaN</td>\n",
       "      <td>NaN</td>\n",
       "      <td>NaN</td>\n",
       "      <td>NaN</td>\n",
       "      <td>NaN</td>\n",
       "      <td>NaN</td>\n",
       "      <td>NaN</td>\n",
       "      <td>NaN</td>\n",
       "      <td>NaN</td>\n",
       "    </tr>\n",
       "  </tbody>\n",
       "</table>\n",
       "<p>5 rows × 131 columns</p>\n",
       "</div>"
      ],
      "text/plain": [
       "   Unnamed: 0  year   fips  cases_chlamydia  \\\n",
       "0           0  2000  45001             61.0   \n",
       "1           1  2000  22001              0.0   \n",
       "2           2  2000  51001            153.0   \n",
       "3           3  2000  16001            644.0   \n",
       "4           4  2000  19001              8.0   \n",
       "\n",
       "   cases_early_non-primary_non-secondary_syphilis  cases_gonorrhea  \\\n",
       "0                                             1.0             57.0   \n",
       "1                                             8.0              0.0   \n",
       "2                                             2.0             88.0   \n",
       "3                                             0.0             33.0   \n",
       "4                                             0.0              0.0   \n",
       "\n",
       "   cases_primary_and_secondary_syphilis  rate_per_100000_chlamydia  \\\n",
       "0                                   2.0                      232.6   \n",
       "1                                  11.0                        0.0   \n",
       "2                                   0.0                      398.7   \n",
       "3                                   1.0                      212.3   \n",
       "4                                   0.0                       97.6   \n",
       "\n",
       "   rate_per_100000_early_non-primary_non-secondary_syphilis  \\\n",
       "0                                                3.8          \n",
       "1                                               13.6          \n",
       "2                                                5.2          \n",
       "3                                                0.0          \n",
       "4                                                0.0          \n",
       "\n",
       "   rate_per_100000_gonorrhea  ...  rate_per_100000_male_gonorrhea_multiracial  \\\n",
       "0                      217.4  ...                                         NaN   \n",
       "1                        0.0  ...                                         NaN   \n",
       "2                      229.3  ...                                         NaN   \n",
       "3                       10.9  ...                                         NaN   \n",
       "4                        0.0  ...                                         NaN   \n",
       "\n",
       "   rate_per_100000_male_gonorrhea_native_hawaiian_other_pacific_islander  \\\n",
       "0                                                NaN                       \n",
       "1                                                NaN                       \n",
       "2                                                NaN                       \n",
       "3                                                NaN                       \n",
       "4                                                NaN                       \n",
       "\n",
       "   rate_per_100000_male_gonorrhea_white  \\\n",
       "0                                   NaN   \n",
       "1                                   NaN   \n",
       "2                                   NaN   \n",
       "3                                   NaN   \n",
       "4                                   NaN   \n",
       "\n",
       "   rate_per_100000_male_primary_and_secondary_syphilis_american_indian_alaska_native  \\\n",
       "0                                                NaN                                   \n",
       "1                                                NaN                                   \n",
       "2                                                NaN                                   \n",
       "3                                                NaN                                   \n",
       "4                                                NaN                                   \n",
       "\n",
       "   rate_per_100000_male_primary_and_secondary_syphilis_asian  \\\n",
       "0                                                NaN           \n",
       "1                                                NaN           \n",
       "2                                                NaN           \n",
       "3                                                NaN           \n",
       "4                                                NaN           \n",
       "\n",
       "   rate_per_100000_male_primary_and_secondary_syphilis_black_african_american  \\\n",
       "0                                                NaN                            \n",
       "1                                                NaN                            \n",
       "2                                                NaN                            \n",
       "3                                                NaN                            \n",
       "4                                                NaN                            \n",
       "\n",
       "   rate_per_100000_male_primary_and_secondary_syphilis_hispanic_latino  \\\n",
       "0                                                NaN                     \n",
       "1                                                NaN                     \n",
       "2                                                NaN                     \n",
       "3                                                NaN                     \n",
       "4                                                NaN                     \n",
       "\n",
       "   rate_per_100000_male_primary_and_secondary_syphilis_multiracial  \\\n",
       "0                                                NaN                 \n",
       "1                                                NaN                 \n",
       "2                                                NaN                 \n",
       "3                                                NaN                 \n",
       "4                                                NaN                 \n",
       "\n",
       "   rate_per_100000_male_primary_and_secondary_syphilis_native_hawaiian_other_pacific_islander  \\\n",
       "0                                                NaN                                            \n",
       "1                                                NaN                                            \n",
       "2                                                NaN                                            \n",
       "3                                                NaN                                            \n",
       "4                                                NaN                                            \n",
       "\n",
       "   rate_per_100000_male_primary_and_secondary_syphilis_white  \n",
       "0                                                NaN          \n",
       "1                                                NaN          \n",
       "2                                                NaN          \n",
       "3                                                NaN          \n",
       "4                                                NaN          \n",
       "\n",
       "[5 rows x 131 columns]"
      ]
     },
     "execution_count": 3,
     "metadata": {},
     "output_type": "execute_result"
    }
   ],
   "source": [
    "data.head()"
   ]
  },
  {
   "cell_type": "code",
   "execution_count": 4,
   "id": "c3517b68-85cd-4ead-8ced-daf7b9ce5ac4",
   "metadata": {},
   "outputs": [
    {
     "name": "stderr",
     "output_type": "stream",
     "text": [
      "C:\\Users\\philb\\AppData\\Local\\Temp\\ipykernel_27656\\3700150800.py:1: FutureWarning: Indexing with multiple keys (implicitly converted to a tuple of keys) will be deprecated, use a list instead.\n",
      "  df_sum = data.groupby(['year'])['cases_gonorrhea','cases_chlamydia','cases_early_non-primary_non-secondary_syphilis','cases_primary_and_secondary_syphilis'].sum().reset_index()\n"
     ]
    }
   ],
   "source": [
    "df_sum = data.groupby(['year'])['cases_gonorrhea','cases_chlamydia','cases_early_non-primary_non-secondary_syphilis','cases_primary_and_secondary_syphilis'].sum().reset_index()"
   ]
  },
  {
   "cell_type": "code",
   "execution_count": 5,
   "id": "ecfb5352-3501-4edc-a1eb-87b7d60cb211",
   "metadata": {},
   "outputs": [
    {
     "data": {
      "text/html": [
       "<div>\n",
       "<style scoped>\n",
       "    .dataframe tbody tr th:only-of-type {\n",
       "        vertical-align: middle;\n",
       "    }\n",
       "\n",
       "    .dataframe tbody tr th {\n",
       "        vertical-align: top;\n",
       "    }\n",
       "\n",
       "    .dataframe thead th {\n",
       "        text-align: right;\n",
       "    }\n",
       "</style>\n",
       "<table border=\"1\" class=\"dataframe\">\n",
       "  <thead>\n",
       "    <tr style=\"text-align: right;\">\n",
       "      <th></th>\n",
       "      <th>year</th>\n",
       "      <th>cases_gonorrhea</th>\n",
       "      <th>cases_chlamydia</th>\n",
       "      <th>cases_early_non-primary_non-secondary_syphilis</th>\n",
       "      <th>cases_primary_and_secondary_syphilis</th>\n",
       "    </tr>\n",
       "  </thead>\n",
       "  <tbody>\n",
       "    <tr>\n",
       "      <th>0</th>\n",
       "      <td>2000</td>\n",
       "      <td>211146.0</td>\n",
       "      <td>382937.0</td>\n",
       "      <td>9989.0</td>\n",
       "      <td>6117.0</td>\n",
       "    </tr>\n",
       "    <tr>\n",
       "      <th>1</th>\n",
       "      <td>2001</td>\n",
       "      <td>245376.0</td>\n",
       "      <td>487710.0</td>\n",
       "      <td>9262.0</td>\n",
       "      <td>6287.0</td>\n",
       "    </tr>\n",
       "    <tr>\n",
       "      <th>2</th>\n",
       "      <td>2002</td>\n",
       "      <td>345771.0</td>\n",
       "      <td>813734.0</td>\n",
       "      <td>9064.0</td>\n",
       "      <td>7089.0</td>\n",
       "    </tr>\n",
       "    <tr>\n",
       "      <th>3</th>\n",
       "      <td>2003</td>\n",
       "      <td>332157.0</td>\n",
       "      <td>869687.0</td>\n",
       "      <td>8989.0</td>\n",
       "      <td>7352.0</td>\n",
       "    </tr>\n",
       "    <tr>\n",
       "      <th>4</th>\n",
       "      <td>2004</td>\n",
       "      <td>327207.0</td>\n",
       "      <td>921261.0</td>\n",
       "      <td>8101.0</td>\n",
       "      <td>8152.0</td>\n",
       "    </tr>\n",
       "  </tbody>\n",
       "</table>\n",
       "</div>"
      ],
      "text/plain": [
       "   year  cases_gonorrhea  cases_chlamydia  \\\n",
       "0  2000         211146.0         382937.0   \n",
       "1  2001         245376.0         487710.0   \n",
       "2  2002         345771.0         813734.0   \n",
       "3  2003         332157.0         869687.0   \n",
       "4  2004         327207.0         921261.0   \n",
       "\n",
       "   cases_early_non-primary_non-secondary_syphilis  \\\n",
       "0                                          9989.0   \n",
       "1                                          9262.0   \n",
       "2                                          9064.0   \n",
       "3                                          8989.0   \n",
       "4                                          8101.0   \n",
       "\n",
       "   cases_primary_and_secondary_syphilis  \n",
       "0                                6117.0  \n",
       "1                                6287.0  \n",
       "2                                7089.0  \n",
       "3                                7352.0  \n",
       "4                                8152.0  "
      ]
     },
     "execution_count": 5,
     "metadata": {},
     "output_type": "execute_result"
    }
   ],
   "source": [
    "df_sum.head()"
   ]
  },
  {
   "cell_type": "markdown",
   "id": "8db63bbb-9538-4a18-ada4-adacd953e8af",
   "metadata": {},
   "source": [
    "### Chlamydia time series"
   ]
  },
  {
   "cell_type": "code",
   "execution_count": 6,
   "id": "5e7c0969-e6dd-4c78-bdce-efe32a8c99c1",
   "metadata": {},
   "outputs": [],
   "source": [
    "df = df_sum[['year','cases_chlamydia']]"
   ]
  },
  {
   "cell_type": "code",
   "execution_count": 7,
   "id": "93c7c301-507f-454d-b2df-123f9e121836",
   "metadata": {},
   "outputs": [],
   "source": [
    "df = df.drop(labels=[20,0,1], axis=0)"
   ]
  },
  {
   "cell_type": "code",
   "execution_count": 8,
   "id": "81c101a7-cd74-4423-85f9-f008608b2c13",
   "metadata": {},
   "outputs": [],
   "source": [
    "import matplotlib.pyplot as plt\n",
    "import seaborn as sns "
   ]
  },
  {
   "cell_type": "code",
   "execution_count": 9,
   "id": "9e935811-66bc-41cf-a103-24bf6d655373",
   "metadata": {},
   "outputs": [
    {
     "data": {
      "image/png": "[encoded data removed]",
      "text/plain": [
       "<Figure size 432x288 with 1 Axes>"
      ]
     },
     "metadata": {
      "needs_background": "light"
     },
     "output_type": "display_data"
    }
   ],
   "source": [
    "sns.lineplot(data = df,x=\"year\",y=\"cases_chlamydia\")\n",
    "plt.show()"
   ]
  },
  {
   "cell_type": "code",
   "execution_count": 10,
   "id": "0b1e63d3-e725-4d10-97c8-32d1f341fe5e",
   "metadata": {},
   "outputs": [],
   "source": [
    "from scipy import signal"
   ]
  },
  {
   "cell_type": "code",
   "execution_count": 11,
   "id": "86fb96ea-9ee0-4e89-9a42-1975ec3bb8d7",
   "metadata": {},
   "outputs": [
    {
     "data": {
      "image/png": "[encoded data removed]",
      "text/plain": [
       "<Figure size 432x288 with 1 Axes>"
      ]
     },
     "metadata": {
      "needs_background": "light"
     },
     "output_type": "display_data"
    }
   ],
   "source": [
    "detrended = signal.detrend(df.cases_chlamydia)\n",
    "detrended_df = pd.DataFrame(detrended)\n",
    "detrended_df.plot()\n",
    "plt.show()"
   ]
  },
  {
   "cell_type": "code",
   "execution_count": 12,
   "id": "35a583f7-8a07-4620-8201-d14ac8133bc7",
   "metadata": {},
   "outputs": [],
   "source": [
    "from statsmodels.tsa.stattools import acf, pacf\n",
    "from statsmodels.graphics.tsaplots import plot_acf, plot_pacf"
   ]
  },
  {
   "cell_type": "code",
   "execution_count": 13,
   "id": "58b48787-429b-4b5e-822d-b63c6445763e",
   "metadata": {},
   "outputs": [
    {
     "name": "stderr",
     "output_type": "stream",
     "text": [
      "C:\\Users\\philb\\AppData\\Local\\Programs\\Python\\Python310\\lib\\site-packages\\statsmodels\\graphics\\tsaplots.py:348: FutureWarning: The default method 'yw' can produce PACF values outside of the [-1,1] interval. After 0.13, the default will change tounadjusted Yule-Walker ('ywm'). You can use this method now by setting method='ywm'.\n",
      "  warnings.warn(\n"
     ]
    },
    {
     "data": {
      "image/png": "[encoded data removed]",
      "text/plain": [
       "<Figure size 1600x300 with 2 Axes>"
      ]
     },
     "execution_count": 13,
     "metadata": {},
     "output_type": "execute_result"
    },
    {
     "data": {
      "image/png": "[encoded data removed]",
      "text/plain": [
       "<Figure size 1600x300 with 2 Axes>"
      ]
     },
     "metadata": {
      "needs_background": "light"
     },
     "output_type": "display_data"
    }
   ],
   "source": [
    "fig, axes = plt.subplots(1,2,figsize=(16,3), dpi= 100)\n",
    "plot_acf(detrended_df[0].tolist(), lags=5, ax=axes[0])\n",
    "plot_pacf(detrended_df[0].tolist(), lags=5, ax=axes[1])"
   ]
  },
  {
   "cell_type": "code",
   "execution_count": 14,
   "id": "9892ac8c-d139-4e00-a70f-f86f6972597a",
   "metadata": {},
   "outputs": [
    {
     "name": "stdout",
     "output_type": "stream",
     "text": [
      "                               SARIMAX Results                                \n",
      "==============================================================================\n",
      "Dep. Variable:                      y   No. Observations:                   18\n",
      "Model:                 ARIMA(0, 1, 0)   Log Likelihood                -201.534\n",
      "Date:                Wed, 20 Jul 2022   AIC                            405.068\n",
      "Time:                        16:35:55   BIC                            405.901\n",
      "Sample:                             0   HQIC                           405.151\n",
      "                                 - 18                                         \n",
      "Covariance Type:                  opg                                         \n",
      "==============================================================================\n",
      "                 coef    std err          z      P>|z|      [0.025      0.975]\n",
      "------------------------------------------------------------------------------\n",
      "sigma2      1.094e+09   2.75e+08      3.973      0.000    5.54e+08    1.63e+09\n",
      "===================================================================================\n",
      "Ljung-Box (L1) (Q):                   1.48   Jarque-Bera (JB):                 2.98\n",
      "Prob(Q):                              0.22   Prob(JB):                         0.23\n",
      "Heteroskedasticity (H):               2.64   Skew:                            -0.74\n",
      "Prob(H) (two-sided):                  0.26   Kurtosis:                         4.42\n",
      "===================================================================================\n",
      "\n",
      "Warnings:\n",
      "[1] Covariance matrix calculated using the outer product of gradients (complex-step).\n"
     ]
    }
   ],
   "source": [
    "from statsmodels.tsa.arima.model import ARIMA\n",
    "model = ARIMA(detrended_df[0], order=(0,1,0))\n",
    "model_fit = model.fit()\n",
    "# summary of fit model\n",
    "print(model_fit.summary())\n",
    "# line plot of residuals\n",
    "# residuals = DataFrame(model_fit.resid)\n",
    "# residuals.plot()\n",
    "# pyplot.show()\n",
    "# # density plot of residuals\n",
    "# residuals.plot(kind='kde')\n",
    "# pyplot.show()\n",
    "# # summary stats of residuals\n",
    "# print(residuals.describe())"
   ]
  },
  {
   "cell_type": "code",
   "execution_count": 15,
   "id": "eead4581-9233-4ba6-b2f4-6e16a70b5869",
   "metadata": {},
   "outputs": [
    {
     "name": "stdout",
     "output_type": "stream",
     "text": [
      "                               SARIMAX Results                                \n",
      "==============================================================================\n",
      "Dep. Variable:                      y   No. Observations:                   18\n",
      "Model:                 ARIMA(2, 2, 0)   Log Likelihood                -190.504\n",
      "Date:                Wed, 20 Jul 2022   AIC                            387.009\n",
      "Time:                        16:35:55   BIC                            389.326\n",
      "Sample:                             0   HQIC                           387.127\n",
      "                                 - 18                                         \n",
      "Covariance Type:                  opg                                         \n",
      "==============================================================================\n",
      "                 coef    std err          z      P>|z|      [0.025      0.975]\n",
      "------------------------------------------------------------------------------\n",
      "ar.L1         -0.1732      0.279     -0.621      0.535      -0.720       0.374\n",
      "ar.L2         -0.5801      0.227     -2.555      0.011      -1.025      -0.135\n",
      "sigma2      1.453e+09   4.71e-11   3.08e+19      0.000    1.45e+09    1.45e+09\n",
      "===================================================================================\n",
      "Ljung-Box (L1) (Q):                   0.09   Jarque-Bera (JB):                 0.21\n",
      "Prob(Q):                              0.77   Prob(JB):                         0.90\n",
      "Heteroskedasticity (H):               8.44   Skew:                            -0.22\n",
      "Prob(H) (two-sided):                  0.04   Kurtosis:                         2.66\n",
      "===================================================================================\n",
      "\n",
      "Warnings:\n",
      "[1] Covariance matrix calculated using the outer product of gradients (complex-step).\n",
      "[2] Covariance matrix is singular or near-singular, with condition number 2.3e+35. Standard errors may be unstable.\n"
     ]
    }
   ],
   "source": [
    "from statsmodels.tsa.arima.model import ARIMA\n",
    "model = ARIMA(detrended_df[0], order=(2,2,0))\n",
    "model_fit = model.fit()\n",
    "# summary of fit model\n",
    "print(model_fit.summary())"
   ]
  },
  {
   "cell_type": "markdown",
   "id": "021933ed-8cdd-4aed-801f-47a34e00ff19",
   "metadata": {},
   "source": [
    "### Gonorrhea time series"
   ]
  },
  {
   "cell_type": "code",
   "execution_count": 16,
   "id": "4b517e2d-16ba-4000-9eb2-71ad4e5de14b",
   "metadata": {},
   "outputs": [],
   "source": [
    "df = df_sum[['year','cases_gonorrhea']]"
   ]
  },
  {
   "cell_type": "code",
   "execution_count": 17,
   "id": "c92f2d37-1519-4148-b9ab-7266e1077393",
   "metadata": {},
   "outputs": [],
   "source": [
    "df = df.drop(labels=[20,0,1], axis=0)"
   ]
  },
  {
   "cell_type": "code",
   "execution_count": 18,
   "id": "d0fc9109-7876-4e85-975a-4da3f3566937",
   "metadata": {},
   "outputs": [],
   "source": [
    "import matplotlib.pyplot as plt\n",
    "import seaborn as sns "
   ]
  },
  {
   "cell_type": "code",
   "execution_count": 19,
   "id": "b3cf43b9-8d61-4567-b098-9c5576312de9",
   "metadata": {},
   "outputs": [
    {
     "data": {
      "image/png": "[encoded data removed]",
      "text/plain": [
       "<Figure size 432x288 with 1 Axes>"
      ]
     },
     "metadata": {
      "needs_background": "light"
     },
     "output_type": "display_data"
    }
   ],
   "source": [
    "sns.lineplot(data = df,x=\"year\",y=\"cases_gonorrhea\")\n",
    "plt.show()"
   ]
  },
  {
   "cell_type": "code",
   "execution_count": 20,
   "id": "6a8e7b39-92b4-4e55-9c6b-24618715e347",
   "metadata": {},
   "outputs": [],
   "source": [
    "from scipy import signal"
   ]
  },
  {
   "cell_type": "code",
   "execution_count": 21,
   "id": "73b32d6a-2dc5-4630-80b7-72eb0cdc9cd9",
   "metadata": {},
   "outputs": [
    {
     "data": {
      "image/png": "[encoded data removed]",
      "text/plain": [
       "<Figure size 432x288 with 1 Axes>"
      ]
     },
     "metadata": {
      "needs_background": "light"
     },
     "output_type": "display_data"
    }
   ],
   "source": [
    "detrended = signal.detrend(df.cases_gonorrhea)\n",
    "detrended_df = pd.DataFrame(detrended)\n",
    "detrended_df.plot()\n",
    "plt.show()"
   ]
  },
  {
   "cell_type": "code",
   "execution_count": 22,
   "id": "edc4c0db-f561-490d-9081-b6522936023c",
   "metadata": {},
   "outputs": [],
   "source": [
    "from statsmodels.tsa.stattools import acf, pacf\n",
    "from statsmodels.graphics.tsaplots import plot_acf, plot_pacf"
   ]
  },
  {
   "cell_type": "code",
   "execution_count": 23,
   "id": "d050c61f-05af-49b3-bd69-68573475f62c",
   "metadata": {},
   "outputs": [
    {
     "name": "stderr",
     "output_type": "stream",
     "text": [
      "C:\\Users\\philb\\AppData\\Local\\Programs\\Python\\Python310\\lib\\site-packages\\statsmodels\\graphics\\tsaplots.py:348: FutureWarning: The default method 'yw' can produce PACF values outside of the [-1,1] interval. After 0.13, the default will change tounadjusted Yule-Walker ('ywm'). You can use this method now by setting method='ywm'.\n",
      "  warnings.warn(\n"
     ]
    },
    {
     "data": {
      "image/png": "[encoded data removed]",
      "text/plain": [
       "<Figure size 1600x300 with 2 Axes>"
      ]
     },
     "execution_count": 23,
     "metadata": {},
     "output_type": "execute_result"
    },
    {
     "data": {
      "image/png": "[encoded data removed]",
      "text/plain": [
       "<Figure size 1600x300 with 2 Axes>"
      ]
     },
     "metadata": {
      "needs_background": "light"
     },
     "output_type": "display_data"
    }
   ],
   "source": [
    "fig, axes = plt.subplots(1,2,figsize=(16,3), dpi= 100)\n",
    "plot_acf(detrended_df[0].tolist(), lags=5, ax=axes[0])\n",
    "plot_pacf(detrended_df[0].tolist(), lags=5, ax=axes[1])"
   ]
  },
  {
   "cell_type": "code",
   "execution_count": 24,
   "id": "904484e6-2310-4857-b2e1-2d0aa6b04b0d",
   "metadata": {},
   "outputs": [
    {
     "name": "stdout",
     "output_type": "stream",
     "text": [
      "                               SARIMAX Results                                \n",
      "==============================================================================\n",
      "Dep. Variable:                      y   No. Observations:                   18\n",
      "Model:                 ARIMA(2, 2, 0)   Log Likelihood                -184.344\n",
      "Date:                Wed, 20 Jul 2022   AIC                            374.687\n",
      "Time:                        16:35:57   BIC                            377.005\n",
      "Sample:                             0   HQIC                           374.806\n",
      "                                 - 18                                         \n",
      "Covariance Type:                  opg                                         \n",
      "==============================================================================\n",
      "                 coef    std err          z      P>|z|      [0.025      0.975]\n",
      "------------------------------------------------------------------------------\n",
      "ar.L1         -0.0981      0.311     -0.316      0.752      -0.707       0.511\n",
      "ar.L2         -0.1755      0.267     -0.659      0.510      -0.698       0.347\n",
      "sigma2      6.374e+08   1.72e-10    3.7e+18      0.000    6.37e+08    6.37e+08\n",
      "===================================================================================\n",
      "Ljung-Box (L1) (Q):                   0.00   Jarque-Bera (JB):                 1.32\n",
      "Prob(Q):                              0.98   Prob(JB):                         0.52\n",
      "Heteroskedasticity (H):               5.38   Skew:                            -0.69\n",
      "Prob(H) (two-sided):                  0.09   Kurtosis:                         3.26\n",
      "===================================================================================\n",
      "\n",
      "Warnings:\n",
      "[1] Covariance matrix calculated using the outer product of gradients (complex-step).\n",
      "[2] Covariance matrix is singular or near-singular, with condition number 5.74e+34. Standard errors may be unstable.\n"
     ]
    }
   ],
   "source": [
    "from statsmodels.tsa.arima.model import ARIMA\n",
    "model = ARIMA(detrended_df[0], order=(2,2,0))\n",
    "model_fit = model.fit()\n",
    "# summary of fit model\n",
    "print(model_fit.summary())\n",
    "# line plot of residuals\n",
    "# residuals = DataFrame(model_fit.resid)\n",
    "# residuals.plot()\n",
    "# pyplot.show()\n",
    "# # density plot of residuals\n",
    "# residuals.plot(kind='kde')\n",
    "# pyplot.show()\n",
    "# # summary stats of residuals\n",
    "# print(residuals.describe())"
   ]
  },
  {
   "cell_type": "code",
   "execution_count": 25,
   "id": "bf9d6a5f-02ee-4b5f-9f86-372e761e817b",
   "metadata": {},
   "outputs": [
    {
     "name": "stdout",
     "output_type": "stream",
     "text": [
      "                               SARIMAX Results                                \n",
      "==============================================================================\n",
      "Dep. Variable:                      y   No. Observations:                   18\n",
      "Model:                 ARIMA(0, 2, 0)   Log Likelihood                -184.871\n",
      "Date:                Wed, 20 Jul 2022   AIC                            371.743\n",
      "Time:                        16:35:57   BIC                            372.515\n",
      "Sample:                             0   HQIC                           371.782\n",
      "                                 - 18                                         \n",
      "Covariance Type:                  opg                                         \n",
      "==============================================================================\n",
      "                 coef    std err          z      P>|z|      [0.025      0.975]\n",
      "------------------------------------------------------------------------------\n",
      "sigma2      5.614e+08   1.55e+08      3.616      0.000    2.57e+08    8.66e+08\n",
      "===================================================================================\n",
      "Ljung-Box (L1) (Q):                   0.00   Jarque-Bera (JB):                 3.34\n",
      "Prob(Q):                              0.95   Prob(JB):                         0.19\n",
      "Heteroskedasticity (H):               4.81   Skew:                            -0.99\n",
      "Prob(H) (two-sided):                  0.11   Kurtosis:                         4.05\n",
      "===================================================================================\n",
      "\n",
      "Warnings:\n",
      "[1] Covariance matrix calculated using the outer product of gradients (complex-step).\n"
     ]
    }
   ],
   "source": [
    "from statsmodels.tsa.arima.model import ARIMA\n",
    "model = ARIMA(detrended_df[0], order=(0,2,0))\n",
    "model_fit = model.fit()\n",
    "# summary of fit model\n",
    "print(model_fit.summary())"
   ]
  },
  {
   "cell_type": "code",
   "execution_count": 26,
   "id": "470e2104-35c8-41e2-9411-bfc2b82034de",
   "metadata": {},
   "outputs": [
    {
     "data": {
      "text/html": [
       "<div>\n",
       "<style scoped>\n",
       "    .dataframe tbody tr th:only-of-type {\n",
       "        vertical-align: middle;\n",
       "    }\n",
       "\n",
       "    .dataframe tbody tr th {\n",
       "        vertical-align: top;\n",
       "    }\n",
       "\n",
       "    .dataframe thead th {\n",
       "        text-align: right;\n",
       "    }\n",
       "</style>\n",
       "<table border=\"1\" class=\"dataframe\">\n",
       "  <thead>\n",
       "    <tr style=\"text-align: right;\">\n",
       "      <th></th>\n",
       "      <th>Unnamed: 0</th>\n",
       "      <th>year</th>\n",
       "      <th>fips</th>\n",
       "      <th>cases_chlamydia</th>\n",
       "      <th>cases_early_non-primary_non-secondary_syphilis</th>\n",
       "      <th>cases_gonorrhea</th>\n",
       "      <th>cases_primary_and_secondary_syphilis</th>\n",
       "      <th>rate_per_100000_chlamydia</th>\n",
       "      <th>rate_per_100000_early_non-primary_non-secondary_syphilis</th>\n",
       "      <th>rate_per_100000_gonorrhea</th>\n",
       "      <th>...</th>\n",
       "      <th>pct_ind_transportation_and_warehousing_and_utilities</th>\n",
       "      <th>pct_ind_information</th>\n",
       "      <th>pct_ind_finance_and_insurance_and_real_estate_and_rental_and_leasing</th>\n",
       "      <th>pct_ind_professional_scientific_and_management_and_administrative_and_waste_management_services</th>\n",
       "      <th>pct_ind_educational_services_and_health_care_and_social_assistance</th>\n",
       "      <th>pct_ind_arts_entertainment_and_recreation_and_accommodation_and_food_services</th>\n",
       "      <th>pct_ind_other_services_except_public_administration</th>\n",
       "      <th>pct_ind_public_administration</th>\n",
       "      <th>health_insurance_rate</th>\n",
       "      <th>poverty_rate</th>\n",
       "    </tr>\n",
       "  </thead>\n",
       "  <tbody>\n",
       "    <tr>\n",
       "      <th>0</th>\n",
       "      <td>0</td>\n",
       "      <td>2000</td>\n",
       "      <td>45001</td>\n",
       "      <td>61.0</td>\n",
       "      <td>1.0</td>\n",
       "      <td>57.0</td>\n",
       "      <td>2.0</td>\n",
       "      <td>232.6</td>\n",
       "      <td>3.8</td>\n",
       "      <td>217.4</td>\n",
       "      <td>...</td>\n",
       "      <td>NaN</td>\n",
       "      <td>NaN</td>\n",
       "      <td>NaN</td>\n",
       "      <td>NaN</td>\n",
       "      <td>NaN</td>\n",
       "      <td>NaN</td>\n",
       "      <td>NaN</td>\n",
       "      <td>NaN</td>\n",
       "      <td>NaN</td>\n",
       "      <td>NaN</td>\n",
       "    </tr>\n",
       "    <tr>\n",
       "      <th>1</th>\n",
       "      <td>1</td>\n",
       "      <td>2000</td>\n",
       "      <td>22001</td>\n",
       "      <td>0.0</td>\n",
       "      <td>8.0</td>\n",
       "      <td>0.0</td>\n",
       "      <td>11.0</td>\n",
       "      <td>0.0</td>\n",
       "      <td>13.6</td>\n",
       "      <td>0.0</td>\n",
       "      <td>...</td>\n",
       "      <td>NaN</td>\n",
       "      <td>NaN</td>\n",
       "      <td>NaN</td>\n",
       "      <td>NaN</td>\n",
       "      <td>NaN</td>\n",
       "      <td>NaN</td>\n",
       "      <td>NaN</td>\n",
       "      <td>NaN</td>\n",
       "      <td>NaN</td>\n",
       "      <td>NaN</td>\n",
       "    </tr>\n",
       "    <tr>\n",
       "      <th>2</th>\n",
       "      <td>2</td>\n",
       "      <td>2000</td>\n",
       "      <td>51001</td>\n",
       "      <td>153.0</td>\n",
       "      <td>2.0</td>\n",
       "      <td>88.0</td>\n",
       "      <td>0.0</td>\n",
       "      <td>398.7</td>\n",
       "      <td>5.2</td>\n",
       "      <td>229.3</td>\n",
       "      <td>...</td>\n",
       "      <td>NaN</td>\n",
       "      <td>NaN</td>\n",
       "      <td>NaN</td>\n",
       "      <td>NaN</td>\n",
       "      <td>NaN</td>\n",
       "      <td>NaN</td>\n",
       "      <td>NaN</td>\n",
       "      <td>NaN</td>\n",
       "      <td>NaN</td>\n",
       "      <td>NaN</td>\n",
       "    </tr>\n",
       "    <tr>\n",
       "      <th>3</th>\n",
       "      <td>3</td>\n",
       "      <td>2000</td>\n",
       "      <td>16001</td>\n",
       "      <td>644.0</td>\n",
       "      <td>0.0</td>\n",
       "      <td>33.0</td>\n",
       "      <td>1.0</td>\n",
       "      <td>212.3</td>\n",
       "      <td>0.0</td>\n",
       "      <td>10.9</td>\n",
       "      <td>...</td>\n",
       "      <td>NaN</td>\n",
       "      <td>NaN</td>\n",
       "      <td>NaN</td>\n",
       "      <td>NaN</td>\n",
       "      <td>NaN</td>\n",
       "      <td>NaN</td>\n",
       "      <td>NaN</td>\n",
       "      <td>NaN</td>\n",
       "      <td>NaN</td>\n",
       "      <td>NaN</td>\n",
       "    </tr>\n",
       "    <tr>\n",
       "      <th>4</th>\n",
       "      <td>4</td>\n",
       "      <td>2000</td>\n",
       "      <td>19001</td>\n",
       "      <td>8.0</td>\n",
       "      <td>0.0</td>\n",
       "      <td>0.0</td>\n",
       "      <td>0.0</td>\n",
       "      <td>97.6</td>\n",
       "      <td>0.0</td>\n",
       "      <td>0.0</td>\n",
       "      <td>...</td>\n",
       "      <td>NaN</td>\n",
       "      <td>NaN</td>\n",
       "      <td>NaN</td>\n",
       "      <td>NaN</td>\n",
       "      <td>NaN</td>\n",
       "      <td>NaN</td>\n",
       "      <td>NaN</td>\n",
       "      <td>NaN</td>\n",
       "      <td>NaN</td>\n",
       "      <td>NaN</td>\n",
       "    </tr>\n",
       "  </tbody>\n",
       "</table>\n",
       "<p>5 rows × 181 columns</p>\n",
       "</div>"
      ],
      "text/plain": [
       "   Unnamed: 0  year   fips  cases_chlamydia  \\\n",
       "0           0  2000  45001             61.0   \n",
       "1           1  2000  22001              0.0   \n",
       "2           2  2000  51001            153.0   \n",
       "3           3  2000  16001            644.0   \n",
       "4           4  2000  19001              8.0   \n",
       "\n",
       "   cases_early_non-primary_non-secondary_syphilis  cases_gonorrhea  \\\n",
       "0                                             1.0             57.0   \n",
       "1                                             8.0              0.0   \n",
       "2                                             2.0             88.0   \n",
       "3                                             0.0             33.0   \n",
       "4                                             0.0              0.0   \n",
       "\n",
       "   cases_primary_and_secondary_syphilis  rate_per_100000_chlamydia  \\\n",
       "0                                   2.0                      232.6   \n",
       "1                                  11.0                        0.0   \n",
       "2                                   0.0                      398.7   \n",
       "3                                   1.0                      212.3   \n",
       "4                                   0.0                       97.6   \n",
       "\n",
       "   rate_per_100000_early_non-primary_non-secondary_syphilis  \\\n",
       "0                                                3.8          \n",
       "1                                               13.6          \n",
       "2                                                5.2          \n",
       "3                                                0.0          \n",
       "4                                                0.0          \n",
       "\n",
       "   rate_per_100000_gonorrhea  ...  \\\n",
       "0                      217.4  ...   \n",
       "1                        0.0  ...   \n",
       "2                      229.3  ...   \n",
       "3                       10.9  ...   \n",
       "4                        0.0  ...   \n",
       "\n",
       "   pct_ind_transportation_and_warehousing_and_utilities  pct_ind_information  \\\n",
       "0                                                NaN                     NaN   \n",
       "1                                                NaN                     NaN   \n",
       "2                                                NaN                     NaN   \n",
       "3                                                NaN                     NaN   \n",
       "4                                                NaN                     NaN   \n",
       "\n",
       "   pct_ind_finance_and_insurance_and_real_estate_and_rental_and_leasing  \\\n",
       "0                                                NaN                      \n",
       "1                                                NaN                      \n",
       "2                                                NaN                      \n",
       "3                                                NaN                      \n",
       "4                                                NaN                      \n",
       "\n",
       "   pct_ind_professional_scientific_and_management_and_administrative_and_waste_management_services  \\\n",
       "0                                                NaN                                                 \n",
       "1                                                NaN                                                 \n",
       "2                                                NaN                                                 \n",
       "3                                                NaN                                                 \n",
       "4                                                NaN                                                 \n",
       "\n",
       "   pct_ind_educational_services_and_health_care_and_social_assistance  \\\n",
       "0                                                NaN                    \n",
       "1                                                NaN                    \n",
       "2                                                NaN                    \n",
       "3                                                NaN                    \n",
       "4                                                NaN                    \n",
       "\n",
       "   pct_ind_arts_entertainment_and_recreation_and_accommodation_and_food_services  \\\n",
       "0                                                NaN                               \n",
       "1                                                NaN                               \n",
       "2                                                NaN                               \n",
       "3                                                NaN                               \n",
       "4                                                NaN                               \n",
       "\n",
       "   pct_ind_other_services_except_public_administration  \\\n",
       "0                                                NaN     \n",
       "1                                                NaN     \n",
       "2                                                NaN     \n",
       "3                                                NaN     \n",
       "4                                                NaN     \n",
       "\n",
       "   pct_ind_public_administration  health_insurance_rate  poverty_rate  \n",
       "0                            NaN                    NaN           NaN  \n",
       "1                            NaN                    NaN           NaN  \n",
       "2                            NaN                    NaN           NaN  \n",
       "3                            NaN                    NaN           NaN  \n",
       "4                            NaN                    NaN           NaN  \n",
       "\n",
       "[5 rows x 181 columns]"
      ]
     },
     "execution_count": 26,
     "metadata": {},
     "output_type": "execute_result"
    }
   ],
   "source": [
    "data = pd.read_csv(\"../Data/Final/STI0220_cov20_pop0220.csv\")\n",
    "data.drop(columns=[\"Unnamed: 0\"])\n",
    "data.head()"
   ]
  },
  {
   "cell_type": "code",
   "execution_count": 27,
   "id": "99139748",
   "metadata": {},
   "outputs": [
    {
     "name": "stderr",
     "output_type": "stream",
     "text": [
      "C:\\Users\\philb\\AppData\\Local\\Temp\\ipykernel_27656\\3978570435.py:1: FutureWarning: Indexing with multiple keys (implicitly converted to a tuple of keys) will be deprecated, use a list instead.\n",
      "  df_sum = data.groupby(['year'])['cases_gonorrhea','cases_chlamydia','cases_early_non-primary_non-secondary_syphilis','cases_primary_and_secondary_syphilis'].sum().reset_index()\n"
     ]
    },
    {
     "data": {
      "text/html": [
       "<div>\n",
       "<style scoped>\n",
       "    .dataframe tbody tr th:only-of-type {\n",
       "        vertical-align: middle;\n",
       "    }\n",
       "\n",
       "    .dataframe tbody tr th {\n",
       "        vertical-align: top;\n",
       "    }\n",
       "\n",
       "    .dataframe thead th {\n",
       "        text-align: right;\n",
       "    }\n",
       "</style>\n",
       "<table border=\"1\" class=\"dataframe\">\n",
       "  <thead>\n",
       "    <tr style=\"text-align: right;\">\n",
       "      <th></th>\n",
       "      <th>year</th>\n",
       "      <th>cases_gonorrhea</th>\n",
       "      <th>cases_chlamydia</th>\n",
       "      <th>cases_early_non-primary_non-secondary_syphilis</th>\n",
       "      <th>cases_primary_and_secondary_syphilis</th>\n",
       "    </tr>\n",
       "  </thead>\n",
       "  <tbody>\n",
       "    <tr>\n",
       "      <th>0</th>\n",
       "      <td>2000</td>\n",
       "      <td>211107.0</td>\n",
       "      <td>382743.0</td>\n",
       "      <td>9442.0</td>\n",
       "      <td>5967.0</td>\n",
       "    </tr>\n",
       "    <tr>\n",
       "      <th>1</th>\n",
       "      <td>2001</td>\n",
       "      <td>245354.0</td>\n",
       "      <td>487479.0</td>\n",
       "      <td>8705.0</td>\n",
       "      <td>6099.0</td>\n",
       "    </tr>\n",
       "    <tr>\n",
       "      <th>2</th>\n",
       "      <td>2002</td>\n",
       "      <td>345739.0</td>\n",
       "      <td>813390.0</td>\n",
       "      <td>8427.0</td>\n",
       "      <td>6863.0</td>\n",
       "    </tr>\n",
       "    <tr>\n",
       "      <th>3</th>\n",
       "      <td>2003</td>\n",
       "      <td>332124.0</td>\n",
       "      <td>869331.0</td>\n",
       "      <td>8357.0</td>\n",
       "      <td>7175.0</td>\n",
       "    </tr>\n",
       "    <tr>\n",
       "      <th>4</th>\n",
       "      <td>2004</td>\n",
       "      <td>327136.0</td>\n",
       "      <td>920962.0</td>\n",
       "      <td>7766.0</td>\n",
       "      <td>7977.0</td>\n",
       "    </tr>\n",
       "  </tbody>\n",
       "</table>\n",
       "</div>"
      ],
      "text/plain": [
       "   year  cases_gonorrhea  cases_chlamydia  \\\n",
       "0  2000         211107.0         382743.0   \n",
       "1  2001         245354.0         487479.0   \n",
       "2  2002         345739.0         813390.0   \n",
       "3  2003         332124.0         869331.0   \n",
       "4  2004         327136.0         920962.0   \n",
       "\n",
       "   cases_early_non-primary_non-secondary_syphilis  \\\n",
       "0                                          9442.0   \n",
       "1                                          8705.0   \n",
       "2                                          8427.0   \n",
       "3                                          8357.0   \n",
       "4                                          7766.0   \n",
       "\n",
       "   cases_primary_and_secondary_syphilis  \n",
       "0                                5967.0  \n",
       "1                                6099.0  \n",
       "2                                6863.0  \n",
       "3                                7175.0  \n",
       "4                                7977.0  "
      ]
     },
     "execution_count": 27,
     "metadata": {},
     "output_type": "execute_result"
    }
   ],
   "source": [
    "df_sum = data.groupby(['year'])['cases_gonorrhea','cases_chlamydia','cases_early_non-primary_non-secondary_syphilis','cases_primary_and_secondary_syphilis'].sum().reset_index()\n",
    "df_sum.head()"
   ]
  },
  {
   "cell_type": "code",
   "execution_count": 28,
   "id": "90c85708",
   "metadata": {},
   "outputs": [
    {
     "name": "stderr",
     "output_type": "stream",
     "text": [
      "C:\\Users\\philb\\AppData\\Local\\Temp\\ipykernel_27656\\859962695.py:2: SettingWithCopyWarning: \n",
      "A value is trying to be set on a copy of a slice from a DataFrame.\n",
      "Try using .loc[row_indexer,col_indexer] = value instead\n",
      "\n",
      "See the caveats in the documentation: https://pandas.pydata.org/pandas-docs/stable/user_guide/indexing.html#returning-a-view-versus-a-copy\n",
      "  df_model[\"year\"] = df_model[\"year\"].astype(int)\n"
     ]
    },
    {
     "data": {
      "text/html": [
       "<div>\n",
       "<style scoped>\n",
       "    .dataframe tbody tr th:only-of-type {\n",
       "        vertical-align: middle;\n",
       "    }\n",
       "\n",
       "    .dataframe tbody tr th {\n",
       "        vertical-align: top;\n",
       "    }\n",
       "\n",
       "    .dataframe thead th {\n",
       "        text-align: right;\n",
       "    }\n",
       "</style>\n",
       "<table border=\"1\" class=\"dataframe\">\n",
       "  <thead>\n",
       "    <tr style=\"text-align: right;\">\n",
       "      <th></th>\n",
       "      <th>year</th>\n",
       "      <th>cases_chlamydia</th>\n",
       "    </tr>\n",
       "  </thead>\n",
       "  <tbody>\n",
       "    <tr>\n",
       "      <th>0</th>\n",
       "      <td>2000</td>\n",
       "      <td>382743.0</td>\n",
       "    </tr>\n",
       "    <tr>\n",
       "      <th>1</th>\n",
       "      <td>2001</td>\n",
       "      <td>487479.0</td>\n",
       "    </tr>\n",
       "    <tr>\n",
       "      <th>2</th>\n",
       "      <td>2002</td>\n",
       "      <td>813390.0</td>\n",
       "    </tr>\n",
       "    <tr>\n",
       "      <th>3</th>\n",
       "      <td>2003</td>\n",
       "      <td>869331.0</td>\n",
       "    </tr>\n",
       "    <tr>\n",
       "      <th>4</th>\n",
       "      <td>2004</td>\n",
       "      <td>920962.0</td>\n",
       "    </tr>\n",
       "    <tr>\n",
       "      <th>5</th>\n",
       "      <td>2005</td>\n",
       "      <td>964523.0</td>\n",
       "    </tr>\n",
       "    <tr>\n",
       "      <th>6</th>\n",
       "      <td>2006</td>\n",
       "      <td>1021988.0</td>\n",
       "    </tr>\n",
       "    <tr>\n",
       "      <th>7</th>\n",
       "      <td>2007</td>\n",
       "      <td>1099171.0</td>\n",
       "    </tr>\n",
       "    <tr>\n",
       "      <th>8</th>\n",
       "      <td>2008</td>\n",
       "      <td>1191991.0</td>\n",
       "    </tr>\n",
       "    <tr>\n",
       "      <th>9</th>\n",
       "      <td>2009</td>\n",
       "      <td>1235784.0</td>\n",
       "    </tr>\n",
       "    <tr>\n",
       "      <th>10</th>\n",
       "      <td>2010</td>\n",
       "      <td>1306840.0</td>\n",
       "    </tr>\n",
       "    <tr>\n",
       "      <th>11</th>\n",
       "      <td>2011</td>\n",
       "      <td>1407929.0</td>\n",
       "    </tr>\n",
       "    <tr>\n",
       "      <th>12</th>\n",
       "      <td>2012</td>\n",
       "      <td>1421949.0</td>\n",
       "    </tr>\n",
       "    <tr>\n",
       "      <th>13</th>\n",
       "      <td>2013</td>\n",
       "      <td>1387063.0</td>\n",
       "    </tr>\n",
       "    <tr>\n",
       "      <th>14</th>\n",
       "      <td>2014</td>\n",
       "      <td>1432900.0</td>\n",
       "    </tr>\n",
       "    <tr>\n",
       "      <th>15</th>\n",
       "      <td>2015</td>\n",
       "      <td>1496908.0</td>\n",
       "    </tr>\n",
       "    <tr>\n",
       "      <th>16</th>\n",
       "      <td>2016</td>\n",
       "      <td>1581694.0</td>\n",
       "    </tr>\n",
       "    <tr>\n",
       "      <th>17</th>\n",
       "      <td>2017</td>\n",
       "      <td>1703380.0</td>\n",
       "    </tr>\n",
       "    <tr>\n",
       "      <th>18</th>\n",
       "      <td>2018</td>\n",
       "      <td>1754475.0</td>\n",
       "    </tr>\n",
       "    <tr>\n",
       "      <th>19</th>\n",
       "      <td>2019</td>\n",
       "      <td>1801295.0</td>\n",
       "    </tr>\n",
       "  </tbody>\n",
       "</table>\n",
       "</div>"
      ],
      "text/plain": [
       "    year  cases_chlamydia\n",
       "0   2000         382743.0\n",
       "1   2001         487479.0\n",
       "2   2002         813390.0\n",
       "3   2003         869331.0\n",
       "4   2004         920962.0\n",
       "5   2005         964523.0\n",
       "6   2006        1021988.0\n",
       "7   2007        1099171.0\n",
       "8   2008        1191991.0\n",
       "9   2009        1235784.0\n",
       "10  2010        1306840.0\n",
       "11  2011        1407929.0\n",
       "12  2012        1421949.0\n",
       "13  2013        1387063.0\n",
       "14  2014        1432900.0\n",
       "15  2015        1496908.0\n",
       "16  2016        1581694.0\n",
       "17  2017        1703380.0\n",
       "18  2018        1754475.0\n",
       "19  2019        1801295.0"
      ]
     },
     "execution_count": 28,
     "metadata": {},
     "output_type": "execute_result"
    }
   ],
   "source": [
    "df_model = df_sum[[\"year\", \"cases_chlamydia\"]]\n",
    "df_model[\"year\"] = df_model[\"year\"].astype(int)\n",
    "actual_value = df_model.at[20, \"cases_chlamydia\"]\n",
    "df_plot = df_model\n",
    "df_model = df_model[df_model[\"year\"] <= 2019]\n",
    "df_model.head(21)"
   ]
  },
  {
   "cell_type": "code",
   "execution_count": 29,
   "id": "01daceaf",
   "metadata": {},
   "outputs": [],
   "source": [
    "from statsmodels.tsa.arima.model import ARIMA\n",
    "model = ARIMA(df_model[\"cases_chlamydia\"], order=(2,2,0))\n",
    "model_fit = model.fit()"
   ]
  },
  {
   "cell_type": "code",
   "execution_count": 30,
   "id": "8b003130",
   "metadata": {},
   "outputs": [
    {
     "name": "stdout",
     "output_type": "stream",
     "text": [
      "                               SARIMAX Results                                \n",
      "==============================================================================\n",
      "Dep. Variable:        cases_chlamydia   No. Observations:                   20\n",
      "Model:                 ARIMA(2, 2, 0)   Log Likelihood                -231.431\n",
      "Date:                Wed, 20 Jul 2022   AIC                            468.861\n",
      "Time:                        16:35:59   BIC                            471.532\n",
      "Sample:                             0   HQIC                           469.230\n",
      "                                 - 20                                         \n",
      "Covariance Type:                  opg                                         \n",
      "==============================================================================\n",
      "                 coef    std err          z      P>|z|      [0.025      0.975]\n",
      "------------------------------------------------------------------------------\n",
      "ar.L1         -0.3638      0.086     -4.214      0.000      -0.533      -0.195\n",
      "ar.L2          0.1745      0.081      2.145      0.032       0.015       0.334\n",
      "sigma2      1.689e+09   2.67e-11   6.33e+19      0.000    1.69e+09    1.69e+09\n",
      "===================================================================================\n",
      "Ljung-Box (L1) (Q):                   0.15   Jarque-Bera (JB):                 1.77\n",
      "Prob(Q):                              0.70   Prob(JB):                         0.41\n",
      "Heteroskedasticity (H):               0.36   Skew:                            -0.68\n",
      "Prob(H) (two-sided):                  0.24   Kurtosis:                         2.28\n",
      "===================================================================================\n",
      "\n",
      "Warnings:\n",
      "[1] Covariance matrix calculated using the outer product of gradients (complex-step).\n",
      "[2] Covariance matrix is singular or near-singular, with condition number 3.08e+35. Standard errors may be unstable.\n"
     ]
    }
   ],
   "source": [
    " # summary of fit model\n",
    "print(model_fit.summary())"
   ]
  },
  {
   "cell_type": "code",
   "execution_count": 31,
   "id": "43b31305",
   "metadata": {},
   "outputs": [
    {
     "name": "stdout",
     "output_type": "stream",
     "text": [
      "Predicted: 1837355.0071641896 Actual: 1578111.0\n"
     ]
    }
   ],
   "source": [
    "pred = model_fit.predict(20).to_frame()\n",
    "fitted_value = pred.iloc[0][0]\n",
    "print(\"Predicted: \" + str(fitted_value) + \" Actual: \" + str(actual_value))"
   ]
  },
  {
   "cell_type": "code",
   "execution_count": 32,
   "id": "44b0d7b5",
   "metadata": {},
   "outputs": [
    {
     "name": "stderr",
     "output_type": "stream",
     "text": [
      "C:\\Users\\philb\\AppData\\Local\\Temp\\ipykernel_27656\\1960092901.py:10: UserWarning: FixedFormatter should only be used together with FixedLocator\n",
      "  plt.gca().set_yticklabels(['{:,.0f}'.format(x) for x in current_values])\n"
     ]
    },
    {
     "data": {
      "image/png": "[encoded data removed]",
      "text/plain": [
       "<Figure size 1080x576 with 1 Axes>"
      ]
     },
     "metadata": {},
     "output_type": "display_data"
    }
   ],
   "source": [
    "sns.set_theme()\n",
    "plt.figure(figsize = (15,8))\n",
    "g = sns.lineplot(data = df_plot, x = 'year', y = 'cases_chlamydia', marker = \"o\")\n",
    "g.set_ylabel('Case Counts')\n",
    "g.set_xlabel('Year')\n",
    "g.set_xticks(df_sum['year'])\n",
    "g.set_title(\"U.S. Chlamydia Cases, 2002-2020 and Predicted Chlamydia Cases (Red), 2020\")\n",
    "plt.legend(labels=[\"Actual Chlamydia Cases\"])\n",
    "current_values = plt.gca().get_yticks()\n",
    "plt.gca().set_yticklabels(['{:,.0f}'.format(x) for x in current_values])\n",
    "plt.scatter(2020, fitted_value, marker='o', s=25, c=\"red\")\n",
    "plt.savefig('../Output/PosterPresentation/ModelOutputs/arima_chlamydia.png',dpi=300)\n",
    "plt.show()"
   ]
  }
 ],
 "metadata": {
  "kernelspec": {
   "display_name": "Python 3 (ipykernel)",
   "language": "python",
   "name": "python3"
  },
  "language_info": {
   "codemirror_mode": {
    "name": "ipython",
    "version": 3
   },
   "file_extension": ".py",
   "mimetype": "text/x-python",
   "name": "python",
   "nbconvert_exporter": "python",
   "pygments_lexer": "ipython3",
   "version": "3.10.5"
  }
 },
 "nbformat": 4,
 "nbformat_minor": 5
}
