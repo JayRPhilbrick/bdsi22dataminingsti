{
 "cells": [
  {
   "cell_type": "code",
   "execution_count": 55,
   "id": "d2b35ea9-cc3b-4da0-87fd-0b3e277af7a1",
   "metadata": {},
   "outputs": [],
   "source": [
    "import pandas as pd\n",
    "import numpy as np"
   ]
  },
  {
   "cell_type": "code",
   "execution_count": 56,
   "id": "e0c5de7e-b974-44d6-b324-45b62ee9516a",
   "metadata": {},
   "outputs": [],
   "source": [
    "data = pd.read_csv(\"../Data/clean/CDC/CDCSTDoverall2000_2020_clean.csv\")"
   ]
  },
  {
   "cell_type": "code",
   "execution_count": 57,
   "id": "d7096201-653a-4540-9a95-d3734a8298b7",
   "metadata": {},
   "outputs": [
    {
     "data": {
      "text/html": [
       "<div>\n",
       "<style scoped>\n",
       "    .dataframe tbody tr th:only-of-type {\n",
       "        vertical-align: middle;\n",
       "    }\n",
       "\n",
       "    .dataframe tbody tr th {\n",
       "        vertical-align: top;\n",
       "    }\n",
       "\n",
       "    .dataframe thead th {\n",
       "        text-align: right;\n",
       "    }\n",
       "</style>\n",
       "<table border=\"1\" class=\"dataframe\">\n",
       "  <thead>\n",
       "    <tr style=\"text-align: right;\">\n",
       "      <th></th>\n",
       "      <th>Unnamed: 0.1</th>\n",
       "      <th>year</th>\n",
       "      <th>geography</th>\n",
       "      <th>fips</th>\n",
       "      <th>cases_chlamydia</th>\n",
       "      <th>cases_early_non-primary_non-secondary_syphilis</th>\n",
       "      <th>cases_gonorrhea</th>\n",
       "      <th>cases_primary_and_secondary_syphilis</th>\n",
       "      <th>rate_per_100000_chlamydia</th>\n",
       "      <th>rate_per_100000_early_non-primary_non-secondary_syphilis</th>\n",
       "      <th>...</th>\n",
       "      <th>rate_per_100000_male_gonorrhea_multiracial</th>\n",
       "      <th>rate_per_100000_male_gonorrhea_native_hawaiian_other_pacific_islander</th>\n",
       "      <th>rate_per_100000_male_gonorrhea_white</th>\n",
       "      <th>rate_per_100000_male_primary_and_secondary_syphilis_american_indian_alaska_native</th>\n",
       "      <th>rate_per_100000_male_primary_and_secondary_syphilis_asian</th>\n",
       "      <th>rate_per_100000_male_primary_and_secondary_syphilis_black_african_american</th>\n",
       "      <th>rate_per_100000_male_primary_and_secondary_syphilis_hispanic_latino</th>\n",
       "      <th>rate_per_100000_male_primary_and_secondary_syphilis_multiracial</th>\n",
       "      <th>rate_per_100000_male_primary_and_secondary_syphilis_native_hawaiian_other_pacific_islander</th>\n",
       "      <th>rate_per_100000_male_primary_and_secondary_syphilis_white</th>\n",
       "    </tr>\n",
       "  </thead>\n",
       "  <tbody>\n",
       "    <tr>\n",
       "      <th>0</th>\n",
       "      <td>0</td>\n",
       "      <td>2000</td>\n",
       "      <td>Abbeville County, SC</td>\n",
       "      <td>45001</td>\n",
       "      <td>61.0</td>\n",
       "      <td>1.0</td>\n",
       "      <td>57.0</td>\n",
       "      <td>2.0</td>\n",
       "      <td>232.6</td>\n",
       "      <td>3.8</td>\n",
       "      <td>...</td>\n",
       "      <td>NaN</td>\n",
       "      <td>NaN</td>\n",
       "      <td>NaN</td>\n",
       "      <td>NaN</td>\n",
       "      <td>NaN</td>\n",
       "      <td>NaN</td>\n",
       "      <td>NaN</td>\n",
       "      <td>NaN</td>\n",
       "      <td>NaN</td>\n",
       "      <td>NaN</td>\n",
       "    </tr>\n",
       "    <tr>\n",
       "      <th>1</th>\n",
       "      <td>1</td>\n",
       "      <td>2000</td>\n",
       "      <td>Acadia Parish, LA</td>\n",
       "      <td>22001</td>\n",
       "      <td>0.0</td>\n",
       "      <td>8.0</td>\n",
       "      <td>0.0</td>\n",
       "      <td>11.0</td>\n",
       "      <td>0.0</td>\n",
       "      <td>13.6</td>\n",
       "      <td>...</td>\n",
       "      <td>NaN</td>\n",
       "      <td>NaN</td>\n",
       "      <td>NaN</td>\n",
       "      <td>NaN</td>\n",
       "      <td>NaN</td>\n",
       "      <td>NaN</td>\n",
       "      <td>NaN</td>\n",
       "      <td>NaN</td>\n",
       "      <td>NaN</td>\n",
       "      <td>NaN</td>\n",
       "    </tr>\n",
       "    <tr>\n",
       "      <th>2</th>\n",
       "      <td>2</td>\n",
       "      <td>2000</td>\n",
       "      <td>Accomack County, VA</td>\n",
       "      <td>51001</td>\n",
       "      <td>153.0</td>\n",
       "      <td>2.0</td>\n",
       "      <td>88.0</td>\n",
       "      <td>0.0</td>\n",
       "      <td>398.7</td>\n",
       "      <td>5.2</td>\n",
       "      <td>...</td>\n",
       "      <td>NaN</td>\n",
       "      <td>NaN</td>\n",
       "      <td>NaN</td>\n",
       "      <td>NaN</td>\n",
       "      <td>NaN</td>\n",
       "      <td>NaN</td>\n",
       "      <td>NaN</td>\n",
       "      <td>NaN</td>\n",
       "      <td>NaN</td>\n",
       "      <td>NaN</td>\n",
       "    </tr>\n",
       "    <tr>\n",
       "      <th>3</th>\n",
       "      <td>3</td>\n",
       "      <td>2000</td>\n",
       "      <td>Ada County, ID</td>\n",
       "      <td>16001</td>\n",
       "      <td>644.0</td>\n",
       "      <td>0.0</td>\n",
       "      <td>33.0</td>\n",
       "      <td>1.0</td>\n",
       "      <td>212.3</td>\n",
       "      <td>0.0</td>\n",
       "      <td>...</td>\n",
       "      <td>NaN</td>\n",
       "      <td>NaN</td>\n",
       "      <td>NaN</td>\n",
       "      <td>NaN</td>\n",
       "      <td>NaN</td>\n",
       "      <td>NaN</td>\n",
       "      <td>NaN</td>\n",
       "      <td>NaN</td>\n",
       "      <td>NaN</td>\n",
       "      <td>NaN</td>\n",
       "    </tr>\n",
       "    <tr>\n",
       "      <th>4</th>\n",
       "      <td>4</td>\n",
       "      <td>2000</td>\n",
       "      <td>Adair County, IA</td>\n",
       "      <td>19001</td>\n",
       "      <td>8.0</td>\n",
       "      <td>0.0</td>\n",
       "      <td>0.0</td>\n",
       "      <td>0.0</td>\n",
       "      <td>97.6</td>\n",
       "      <td>0.0</td>\n",
       "      <td>...</td>\n",
       "      <td>NaN</td>\n",
       "      <td>NaN</td>\n",
       "      <td>NaN</td>\n",
       "      <td>NaN</td>\n",
       "      <td>NaN</td>\n",
       "      <td>NaN</td>\n",
       "      <td>NaN</td>\n",
       "      <td>NaN</td>\n",
       "      <td>NaN</td>\n",
       "      <td>NaN</td>\n",
       "    </tr>\n",
       "  </tbody>\n",
       "</table>\n",
       "<p>5 rows × 133 columns</p>\n",
       "</div>"
      ],
      "text/plain": [
       "   Unnamed: 0.1  year             geography   fips  cases_chlamydia  \\\n",
       "0             0  2000  Abbeville County, SC  45001             61.0   \n",
       "1             1  2000     Acadia Parish, LA  22001              0.0   \n",
       "2             2  2000   Accomack County, VA  51001            153.0   \n",
       "3             3  2000        Ada County, ID  16001            644.0   \n",
       "4             4  2000      Adair County, IA  19001              8.0   \n",
       "\n",
       "   cases_early_non-primary_non-secondary_syphilis  cases_gonorrhea  \\\n",
       "0                                             1.0             57.0   \n",
       "1                                             8.0              0.0   \n",
       "2                                             2.0             88.0   \n",
       "3                                             0.0             33.0   \n",
       "4                                             0.0              0.0   \n",
       "\n",
       "   cases_primary_and_secondary_syphilis  rate_per_100000_chlamydia  \\\n",
       "0                                   2.0                      232.6   \n",
       "1                                  11.0                        0.0   \n",
       "2                                   0.0                      398.7   \n",
       "3                                   1.0                      212.3   \n",
       "4                                   0.0                       97.6   \n",
       "\n",
       "   rate_per_100000_early_non-primary_non-secondary_syphilis  ...  \\\n",
       "0                                                3.8         ...   \n",
       "1                                               13.6         ...   \n",
       "2                                                5.2         ...   \n",
       "3                                                0.0         ...   \n",
       "4                                                0.0         ...   \n",
       "\n",
       "   rate_per_100000_male_gonorrhea_multiracial  \\\n",
       "0                                         NaN   \n",
       "1                                         NaN   \n",
       "2                                         NaN   \n",
       "3                                         NaN   \n",
       "4                                         NaN   \n",
       "\n",
       "   rate_per_100000_male_gonorrhea_native_hawaiian_other_pacific_islander  \\\n",
       "0                                                NaN                       \n",
       "1                                                NaN                       \n",
       "2                                                NaN                       \n",
       "3                                                NaN                       \n",
       "4                                                NaN                       \n",
       "\n",
       "   rate_per_100000_male_gonorrhea_white  \\\n",
       "0                                   NaN   \n",
       "1                                   NaN   \n",
       "2                                   NaN   \n",
       "3                                   NaN   \n",
       "4                                   NaN   \n",
       "\n",
       "   rate_per_100000_male_primary_and_secondary_syphilis_american_indian_alaska_native  \\\n",
       "0                                                NaN                                   \n",
       "1                                                NaN                                   \n",
       "2                                                NaN                                   \n",
       "3                                                NaN                                   \n",
       "4                                                NaN                                   \n",
       "\n",
       "   rate_per_100000_male_primary_and_secondary_syphilis_asian  \\\n",
       "0                                                NaN           \n",
       "1                                                NaN           \n",
       "2                                                NaN           \n",
       "3                                                NaN           \n",
       "4                                                NaN           \n",
       "\n",
       "   rate_per_100000_male_primary_and_secondary_syphilis_black_african_american  \\\n",
       "0                                                NaN                            \n",
       "1                                                NaN                            \n",
       "2                                                NaN                            \n",
       "3                                                NaN                            \n",
       "4                                                NaN                            \n",
       "\n",
       "   rate_per_100000_male_primary_and_secondary_syphilis_hispanic_latino  \\\n",
       "0                                                NaN                     \n",
       "1                                                NaN                     \n",
       "2                                                NaN                     \n",
       "3                                                NaN                     \n",
       "4                                                NaN                     \n",
       "\n",
       "   rate_per_100000_male_primary_and_secondary_syphilis_multiracial  \\\n",
       "0                                                NaN                 \n",
       "1                                                NaN                 \n",
       "2                                                NaN                 \n",
       "3                                                NaN                 \n",
       "4                                                NaN                 \n",
       "\n",
       "   rate_per_100000_male_primary_and_secondary_syphilis_native_hawaiian_other_pacific_islander  \\\n",
       "0                                                NaN                                            \n",
       "1                                                NaN                                            \n",
       "2                                                NaN                                            \n",
       "3                                                NaN                                            \n",
       "4                                                NaN                                            \n",
       "\n",
       "   rate_per_100000_male_primary_and_secondary_syphilis_white  \n",
       "0                                                NaN          \n",
       "1                                                NaN          \n",
       "2                                                NaN          \n",
       "3                                                NaN          \n",
       "4                                                NaN          \n",
       "\n",
       "[5 rows x 133 columns]"
      ]
     },
     "execution_count": 57,
     "metadata": {},
     "output_type": "execute_result"
    }
   ],
   "source": [
    "data.head()"
   ]
  },
  {
   "cell_type": "code",
   "execution_count": 23,
   "id": "c3517b68-85cd-4ead-8ced-daf7b9ce5ac4",
   "metadata": {},
   "outputs": [
    {
     "name": "stderr",
     "output_type": "stream",
     "text": [
      "/var/folders/zl/tww5174129gdj_kds5bh2xx80000gn/T/ipykernel_2939/3700150800.py:1: FutureWarning: Indexing with multiple keys (implicitly converted to a tuple of keys) will be deprecated, use a list instead.\n",
      "  df_sum = data.groupby(['year'])['cases_gonorrhea','cases_chlamydia','cases_early_non-primary_non-secondary_syphilis','cases_primary_and_secondary_syphilis'].sum().reset_index()\n"
     ]
    }
   ],
   "source": [
    "df_sum = data.groupby(['year'])['cases_gonorrhea','cases_chlamydia','cases_early_non-primary_non-secondary_syphilis','cases_primary_and_secondary_syphilis'].sum().reset_index()"
   ]
  },
  {
   "cell_type": "code",
   "execution_count": 24,
   "id": "ecfb5352-3501-4edc-a1eb-87b7d60cb211",
   "metadata": {},
   "outputs": [
    {
     "data": {
      "text/html": [
       "<div>\n",
       "<style scoped>\n",
       "    .dataframe tbody tr th:only-of-type {\n",
       "        vertical-align: middle;\n",
       "    }\n",
       "\n",
       "    .dataframe tbody tr th {\n",
       "        vertical-align: top;\n",
       "    }\n",
       "\n",
       "    .dataframe thead th {\n",
       "        text-align: right;\n",
       "    }\n",
       "</style>\n",
       "<table border=\"1\" class=\"dataframe\">\n",
       "  <thead>\n",
       "    <tr style=\"text-align: right;\">\n",
       "      <th></th>\n",
       "      <th>year</th>\n",
       "      <th>cases_gonorrhea</th>\n",
       "      <th>cases_chlamydia</th>\n",
       "      <th>cases_early_non-primary_non-secondary_syphilis</th>\n",
       "      <th>cases_primary_and_secondary_syphilis</th>\n",
       "    </tr>\n",
       "  </thead>\n",
       "  <tbody>\n",
       "    <tr>\n",
       "      <th>0</th>\n",
       "      <td>2000</td>\n",
       "      <td>211146.0</td>\n",
       "      <td>382937.0</td>\n",
       "      <td>9989.0</td>\n",
       "      <td>6117.0</td>\n",
       "    </tr>\n",
       "    <tr>\n",
       "      <th>1</th>\n",
       "      <td>2001</td>\n",
       "      <td>245376.0</td>\n",
       "      <td>487710.0</td>\n",
       "      <td>9262.0</td>\n",
       "      <td>6287.0</td>\n",
       "    </tr>\n",
       "    <tr>\n",
       "      <th>2</th>\n",
       "      <td>2002</td>\n",
       "      <td>345771.0</td>\n",
       "      <td>813734.0</td>\n",
       "      <td>9064.0</td>\n",
       "      <td>7089.0</td>\n",
       "    </tr>\n",
       "    <tr>\n",
       "      <th>3</th>\n",
       "      <td>2003</td>\n",
       "      <td>332157.0</td>\n",
       "      <td>869687.0</td>\n",
       "      <td>8989.0</td>\n",
       "      <td>7352.0</td>\n",
       "    </tr>\n",
       "    <tr>\n",
       "      <th>4</th>\n",
       "      <td>2004</td>\n",
       "      <td>327207.0</td>\n",
       "      <td>921261.0</td>\n",
       "      <td>8101.0</td>\n",
       "      <td>8152.0</td>\n",
       "    </tr>\n",
       "  </tbody>\n",
       "</table>\n",
       "</div>"
      ],
      "text/plain": [
       "   year  cases_gonorrhea  cases_chlamydia  \\\n",
       "0  2000         211146.0         382937.0   \n",
       "1  2001         245376.0         487710.0   \n",
       "2  2002         345771.0         813734.0   \n",
       "3  2003         332157.0         869687.0   \n",
       "4  2004         327207.0         921261.0   \n",
       "\n",
       "   cases_early_non-primary_non-secondary_syphilis  \\\n",
       "0                                          9989.0   \n",
       "1                                          9262.0   \n",
       "2                                          9064.0   \n",
       "3                                          8989.0   \n",
       "4                                          8101.0   \n",
       "\n",
       "   cases_primary_and_secondary_syphilis  \n",
       "0                                6117.0  \n",
       "1                                6287.0  \n",
       "2                                7089.0  \n",
       "3                                7352.0  \n",
       "4                                8152.0  "
      ]
     },
     "execution_count": 24,
     "metadata": {},
     "output_type": "execute_result"
    }
   ],
   "source": [
    "df_sum.head()"
   ]
  },
  {
   "cell_type": "markdown",
   "id": "8db63bbb-9538-4a18-ada4-adacd953e8af",
   "metadata": {},
   "source": [
    "### Chlamydia time series"
   ]
  },
  {
   "cell_type": "code",
   "execution_count": 25,
   "id": "5e7c0969-e6dd-4c78-bdce-efe32a8c99c1",
   "metadata": {},
   "outputs": [],
   "source": [
    "df = df_sum[['year','cases_chlamydia']]"
   ]
  },
  {
   "cell_type": "code",
   "execution_count": 26,
   "id": "93c7c301-507f-454d-b2df-123f9e121836",
   "metadata": {},
   "outputs": [],
   "source": [
    "df = df.drop(labels=[20,0,1], axis=0)"
   ]
  },
  {
   "cell_type": "code",
   "execution_count": 27,
   "id": "81c101a7-cd74-4423-85f9-f008608b2c13",
   "metadata": {},
   "outputs": [],
   "source": [
    "import matplotlib.pyplot as plt\n",
    "import seaborn as sns "
   ]
  },
  {
   "cell_type": "code",
   "execution_count": 28,
   "id": "9e935811-66bc-41cf-a103-24bf6d655373",
   "metadata": {},
   "outputs": [
    {
     "data": {
      "image/png": "[encoded data removed]",
      "text/plain": [
       "<Figure size 432x288 with 1 Axes>"
      ]
     },
     "metadata": {
      "needs_background": "light"
     },
     "output_type": "display_data"
    }
   ],
   "source": [
    "sns.lineplot(data = df,x=\"year\",y=\"cases_chlamydia\")\n",
    "plt.show()"
   ]
  },
  {
   "cell_type": "code",
   "execution_count": 29,
   "id": "0b1e63d3-e725-4d10-97c8-32d1f341fe5e",
   "metadata": {},
   "outputs": [],
   "source": [
    "from scipy import signal"
   ]
  },
  {
   "cell_type": "code",
   "execution_count": 30,
   "id": "86fb96ea-9ee0-4e89-9a42-1975ec3bb8d7",
   "metadata": {},
   "outputs": [
    {
     "data": {
      "image/png": "[encoded data removed]",
      "text/plain": [
       "<Figure size 432x288 with 1 Axes>"
      ]
     },
     "metadata": {
      "needs_background": "light"
     },
     "output_type": "display_data"
    }
   ],
   "source": [
    "detrended = signal.detrend(df.cases_chlamydia)\n",
    "detrended_df = pd.DataFrame(detrended)\n",
    "detrended_df.plot()\n",
    "plt.show()"
   ]
  },
  {
   "cell_type": "code",
   "execution_count": 31,
   "id": "35a583f7-8a07-4620-8201-d14ac8133bc7",
   "metadata": {},
   "outputs": [],
   "source": [
    "from statsmodels.tsa.stattools import acf, pacf\n",
    "from statsmodels.graphics.tsaplots import plot_acf, plot_pacf"
   ]
  },
  {
   "cell_type": "code",
   "execution_count": 32,
   "id": "58b48787-429b-4b5e-822d-b63c6445763e",
   "metadata": {},
   "outputs": [
    {
     "name": "stderr",
     "output_type": "stream",
     "text": [
      "/opt/homebrew/lib/python3.9/site-packages/statsmodels/graphics/tsaplots.py:348: FutureWarning: The default method 'yw' can produce PACF values outside of the [-1,1] interval. After 0.13, the default will change tounadjusted Yule-Walker ('ywm'). You can use this method now by setting method='ywm'.\n",
      "  warnings.warn(\n"
     ]
    },
    {
     "data": {
      "image/png": "[encoded data removed]",
      "text/plain": [
       "<Figure size 1600x300 with 2 Axes>"
      ]
     },
     "execution_count": 32,
     "metadata": {},
     "output_type": "execute_result"
    },
    {
     "data": {
      "image/png": "[encoded data removed]",
      "text/plain": [
       "<Figure size 1600x300 with 2 Axes>"
      ]
     },
     "metadata": {
      "needs_background": "light"
     },
     "output_type": "display_data"
    }
   ],
   "source": [
    "fig, axes = plt.subplots(1,2,figsize=(16,3), dpi= 100)\n",
    "plot_acf(detrended_df[0].tolist(), lags=5, ax=axes[0])\n",
    "plot_pacf(detrended_df[0].tolist(), lags=5, ax=axes[1])"
   ]
  },
  {
   "cell_type": "code",
   "execution_count": 37,
   "id": "9892ac8c-d139-4e00-a70f-f86f6972597a",
   "metadata": {},
   "outputs": [
    {
     "name": "stdout",
     "output_type": "stream",
     "text": [
      "                               SARIMAX Results                                \n",
      "==============================================================================\n",
      "Dep. Variable:                      y   No. Observations:                   18\n",
      "Model:                 ARIMA(0, 1, 0)   Log Likelihood                -201.543\n",
      "Date:                Wed, 13 Jul 2022   AIC                            405.086\n",
      "Time:                        15:49:28   BIC                            405.920\n",
      "Sample:                             0   HQIC                           405.169\n",
      "                                 - 18                                         \n",
      "Covariance Type:                  opg                                         \n",
      "==============================================================================\n",
      "                 coef    std err          z      P>|z|      [0.025      0.975]\n",
      "------------------------------------------------------------------------------\n",
      "sigma2      1.095e+09   2.76e+08      3.967      0.000    5.54e+08    1.64e+09\n",
      "===================================================================================\n",
      "Ljung-Box (L1) (Q):                   1.48   Jarque-Bera (JB):                 2.92\n",
      "Prob(Q):                              0.22   Prob(JB):                         0.23\n",
      "Heteroskedasticity (H):               2.65   Skew:                            -0.73\n",
      "Prob(H) (two-sided):                  0.26   Kurtosis:                         4.40\n",
      "===================================================================================\n",
      "\n",
      "Warnings:\n",
      "[1] Covariance matrix calculated using the outer product of gradients (complex-step).\n"
     ]
    }
   ],
   "source": [
    "from statsmodels.tsa.arima.model import ARIMA\n",
    "model = ARIMA(detrended_df[0], order=(0,1,0))\n",
    "model_fit = model.fit()\n",
    "# summary of fit model\n",
    "print(model_fit.summary())\n",
    "# line plot of residuals\n",
    "# residuals = DataFrame(model_fit.resid)\n",
    "# residuals.plot()\n",
    "# pyplot.show()\n",
    "# # density plot of residuals\n",
    "# residuals.plot(kind='kde')\n",
    "# pyplot.show()\n",
    "# # summary stats of residuals\n",
    "# print(residuals.describe())"
   ]
  },
  {
   "cell_type": "code",
   "execution_count": 44,
   "id": "eead4581-9233-4ba6-b2f4-6e16a70b5869",
   "metadata": {},
   "outputs": [
    {
     "name": "stdout",
     "output_type": "stream",
     "text": [
      "                               SARIMAX Results                                \n",
      "==============================================================================\n",
      "Dep. Variable:                      y   No. Observations:                   18\n",
      "Model:                 ARIMA(2, 2, 0)   Log Likelihood                -190.501\n",
      "Date:                Wed, 13 Jul 2022   AIC                            387.001\n",
      "Time:                        15:50:26   BIC                            389.319\n",
      "Sample:                             0   HQIC                           387.120\n",
      "                                 - 18                                         \n",
      "Covariance Type:                  opg                                         \n",
      "==============================================================================\n",
      "                 coef    std err          z      P>|z|      [0.025      0.975]\n",
      "------------------------------------------------------------------------------\n",
      "ar.L1         -0.1711      0.280     -0.611      0.541      -0.720       0.378\n",
      "ar.L2         -0.5816      0.227     -2.561      0.010      -1.027      -0.136\n",
      "sigma2      1.452e+09   4.83e-11   3.01e+19      0.000    1.45e+09    1.45e+09\n",
      "===================================================================================\n",
      "Ljung-Box (L1) (Q):                   0.09   Jarque-Bera (JB):                 0.20\n",
      "Prob(Q):                              0.76   Prob(JB):                         0.90\n",
      "Heteroskedasticity (H):               8.46   Skew:                            -0.22\n",
      "Prob(H) (two-sided):                  0.04   Kurtosis:                         2.66\n",
      "===================================================================================\n",
      "\n",
      "Warnings:\n",
      "[1] Covariance matrix calculated using the outer product of gradients (complex-step).\n",
      "[2] Covariance matrix is singular or near-singular, with condition number 2.46e+35. Standard errors may be unstable.\n"
     ]
    }
   ],
   "source": [
    "from statsmodels.tsa.arima.model import ARIMA\n",
    "model = ARIMA(detrended_df[0], order=(2,2,0))\n",
    "model_fit = model.fit()\n",
    "# summary of fit model\n",
    "print(model_fit.summary())"
   ]
  },
  {
   "cell_type": "markdown",
   "id": "021933ed-8cdd-4aed-801f-47a34e00ff19",
   "metadata": {},
   "source": [
    "### Gonorrhea time series"
   ]
  },
  {
   "cell_type": "code",
   "execution_count": 45,
   "id": "4b517e2d-16ba-4000-9eb2-71ad4e5de14b",
   "metadata": {},
   "outputs": [],
   "source": [
    "df = df_sum[['year','cases_gonorrhea']]"
   ]
  },
  {
   "cell_type": "code",
   "execution_count": 46,
   "id": "c92f2d37-1519-4148-b9ab-7266e1077393",
   "metadata": {},
   "outputs": [],
   "source": [
    "df = df.drop(labels=[20,0,1], axis=0)"
   ]
  },
  {
   "cell_type": "code",
   "execution_count": 47,
   "id": "d0fc9109-7876-4e85-975a-4da3f3566937",
   "metadata": {},
   "outputs": [],
   "source": [
    "import matplotlib.pyplot as plt\n",
    "import seaborn as sns "
   ]
  },
  {
   "cell_type": "code",
   "execution_count": 48,
   "id": "b3cf43b9-8d61-4567-b098-9c5576312de9",
   "metadata": {},
   "outputs": [
    {
     "data": {
      "image/png": "[encoded data removed]",
      "text/plain": [
       "<Figure size 432x288 with 1 Axes>"
      ]
     },
     "metadata": {
      "needs_background": "light"
     },
     "output_type": "display_data"
    }
   ],
   "source": [
    "sns.lineplot(data = df,x=\"year\",y=\"cases_gonorrhea\")\n",
    "plt.show()"
   ]
  },
  {
   "cell_type": "code",
   "execution_count": 49,
   "id": "6a8e7b39-92b4-4e55-9c6b-24618715e347",
   "metadata": {},
   "outputs": [],
   "source": [
    "from scipy import signal"
   ]
  },
  {
   "cell_type": "code",
   "execution_count": 50,
   "id": "73b32d6a-2dc5-4630-80b7-72eb0cdc9cd9",
   "metadata": {},
   "outputs": [
    {
     "data": {
      "image/png": "[encoded data removed]",
      "text/plain": [
       "<Figure size 432x288 with 1 Axes>"
      ]
     },
     "metadata": {
      "needs_background": "light"
     },
     "output_type": "display_data"
    }
   ],
   "source": [
    "detrended = signal.detrend(df.cases_gonorrhea)\n",
    "detrended_df = pd.DataFrame(detrended)\n",
    "detrended_df.plot()\n",
    "plt.show()"
   ]
  },
  {
   "cell_type": "code",
   "execution_count": 51,
   "id": "edc4c0db-f561-490d-9081-b6522936023c",
   "metadata": {},
   "outputs": [],
   "source": [
    "from statsmodels.tsa.stattools import acf, pacf\n",
    "from statsmodels.graphics.tsaplots import plot_acf, plot_pacf"
   ]
  },
  {
   "cell_type": "code",
   "execution_count": 52,
   "id": "d050c61f-05af-49b3-bd69-68573475f62c",
   "metadata": {},
   "outputs": [
    {
     "name": "stderr",
     "output_type": "stream",
     "text": [
      "/opt/homebrew/lib/python3.9/site-packages/statsmodels/graphics/tsaplots.py:348: FutureWarning: The default method 'yw' can produce PACF values outside of the [-1,1] interval. After 0.13, the default will change tounadjusted Yule-Walker ('ywm'). You can use this method now by setting method='ywm'.\n",
      "  warnings.warn(\n"
     ]
    },
    {
     "data": {
      "image/png": "[encoded data removed]",
      "text/plain": [
       "<Figure size 1600x300 with 2 Axes>"
      ]
     },
     "execution_count": 52,
     "metadata": {},
     "output_type": "execute_result"
    },
    {
     "data": {
      "image/png": "[encoded data removed]",
      "text/plain": [
       "<Figure size 1600x300 with 2 Axes>"
      ]
     },
     "metadata": {
      "needs_background": "light"
     },
     "output_type": "display_data"
    }
   ],
   "source": [
    "fig, axes = plt.subplots(1,2,figsize=(16,3), dpi= 100)\n",
    "plot_acf(detrended_df[0].tolist(), lags=5, ax=axes[0])\n",
    "plot_pacf(detrended_df[0].tolist(), lags=5, ax=axes[1])"
   ]
  },
  {
   "cell_type": "code",
   "execution_count": 53,
   "id": "904484e6-2310-4857-b2e1-2d0aa6b04b0d",
   "metadata": {},
   "outputs": [
    {
     "name": "stdout",
     "output_type": "stream",
     "text": [
      "                               SARIMAX Results                                \n",
      "==============================================================================\n",
      "Dep. Variable:                      y   No. Observations:                   18\n",
      "Model:                 ARIMA(2, 2, 0)   Log Likelihood                -184.341\n",
      "Date:                Wed, 13 Jul 2022   AIC                            374.682\n",
      "Time:                        15:51:03   BIC                            377.000\n",
      "Sample:                             0   HQIC                           374.801\n",
      "                                 - 18                                         \n",
      "Covariance Type:                  opg                                         \n",
      "==============================================================================\n",
      "                 coef    std err          z      P>|z|      [0.025      0.975]\n",
      "------------------------------------------------------------------------------\n",
      "ar.L1         -0.0968      0.309     -0.313      0.754      -0.703       0.509\n",
      "ar.L2         -0.1754      0.265     -0.661      0.508      -0.695       0.345\n",
      "sigma2      6.365e+08    1.7e-10   3.74e+18      0.000    6.37e+08    6.37e+08\n",
      "===================================================================================\n",
      "Ljung-Box (L1) (Q):                   0.00   Jarque-Bera (JB):                 1.32\n",
      "Prob(Q):                              0.98   Prob(JB):                         0.52\n",
      "Heteroskedasticity (H):               5.37   Skew:                            -0.69\n",
      "Prob(H) (two-sided):                  0.09   Kurtosis:                         3.26\n",
      "===================================================================================\n",
      "\n",
      "Warnings:\n",
      "[1] Covariance matrix calculated using the outer product of gradients (complex-step).\n",
      "[2] Covariance matrix is singular or near-singular, with condition number 1.91e+34. Standard errors may be unstable.\n"
     ]
    }
   ],
   "source": [
    "from statsmodels.tsa.arima.model import ARIMA\n",
    "model = ARIMA(detrended_df[0], order=(2,2,0))\n",
    "model_fit = model.fit()\n",
    "# summary of fit model\n",
    "print(model_fit.summary())\n",
    "# line plot of residuals\n",
    "# residuals = DataFrame(model_fit.resid)\n",
    "# residuals.plot()\n",
    "# pyplot.show()\n",
    "# # density plot of residuals\n",
    "# residuals.plot(kind='kde')\n",
    "# pyplot.show()\n",
    "# # summary stats of residuals\n",
    "# print(residuals.describe())"
   ]
  },
  {
   "cell_type": "code",
   "execution_count": 54,
   "id": "bf9d6a5f-02ee-4b5f-9f86-372e761e817b",
   "metadata": {},
   "outputs": [
    {
     "name": "stdout",
     "output_type": "stream",
     "text": [
      "                               SARIMAX Results                                \n",
      "==============================================================================\n",
      "Dep. Variable:                      y   No. Observations:                   18\n",
      "Model:                 ARIMA(0, 2, 0)   Log Likelihood                -184.868\n",
      "Date:                Wed, 13 Jul 2022   AIC                            371.735\n",
      "Time:                        15:51:07   BIC                            372.508\n",
      "Sample:                             0   HQIC                           371.775\n",
      "                                 - 18                                         \n",
      "Covariance Type:                  opg                                         \n",
      "==============================================================================\n",
      "                 coef    std err          z      P>|z|      [0.025      0.975]\n",
      "------------------------------------------------------------------------------\n",
      "sigma2      5.612e+08   1.55e+08      3.618      0.000    2.57e+08    8.65e+08\n",
      "===================================================================================\n",
      "Ljung-Box (L1) (Q):                   0.01   Jarque-Bera (JB):                 3.33\n",
      "Prob(Q):                              0.94   Prob(JB):                         0.19\n",
      "Heteroskedasticity (H):               4.80   Skew:                            -0.99\n",
      "Prob(H) (two-sided):                  0.11   Kurtosis:                         4.05\n",
      "===================================================================================\n",
      "\n",
      "Warnings:\n",
      "[1] Covariance matrix calculated using the outer product of gradients (complex-step).\n"
     ]
    }
   ],
   "source": [
    "from statsmodels.tsa.arima.model import ARIMA\n",
    "model = ARIMA(detrended_df[0], order=(0,2,0))\n",
    "model_fit = model.fit()\n",
    "# summary of fit model\n",
    "print(model_fit.summary())"
   ]
  },
  {
   "cell_type": "code",
   "execution_count": null,
   "id": "470e2104-35c8-41e2-9411-bfc2b82034de",
   "metadata": {},
   "outputs": [],
   "source": []
  }
 ],
 "metadata": {
  "kernelspec": {
   "display_name": "Python 3 (ipykernel)",
   "language": "python",
   "name": "python3"
  },
  "language_info": {
   "codemirror_mode": {
    "name": "ipython",
    "version": 3
   },
   "file_extension": ".py",
   "mimetype": "text/x-python",
   "name": "python",
   "nbconvert_exporter": "python",
   "pygments_lexer": "ipython3",
   "version": "3.9.12"
  }
 },
 "nbformat": 4,
 "nbformat_minor": 5
}
