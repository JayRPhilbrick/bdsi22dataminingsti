{
 "cells": [
  {
   "cell_type": "code",
<<<<<<< HEAD
<<<<<<< HEAD
   "execution_count": 29,
=======
   "execution_count": 2,
>>>>>>> 39d7cb1403e4c630487e12b188b4be3f235abd6d
=======
   "execution_count": 2,
>>>>>>> 39d7cb1403e4c630487e12b188b4be3f235abd6d
   "id": "098eda43",
   "metadata": {},
   "outputs": [],
   "source": [
    "#import libraries\n",
    "import pandas as pd\n",
    "import numpy as np\n",
    "import os\n",
    "import matplotlib.pyplot as plt\n",
    "\n",
    "#suppresses warnings\n",
    "import warnings\n",
    "warnings.filterwarnings('ignore')\n",
    "\n",
    "%matplotlib inline"
   ]
  },
  {
   "cell_type": "code",
<<<<<<< HEAD
<<<<<<< HEAD
   "execution_count": 43,
=======
   "execution_count": 3,
>>>>>>> 39d7cb1403e4c630487e12b188b4be3f235abd6d
=======
   "execution_count": 3,
>>>>>>> 39d7cb1403e4c630487e12b188b4be3f235abd6d
   "id": "a16865d7",
   "metadata": {},
   "outputs": [],
   "source": [
    "tot_df = []\n",
<<<<<<< HEAD
<<<<<<< HEAD
    "# for j,i in enumerate(np.arange(2016, 2021, 1)):\n",
    "for j,i in enumerate(np.arange(2016, 2021, 1)):\n",
    "    tot_df.append(pd.read_csv('../Data/Raw/CDC/CDCSTDcountysexrace'+ \n",
    "                              str(i) +'.csv', sep = ',', skiprows = 4))\n",
    "# df = pd.concat(tot_df, axis = 0)\n",
    "df = pd.read_csv('../Data/Raw/CDC/CDCSTDcountysexage2020.csv', skiprows = 4)"
=======
=======
>>>>>>> 39d7cb1403e4c630487e12b188b4be3f235abd6d
    "for j,i in enumerate(np.arange(2016, 2021, 1)):\n",
    "    tot_df.append(pd.read_csv('../Data/Raw/CDC/CDCSTDcountysexrace'+ \n",
    "                              str(i) +'.csv', sep = ',', skiprows = 4))\n",
    "df = pd.concat(tot_df, axis = 0)"
<<<<<<< HEAD
>>>>>>> 39d7cb1403e4c630487e12b188b4be3f235abd6d
=======
>>>>>>> 39d7cb1403e4c630487e12b188b4be3f235abd6d
   ]
  },
  {
   "cell_type": "code",
<<<<<<< HEAD
<<<<<<< HEAD
   "execution_count": 44,
=======
   "execution_count": 4,
>>>>>>> 39d7cb1403e4c630487e12b188b4be3f235abd6d
=======
   "execution_count": 4,
>>>>>>> 39d7cb1403e4c630487e12b188b4be3f235abd6d
   "id": "938aec55",
   "metadata": {},
   "outputs": [
    {
     "name": "stdout",
     "output_type": "stream",
     "text": [
<<<<<<< HEAD
<<<<<<< HEAD
      "(180600, 8)\n",
=======
      "(1032000, 8)\n",
>>>>>>> 39d7cb1403e4c630487e12b188b4be3f235abd6d
=======
      "(1032000, 8)\n",
>>>>>>> 39d7cb1403e4c630487e12b188b4be3f235abd6d
      "Indicator          object\n",
      "Year               object\n",
      "Geography          object\n",
      "FIPS                int64\n",
<<<<<<< HEAD
<<<<<<< HEAD
      "Sex                object\n",
      "Age Group          object\n",
=======
      "Race/Ethnicity     object\n",
      "Sex                object\n",
>>>>>>> 39d7cb1403e4c630487e12b188b4be3f235abd6d
=======
      "Race/Ethnicity     object\n",
      "Sex                object\n",
>>>>>>> 39d7cb1403e4c630487e12b188b4be3f235abd6d
      "Cases              object\n",
      "Rate per 100000    object\n",
      "dtype: object\n"
     ]
    },
    {
     "data": {
      "text/html": [
       "<div>\n",
       "<style scoped>\n",
       "    .dataframe tbody tr th:only-of-type {\n",
       "        vertical-align: middle;\n",
       "    }\n",
       "\n",
       "    .dataframe tbody tr th {\n",
       "        vertical-align: top;\n",
       "    }\n",
       "\n",
       "    .dataframe thead th {\n",
       "        text-align: right;\n",
       "    }\n",
       "</style>\n",
       "<table border=\"1\" class=\"dataframe\">\n",
       "  <thead>\n",
       "    <tr style=\"text-align: right;\">\n",
       "      <th></th>\n",
       "      <th>indicator</th>\n",
       "      <th>year</th>\n",
       "      <th>geography</th>\n",
       "      <th>fips</th>\n",
<<<<<<< HEAD
<<<<<<< HEAD
       "      <th>sex</th>\n",
       "      <th>Age Group</th>\n",
=======
       "      <th>raceEthnicity</th>\n",
       "      <th>sex</th>\n",
>>>>>>> 39d7cb1403e4c630487e12b188b4be3f235abd6d
=======
       "      <th>raceEthnicity</th>\n",
       "      <th>sex</th>\n",
>>>>>>> 39d7cb1403e4c630487e12b188b4be3f235abd6d
       "      <th>cases</th>\n",
       "      <th>ratePer100000</th>\n",
       "    </tr>\n",
       "  </thead>\n",
       "  <tbody>\n",
       "    <tr>\n",
<<<<<<< HEAD
<<<<<<< HEAD
       "      <th>180595</th>\n",
=======
       "      <th>206395</th>\n",
>>>>>>> 39d7cb1403e4c630487e12b188b4be3f235abd6d
=======
       "      <th>206395</th>\n",
>>>>>>> 39d7cb1403e4c630487e12b188b4be3f235abd6d
       "      <td>Chlamydia</td>\n",
       "      <td>2020 (COVID-19 Pandemic)</td>\n",
       "      <td>Ziebach County, SD</td>\n",
       "      <td>46137</td>\n",
<<<<<<< HEAD
<<<<<<< HEAD
       "      <td>Female</td>\n",
       "      <td>30-34</td>\n",
       "      <td>Data suppressed</td>\n",
       "      <td>Data suppressed</td>\n",
       "    </tr>\n",
       "    <tr>\n",
       "      <th>180596</th>\n",
=======
=======
>>>>>>> 39d7cb1403e4c630487e12b188b4be3f235abd6d
       "      <td>Black/African American</td>\n",
       "      <td>Female</td>\n",
       "      <td>0</td>\n",
       "      <td>0.0</td>\n",
       "    </tr>\n",
       "    <tr>\n",
       "      <th>206396</th>\n",
<<<<<<< HEAD
>>>>>>> 39d7cb1403e4c630487e12b188b4be3f235abd6d
=======
>>>>>>> 39d7cb1403e4c630487e12b188b4be3f235abd6d
       "      <td>Chlamydia</td>\n",
       "      <td>2020 (COVID-19 Pandemic)</td>\n",
       "      <td>Ziebach County, SD</td>\n",
       "      <td>46137</td>\n",
<<<<<<< HEAD
<<<<<<< HEAD
       "      <td>Female</td>\n",
       "      <td>25-29</td>\n",
       "      <td>Data suppressed</td>\n",
       "      <td>Data suppressed</td>\n",
       "    </tr>\n",
       "    <tr>\n",
       "      <th>180597</th>\n",
=======
=======
>>>>>>> 39d7cb1403e4c630487e12b188b4be3f235abd6d
       "      <td>Asian</td>\n",
       "      <td>Male</td>\n",
       "      <td>0</td>\n",
       "      <td>0.0</td>\n",
       "    </tr>\n",
       "    <tr>\n",
       "      <th>206397</th>\n",
<<<<<<< HEAD
>>>>>>> 39d7cb1403e4c630487e12b188b4be3f235abd6d
=======
>>>>>>> 39d7cb1403e4c630487e12b188b4be3f235abd6d
       "      <td>Chlamydia</td>\n",
       "      <td>2020 (COVID-19 Pandemic)</td>\n",
       "      <td>Ziebach County, SD</td>\n",
       "      <td>46137</td>\n",
<<<<<<< HEAD
<<<<<<< HEAD
       "      <td>Female</td>\n",
       "      <td>20-24</td>\n",
       "      <td>Data suppressed</td>\n",
       "      <td>Data suppressed</td>\n",
       "    </tr>\n",
       "    <tr>\n",
       "      <th>180598</th>\n",
=======
=======
>>>>>>> 39d7cb1403e4c630487e12b188b4be3f235abd6d
       "      <td>Asian</td>\n",
       "      <td>Female</td>\n",
       "      <td>0</td>\n",
       "      <td>0.0</td>\n",
       "    </tr>\n",
       "    <tr>\n",
       "      <th>206398</th>\n",
<<<<<<< HEAD
>>>>>>> 39d7cb1403e4c630487e12b188b4be3f235abd6d
=======
>>>>>>> 39d7cb1403e4c630487e12b188b4be3f235abd6d
       "      <td>Chlamydia</td>\n",
       "      <td>2020 (COVID-19 Pandemic)</td>\n",
       "      <td>Ziebach County, SD</td>\n",
       "      <td>46137</td>\n",
<<<<<<< HEAD
<<<<<<< HEAD
       "      <td>Female</td>\n",
       "      <td>15-19</td>\n",
=======
       "      <td>American Indian/Alaska Native</td>\n",
       "      <td>Male</td>\n",
>>>>>>> 39d7cb1403e4c630487e12b188b4be3f235abd6d
=======
       "      <td>American Indian/Alaska Native</td>\n",
       "      <td>Male</td>\n",
>>>>>>> 39d7cb1403e4c630487e12b188b4be3f235abd6d
       "      <td>Data suppressed</td>\n",
       "      <td>Data suppressed</td>\n",
       "    </tr>\n",
       "    <tr>\n",
<<<<<<< HEAD
<<<<<<< HEAD
       "      <th>180599</th>\n",
=======
       "      <th>206399</th>\n",
>>>>>>> 39d7cb1403e4c630487e12b188b4be3f235abd6d
=======
       "      <th>206399</th>\n",
>>>>>>> 39d7cb1403e4c630487e12b188b4be3f235abd6d
       "      <td>Chlamydia</td>\n",
       "      <td>2020 (COVID-19 Pandemic)</td>\n",
       "      <td>Ziebach County, SD</td>\n",
       "      <td>46137</td>\n",
<<<<<<< HEAD
<<<<<<< HEAD
       "      <td>Female</td>\n",
       "      <td>0-14</td>\n",
       "      <td>0</td>\n",
       "      <td>0.0</td>\n",
=======
=======
>>>>>>> 39d7cb1403e4c630487e12b188b4be3f235abd6d
       "      <td>American Indian/Alaska Native</td>\n",
       "      <td>Female</td>\n",
       "      <td>Data suppressed</td>\n",
       "      <td>Data suppressed</td>\n",
<<<<<<< HEAD
>>>>>>> 39d7cb1403e4c630487e12b188b4be3f235abd6d
=======
>>>>>>> 39d7cb1403e4c630487e12b188b4be3f235abd6d
       "    </tr>\n",
       "  </tbody>\n",
       "</table>\n",
       "</div>"
      ],
      "text/plain": [
       "        indicator                      year           geography   fips  \\\n",
<<<<<<< HEAD
<<<<<<< HEAD
       "180595  Chlamydia  2020 (COVID-19 Pandemic)  Ziebach County, SD  46137   \n",
       "180596  Chlamydia  2020 (COVID-19 Pandemic)  Ziebach County, SD  46137   \n",
       "180597  Chlamydia  2020 (COVID-19 Pandemic)  Ziebach County, SD  46137   \n",
       "180598  Chlamydia  2020 (COVID-19 Pandemic)  Ziebach County, SD  46137   \n",
       "180599  Chlamydia  2020 (COVID-19 Pandemic)  Ziebach County, SD  46137   \n",
       "\n",
       "           sex Age Group            cases    ratePer100000  \n",
       "180595  Female     30-34  Data suppressed  Data suppressed  \n",
       "180596  Female     25-29  Data suppressed  Data suppressed  \n",
       "180597  Female     20-24  Data suppressed  Data suppressed  \n",
       "180598  Female     15-19  Data suppressed  Data suppressed  \n",
       "180599  Female      0-14                0              0.0  "
      ]
     },
     "execution_count": 44,
=======
=======
>>>>>>> 39d7cb1403e4c630487e12b188b4be3f235abd6d
       "206395  Chlamydia  2020 (COVID-19 Pandemic)  Ziebach County, SD  46137   \n",
       "206396  Chlamydia  2020 (COVID-19 Pandemic)  Ziebach County, SD  46137   \n",
       "206397  Chlamydia  2020 (COVID-19 Pandemic)  Ziebach County, SD  46137   \n",
       "206398  Chlamydia  2020 (COVID-19 Pandemic)  Ziebach County, SD  46137   \n",
       "206399  Chlamydia  2020 (COVID-19 Pandemic)  Ziebach County, SD  46137   \n",
       "\n",
       "                        raceEthnicity     sex            cases  \\\n",
       "206395         Black/African American  Female                0   \n",
       "206396                          Asian    Male                0   \n",
       "206397                          Asian  Female                0   \n",
       "206398  American Indian/Alaska Native    Male  Data suppressed   \n",
       "206399  American Indian/Alaska Native  Female  Data suppressed   \n",
       "\n",
       "          ratePer100000  \n",
       "206395              0.0  \n",
       "206396              0.0  \n",
       "206397              0.0  \n",
       "206398  Data suppressed  \n",
       "206399  Data suppressed  "
      ]
     },
     "execution_count": 4,
<<<<<<< HEAD
>>>>>>> 39d7cb1403e4c630487e12b188b4be3f235abd6d
=======
>>>>>>> 39d7cb1403e4c630487e12b188b4be3f235abd6d
     "metadata": {},
     "output_type": "execute_result"
    }
   ],
   "source": [
    "print(df.shape)\n",
    "print(df.dtypes)\n",
    "df = df.rename(columns = {'Cases':'cases',\n",
    "                          'Rate per 100000':'ratePer100000',\n",
    "                         'Indicator':'indicator',\n",
    "                         'Year':'year',\n",
    "                         'Geography':'geography',\n",
    "                         'FIPS':'fips',\n",
    "                         'Race/Ethnicity':'raceEthnicity',\n",
    "                         'Sex':'sex'})\n",
    "df.tail()"
   ]
  },
  {
   "cell_type": "code",
<<<<<<< HEAD
<<<<<<< HEAD
   "execution_count": 45,
   "id": "ff05ff85-816d-42f4-a10c-b9e9a9dbc370",
   "metadata": {},
   "outputs": [
    {
     "data": {
      "text/plain": [
       "array(['2020 (COVID-19 Pandemic)'], dtype=object)"
      ]
     },
     "execution_count": 45,
     "metadata": {},
     "output_type": "execute_result"
    }
   ],
   "source": [
    "pd.unique(df['year'])"
   ]
  },
  {
   "cell_type": "markdown",
   "id": "83289e14-d993-43ba-9f1e-123aac452960",
   "metadata": {},
   "source": [
    "##### Removing the 2020 (COVID-19 Pandemic) keyword to 2020"
   ]
  },
  {
   "cell_type": "code",
   "execution_count": 46,
   "id": "c1ec271f-adef-4644-b4bf-a28c41bbc41b",
   "metadata": {},
   "outputs": [],
   "source": [
    "df.loc[df[\"year\"].str.startswith('2020',na=False), \"year\"] = \"2020\""
   ]
  },
  {
   "cell_type": "code",
   "execution_count": 47,
   "id": "8c8a95b1-dc70-4507-aa10-3855f8153bcf",
   "metadata": {},
   "outputs": [
    {
     "data": {
      "text/plain": [
       "array(['2020'], dtype=object)"
      ]
     },
     "execution_count": 47,
     "metadata": {},
     "output_type": "execute_result"
    }
   ],
   "source": [
    "pd.unique(df['year'])"
   ]
  },
  {
   "cell_type": "markdown",
   "id": "c7f1c042-5d45-457e-8a6d-9827a593dc40",
   "metadata": {},
   "source": [
    "##### Removing the Data Surpressed and unavailable keywords in Cases"
   ]
  },
  {
   "cell_type": "code",
   "execution_count": 50,
   "id": "28dd7213-cd3a-4441-8649-8aaa85fbf97d",
   "metadata": {},
   "outputs": [],
   "source": [
    "# data_to_be_removed = [\"cases\", \"ratePer100000\",\"raceEthnicity\"]\n",
    "data_to_be_removed = [\"cases\", \"ratePer100000\"]"
   ]
  },
  {
   "cell_type": "code",
   "execution_count": 51,
   "id": "ad8b5eb8-951a-42dc-baa2-c7700f44e580",
   "metadata": {},
   "outputs": [],
   "source": [
    "for col in data_to_be_removed:\n",
    "    df.loc[df[col].str.contains(\"Data\",na = False), col] = np.nan\n",
    "    df[col] = df[col].str.replace(',','')"
   ]
  },
  {
   "cell_type": "code",
   "execution_count": 52,
   "id": "387e4bef-9be4-4611-9de2-fa16122d0fc3",
   "metadata": {},
   "outputs": [
    {
     "data": {
      "text/plain": [
       "array(['2020'], dtype=object)"
      ]
     },
     "execution_count": 52,
     "metadata": {},
     "output_type": "execute_result"
    }
   ],
   "source": [
    "df.head()\n",
    "pd.unique(df['year'])"
   ]
  },
  {
   "cell_type": "code",
   "execution_count": 53,
   "id": "a09fe792-10f9-484e-a13b-ca7a524b3e39",
   "metadata": {},
   "outputs": [],
   "source": [
    "# df[[\"year\",\"cases\",\"ratePer100000\"]] = df[[\"year\",\"cases\",\"ratePer100000\"]].apply(pd.to_numeric)"
   ]
  },
  {
   "cell_type": "code",
   "execution_count": 58,
   "id": "707f915f-92e7-417a-8d8f-5159699b9d56",
   "metadata": {},
   "outputs": [
    {
     "name": "stdout",
     "output_type": "stream",
     "text": [
      "<class 'pandas.core.frame.DataFrame'>\n",
      "RangeIndex: 3095 entries, 0 to 3094\n",
      "Columns: 115 entries, year to ratePer100000_Male_Primary and Secondary Syphilis_40-44\n",
      "dtypes: float32(112), int32(1), object(2)\n",
      "memory usage: 1.7 MB\n"
=======
=======
>>>>>>> 39d7cb1403e4c630487e12b188b4be3f235abd6d
   "execution_count": 21,
   "id": "e03ba82e",
   "metadata": {},
   "outputs": [
    {
     "ename": "KeyError",
     "evalue": "('2020', '2020 (COVID-19 Pandemic)')",
     "output_type": "error",
     "traceback": [
      "\u001b[1;31m---------------------------------------------------------------------------\u001b[0m",
      "\u001b[1;31mKeyError\u001b[0m                                  Traceback (most recent call last)",
      "\u001b[1;32m~\\Anaconda3\\lib\\site-packages\\pandas\\core\\indexes\\base.py\u001b[0m in \u001b[0;36mget_loc\u001b[1;34m(self, key, method, tolerance)\u001b[0m\n\u001b[0;32m   3360\u001b[0m             \u001b[1;32mtry\u001b[0m\u001b[1;33m:\u001b[0m\u001b[1;33m\u001b[0m\u001b[1;33m\u001b[0m\u001b[0m\n\u001b[1;32m-> 3361\u001b[1;33m                 \u001b[1;32mreturn\u001b[0m \u001b[0mself\u001b[0m\u001b[1;33m.\u001b[0m\u001b[0m_engine\u001b[0m\u001b[1;33m.\u001b[0m\u001b[0mget_loc\u001b[0m\u001b[1;33m(\u001b[0m\u001b[0mcasted_key\u001b[0m\u001b[1;33m)\u001b[0m\u001b[1;33m\u001b[0m\u001b[1;33m\u001b[0m\u001b[0m\n\u001b[0m\u001b[0;32m   3362\u001b[0m             \u001b[1;32mexcept\u001b[0m \u001b[0mKeyError\u001b[0m \u001b[1;32mas\u001b[0m \u001b[0merr\u001b[0m\u001b[1;33m:\u001b[0m\u001b[1;33m\u001b[0m\u001b[1;33m\u001b[0m\u001b[0m\n",
      "\u001b[1;32m~\\Anaconda3\\lib\\site-packages\\pandas\\_libs\\index.pyx\u001b[0m in \u001b[0;36mpandas._libs.index.IndexEngine.get_loc\u001b[1;34m()\u001b[0m\n",
      "\u001b[1;32m~\\Anaconda3\\lib\\site-packages\\pandas\\_libs\\index.pyx\u001b[0m in \u001b[0;36mpandas._libs.index.IndexEngine.get_loc\u001b[1;34m()\u001b[0m\n",
      "\u001b[1;32mpandas\\_libs\\hashtable_class_helper.pxi\u001b[0m in \u001b[0;36mpandas._libs.hashtable.PyObjectHashTable.get_item\u001b[1;34m()\u001b[0m\n",
      "\u001b[1;32mpandas\\_libs\\hashtable_class_helper.pxi\u001b[0m in \u001b[0;36mpandas._libs.hashtable.PyObjectHashTable.get_item\u001b[1;34m()\u001b[0m\n",
      "\u001b[1;31mKeyError\u001b[0m: ('2020', '2020 (COVID-19 Pandemic)')",
      "\nThe above exception was the direct cause of the following exception:\n",
      "\u001b[1;31mKeyError\u001b[0m                                  Traceback (most recent call last)",
      "\u001b[1;32mC:\\Users\\FPSKIN~1\\AppData\\Local\\Temp/ipykernel_9728/2819145403.py\u001b[0m in \u001b[0;36m<module>\u001b[1;34m\u001b[0m\n\u001b[1;32m----> 1\u001b[1;33m \u001b[0mdf\u001b[0m\u001b[1;33m[\u001b[0m\u001b[1;34m'year'\u001b[0m\u001b[1;33m]\u001b[0m \u001b[1;33m=\u001b[0m \u001b[0mdf\u001b[0m\u001b[1;33m[\u001b[0m\u001b[1;34m'year'\u001b[0m\u001b[1;33m]\u001b[0m\u001b[1;33m.\u001b[0m\u001b[0mreplace\u001b[0m\u001b[1;33m(\u001b[0m\u001b[0mdf\u001b[0m\u001b[1;33m[\u001b[0m\u001b[1;34m'2020'\u001b[0m\u001b[1;33m,\u001b[0m\u001b[1;34m'2020 (COVID-19 Pandemic)'\u001b[0m\u001b[1;33m]\u001b[0m\u001b[1;33m,\u001b[0m \u001b[0minplace\u001b[0m\u001b[1;33m=\u001b[0m\u001b[1;32mTrue\u001b[0m\u001b[1;33m)\u001b[0m\u001b[1;33m\u001b[0m\u001b[1;33m\u001b[0m\u001b[0m\n\u001b[0m\u001b[0;32m      2\u001b[0m \u001b[0mprint\u001b[0m\u001b[1;33m(\u001b[0m\u001b[0mdf\u001b[0m\u001b[1;33m.\u001b[0m\u001b[0misnull\u001b[0m\u001b[1;33m(\u001b[0m\u001b[1;33m)\u001b[0m\u001b[1;33m.\u001b[0m\u001b[0msum\u001b[0m\u001b[1;33m(\u001b[0m\u001b[0maxis\u001b[0m\u001b[1;33m=\u001b[0m\u001b[1;36m0\u001b[0m\u001b[1;33m)\u001b[0m\u001b[1;33m)\u001b[0m\u001b[1;33m\u001b[0m\u001b[1;33m\u001b[0m\u001b[0m\n\u001b[0;32m      3\u001b[0m \u001b[1;31m#df['year']=df.astype({'year': 'int64', 'cases':'int64', 'ratePer100000':'int64'})\u001b[0m\u001b[1;33m\u001b[0m\u001b[1;33m\u001b[0m\u001b[0m\n\u001b[0;32m      4\u001b[0m \u001b[0mdf\u001b[0m\u001b[1;33m.\u001b[0m\u001b[0mhead\u001b[0m\u001b[1;33m(\u001b[0m\u001b[1;33m)\u001b[0m\u001b[1;33m\u001b[0m\u001b[1;33m\u001b[0m\u001b[0m\n",
      "\u001b[1;32m~\\Anaconda3\\lib\\site-packages\\pandas\\core\\frame.py\u001b[0m in \u001b[0;36m__getitem__\u001b[1;34m(self, key)\u001b[0m\n\u001b[0;32m   3456\u001b[0m             \u001b[1;32mif\u001b[0m \u001b[0mself\u001b[0m\u001b[1;33m.\u001b[0m\u001b[0mcolumns\u001b[0m\u001b[1;33m.\u001b[0m\u001b[0mnlevels\u001b[0m \u001b[1;33m>\u001b[0m \u001b[1;36m1\u001b[0m\u001b[1;33m:\u001b[0m\u001b[1;33m\u001b[0m\u001b[1;33m\u001b[0m\u001b[0m\n\u001b[0;32m   3457\u001b[0m                 \u001b[1;32mreturn\u001b[0m \u001b[0mself\u001b[0m\u001b[1;33m.\u001b[0m\u001b[0m_getitem_multilevel\u001b[0m\u001b[1;33m(\u001b[0m\u001b[0mkey\u001b[0m\u001b[1;33m)\u001b[0m\u001b[1;33m\u001b[0m\u001b[1;33m\u001b[0m\u001b[0m\n\u001b[1;32m-> 3458\u001b[1;33m             \u001b[0mindexer\u001b[0m \u001b[1;33m=\u001b[0m \u001b[0mself\u001b[0m\u001b[1;33m.\u001b[0m\u001b[0mcolumns\u001b[0m\u001b[1;33m.\u001b[0m\u001b[0mget_loc\u001b[0m\u001b[1;33m(\u001b[0m\u001b[0mkey\u001b[0m\u001b[1;33m)\u001b[0m\u001b[1;33m\u001b[0m\u001b[1;33m\u001b[0m\u001b[0m\n\u001b[0m\u001b[0;32m   3459\u001b[0m             \u001b[1;32mif\u001b[0m \u001b[0mis_integer\u001b[0m\u001b[1;33m(\u001b[0m\u001b[0mindexer\u001b[0m\u001b[1;33m)\u001b[0m\u001b[1;33m:\u001b[0m\u001b[1;33m\u001b[0m\u001b[1;33m\u001b[0m\u001b[0m\n\u001b[0;32m   3460\u001b[0m                 \u001b[0mindexer\u001b[0m \u001b[1;33m=\u001b[0m \u001b[1;33m[\u001b[0m\u001b[0mindexer\u001b[0m\u001b[1;33m]\u001b[0m\u001b[1;33m\u001b[0m\u001b[1;33m\u001b[0m\u001b[0m\n",
      "\u001b[1;32m~\\Anaconda3\\lib\\site-packages\\pandas\\core\\indexes\\base.py\u001b[0m in \u001b[0;36mget_loc\u001b[1;34m(self, key, method, tolerance)\u001b[0m\n\u001b[0;32m   3361\u001b[0m                 \u001b[1;32mreturn\u001b[0m \u001b[0mself\u001b[0m\u001b[1;33m.\u001b[0m\u001b[0m_engine\u001b[0m\u001b[1;33m.\u001b[0m\u001b[0mget_loc\u001b[0m\u001b[1;33m(\u001b[0m\u001b[0mcasted_key\u001b[0m\u001b[1;33m)\u001b[0m\u001b[1;33m\u001b[0m\u001b[1;33m\u001b[0m\u001b[0m\n\u001b[0;32m   3362\u001b[0m             \u001b[1;32mexcept\u001b[0m \u001b[0mKeyError\u001b[0m \u001b[1;32mas\u001b[0m \u001b[0merr\u001b[0m\u001b[1;33m:\u001b[0m\u001b[1;33m\u001b[0m\u001b[1;33m\u001b[0m\u001b[0m\n\u001b[1;32m-> 3363\u001b[1;33m                 \u001b[1;32mraise\u001b[0m \u001b[0mKeyError\u001b[0m\u001b[1;33m(\u001b[0m\u001b[0mkey\u001b[0m\u001b[1;33m)\u001b[0m \u001b[1;32mfrom\u001b[0m \u001b[0merr\u001b[0m\u001b[1;33m\u001b[0m\u001b[1;33m\u001b[0m\u001b[0m\n\u001b[0m\u001b[0;32m   3364\u001b[0m \u001b[1;33m\u001b[0m\u001b[0m\n\u001b[0;32m   3365\u001b[0m         \u001b[1;32mif\u001b[0m \u001b[0mis_scalar\u001b[0m\u001b[1;33m(\u001b[0m\u001b[0mkey\u001b[0m\u001b[1;33m)\u001b[0m \u001b[1;32mand\u001b[0m \u001b[0misna\u001b[0m\u001b[1;33m(\u001b[0m\u001b[0mkey\u001b[0m\u001b[1;33m)\u001b[0m \u001b[1;32mand\u001b[0m \u001b[1;32mnot\u001b[0m \u001b[0mself\u001b[0m\u001b[1;33m.\u001b[0m\u001b[0mhasnans\u001b[0m\u001b[1;33m:\u001b[0m\u001b[1;33m\u001b[0m\u001b[1;33m\u001b[0m\u001b[0m\n",
      "\u001b[1;31mKeyError\u001b[0m: ('2020', '2020 (COVID-19 Pandemic)')"
<<<<<<< HEAD
>>>>>>> 39d7cb1403e4c630487e12b188b4be3f235abd6d
=======
>>>>>>> 39d7cb1403e4c630487e12b188b4be3f235abd6d
     ]
    }
   ],
   "source": [
<<<<<<< HEAD
<<<<<<< HEAD
    "df.dtypes\n",
    "# data.head()\n",
    "df.info(memory_usage = \"deep\")"
   ]
  },
  {
   "cell_type": "code",
   "execution_count": 57,
   "id": "1ddd7f0c-fc97-4f43-9759-275cfa78dea7",
   "metadata": {},
   "outputs": [],
   "source": [
    "for column in df:\n",
    "    if df[column].dtype == 'float64':\n",
    "        df[column]=pd.to_numeric(df[column], downcast='float')\n",
    "    if df[column].dtype == 'int64':\n",
    "        df[column]=pd.to_numeric(df[column], downcast='integer')"
=======
=======
>>>>>>> 39d7cb1403e4c630487e12b188b4be3f235abd6d
    "df['year'] = df['year'].replace(df['2020','2020 (COVID-19 Pandemic)'], inplace=True)\n",
    "print(df.isnull().sum(axis=0))\n",
    "#df['year']=df.astype({'year': 'int64', 'cases':'int64', 'ratePer100000':'int64'})\n",
    "df.head()"
<<<<<<< HEAD
>>>>>>> 39d7cb1403e4c630487e12b188b4be3f235abd6d
=======
>>>>>>> 39d7cb1403e4c630487e12b188b4be3f235abd6d
   ]
  },
  {
   "cell_type": "code",
<<<<<<< HEAD
<<<<<<< HEAD
   "execution_count": 51,
   "id": "6c392e8d-ab11-481d-b36c-e6095f16a1b7",
=======
   "execution_count": 7,
   "id": "f000efc7",
>>>>>>> 39d7cb1403e4c630487e12b188b4be3f235abd6d
=======
   "execution_count": 7,
   "id": "f000efc7",
>>>>>>> 39d7cb1403e4c630487e12b188b4be3f235abd6d
   "metadata": {},
   "outputs": [
    {
     "name": "stdout",
     "output_type": "stream",
     "text": [
<<<<<<< HEAD
<<<<<<< HEAD
      "Memory usage of dataframe is 5214.06 MB\n",
      "Memory usage after optimization is: 10230.01 MB\n",
      "Decreased by -96.2%\n"
=======
=======
>>>>>>> 39d7cb1403e4c630487e12b188b4be3f235abd6d
      "(206400, 8)\n",
      "(206400, 8)\n",
      "(206400, 8)\n",
      "(206400, 8)\n",
      "(206400, 8)\n"
<<<<<<< HEAD
>>>>>>> 39d7cb1403e4c630487e12b188b4be3f235abd6d
=======
>>>>>>> 39d7cb1403e4c630487e12b188b4be3f235abd6d
     ]
    }
   ],
   "source": [
<<<<<<< HEAD
<<<<<<< HEAD
    "def reduce_mem_usage(df):\n",
    "    start_mem = df.memory_usage().sum() / 1024**2\n",
    "    print('Memory usage of dataframe is {:.2f} MB'.format(start_mem))\n",
    "    \n",
    "    for col in df.columns:\n",
    "        col_type = df[col].dtype\n",
    "        \n",
    "        if col_type != object:\n",
    "            c_min = df[col].min()\n",
    "            c_max = df[col].max()\n",
    "            if str(col_type)[:3] == 'int':\n",
    "                if c_min > np.iinfo(np.int8).min and c_max < np.iinfo(np.int8).max:\n",
    "                    df[col] = df[col].astype(np.int8)\n",
    "                elif c_min > np.iinfo(np.int16).min and c_max < np.iinfo(np.int16).max:\n",
    "                    df[col] = df[col].astype(np.int16)\n",
    "                elif c_min > np.iinfo(np.int32).min and c_max < np.iinfo(np.int32).max:\n",
    "                    df[col] = df[col].astype(np.int32)\n",
    "                elif c_min > np.iinfo(np.int64).min and c_max < np.iinfo(np.int64).max:\n",
    "                    df[col] = df[col].astype(np.int64)  \n",
    "            else:\n",
    "                if c_min > np.finfo(np.float16).min and c_max < np.finfo(np.float16).max:\n",
    "                    df[col] = df[col].astype(np.float16)\n",
    "                elif c_min > np.finfo(np.float32).min and c_max < np.finfo(np.float32).max:\n",
    "                    df[col] = df[col].astype(np.float32)\n",
    "                else:\n",
    "                    df[col] = df[col].astype(np.float64)\n",
    "        else:\n",
    "            df[col] = df[col].astype('category')\n",
    "\n",
    "    end_mem = df.memory_usage().sum() / 1024**2\n",
    "    print('Memory usage after optimization is: {:.2f} MB'.format(end_mem))\n",
    "    print('Decreased by {:.1f}%'.format(100 * (start_mem - end_mem) / start_mem))\n",
    "    \n",
    "    return df\n",
    "df = reduce_mem_usage(df)"
=======
=======
>>>>>>> 39d7cb1403e4c630487e12b188b4be3f235abd6d
    "df2016 = pd.DataFrame(tot_df[0])\n",
    "print(df2016.shape)\n",
    "df2017 = pd.DataFrame(tot_df[1])\n",
    "print(df2017.shape)\n",
    "df2018 = pd.DataFrame(tot_df[2])\n",
    "print(df2018.shape)\n",
    "df2019 = pd.DataFrame(tot_df[3])\n",
    "print(df2019.shape)\n",
    "df2020 = pd.DataFrame(tot_df[4])\n",
    "print(df2020.shape)"
<<<<<<< HEAD
>>>>>>> 39d7cb1403e4c630487e12b188b4be3f235abd6d
=======
>>>>>>> 39d7cb1403e4c630487e12b188b4be3f235abd6d
   ]
  },
  {
   "cell_type": "code",
<<<<<<< HEAD
<<<<<<< HEAD
   "execution_count": 41,
   "id": "ea2830ff-95d9-4467-96cd-0a11a0d6d6be",
   "metadata": {},
   "outputs": [
    {
     "data": {
      "text/html": [
       "<div>\n",
       "<style scoped>\n",
       "    .dataframe tbody tr th:only-of-type {\n",
       "        vertical-align: middle;\n",
       "    }\n",
       "\n",
       "    .dataframe tbody tr th {\n",
       "        vertical-align: top;\n",
       "    }\n",
       "\n",
       "    .dataframe thead th {\n",
       "        text-align: right;\n",
       "    }\n",
       "</style>\n",
       "<table border=\"1\" class=\"dataframe\">\n",
       "  <thead>\n",
       "    <tr style=\"text-align: right;\">\n",
       "      <th></th>\n",
       "      <th>year</th>\n",
       "      <th>geography</th>\n",
       "      <th>fips</th>\n",
       "      <th>cases_Female_Chlamydia_American Indian/Alaska Native</th>\n",
       "      <th>cases_Female_Chlamydia_Asian</th>\n",
       "      <th>cases_Female_Chlamydia_Black/African American</th>\n",
       "      <th>cases_Female_Chlamydia_Hispanic/Latino</th>\n",
       "      <th>cases_Female_Chlamydia_Multiracial</th>\n",
       "      <th>cases_Female_Chlamydia_Native Hawaiian/Other Pacific Islander</th>\n",
       "      <th>cases_Female_Chlamydia_Unknown</th>\n",
       "      <th>...</th>\n",
       "      <th>ratePer100000_Male_Gonorrhea_Multiracial</th>\n",
       "      <th>ratePer100000_Male_Gonorrhea_Native Hawaiian/Other Pacific Islander</th>\n",
       "      <th>ratePer100000_Male_Gonorrhea_White</th>\n",
       "      <th>ratePer100000_Male_Primary and Secondary Syphilis_American Indian/Alaska Native</th>\n",
       "      <th>ratePer100000_Male_Primary and Secondary Syphilis_Asian</th>\n",
       "      <th>ratePer100000_Male_Primary and Secondary Syphilis_Black/African American</th>\n",
       "      <th>ratePer100000_Male_Primary and Secondary Syphilis_Hispanic/Latino</th>\n",
       "      <th>ratePer100000_Male_Primary and Secondary Syphilis_Multiracial</th>\n",
       "      <th>ratePer100000_Male_Primary and Secondary Syphilis_Native Hawaiian/Other Pacific Islander</th>\n",
       "      <th>ratePer100000_Male_Primary and Secondary Syphilis_White</th>\n",
       "    </tr>\n",
       "  </thead>\n",
       "  <tbody>\n",
       "    <tr>\n",
       "      <th>0</th>\n",
       "      <td>2019</td>\n",
       "      <td>Abbeville County, SC</td>\n",
       "      <td>45001</td>\n",
       "      <td>0.0</td>\n",
       "      <td>0.0</td>\n",
       "      <td>39.0</td>\n",
       "      <td>1.0</td>\n",
       "      <td>0.0</td>\n",
       "      <td>0.0</td>\n",
       "      <td>26.0</td>\n",
       "      <td>...</td>\n",
       "      <td>0.0</td>\n",
       "      <td>0.0</td>\n",
       "      <td>24.2</td>\n",
       "      <td>NaN</td>\n",
       "      <td>NaN</td>\n",
       "      <td>NaN</td>\n",
       "      <td>NaN</td>\n",
       "      <td>NaN</td>\n",
       "      <td>NaN</td>\n",
       "      <td>NaN</td>\n",
       "    </tr>\n",
       "    <tr>\n",
       "      <th>1</th>\n",
       "      <td>2019</td>\n",
       "      <td>Acadia Parish, LA</td>\n",
       "      <td>22001</td>\n",
       "      <td>0.0</td>\n",
       "      <td>0.0</td>\n",
       "      <td>134.0</td>\n",
       "      <td>7.0</td>\n",
       "      <td>7.0</td>\n",
       "      <td>0.0</td>\n",
       "      <td>18.0</td>\n",
       "      <td>...</td>\n",
       "      <td>0.0</td>\n",
       "      <td>0.0</td>\n",
       "      <td>98.3</td>\n",
       "      <td>0.0</td>\n",
       "      <td>0.0</td>\n",
       "      <td>18.8</td>\n",
       "      <td>0.0</td>\n",
       "      <td>0.0</td>\n",
       "      <td>0.0</td>\n",
       "      <td>8.6</td>\n",
       "    </tr>\n",
       "    <tr>\n",
       "      <th>2</th>\n",
       "      <td>2019</td>\n",
       "      <td>Accomack County, VA</td>\n",
       "      <td>51001</td>\n",
       "      <td>NaN</td>\n",
       "      <td>0.0</td>\n",
       "      <td>84.0</td>\n",
       "      <td>4.0</td>\n",
       "      <td>NaN</td>\n",
       "      <td>0.0</td>\n",
       "      <td>27.0</td>\n",
       "      <td>...</td>\n",
       "      <td>NaN</td>\n",
       "      <td>0.0</td>\n",
       "      <td>0.0</td>\n",
       "      <td>0.0</td>\n",
       "      <td>0.0</td>\n",
       "      <td>0.0</td>\n",
       "      <td>0.0</td>\n",
       "      <td>0.0</td>\n",
       "      <td>0.0</td>\n",
       "      <td>0.0</td>\n",
       "    </tr>\n",
       "    <tr>\n",
       "      <th>3</th>\n",
       "      <td>2019</td>\n",
       "      <td>Adair County, IA</td>\n",
       "      <td>19001</td>\n",
       "      <td>0.0</td>\n",
       "      <td>0.0</td>\n",
       "      <td>NaN</td>\n",
       "      <td>0.0</td>\n",
       "      <td>NaN</td>\n",
       "      <td>0.0</td>\n",
       "      <td>1.0</td>\n",
       "      <td>...</td>\n",
       "      <td>0.0</td>\n",
       "      <td>0.0</td>\n",
       "      <td>0.0</td>\n",
       "      <td>0.0</td>\n",
       "      <td>0.0</td>\n",
       "      <td>0.0</td>\n",
       "      <td>0.0</td>\n",
       "      <td>0.0</td>\n",
       "      <td>0.0</td>\n",
       "      <td>0.0</td>\n",
       "    </tr>\n",
       "    <tr>\n",
       "      <th>4</th>\n",
       "      <td>2019</td>\n",
       "      <td>Adair County, KY</td>\n",
       "      <td>21001</td>\n",
       "      <td>0.0</td>\n",
       "      <td>0.0</td>\n",
       "      <td>1.0</td>\n",
       "      <td>0.0</td>\n",
       "      <td>0.0</td>\n",
       "      <td>0.0</td>\n",
       "      <td>22.0</td>\n",
       "      <td>...</td>\n",
       "      <td>0.0</td>\n",
       "      <td>0.0</td>\n",
       "      <td>11.3</td>\n",
       "      <td>0.0</td>\n",
       "      <td>0.0</td>\n",
       "      <td>0.0</td>\n",
       "      <td>0.0</td>\n",
       "      <td>0.0</td>\n",
       "      <td>0.0</td>\n",
       "      <td>0.0</td>\n",
       "    </tr>\n",
       "  </tbody>\n",
       "</table>\n",
       "<p>5 rows × 123 columns</p>\n",
       "</div>"
      ],
      "text/plain": [
       "   year             geography   fips  \\\n",
       "0  2019  Abbeville County, SC  45001   \n",
       "1  2019     Acadia Parish, LA  22001   \n",
       "2  2019   Accomack County, VA  51001   \n",
       "3  2019      Adair County, IA  19001   \n",
       "4  2019      Adair County, KY  21001   \n",
       "\n",
       "   cases_Female_Chlamydia_American Indian/Alaska Native  \\\n",
       "0                                                0.0      \n",
       "1                                                0.0      \n",
       "2                                                NaN      \n",
       "3                                                0.0      \n",
       "4                                                0.0      \n",
       "\n",
       "   cases_Female_Chlamydia_Asian  \\\n",
       "0                           0.0   \n",
       "1                           0.0   \n",
       "2                           0.0   \n",
       "3                           0.0   \n",
       "4                           0.0   \n",
       "\n",
       "   cases_Female_Chlamydia_Black/African American  \\\n",
       "0                                           39.0   \n",
       "1                                          134.0   \n",
       "2                                           84.0   \n",
       "3                                            NaN   \n",
       "4                                            1.0   \n",
       "\n",
       "   cases_Female_Chlamydia_Hispanic/Latino  cases_Female_Chlamydia_Multiracial  \\\n",
       "0                                     1.0                                 0.0   \n",
       "1                                     7.0                                 7.0   \n",
       "2                                     4.0                                 NaN   \n",
       "3                                     0.0                                 NaN   \n",
       "4                                     0.0                                 0.0   \n",
       "\n",
       "   cases_Female_Chlamydia_Native Hawaiian/Other Pacific Islander  \\\n",
       "0                                                0.0               \n",
       "1                                                0.0               \n",
       "2                                                0.0               \n",
       "3                                                0.0               \n",
       "4                                                0.0               \n",
       "\n",
       "   cases_Female_Chlamydia_Unknown  ...  \\\n",
       "0                            26.0  ...   \n",
       "1                            18.0  ...   \n",
       "2                            27.0  ...   \n",
       "3                             1.0  ...   \n",
       "4                            22.0  ...   \n",
       "\n",
       "   ratePer100000_Male_Gonorrhea_Multiracial  \\\n",
       "0                                       0.0   \n",
       "1                                       0.0   \n",
       "2                                       NaN   \n",
       "3                                       0.0   \n",
       "4                                       0.0   \n",
       "\n",
       "   ratePer100000_Male_Gonorrhea_Native Hawaiian/Other Pacific Islander  \\\n",
       "0                                                0.0                     \n",
       "1                                                0.0                     \n",
       "2                                                0.0                     \n",
       "3                                                0.0                     \n",
       "4                                                0.0                     \n",
       "\n",
       "   ratePer100000_Male_Gonorrhea_White  \\\n",
       "0                                24.2   \n",
       "1                                98.3   \n",
       "2                                 0.0   \n",
       "3                                 0.0   \n",
       "4                                11.3   \n",
       "\n",
       "   ratePer100000_Male_Primary and Secondary Syphilis_American Indian/Alaska Native  \\\n",
       "0                                                NaN                                 \n",
       "1                                                0.0                                 \n",
       "2                                                0.0                                 \n",
       "3                                                0.0                                 \n",
       "4                                                0.0                                 \n",
       "\n",
       "   ratePer100000_Male_Primary and Secondary Syphilis_Asian  \\\n",
       "0                                                NaN         \n",
       "1                                                0.0         \n",
       "2                                                0.0         \n",
       "3                                                0.0         \n",
       "4                                                0.0         \n",
       "\n",
       "   ratePer100000_Male_Primary and Secondary Syphilis_Black/African American  \\\n",
       "0                                                NaN                          \n",
       "1                                               18.8                          \n",
       "2                                                0.0                          \n",
       "3                                                0.0                          \n",
       "4                                                0.0                          \n",
       "\n",
       "   ratePer100000_Male_Primary and Secondary Syphilis_Hispanic/Latino  \\\n",
       "0                                                NaN                   \n",
       "1                                                0.0                   \n",
       "2                                                0.0                   \n",
       "3                                                0.0                   \n",
       "4                                                0.0                   \n",
       "\n",
       "   ratePer100000_Male_Primary and Secondary Syphilis_Multiracial  \\\n",
       "0                                                NaN               \n",
       "1                                                0.0               \n",
       "2                                                0.0               \n",
       "3                                                0.0               \n",
       "4                                                0.0               \n",
       "\n",
       "   ratePer100000_Male_Primary and Secondary Syphilis_Native Hawaiian/Other Pacific Islander  \\\n",
       "0                                                NaN                                          \n",
       "1                                                0.0                                          \n",
       "2                                                0.0                                          \n",
       "3                                                0.0                                          \n",
       "4                                                0.0                                          \n",
       "\n",
       "   ratePer100000_Male_Primary and Secondary Syphilis_White  \n",
       "0                                                NaN        \n",
       "1                                                8.6        \n",
       "2                                                0.0        \n",
       "3                                                0.0        \n",
       "4                                                0.0        \n",
       "\n",
       "[5 rows x 123 columns]"
      ]
     },
     "execution_count": 41,
=======
=======
>>>>>>> 39d7cb1403e4c630487e12b188b4be3f235abd6d
   "execution_count": 21,
   "id": "94711106",
   "metadata": {
    "scrolled": false
   },
   "outputs": [
    {
     "data": {
      "text/plain": [
       "Indicator          object\n",
       "Year                int64\n",
       "Geography          object\n",
       "FIPS                int64\n",
       "Race/Ethnicity     object\n",
       "Sex                object\n",
       "Cases              object\n",
       "Rate per 100000    object\n",
       "dtype: object"
      ]
     },
     "execution_count": 21,
<<<<<<< HEAD
>>>>>>> 39d7cb1403e4c630487e12b188b4be3f235abd6d
=======
>>>>>>> 39d7cb1403e4c630487e12b188b4be3f235abd6d
     "metadata": {},
     "output_type": "execute_result"
    }
   ],
   "source": [
<<<<<<< HEAD
<<<<<<< HEAD
    "df = df.pivot_table(index=['year','geography','fips'], columns=['sex', 'indicator','raceEthnicity']).reset_index()\n",
    "df.columns = df.columns.map('_'.join).str.strip('_')\n",
    "df.head()"
=======
    "df2016.dtypes"
>>>>>>> 39d7cb1403e4c630487e12b188b4be3f235abd6d
=======
    "df2016.dtypes"
>>>>>>> 39d7cb1403e4c630487e12b188b4be3f235abd6d
   ]
  },
  {
   "cell_type": "code",
<<<<<<< HEAD
<<<<<<< HEAD
   "execution_count": 56,
   "id": "8a70bd33-bb1e-44f1-b7bb-bb9982d88c24",
   "metadata": {},
   "outputs": [
    {
     "data": {
      "text/html": [
       "<div>\n",
       "<style scoped>\n",
       "    .dataframe tbody tr th:only-of-type {\n",
       "        vertical-align: middle;\n",
       "    }\n",
       "\n",
       "    .dataframe tbody tr th {\n",
       "        vertical-align: top;\n",
       "    }\n",
       "\n",
       "    .dataframe thead th {\n",
       "        text-align: right;\n",
       "    }\n",
       "</style>\n",
       "<table border=\"1\" class=\"dataframe\">\n",
       "  <thead>\n",
       "    <tr style=\"text-align: right;\">\n",
       "      <th></th>\n",
       "      <th>year</th>\n",
       "      <th>geography</th>\n",
       "      <th>fips</th>\n",
       "      <th>cases_Female_Chlamydia_0-14</th>\n",
       "      <th>cases_Female_Chlamydia_15-19</th>\n",
       "      <th>cases_Female_Chlamydia_20-24</th>\n",
       "      <th>cases_Female_Chlamydia_25-29</th>\n",
       "      <th>cases_Female_Chlamydia_30-34</th>\n",
       "      <th>cases_Female_Chlamydia_35-39</th>\n",
       "      <th>cases_Female_Chlamydia_40-44</th>\n",
       "      <th>...</th>\n",
       "      <th>ratePer100000_Male_Gonorrhea_30-34</th>\n",
       "      <th>ratePer100000_Male_Gonorrhea_35-39</th>\n",
       "      <th>ratePer100000_Male_Gonorrhea_40-44</th>\n",
       "      <th>ratePer100000_Male_Primary and Secondary Syphilis_0-14</th>\n",
       "      <th>ratePer100000_Male_Primary and Secondary Syphilis_15-19</th>\n",
       "      <th>ratePer100000_Male_Primary and Secondary Syphilis_20-24</th>\n",
       "      <th>ratePer100000_Male_Primary and Secondary Syphilis_25-29</th>\n",
       "      <th>ratePer100000_Male_Primary and Secondary Syphilis_30-34</th>\n",
       "      <th>ratePer100000_Male_Primary and Secondary Syphilis_35-39</th>\n",
       "      <th>ratePer100000_Male_Primary and Secondary Syphilis_40-44</th>\n",
       "    </tr>\n",
       "  </thead>\n",
       "  <tbody>\n",
       "    <tr>\n",
       "      <th>0</th>\n",
       "      <td>2020</td>\n",
       "      <td>Abbeville County, SC</td>\n",
       "      <td>45001</td>\n",
       "      <td>2.0</td>\n",
       "      <td>27.0</td>\n",
       "      <td>24.0</td>\n",
       "      <td>6.0</td>\n",
       "      <td>7.0</td>\n",
       "      <td>0.0</td>\n",
       "      <td>0.0</td>\n",
       "      <td>...</td>\n",
       "      <td>322.6</td>\n",
       "      <td>326.8</td>\n",
       "      <td>0.0</td>\n",
       "      <td>NaN</td>\n",
       "      <td>NaN</td>\n",
       "      <td>NaN</td>\n",
       "      <td>NaN</td>\n",
       "      <td>NaN</td>\n",
       "      <td>NaN</td>\n",
       "      <td>NaN</td>\n",
       "    </tr>\n",
       "    <tr>\n",
       "      <th>1</th>\n",
       "      <td>2020</td>\n",
       "      <td>Acadia Parish, LA</td>\n",
       "      <td>22001</td>\n",
       "      <td>6.0</td>\n",
       "      <td>112.0</td>\n",
       "      <td>87.0</td>\n",
       "      <td>20.0</td>\n",
       "      <td>18.0</td>\n",
       "      <td>7.0</td>\n",
       "      <td>7.0</td>\n",
       "      <td>...</td>\n",
       "      <td>562.1</td>\n",
       "      <td>104.9</td>\n",
       "      <td>58.2</td>\n",
       "      <td>0.0</td>\n",
       "      <td>46.8</td>\n",
       "      <td>53.8</td>\n",
       "      <td>93.4</td>\n",
       "      <td>0.0</td>\n",
       "      <td>0.0</td>\n",
       "      <td>116.3</td>\n",
       "    </tr>\n",
       "    <tr>\n",
       "      <th>2</th>\n",
       "      <td>2020</td>\n",
       "      <td>Accomack County, VA</td>\n",
       "      <td>51001</td>\n",
       "      <td>0.0</td>\n",
       "      <td>30.0</td>\n",
       "      <td>59.0</td>\n",
       "      <td>21.0</td>\n",
       "      <td>13.0</td>\n",
       "      <td>13.0</td>\n",
       "      <td>4.0</td>\n",
       "      <td>...</td>\n",
       "      <td>826.4</td>\n",
       "      <td>119.3</td>\n",
       "      <td>131.9</td>\n",
       "      <td>0.0</td>\n",
       "      <td>0.0</td>\n",
       "      <td>130.9</td>\n",
       "      <td>118.2</td>\n",
       "      <td>0.0</td>\n",
       "      <td>0.0</td>\n",
       "      <td>0.0</td>\n",
       "    </tr>\n",
       "    <tr>\n",
       "      <th>3</th>\n",
       "      <td>2020</td>\n",
       "      <td>Adair County, IA</td>\n",
       "      <td>19001</td>\n",
       "      <td>0.0</td>\n",
       "      <td>5.0</td>\n",
       "      <td>1.0</td>\n",
       "      <td>4.0</td>\n",
       "      <td>1.0</td>\n",
       "      <td>1.0</td>\n",
       "      <td>0.0</td>\n",
       "      <td>...</td>\n",
       "      <td>0.0</td>\n",
       "      <td>487.8</td>\n",
       "      <td>0.0</td>\n",
       "      <td>0.0</td>\n",
       "      <td>0.0</td>\n",
       "      <td>0.0</td>\n",
       "      <td>0.0</td>\n",
       "      <td>0.0</td>\n",
       "      <td>0.0</td>\n",
       "      <td>0.0</td>\n",
       "    </tr>\n",
       "    <tr>\n",
       "      <th>4</th>\n",
       "      <td>2020</td>\n",
       "      <td>Adair County, KY</td>\n",
       "      <td>21001</td>\n",
       "      <td>0.0</td>\n",
       "      <td>8.0</td>\n",
       "      <td>7.0</td>\n",
       "      <td>3.0</td>\n",
       "      <td>2.0</td>\n",
       "      <td>1.0</td>\n",
       "      <td>0.0</td>\n",
       "      <td>...</td>\n",
       "      <td>398.4</td>\n",
       "      <td>403.2</td>\n",
       "      <td>0.0</td>\n",
       "      <td>0.0</td>\n",
       "      <td>0.0</td>\n",
       "      <td>0.0</td>\n",
       "      <td>0.0</td>\n",
       "      <td>0.0</td>\n",
       "      <td>0.0</td>\n",
       "      <td>0.0</td>\n",
       "    </tr>\n",
       "  </tbody>\n",
       "</table>\n",
       "<p>5 rows × 115 columns</p>\n",
       "</div>"
      ],
      "text/plain": [
       "   year             geography   fips  cases_Female_Chlamydia_0-14  \\\n",
       "0  2020  Abbeville County, SC  45001                          2.0   \n",
       "1  2020     Acadia Parish, LA  22001                          6.0   \n",
       "2  2020   Accomack County, VA  51001                          0.0   \n",
       "3  2020      Adair County, IA  19001                          0.0   \n",
       "4  2020      Adair County, KY  21001                          0.0   \n",
       "\n",
       "   cases_Female_Chlamydia_15-19  cases_Female_Chlamydia_20-24  \\\n",
       "0                          27.0                          24.0   \n",
       "1                         112.0                          87.0   \n",
       "2                          30.0                          59.0   \n",
       "3                           5.0                           1.0   \n",
       "4                           8.0                           7.0   \n",
       "\n",
       "   cases_Female_Chlamydia_25-29  cases_Female_Chlamydia_30-34  \\\n",
       "0                           6.0                           7.0   \n",
       "1                          20.0                          18.0   \n",
       "2                          21.0                          13.0   \n",
       "3                           4.0                           1.0   \n",
       "4                           3.0                           2.0   \n",
       "\n",
       "   cases_Female_Chlamydia_35-39  cases_Female_Chlamydia_40-44  ...  \\\n",
       "0                           0.0                           0.0  ...   \n",
       "1                           7.0                           7.0  ...   \n",
       "2                          13.0                           4.0  ...   \n",
       "3                           1.0                           0.0  ...   \n",
       "4                           1.0                           0.0  ...   \n",
       "\n",
       "   ratePer100000_Male_Gonorrhea_30-34  ratePer100000_Male_Gonorrhea_35-39  \\\n",
       "0                               322.6                               326.8   \n",
       "1                               562.1                               104.9   \n",
       "2                               826.4                               119.3   \n",
       "3                                 0.0                               487.8   \n",
       "4                               398.4                               403.2   \n",
       "\n",
       "   ratePer100000_Male_Gonorrhea_40-44  \\\n",
       "0                                 0.0   \n",
       "1                                58.2   \n",
       "2                               131.9   \n",
       "3                                 0.0   \n",
       "4                                 0.0   \n",
       "\n",
       "   ratePer100000_Male_Primary and Secondary Syphilis_0-14  \\\n",
       "0                                                NaN        \n",
       "1                                                0.0        \n",
       "2                                                0.0        \n",
       "3                                                0.0        \n",
       "4                                                0.0        \n",
       "\n",
       "   ratePer100000_Male_Primary and Secondary Syphilis_15-19  \\\n",
       "0                                                NaN         \n",
       "1                                               46.8         \n",
       "2                                                0.0         \n",
       "3                                                0.0         \n",
       "4                                                0.0         \n",
       "\n",
       "   ratePer100000_Male_Primary and Secondary Syphilis_20-24  \\\n",
       "0                                                NaN         \n",
       "1                                               53.8         \n",
       "2                                              130.9         \n",
       "3                                                0.0         \n",
       "4                                                0.0         \n",
       "\n",
       "   ratePer100000_Male_Primary and Secondary Syphilis_25-29  \\\n",
       "0                                                NaN         \n",
       "1                                               93.4         \n",
       "2                                              118.2         \n",
       "3                                                0.0         \n",
       "4                                                0.0         \n",
       "\n",
       "   ratePer100000_Male_Primary and Secondary Syphilis_30-34  \\\n",
       "0                                                NaN         \n",
       "1                                                0.0         \n",
       "2                                                0.0         \n",
       "3                                                0.0         \n",
       "4                                                0.0         \n",
       "\n",
       "   ratePer100000_Male_Primary and Secondary Syphilis_35-39  \\\n",
       "0                                                NaN         \n",
       "1                                                0.0         \n",
       "2                                                0.0         \n",
       "3                                                0.0         \n",
       "4                                                0.0         \n",
       "\n",
       "   ratePer100000_Male_Primary and Secondary Syphilis_40-44  \n",
       "0                                                NaN        \n",
       "1                                              116.3        \n",
       "2                                                0.0        \n",
       "3                                                0.0        \n",
       "4                                                0.0        \n",
       "\n",
       "[5 rows x 115 columns]"
      ]
     },
     "execution_count": 56,
     "metadata": {},
     "output_type": "execute_result"
    }
   ],
   "source": [
    "df = df.pivot_table(index=['year','geography','fips'], columns=['sex', 'indicator','Age Group']).reset_index()\n",
    "df.columns = df.columns.map('_'.join).str.strip('_')\n",
    "df.head()"
   ]
  },
  {
   "cell_type": "code",
   "execution_count": 26,
   "id": "9775e9f9-8b29-47a3-9bb4-dc6ade591489",
   "metadata": {},
   "outputs": [
    {
     "data": {
      "text/plain": [
       "array([], dtype=int64)"
      ]
     },
     "execution_count": 26,
     "metadata": {},
     "output_type": "execute_result"
    }
   ],
   "source": [
    "pd.unique(df['year'])"
   ]
  },
  {
   "cell_type": "code",
   "execution_count": 42,
   "id": "7a36f8a0-645d-4eca-956a-eac0f47173a3",
   "metadata": {},
   "outputs": [],
   "source": [
    "df.to_csv(\"../Data/clean/CDC/disagRaceSexSTD2019_2020clean.csv\",index=False)"
   ]
  },
  {
   "cell_type": "code",
   "execution_count": 36,
   "id": "97902ce4-2f9a-4ad0-981b-bf39276bd0f6",
   "metadata": {},
   "outputs": [
    {
     "data": {
      "text/html": [
       "<div>\n",
       "<style scoped>\n",
       "    .dataframe tbody tr th:only-of-type {\n",
       "        vertical-align: middle;\n",
       "    }\n",
       "\n",
       "    .dataframe tbody tr th {\n",
       "        vertical-align: top;\n",
       "    }\n",
       "\n",
       "    .dataframe thead th {\n",
       "        text-align: right;\n",
       "    }\n",
       "</style>\n",
       "<table border=\"1\" class=\"dataframe\">\n",
       "  <thead>\n",
       "    <tr style=\"text-align: right;\">\n",
       "      <th></th>\n",
       "      <th>year</th>\n",
       "      <th>geography</th>\n",
       "      <th>fips</th>\n",
       "      <th>cases_Female_Chlamydia_American Indian/Alaska Native</th>\n",
       "      <th>cases_Female_Chlamydia_Asian</th>\n",
       "      <th>cases_Female_Chlamydia_Black/African American</th>\n",
       "      <th>cases_Female_Chlamydia_Hispanic/Latino</th>\n",
       "      <th>cases_Female_Chlamydia_Multiracial</th>\n",
       "      <th>cases_Female_Chlamydia_Native Hawaiian/Other Pacific Islander</th>\n",
       "      <th>cases_Female_Chlamydia_Unknown</th>\n",
       "      <th>...</th>\n",
       "      <th>ratePer100000_Male_Gonorrhea_Multiracial</th>\n",
       "      <th>ratePer100000_Male_Gonorrhea_Native Hawaiian/Other Pacific Islander</th>\n",
       "      <th>ratePer100000_Male_Gonorrhea_White</th>\n",
       "      <th>ratePer100000_Male_Primary and Secondary Syphilis_American Indian/Alaska Native</th>\n",
       "      <th>ratePer100000_Male_Primary and Secondary Syphilis_Asian</th>\n",
       "      <th>ratePer100000_Male_Primary and Secondary Syphilis_Black/African American</th>\n",
       "      <th>ratePer100000_Male_Primary and Secondary Syphilis_Hispanic/Latino</th>\n",
       "      <th>ratePer100000_Male_Primary and Secondary Syphilis_Multiracial</th>\n",
       "      <th>ratePer100000_Male_Primary and Secondary Syphilis_Native Hawaiian/Other Pacific Islander</th>\n",
       "      <th>ratePer100000_Male_Primary and Secondary Syphilis_White</th>\n",
       "    </tr>\n",
       "  </thead>\n",
       "  <tbody>\n",
       "    <tr>\n",
       "      <th>0</th>\n",
       "      <td>2019</td>\n",
       "      <td>Abbeville County, SC</td>\n",
       "      <td>45001</td>\n",
       "      <td>0.0</td>\n",
       "      <td>0.0</td>\n",
       "      <td>39.0</td>\n",
       "      <td>1.0</td>\n",
       "      <td>0.0</td>\n",
       "      <td>0.0</td>\n",
       "      <td>26.0</td>\n",
       "      <td>...</td>\n",
       "      <td>0.0</td>\n",
       "      <td>0.0</td>\n",
       "      <td>24.2</td>\n",
       "      <td>NaN</td>\n",
       "      <td>NaN</td>\n",
       "      <td>NaN</td>\n",
       "      <td>NaN</td>\n",
       "      <td>NaN</td>\n",
       "      <td>NaN</td>\n",
       "      <td>NaN</td>\n",
       "    </tr>\n",
       "    <tr>\n",
       "      <th>1</th>\n",
       "      <td>2019</td>\n",
       "      <td>Acadia Parish, LA</td>\n",
       "      <td>22001</td>\n",
       "      <td>0.0</td>\n",
       "      <td>0.0</td>\n",
       "      <td>134.0</td>\n",
       "      <td>7.0</td>\n",
       "      <td>7.0</td>\n",
       "      <td>0.0</td>\n",
       "      <td>18.0</td>\n",
       "      <td>...</td>\n",
       "      <td>0.0</td>\n",
       "      <td>0.0</td>\n",
       "      <td>98.3</td>\n",
       "      <td>0.0</td>\n",
       "      <td>0.0</td>\n",
       "      <td>18.8</td>\n",
       "      <td>0.0</td>\n",
       "      <td>0.0</td>\n",
       "      <td>0.0</td>\n",
       "      <td>8.6</td>\n",
       "    </tr>\n",
       "    <tr>\n",
       "      <th>2</th>\n",
       "      <td>2019</td>\n",
       "      <td>Accomack County, VA</td>\n",
       "      <td>51001</td>\n",
       "      <td>NaN</td>\n",
       "      <td>0.0</td>\n",
       "      <td>84.0</td>\n",
       "      <td>4.0</td>\n",
       "      <td>NaN</td>\n",
       "      <td>0.0</td>\n",
       "      <td>27.0</td>\n",
       "      <td>...</td>\n",
       "      <td>NaN</td>\n",
       "      <td>0.0</td>\n",
       "      <td>0.0</td>\n",
       "      <td>0.0</td>\n",
       "      <td>0.0</td>\n",
       "      <td>0.0</td>\n",
       "      <td>0.0</td>\n",
       "      <td>0.0</td>\n",
       "      <td>0.0</td>\n",
       "      <td>0.0</td>\n",
       "    </tr>\n",
       "    <tr>\n",
       "      <th>3</th>\n",
       "      <td>2019</td>\n",
       "      <td>Adair County, IA</td>\n",
       "      <td>19001</td>\n",
       "      <td>0.0</td>\n",
       "      <td>0.0</td>\n",
       "      <td>NaN</td>\n",
       "      <td>0.0</td>\n",
       "      <td>NaN</td>\n",
       "      <td>0.0</td>\n",
       "      <td>1.0</td>\n",
       "      <td>...</td>\n",
       "      <td>0.0</td>\n",
       "      <td>0.0</td>\n",
       "      <td>0.0</td>\n",
       "      <td>0.0</td>\n",
       "      <td>0.0</td>\n",
       "      <td>0.0</td>\n",
       "      <td>0.0</td>\n",
       "      <td>0.0</td>\n",
       "      <td>0.0</td>\n",
       "      <td>0.0</td>\n",
       "    </tr>\n",
       "    <tr>\n",
       "      <th>4</th>\n",
       "      <td>2019</td>\n",
       "      <td>Adair County, KY</td>\n",
       "      <td>21001</td>\n",
       "      <td>0.0</td>\n",
       "      <td>0.0</td>\n",
       "      <td>1.0</td>\n",
       "      <td>0.0</td>\n",
       "      <td>0.0</td>\n",
       "      <td>0.0</td>\n",
       "      <td>22.0</td>\n",
       "      <td>...</td>\n",
       "      <td>0.0</td>\n",
       "      <td>0.0</td>\n",
       "      <td>11.3</td>\n",
       "      <td>0.0</td>\n",
       "      <td>0.0</td>\n",
       "      <td>0.0</td>\n",
       "      <td>0.0</td>\n",
       "      <td>0.0</td>\n",
       "      <td>0.0</td>\n",
       "      <td>0.0</td>\n",
       "    </tr>\n",
       "    <tr>\n",
       "      <th>...</th>\n",
       "      <td>...</td>\n",
       "      <td>...</td>\n",
       "      <td>...</td>\n",
       "      <td>...</td>\n",
       "      <td>...</td>\n",
       "      <td>...</td>\n",
       "      <td>...</td>\n",
       "      <td>...</td>\n",
       "      <td>...</td>\n",
       "      <td>...</td>\n",
       "      <td>...</td>\n",
       "      <td>...</td>\n",
       "      <td>...</td>\n",
       "      <td>...</td>\n",
       "      <td>...</td>\n",
       "      <td>...</td>\n",
       "      <td>...</td>\n",
       "      <td>...</td>\n",
       "      <td>...</td>\n",
       "      <td>...</td>\n",
       "      <td>...</td>\n",
       "    </tr>\n",
       "    <tr>\n",
       "      <th>6184</th>\n",
       "      <td>2020</td>\n",
       "      <td>Yuma County, AZ</td>\n",
       "      <td>4027</td>\n",
       "      <td>9.0</td>\n",
       "      <td>3.0</td>\n",
       "      <td>9.0</td>\n",
       "      <td>516.0</td>\n",
       "      <td>3.0</td>\n",
       "      <td>0.0</td>\n",
       "      <td>105.0</td>\n",
       "      <td>...</td>\n",
       "      <td>79.9</td>\n",
       "      <td>NaN</td>\n",
       "      <td>38.4</td>\n",
       "      <td>0.0</td>\n",
       "      <td>0.0</td>\n",
       "      <td>0.0</td>\n",
       "      <td>2.9</td>\n",
       "      <td>0.0</td>\n",
       "      <td>0.0</td>\n",
       "      <td>3.0</td>\n",
       "    </tr>\n",
       "    <tr>\n",
       "      <th>6185</th>\n",
       "      <td>2020</td>\n",
       "      <td>Yuma County, CO</td>\n",
       "      <td>8125</td>\n",
       "      <td>0.0</td>\n",
       "      <td>0.0</td>\n",
       "      <td>0.0</td>\n",
       "      <td>6.0</td>\n",
       "      <td>0.0</td>\n",
       "      <td>0.0</td>\n",
       "      <td>4.0</td>\n",
       "      <td>...</td>\n",
       "      <td>0.0</td>\n",
       "      <td>0.0</td>\n",
       "      <td>0.0</td>\n",
       "      <td>0.0</td>\n",
       "      <td>0.0</td>\n",
       "      <td>0.0</td>\n",
       "      <td>0.0</td>\n",
       "      <td>0.0</td>\n",
       "      <td>0.0</td>\n",
       "      <td>0.0</td>\n",
       "    </tr>\n",
       "    <tr>\n",
       "      <th>6186</th>\n",
       "      <td>2020</td>\n",
       "      <td>Zapata County, TX</td>\n",
       "      <td>48505</td>\n",
       "      <td>0.0</td>\n",
       "      <td>0.0</td>\n",
       "      <td>0.0</td>\n",
       "      <td>25.0</td>\n",
       "      <td>0.0</td>\n",
       "      <td>0.0</td>\n",
       "      <td>16.0</td>\n",
       "      <td>...</td>\n",
       "      <td>0.0</td>\n",
       "      <td>NaN</td>\n",
       "      <td>0.0</td>\n",
       "      <td>0.0</td>\n",
       "      <td>0.0</td>\n",
       "      <td>0.0</td>\n",
       "      <td>0.0</td>\n",
       "      <td>0.0</td>\n",
       "      <td>NaN</td>\n",
       "      <td>0.0</td>\n",
       "    </tr>\n",
       "    <tr>\n",
       "      <th>6187</th>\n",
       "      <td>2020</td>\n",
       "      <td>Zavala County, TX</td>\n",
       "      <td>48507</td>\n",
       "      <td>0.0</td>\n",
       "      <td>0.0</td>\n",
       "      <td>0.0</td>\n",
       "      <td>13.0</td>\n",
       "      <td>0.0</td>\n",
       "      <td>0.0</td>\n",
       "      <td>23.0</td>\n",
       "      <td>...</td>\n",
       "      <td>0.0</td>\n",
       "      <td>0.0</td>\n",
       "      <td>0.0</td>\n",
       "      <td>0.0</td>\n",
       "      <td>0.0</td>\n",
       "      <td>0.0</td>\n",
       "      <td>0.0</td>\n",
       "      <td>0.0</td>\n",
       "      <td>0.0</td>\n",
       "      <td>0.0</td>\n",
       "    </tr>\n",
       "    <tr>\n",
       "      <th>6188</th>\n",
       "      <td>2020</td>\n",
       "      <td>Ziebach County, SD</td>\n",
       "      <td>46137</td>\n",
       "      <td>NaN</td>\n",
       "      <td>0.0</td>\n",
       "      <td>0.0</td>\n",
       "      <td>0.0</td>\n",
       "      <td>NaN</td>\n",
       "      <td>0.0</td>\n",
       "      <td>1.0</td>\n",
       "      <td>...</td>\n",
       "      <td>NaN</td>\n",
       "      <td>NaN</td>\n",
       "      <td>NaN</td>\n",
       "      <td>0.0</td>\n",
       "      <td>0.0</td>\n",
       "      <td>0.0</td>\n",
       "      <td>0.0</td>\n",
       "      <td>0.0</td>\n",
       "      <td>0.0</td>\n",
       "      <td>0.0</td>\n",
       "    </tr>\n",
       "  </tbody>\n",
       "</table>\n",
       "<p>6189 rows × 123 columns</p>\n",
       "</div>"
      ],
      "text/plain": [
       "      year             geography   fips  \\\n",
       "0     2019  Abbeville County, SC  45001   \n",
       "1     2019     Acadia Parish, LA  22001   \n",
       "2     2019   Accomack County, VA  51001   \n",
       "3     2019      Adair County, IA  19001   \n",
       "4     2019      Adair County, KY  21001   \n",
       "...    ...                   ...    ...   \n",
       "6184  2020       Yuma County, AZ   4027   \n",
       "6185  2020       Yuma County, CO   8125   \n",
       "6186  2020     Zapata County, TX  48505   \n",
       "6187  2020     Zavala County, TX  48507   \n",
       "6188  2020    Ziebach County, SD  46137   \n",
       "\n",
       "      cases_Female_Chlamydia_American Indian/Alaska Native  \\\n",
       "0                                                   0.0      \n",
       "1                                                   0.0      \n",
       "2                                                   NaN      \n",
       "3                                                   0.0      \n",
       "4                                                   0.0      \n",
       "...                                                 ...      \n",
       "6184                                                9.0      \n",
       "6185                                                0.0      \n",
       "6186                                                0.0      \n",
       "6187                                                0.0      \n",
       "6188                                                NaN      \n",
       "\n",
       "      cases_Female_Chlamydia_Asian  \\\n",
       "0                              0.0   \n",
       "1                              0.0   \n",
       "2                              0.0   \n",
       "3                              0.0   \n",
       "4                              0.0   \n",
       "...                            ...   \n",
       "6184                           3.0   \n",
       "6185                           0.0   \n",
       "6186                           0.0   \n",
       "6187                           0.0   \n",
       "6188                           0.0   \n",
       "\n",
       "      cases_Female_Chlamydia_Black/African American  \\\n",
       "0                                              39.0   \n",
       "1                                             134.0   \n",
       "2                                              84.0   \n",
       "3                                               NaN   \n",
       "4                                               1.0   \n",
       "...                                             ...   \n",
       "6184                                            9.0   \n",
       "6185                                            0.0   \n",
       "6186                                            0.0   \n",
       "6187                                            0.0   \n",
       "6188                                            0.0   \n",
       "\n",
       "      cases_Female_Chlamydia_Hispanic/Latino  \\\n",
       "0                                        1.0   \n",
       "1                                        7.0   \n",
       "2                                        4.0   \n",
       "3                                        0.0   \n",
       "4                                        0.0   \n",
       "...                                      ...   \n",
       "6184                                   516.0   \n",
       "6185                                     6.0   \n",
       "6186                                    25.0   \n",
       "6187                                    13.0   \n",
       "6188                                     0.0   \n",
       "\n",
       "      cases_Female_Chlamydia_Multiracial  \\\n",
       "0                                    0.0   \n",
       "1                                    7.0   \n",
       "2                                    NaN   \n",
       "3                                    NaN   \n",
       "4                                    0.0   \n",
       "...                                  ...   \n",
       "6184                                 3.0   \n",
       "6185                                 0.0   \n",
       "6186                                 0.0   \n",
       "6187                                 0.0   \n",
       "6188                                 NaN   \n",
       "\n",
       "      cases_Female_Chlamydia_Native Hawaiian/Other Pacific Islander  \\\n",
       "0                                                   0.0               \n",
       "1                                                   0.0               \n",
       "2                                                   0.0               \n",
       "3                                                   0.0               \n",
       "4                                                   0.0               \n",
       "...                                                 ...               \n",
       "6184                                                0.0               \n",
       "6185                                                0.0               \n",
       "6186                                                0.0               \n",
       "6187                                                0.0               \n",
       "6188                                                0.0               \n",
       "\n",
       "      cases_Female_Chlamydia_Unknown  ...  \\\n",
       "0                               26.0  ...   \n",
       "1                               18.0  ...   \n",
       "2                               27.0  ...   \n",
       "3                                1.0  ...   \n",
       "4                               22.0  ...   \n",
       "...                              ...  ...   \n",
       "6184                           105.0  ...   \n",
       "6185                             4.0  ...   \n",
       "6186                            16.0  ...   \n",
       "6187                            23.0  ...   \n",
       "6188                             1.0  ...   \n",
       "\n",
       "      ratePer100000_Male_Gonorrhea_Multiracial  \\\n",
       "0                                          0.0   \n",
       "1                                          0.0   \n",
       "2                                          NaN   \n",
       "3                                          0.0   \n",
       "4                                          0.0   \n",
       "...                                        ...   \n",
       "6184                                      79.9   \n",
       "6185                                       0.0   \n",
       "6186                                       0.0   \n",
       "6187                                       0.0   \n",
       "6188                                       NaN   \n",
       "\n",
       "      ratePer100000_Male_Gonorrhea_Native Hawaiian/Other Pacific Islander  \\\n",
       "0                                                   0.0                     \n",
       "1                                                   0.0                     \n",
       "2                                                   0.0                     \n",
       "3                                                   0.0                     \n",
       "4                                                   0.0                     \n",
       "...                                                 ...                     \n",
       "6184                                                NaN                     \n",
       "6185                                                0.0                     \n",
       "6186                                                NaN                     \n",
       "6187                                                0.0                     \n",
       "6188                                                NaN                     \n",
       "\n",
       "      ratePer100000_Male_Gonorrhea_White  \\\n",
       "0                                   24.2   \n",
       "1                                   98.3   \n",
       "2                                    0.0   \n",
       "3                                    0.0   \n",
       "4                                   11.3   \n",
       "...                                  ...   \n",
       "6184                                38.4   \n",
       "6185                                 0.0   \n",
       "6186                                 0.0   \n",
       "6187                                 0.0   \n",
       "6188                                 NaN   \n",
       "\n",
       "      ratePer100000_Male_Primary and Secondary Syphilis_American Indian/Alaska Native  \\\n",
       "0                                                   NaN                                 \n",
       "1                                                   0.0                                 \n",
       "2                                                   0.0                                 \n",
       "3                                                   0.0                                 \n",
       "4                                                   0.0                                 \n",
       "...                                                 ...                                 \n",
       "6184                                                0.0                                 \n",
       "6185                                                0.0                                 \n",
       "6186                                                0.0                                 \n",
       "6187                                                0.0                                 \n",
       "6188                                                0.0                                 \n",
       "\n",
       "      ratePer100000_Male_Primary and Secondary Syphilis_Asian  \\\n",
       "0                                                   NaN         \n",
       "1                                                   0.0         \n",
       "2                                                   0.0         \n",
       "3                                                   0.0         \n",
       "4                                                   0.0         \n",
       "...                                                 ...         \n",
       "6184                                                0.0         \n",
       "6185                                                0.0         \n",
       "6186                                                0.0         \n",
       "6187                                                0.0         \n",
       "6188                                                0.0         \n",
       "\n",
       "      ratePer100000_Male_Primary and Secondary Syphilis_Black/African American  \\\n",
       "0                                                   NaN                          \n",
       "1                                                  18.8                          \n",
       "2                                                   0.0                          \n",
       "3                                                   0.0                          \n",
       "4                                                   0.0                          \n",
       "...                                                 ...                          \n",
       "6184                                                0.0                          \n",
       "6185                                                0.0                          \n",
       "6186                                                0.0                          \n",
       "6187                                                0.0                          \n",
       "6188                                                0.0                          \n",
       "\n",
       "      ratePer100000_Male_Primary and Secondary Syphilis_Hispanic/Latino  \\\n",
       "0                                                   NaN                   \n",
       "1                                                   0.0                   \n",
       "2                                                   0.0                   \n",
       "3                                                   0.0                   \n",
       "4                                                   0.0                   \n",
       "...                                                 ...                   \n",
       "6184                                                2.9                   \n",
       "6185                                                0.0                   \n",
       "6186                                                0.0                   \n",
       "6187                                                0.0                   \n",
       "6188                                                0.0                   \n",
       "\n",
       "      ratePer100000_Male_Primary and Secondary Syphilis_Multiracial  \\\n",
       "0                                                   NaN               \n",
       "1                                                   0.0               \n",
       "2                                                   0.0               \n",
       "3                                                   0.0               \n",
       "4                                                   0.0               \n",
       "...                                                 ...               \n",
       "6184                                                0.0               \n",
       "6185                                                0.0               \n",
       "6186                                                0.0               \n",
       "6187                                                0.0               \n",
       "6188                                                0.0               \n",
       "\n",
       "      ratePer100000_Male_Primary and Secondary Syphilis_Native Hawaiian/Other Pacific Islander  \\\n",
       "0                                                   NaN                                          \n",
       "1                                                   0.0                                          \n",
       "2                                                   0.0                                          \n",
       "3                                                   0.0                                          \n",
       "4                                                   0.0                                          \n",
       "...                                                 ...                                          \n",
       "6184                                                0.0                                          \n",
       "6185                                                0.0                                          \n",
       "6186                                                NaN                                          \n",
       "6187                                                0.0                                          \n",
       "6188                                                0.0                                          \n",
       "\n",
       "      ratePer100000_Male_Primary and Secondary Syphilis_White  \n",
       "0                                                   NaN        \n",
       "1                                                   8.6        \n",
       "2                                                   0.0        \n",
       "3                                                   0.0        \n",
       "4                                                   0.0        \n",
       "...                                                 ...        \n",
       "6184                                                3.0        \n",
       "6185                                                0.0        \n",
       "6186                                                0.0        \n",
       "6187                                                0.0        \n",
       "6188                                                0.0        \n",
       "\n",
       "[6189 rows x 123 columns]"
      ]
     },
     "execution_count": 36,
     "metadata": {},
     "output_type": "execute_result"
    }
   ],
   "source": [
    "pd.read_csv(\"../Data/clean/CDC/disagRaceSexSTD2016_2020_clean.csv\")"
   ]
  },
  {
   "cell_type": "code",
   "execution_count": 59,
   "id": "df2572dc-bb9d-4d34-8e9c-8aad06513bbc",
   "metadata": {},
   "outputs": [
    {
     "name": "stdout",
     "output_type": "stream",
     "text": [
      "CDCSTD cleaning.ipynb          acs_dp05_cleaning.ipynb\n",
      "Data_cleaning.ipynb            acs_ipums_cleaning.ipynb\n",
      "HIV_cleaning.ipynb             google_mobility_cleaning.ipynb\n",
      "NHIS.ipynb\n"
     ]
    }
   ],
   "source": [
    "!ls"
   ]
  },
  {
   "cell_type": "code",
   "execution_count": 62,
   "id": "724d4f33-d930-4d3b-9f54-cbd54b575f80",
   "metadata": {},
   "outputs": [],
   "source": [
    "!ls ../Data/clean/CDC"
   ]
  },
  {
   "cell_type": "code",
   "execution_count": null,
   "id": "57ccdee5-4ea6-4150-88f8-cb9a1481f9de",
   "metadata": {},
   "outputs": [],
   "source": []
=======
=======
>>>>>>> 39d7cb1403e4c630487e12b188b4be3f235abd6d
   "execution_count": null,
   "id": "e5d276bf",
   "metadata": {},
   "outputs": [],
   "source": [
    "for i in enumerate(tot_df):\n",
    "    tot_df[i]['Ca']"
   ]
<<<<<<< HEAD
>>>>>>> 39d7cb1403e4c630487e12b188b4be3f235abd6d
=======
>>>>>>> 39d7cb1403e4c630487e12b188b4be3f235abd6d
  }
 ],
 "metadata": {
  "kernelspec": {
   "display_name": "Python 3 (ipykernel)",
   "language": "python",
   "name": "python3"
  },
  "language_info": {
   "codemirror_mode": {
    "name": "ipython",
    "version": 3
   },
   "file_extension": ".py",
   "mimetype": "text/x-python",
   "name": "python",
   "nbconvert_exporter": "python",
   "pygments_lexer": "ipython3",
<<<<<<< HEAD
   "version": "3.9.12"
=======
<<<<<<< HEAD
<<<<<<< HEAD
   "version": "3.9.13"
=======
   "version": "3.10.2"
>>>>>>> 39d7cb1403e4c630487e12b188b4be3f235abd6d
=======
   "version": "3.10.2"
>>>>>>> 39d7cb1403e4c630487e12b188b4be3f235abd6d
>>>>>>> f9452589323d44794782f113307740b2fa661fea
  }
 },
 "nbformat": 4,
 "nbformat_minor": 5
}
