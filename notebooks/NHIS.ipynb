{
 "cells": [
  {
   "cell_type": "code",
   "execution_count": 1,
   "id": "4549c183",
   "metadata": {},
   "outputs": [],
   "source": [
    "#import libraries\n",
    "import pandas as pd\n",
    "import numpy as np\n",
    "import os\n",
    "import matplotlib.pyplot as plt\n",
    "\n",
    "#suppresses warnings\n",
    "import warnings\n",
    "warnings.filterwarnings('ignore')\n",
    "\n",
    "%matplotlib inline"
   ]
  },
  {
   "cell_type": "code",
   "execution_count": 5,
   "id": "49f1d9f1",
   "metadata": {},
   "outputs": [],
   "source": [
    "tot_df = []\n",
    "for j,i in enumerate(np.arange(16, 21, 1)):\n",
    "    tot_df.append(pd.read_csv('../Data/Raw/NHIS/NHIS'+ \n",
    "                              str(i) +'adult.csv', sep = ','))"
   ]
  },
  {
   "cell_type": "code",
   "execution_count": 9,
   "id": "206586a0",
   "metadata": {},
   "outputs": [],
   "source": [
    "df16 = tot_df[0]\n",
    "df16.dtypes\n",
    "df16 = pd.DataFrame(df16)"
   ]
  },
  {
   "cell_type": "code",
   "execution_count": 48,
   "id": "9f9d2dc9",
   "metadata": {},
   "outputs": [
    {
     "name": "stdout",
     "output_type": "stream",
     "text": [
      "['AERVISND', 'AERHOS', 'AHERNOY2', 'AMDLONGR', 'SHTHPV2', 'SHHPVDOS', 'APSPAP', 'ASIHIVT', 'ASIHIVWN', 'SRVY_YR', 'INTV_MON', 'AHCNOYR2', 'REGION', 'AERREA1R', 'AERREA2R', 'AERREA3R', 'AERREA4R', 'AERREA5R', 'AERREA6R', 'AERREA7R', 'AERREA8R', 'HIT1A', 'HIT2A', 'HIT3A', 'HIT4A', 'HIT5A', 'AHCSYR7', 'AHCSYR8', 'AHCSYR9']\n"
     ]
    }
   ],
   "source": [
    "var = ['AERVISND', 'AERHOS', 'AHERNOY2', 'AMDLONGR', 'SHTHPV2', 'SHHPVDOS',\n",
    "      'APSPAP', 'ASIHIVT', 'ASIHIVWN', 'SRVY_YR', 'INTV_MON', 'AHCNOYR2',\n",
    "      'REGION']\n",
    "er_var = ['AERREA'+ str(i) +'R' for i in range(1,9)]\n",
    "hit_var = ['HIT' + str(i) +'A' for i in range(1,6)]\n",
    "doc_var = ['AHCSYR' + str(i) for i in range(7,10)]\n",
    "tot_var = var + er_var + hit_var + doc_var\n",
    "print(tot_var)"
   ]
  },
  {
   "cell_type": "code",
   "execution_count": 49,
   "id": "744462b5",
   "metadata": {},
   "outputs": [
    {
     "name": "stdout",
     "output_type": "stream",
     "text": [
      "AERVISND    float64\n",
      "AERHOS      float64\n",
      "AHERNOY2      int64\n",
      "AMDLONGR      int64\n",
      "SHTHPV2     float64\n",
      "SHHPVDOS    float64\n",
      "APSPAP      float64\n",
      "ASIHIVT       int64\n",
      "ASIHIVWN    float64\n",
      "SRVY_YR       int64\n",
      "INTV_MON      int64\n",
      "AHCNOYR2      int64\n",
      "REGION        int64\n",
      "AERREA1R    float64\n",
      "AERREA2R    float64\n",
      "AERREA3R    float64\n",
      "AERREA4R    float64\n",
      "AERREA5R    float64\n",
      "AERREA6R    float64\n",
      "AERREA7R    float64\n",
      "AERREA8R    float64\n",
      "HIT1A         int64\n",
      "HIT2A         int64\n",
      "HIT3A         int64\n",
      "HIT4A         int64\n",
      "HIT5A         int64\n",
      "AHCSYR7     float64\n",
      "AHCSYR8       int64\n",
      "AHCSYR9       int64\n",
      "dtype: object\n"
     ]
    },
    {
     "data": {
      "text/plain": [
       "(33028, 805)"
      ]
     },
     "execution_count": 49,
     "metadata": {},
     "output_type": "execute_result"
    }
   ],
   "source": [
    "df16_var = df16[tot_var]\n",
    "print(df16_var.dtypes)\n",
    "df16.shape"
   ]
  },
  {
   "cell_type": "code",
   "execution_count": 47,
   "id": "f08d166b",
   "metadata": {},
   "outputs": [
    {
     "data": {
      "text/plain": [
       "AERVISND    Int64\n",
       "AERHOS      Int64\n",
       "AHERNOY2    int64\n",
       "AMDLONGR    int64\n",
       "SHTHPV2     Int64\n",
       "SHHPVDOS    Int64\n",
       "APSPAP      Int64\n",
       "ASIHIVT     int64\n",
       "ASIHIVWN    Int64\n",
       "SRVY_YR     int64\n",
       "INTV_MON    int64\n",
       "AERREA1R    Int64\n",
       "AERREA2R    Int64\n",
       "AERREA3R    Int64\n",
       "AERREA4R    Int64\n",
       "AERREA5R    Int64\n",
       "AERREA6R    Int64\n",
       "AERREA7R    Int64\n",
       "AERREA8R    Int64\n",
       "HIT1A       int64\n",
       "HIT2A       int64\n",
       "HIT3A       int64\n",
       "HIT4A       int64\n",
       "HIT5A       int64\n",
       "AHCSYR7     Int64\n",
       "AHCSYR8     int64\n",
       "AHCSYR9     int64\n",
       "dtype: object"
      ]
     },
     "execution_count": 47,
     "metadata": {},
     "output_type": "execute_result"
    }
   ],
   "source": [
    "df16_var = df16_var.astype({y : 'Int64' for y in df16_var.select_dtypes('float64').columns})\n",
    "df16_var.dtypes"
   ]
  }
 ],
 "metadata": {
  "kernelspec": {
   "display_name": "Python 3 (ipykernel)",
   "language": "python",
   "name": "python3"
  },
  "language_info": {
   "codemirror_mode": {
    "name": "ipython",
    "version": 3
   },
   "file_extension": ".py",
   "mimetype": "text/x-python",
   "name": "python",
   "nbconvert_exporter": "python",
   "pygments_lexer": "ipython3",
   "version": "3.10.2"
  }
 },
 "nbformat": 4,
 "nbformat_minor": 5
}
