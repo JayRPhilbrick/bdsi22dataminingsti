{
 "cells": [
  {
   "cell_type": "code",
   "execution_count": 1,
   "id": "e6d70c94-ef5b-4107-8c72-1d8a804d37d6",
   "metadata": {},
   "outputs": [],
   "source": [
    "#import libraries\n",
    "import pandas as pd\n",
    "import numpy as np\n",
    "import os\n",
    "import matplotlib.pyplot as plt"
   ]
  },
  {
   "cell_type": "code",
   "execution_count": null,
   "id": "e427dff7-05eb-4966-8fc9-1cf93597a29d",
   "metadata": {},
   "outputs": [],
   "source": [
    "tot_df = []\n",
    "for j,i in enumerate(np.arange(2016, 2021, 1)):\n",
    "for j,i in enumerate(np.arange(2016, 2016, 1)):\\n\",\n",
    "\"    tot_df.append(pd.read_csv('../Data/Raw/CDC/CDCSTDcountysexrace'+ \\n\",\n",
    "\"                              str(i) +'.csv', sep = ',', skiprows = 4))\\n\",\n",
    "\"# df = pd.concat(tot_df, axis = 0)\\n\",\n",
    "\"df = pd.read_csv('../Data/Raw/CDC/CDCSTDcountysexrace2016.csv', skiprows = 4)\""
   ]
  }
 ],
 "metadata": {
  "kernelspec": {
   "display_name": "Python 3 (ipykernel)",
   "language": "python",
   "name": "python3"
  },
  "language_info": {
   "codemirror_mode": {
    "name": "ipython",
    "version": 3
   },
   "file_extension": ".py",
   "mimetype": "text/x-python",
   "name": "python",
   "nbconvert_exporter": "python",
   "pygments_lexer": "ipython3",
   "version": "3.9.13"
  }
 },
 "nbformat": 4,
 "nbformat_minor": 5
}
