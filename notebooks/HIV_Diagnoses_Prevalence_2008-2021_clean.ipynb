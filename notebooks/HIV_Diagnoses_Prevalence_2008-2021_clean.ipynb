{
 "cells": [
  {
   "cell_type": "code",
   "execution_count": 357,
   "id": "8aebf6e4",
   "metadata": {},
   "outputs": [],
   "source": [
    "import pandas as pd\n",
    "import numpy as np\n",
    "import os\n",
    "import matplotlib.pyplot as plt\n",
    "import glob"
   ]
  },
  {
   "cell_type": "code",
   "execution_count": 358,
   "id": "6b87a396",
   "metadata": {},
   "outputs": [],
   "source": [
    "tot_df = []\n",
    "# for j,i in enumerate(np.arange(2008, 2022, 1)):\n",
    "#     tot_df.append(pd.read_csv('../Data/Raw/CDC/HIV/Diagnoses_Prevalence/HIVDiagnoses'+ \n",
    "#                               str(i) +'.csv', sep = ',', skiprows = 4))\n",
    "#for f in glob.glob(\"../Data/Raw/CDC/HIV/Diagnoses_Prevalence/*.csv\"):\n",
    "#    tot_df.append(pd.read_csv(f,skiprows=8))\n",
    "\n",
    "path = '../Data/Raw/CDC/HIV/Diagnoses_Prevalence'\n",
    "for file in os.listdir(path):\n",
    "    if not file.startswith('.'):\n",
    "        tot_df.append(pd.read_csv(os.path.join(path,file), sep = ',', skiprows = 8))\n",
    "    \n",
    "df = pd.concat(tot_df, axis = 0)"
   ]
  },
  {
   "cell_type": "code",
   "execution_count": 359,
   "id": "513f4280",
   "metadata": {
    "scrolled": true
   },
   "outputs": [
    {
     "data": {
      "text/html": [
       "<div>\n",
       "<style scoped>\n",
       "    .dataframe tbody tr th:only-of-type {\n",
       "        vertical-align: middle;\n",
       "    }\n",
       "\n",
       "    .dataframe tbody tr th {\n",
       "        vertical-align: top;\n",
       "    }\n",
       "\n",
       "    .dataframe thead th {\n",
       "        text-align: right;\n",
       "    }\n",
       "</style>\n",
       "<table border=\"1\" class=\"dataframe\">\n",
       "  <thead>\n",
       "    <tr style=\"text-align: right;\">\n",
       "      <th></th>\n",
       "      <th>Indicator</th>\n",
       "      <th>Year</th>\n",
       "      <th>Geography</th>\n",
       "      <th>FIPS</th>\n",
       "      <th>Cases</th>\n",
       "      <th>Rate per 100000</th>\n",
       "    </tr>\n",
       "  </thead>\n",
       "  <tbody>\n",
       "    <tr>\n",
       "      <th>0</th>\n",
       "      <td>HIV diagnoses</td>\n",
       "      <td>2012</td>\n",
       "      <td>Abbeville County, SC</td>\n",
       "      <td>45001</td>\n",
       "      <td>Data suppressed</td>\n",
       "      <td>Data suppressed</td>\n",
       "    </tr>\n",
       "    <tr>\n",
       "      <th>1</th>\n",
       "      <td>HIV diagnoses</td>\n",
       "      <td>2011</td>\n",
       "      <td>Abbeville County, SC</td>\n",
       "      <td>45001</td>\n",
       "      <td>Data suppressed</td>\n",
       "      <td>Data suppressed</td>\n",
       "    </tr>\n",
       "    <tr>\n",
       "      <th>2</th>\n",
       "      <td>HIV diagnoses</td>\n",
       "      <td>2010</td>\n",
       "      <td>Abbeville County, SC</td>\n",
       "      <td>45001</td>\n",
       "      <td>Data suppressed</td>\n",
       "      <td>Data suppressed</td>\n",
       "    </tr>\n",
       "    <tr>\n",
       "      <th>3</th>\n",
       "      <td>HIV diagnoses</td>\n",
       "      <td>2009</td>\n",
       "      <td>Abbeville County, SC</td>\n",
       "      <td>45001</td>\n",
       "      <td>Data suppressed</td>\n",
       "      <td>Data suppressed</td>\n",
       "    </tr>\n",
       "    <tr>\n",
       "      <th>4</th>\n",
       "      <td>HIV diagnoses</td>\n",
       "      <td>2008</td>\n",
       "      <td>Abbeville County, SC</td>\n",
       "      <td>45001</td>\n",
       "      <td>Data suppressed</td>\n",
       "      <td>Data suppressed</td>\n",
       "    </tr>\n",
       "    <tr>\n",
       "      <th>...</th>\n",
       "      <td>...</td>\n",
       "      <td>...</td>\n",
       "      <td>...</td>\n",
       "      <td>...</td>\n",
       "      <td>...</td>\n",
       "      <td>...</td>\n",
       "    </tr>\n",
       "    <tr>\n",
       "      <th>12883</th>\n",
       "      <td>HIV prevalence</td>\n",
       "      <td>2017</td>\n",
       "      <td>Zavala County, TX</td>\n",
       "      <td>48507</td>\n",
       "      <td>11</td>\n",
       "      <td>116.6</td>\n",
       "    </tr>\n",
       "    <tr>\n",
       "      <th>12884</th>\n",
       "      <td>HIV prevalence</td>\n",
       "      <td>2020 (COVID-19 Pandemic)</td>\n",
       "      <td>Ziebach County, SD</td>\n",
       "      <td>46137</td>\n",
       "      <td>Data suppressed</td>\n",
       "      <td>Data suppressed</td>\n",
       "    </tr>\n",
       "    <tr>\n",
       "      <th>12885</th>\n",
       "      <td>HIV prevalence</td>\n",
       "      <td>2019</td>\n",
       "      <td>Ziebach County, SD</td>\n",
       "      <td>46137</td>\n",
       "      <td>0</td>\n",
       "      <td>0.0</td>\n",
       "    </tr>\n",
       "    <tr>\n",
       "      <th>12886</th>\n",
       "      <td>HIV prevalence</td>\n",
       "      <td>2018</td>\n",
       "      <td>Ziebach County, SD</td>\n",
       "      <td>46137</td>\n",
       "      <td>0</td>\n",
       "      <td>0.0</td>\n",
       "    </tr>\n",
       "    <tr>\n",
       "      <th>12887</th>\n",
       "      <td>HIV prevalence</td>\n",
       "      <td>2017</td>\n",
       "      <td>Ziebach County, SD</td>\n",
       "      <td>46137</td>\n",
       "      <td>0</td>\n",
       "      <td>0.0</td>\n",
       "    </tr>\n",
       "  </tbody>\n",
       "</table>\n",
       "<p>86994 rows × 6 columns</p>\n",
       "</div>"
      ],
      "text/plain": [
       "            Indicator                      Year             Geography   FIPS  \\\n",
       "0       HIV diagnoses                      2012  Abbeville County, SC  45001   \n",
       "1       HIV diagnoses                      2011  Abbeville County, SC  45001   \n",
       "2       HIV diagnoses                      2010  Abbeville County, SC  45001   \n",
       "3       HIV diagnoses                      2009  Abbeville County, SC  45001   \n",
       "4       HIV diagnoses                      2008  Abbeville County, SC  45001   \n",
       "...               ...                       ...                   ...    ...   \n",
       "12883  HIV prevalence                      2017     Zavala County, TX  48507   \n",
       "12884  HIV prevalence  2020 (COVID-19 Pandemic)    Ziebach County, SD  46137   \n",
       "12885  HIV prevalence                      2019    Ziebach County, SD  46137   \n",
       "12886  HIV prevalence                      2018    Ziebach County, SD  46137   \n",
       "12887  HIV prevalence                      2017    Ziebach County, SD  46137   \n",
       "\n",
       "                 Cases  Rate per 100000  \n",
       "0      Data suppressed  Data suppressed  \n",
       "1      Data suppressed  Data suppressed  \n",
       "2      Data suppressed  Data suppressed  \n",
       "3      Data suppressed  Data suppressed  \n",
       "4      Data suppressed  Data suppressed  \n",
       "...                ...              ...  \n",
       "12883               11            116.6  \n",
       "12884  Data suppressed  Data suppressed  \n",
       "12885                0              0.0  \n",
       "12886                0              0.0  \n",
       "12887                0              0.0  \n",
       "\n",
       "[86994 rows x 6 columns]"
      ]
     },
     "execution_count": 359,
     "metadata": {},
     "output_type": "execute_result"
    }
   ],
   "source": [
    "df"
   ]
  },
  {
   "cell_type": "code",
   "execution_count": 371,
   "id": "6791422d-a9a9-4681-b8e7-89f0e8f58976",
   "metadata": {},
   "outputs": [
    {
     "name": "stdout",
     "output_type": "stream",
     "text": [
      "2008 :          Indicator  Year             Geography   FIPS            Cases  \\\n",
      "4   HIV diagnoses  2008  Abbeville County, SC  45001  Data suppressed   \n",
      "4  HIV prevalence  2008  Abbeville County, SC  45001               44   \n",
      "\n",
      "   Rate per 100000  \n",
      "4  Data suppressed  \n",
      "4            207.4  \n",
      "2009 :          Indicator  Year             Geography   FIPS            Cases  \\\n",
      "3   HIV diagnoses  2009  Abbeville County, SC  45001  Data suppressed   \n",
      "3  HIV prevalence  2009  Abbeville County, SC  45001               45   \n",
      "\n",
      "   Rate per 100000  \n",
      "3  Data suppressed  \n",
      "3            212.6  \n",
      "2010 :          Indicator  Year             Geography   FIPS            Cases  \\\n",
      "2   HIV diagnoses  2010  Abbeville County, SC  45001  Data suppressed   \n",
      "2  HIV prevalence  2010  Abbeville County, SC  45001               31   \n",
      "\n",
      "   Rate per 100000  \n",
      "2  Data suppressed  \n",
      "2            145.7  \n",
      "2011 :          Indicator  Year             Geography   FIPS            Cases  \\\n",
      "1   HIV diagnoses  2011  Abbeville County, SC  45001  Data suppressed   \n",
      "1  HIV prevalence  2011  Abbeville County, SC  45001               48   \n",
      "\n",
      "   Rate per 100000  \n",
      "1  Data suppressed  \n",
      "1            227.0  \n",
      "2012 :          Indicator  Year             Geography   FIPS            Cases  \\\n",
      "0   HIV diagnoses  2012  Abbeville County, SC  45001  Data suppressed   \n",
      "0  HIV prevalence  2012  Abbeville County, SC  45001               18   \n",
      "\n",
      "   Rate per 100000  \n",
      "0  Data suppressed  \n",
      "0             85.2  \n",
      "2013 :          Indicator  Year             Geography   FIPS            Cases  \\\n",
      "4   HIV diagnoses  2013  Abbeville County, SC  45001  Data suppressed   \n",
      "3  HIV prevalence  2013  Abbeville County, SC  45001               15   \n",
      "\n",
      "   Rate per 100000  \n",
      "4  Data suppressed  \n",
      "3             71.1  \n",
      "2014 :          Indicator  Year             Geography   FIPS Cases Rate per 100000\n",
      "3   HIV diagnoses  2014  Abbeville County, SC  45001     5            23.7\n",
      "2  HIV prevalence  2014  Abbeville County, SC  45001    24           113.7\n",
      "2015 :          Indicator  Year             Geography   FIPS            Cases  \\\n",
      "2   HIV diagnoses  2015  Abbeville County, SC  45001  Data suppressed   \n",
      "1  HIV prevalence  2015  Abbeville County, SC  45001               53   \n",
      "\n",
      "   Rate per 100000  \n",
      "2  Data suppressed  \n",
      "1            250.7  \n",
      "2016 :          Indicator  Year             Geography   FIPS            Cases  \\\n",
      "1   HIV diagnoses  2016  Abbeville County, SC  45001  Data suppressed   \n",
      "0  HIV prevalence  2016  Abbeville County, SC  45001               56   \n",
      "\n",
      "   Rate per 100000  \n",
      "1  Data suppressed  \n",
      "0            265.7  \n",
      "2017 :         Indicator  Year             Geography   FIPS Cases Rate per 100000\n",
      "0  HIV diagnoses  2017  Abbeville County, SC  45001     0             0.0\n",
      "2018 :  Empty DataFrame\n",
      "Columns: [Indicator, Year, Geography, FIPS, Cases, Rate per 100000]\n",
      "Index: []\n",
      "2019 :  Empty DataFrame\n",
      "Columns: [Indicator, Year, Geography, FIPS, Cases, Rate per 100000]\n",
      "Index: []\n",
      "2020 :  Empty DataFrame\n",
      "Columns: [Indicator, Year, Geography, FIPS, Cases, Rate per 100000]\n",
      "Index: []\n",
      "2021 :  Empty DataFrame\n",
      "Columns: [Indicator, Year, Geography, FIPS, Cases, Rate per 100000]\n",
      "Index: []\n"
     ]
    }
   ],
   "source": [
    "for i in range(2008, 2022):\n",
    "    print(i,': ', df.loc[(df['FIPS'] ==45001) & (df['Year']==i)])"
   ]
  },
  {
   "cell_type": "code",
   "execution_count": null,
   "id": "53b1a54f",
   "metadata": {},
   "outputs": [],
   "source": [
    "pd.unique(df.Year)"
   ]
  },
  {
   "cell_type": "code",
   "execution_count": null,
   "id": "317a8e3a",
   "metadata": {},
   "outputs": [],
   "source": [
    "df_refine = df[['Year','Indicator']]"
   ]
  },
  {
   "cell_type": "code",
   "execution_count": null,
   "id": "d134b945",
   "metadata": {},
   "outputs": [],
   "source": [
    "df_refine[df_refine.Year=='2019']"
   ]
  },
  {
   "cell_type": "code",
   "execution_count": null,
   "id": "efde398c",
   "metadata": {},
   "outputs": [],
   "source": [
    "df.tail(20)"
   ]
  },
  {
   "cell_type": "code",
   "execution_count": null,
   "id": "39ec2e35",
   "metadata": {},
   "outputs": [],
   "source": [
    "df = df.rename(columns = {'Cases':'cases',\n",
    "                            'Rate per 100000':'ratePer100000',\n",
    "                             'Indicator':'indicator',\n",
    "                             'Year':'year',\n",
    "                             'Geography':'geography',\n",
    "                             'FIPS':'fips'})\n",
    "df.head()"
   ]
  },
  {
   "cell_type": "code",
   "execution_count": null,
   "id": "2f3f87b1",
   "metadata": {},
   "outputs": [],
   "source": [
    "df.loc[df[\"year\"].str.startswith('2020',na=False), \"year\"] = '2020'"
   ]
  },
  {
   "cell_type": "code",
   "execution_count": null,
   "id": "585ea67d",
   "metadata": {},
   "outputs": [],
   "source": [
    "data_to_be_removed = [\"cases\", \"ratePer100000\"]"
   ]
  },
  {
   "cell_type": "code",
   "execution_count": null,
   "id": "474d9c12",
   "metadata": {},
   "outputs": [],
   "source": [
    "for col in data_to_be_removed:\n",
    "    df.loc[df[col].str.contains(\"Data\",na = False), col] = None\n",
    "    df[col] = df[col].str.replace(',','')"
   ]
  },
  {
   "cell_type": "code",
   "execution_count": null,
   "id": "b404ff87",
   "metadata": {},
   "outputs": [],
   "source": [
    "df.tail(20)"
   ]
  },
  {
   "cell_type": "code",
   "execution_count": null,
   "id": "f9c3807c-efeb-4971-b6db-55233fe1a5c5",
   "metadata": {},
   "outputs": [],
   "source": [
    "df[df['fips']==45001]"
   ]
  },
  {
   "cell_type": "code",
   "execution_count": null,
   "id": "a99f1fdc",
   "metadata": {},
   "outputs": [],
   "source": [
    "df.dtypes"
   ]
  },
  {
   "cell_type": "code",
   "execution_count": null,
   "id": "5c6cbcf3",
   "metadata": {},
   "outputs": [],
   "source": [
    "df = df.pivot_table(index=['year','geography','fips'], columns=['indicator']).reset_index()\n",
    "#df.columns = df.columns.map('_'.join).str.strip('_')"
   ]
  },
  {
   "cell_type": "code",
   "execution_count": null,
   "id": "ae5be11e-6c62-4c2a-8593-98b1b1bef9c2",
   "metadata": {},
   "outputs": [],
   "source": [
    "df[df['fips'] == 45001]"
   ]
  },
  {
   "cell_type": "code",
   "execution_count": null,
   "id": "02c7bdda",
   "metadata": {
    "scrolled": true
   },
   "outputs": [],
   "source": [
    "df.tail()"
   ]
  },
  {
   "cell_type": "code",
   "execution_count": null,
   "id": "963a546b-0311-43c0-86ad-6cb44084509d",
   "metadata": {},
   "outputs": [],
   "source": [
    "df[df['fips']==45001]"
   ]
  },
  {
   "cell_type": "code",
   "execution_count": null,
   "id": "75019d09",
   "metadata": {},
   "outputs": [],
   "source": [
    "df.to_csv(\"../Data/clean/CDC/HIV_Diagnoses_Prevalence_2008-2021_clean.csv\",index=False)"
   ]
  }
 ],
 "metadata": {
  "kernelspec": {
   "display_name": "Python 3 (ipykernel)",
   "language": "python",
   "name": "python3"
  },
  "language_info": {
   "codemirror_mode": {
    "name": "ipython",
    "version": 3
   },
   "file_extension": ".py",
   "mimetype": "text/x-python",
   "name": "python",
   "nbconvert_exporter": "python",
   "pygments_lexer": "ipython3",
   "version": "3.10.2"
  }
 },
 "nbformat": 4,
 "nbformat_minor": 5
}
