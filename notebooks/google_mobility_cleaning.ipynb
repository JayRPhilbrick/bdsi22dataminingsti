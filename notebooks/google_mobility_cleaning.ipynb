{
 "cells": [
  {
   "cell_type": "code",
   "execution_count": 46,
   "id": "56825235",
   "metadata": {},
   "outputs": [],
   "source": [
    "import pandas as pd\n",
    "import numpy as np"
   ]
  },
  {
   "cell_type": "code",
   "execution_count": 47,
   "id": "7868e414",
   "metadata": {
    "scrolled": true
   },
   "outputs": [],
   "source": [
    "mobility_data = pd.read_csv(\"..\\Data\\Raw\\googleMobility\\googleMobility.csv\")"
   ]
  },
  {
   "cell_type": "code",
   "execution_count": 48,
   "id": "3105ad41",
   "metadata": {
    "scrolled": true
   },
   "outputs": [],
   "source": [
    "mobility_data = mobility_data.drop(columns=[\"country_region\", \"metro_area\", \"iso_3166_2_code\", \"place_id\"])"
   ]
  },
  {
   "cell_type": "code",
   "execution_count": 49,
   "id": "7a95c4a7",
   "metadata": {
    "scrolled": true
   },
   "outputs": [],
   "source": [
    "# drops nation-wide observations, just retains county-level observations\n",
    "mobility_data = mobility_data.dropna(subset=\"census_fips_code\")"
   ]
  },
  {
   "cell_type": "code",
   "execution_count": 50,
   "id": "fa87cb6d",
   "metadata": {
    "scrolled": true
   },
   "outputs": [
    {
     "data": {
      "text/html": [
       "<div>\n",
       "<style scoped>\n",
       "    .dataframe tbody tr th:only-of-type {\n",
       "        vertical-align: middle;\n",
       "    }\n",
       "\n",
       "    .dataframe tbody tr th {\n",
       "        vertical-align: top;\n",
       "    }\n",
       "\n",
       "    .dataframe thead th {\n",
       "        text-align: right;\n",
       "    }\n",
       "</style>\n",
       "<table border=\"1\" class=\"dataframe\">\n",
       "  <thead>\n",
       "    <tr style=\"text-align: right;\">\n",
       "      <th></th>\n",
       "      <th>country_region_code</th>\n",
       "      <th>sub_region_1</th>\n",
       "      <th>sub_region_2</th>\n",
       "      <th>census_fips_code</th>\n",
       "      <th>date</th>\n",
       "      <th>retail_and_recreation_percent_change_from_baseline</th>\n",
       "      <th>grocery_and_pharmacy_percent_change_from_baseline</th>\n",
       "      <th>parks_percent_change_from_baseline</th>\n",
       "      <th>transit_stations_percent_change_from_baseline</th>\n",
       "      <th>workplaces_percent_change_from_baseline</th>\n",
       "      <th>residential_percent_change_from_baseline</th>\n",
       "    </tr>\n",
       "  </thead>\n",
       "  <tbody>\n",
       "    <tr>\n",
       "      <th>730</th>\n",
       "      <td>US</td>\n",
       "      <td>Alabama</td>\n",
       "      <td>Autauga County</td>\n",
       "      <td>1001.0</td>\n",
       "      <td>2021-01-01</td>\n",
       "      <td>-46.0</td>\n",
       "      <td>-28.0</td>\n",
       "      <td>NaN</td>\n",
       "      <td>NaN</td>\n",
       "      <td>-77.0</td>\n",
       "      <td>28.0</td>\n",
       "    </tr>\n",
       "    <tr>\n",
       "      <th>731</th>\n",
       "      <td>US</td>\n",
       "      <td>Alabama</td>\n",
       "      <td>Autauga County</td>\n",
       "      <td>1001.0</td>\n",
       "      <td>2021-01-02</td>\n",
       "      <td>-10.0</td>\n",
       "      <td>-5.0</td>\n",
       "      <td>NaN</td>\n",
       "      <td>NaN</td>\n",
       "      <td>-20.0</td>\n",
       "      <td>7.0</td>\n",
       "    </tr>\n",
       "    <tr>\n",
       "      <th>732</th>\n",
       "      <td>US</td>\n",
       "      <td>Alabama</td>\n",
       "      <td>Autauga County</td>\n",
       "      <td>1001.0</td>\n",
       "      <td>2021-01-03</td>\n",
       "      <td>-12.0</td>\n",
       "      <td>-3.0</td>\n",
       "      <td>-10.0</td>\n",
       "      <td>NaN</td>\n",
       "      <td>-14.0</td>\n",
       "      <td>6.0</td>\n",
       "    </tr>\n",
       "    <tr>\n",
       "      <th>733</th>\n",
       "      <td>US</td>\n",
       "      <td>Alabama</td>\n",
       "      <td>Autauga County</td>\n",
       "      <td>1001.0</td>\n",
       "      <td>2021-01-04</td>\n",
       "      <td>4.0</td>\n",
       "      <td>2.0</td>\n",
       "      <td>NaN</td>\n",
       "      <td>NaN</td>\n",
       "      <td>-26.0</td>\n",
       "      <td>8.0</td>\n",
       "    </tr>\n",
       "    <tr>\n",
       "      <th>734</th>\n",
       "      <td>US</td>\n",
       "      <td>Alabama</td>\n",
       "      <td>Autauga County</td>\n",
       "      <td>1001.0</td>\n",
       "      <td>2021-01-05</td>\n",
       "      <td>2.0</td>\n",
       "      <td>3.0</td>\n",
       "      <td>NaN</td>\n",
       "      <td>NaN</td>\n",
       "      <td>-22.0</td>\n",
       "      <td>8.0</td>\n",
       "    </tr>\n",
       "  </tbody>\n",
       "</table>\n",
       "</div>"
      ],
      "text/plain": [
       "    country_region_code sub_region_1    sub_region_2  census_fips_code  \\\n",
       "730                  US      Alabama  Autauga County            1001.0   \n",
       "731                  US      Alabama  Autauga County            1001.0   \n",
       "732                  US      Alabama  Autauga County            1001.0   \n",
       "733                  US      Alabama  Autauga County            1001.0   \n",
       "734                  US      Alabama  Autauga County            1001.0   \n",
       "\n",
       "          date  retail_and_recreation_percent_change_from_baseline  \\\n",
       "730 2021-01-01                                              -46.0    \n",
       "731 2021-01-02                                              -10.0    \n",
       "732 2021-01-03                                              -12.0    \n",
       "733 2021-01-04                                                4.0    \n",
       "734 2021-01-05                                                2.0    \n",
       "\n",
       "     grocery_and_pharmacy_percent_change_from_baseline  \\\n",
       "730                                              -28.0   \n",
       "731                                               -5.0   \n",
       "732                                               -3.0   \n",
       "733                                                2.0   \n",
       "734                                                3.0   \n",
       "\n",
       "     parks_percent_change_from_baseline  \\\n",
       "730                                 NaN   \n",
       "731                                 NaN   \n",
       "732                               -10.0   \n",
       "733                                 NaN   \n",
       "734                                 NaN   \n",
       "\n",
       "     transit_stations_percent_change_from_baseline  \\\n",
       "730                                            NaN   \n",
       "731                                            NaN   \n",
       "732                                            NaN   \n",
       "733                                            NaN   \n",
       "734                                            NaN   \n",
       "\n",
       "     workplaces_percent_change_from_baseline  \\\n",
       "730                                    -77.0   \n",
       "731                                    -20.0   \n",
       "732                                    -14.0   \n",
       "733                                    -26.0   \n",
       "734                                    -22.0   \n",
       "\n",
       "     residential_percent_change_from_baseline  \n",
       "730                                      28.0  \n",
       "731                                       7.0  \n",
       "732                                       6.0  \n",
       "733                                       8.0  \n",
       "734                                       8.0  "
      ]
     },
     "execution_count": 50,
     "metadata": {},
     "output_type": "execute_result"
    }
   ],
   "source": [
    "mobility_data['date'] = pd.to_datetime(mobility_data['date'])\n",
    "mobility_data.head()\n",
    "\n",
    "# mobility_data['date'] = mobility_data['month'].dt.strf('%m')\n",
    "\n"
   ]
  },
  {
   "cell_type": "code",
   "execution_count": 51,
   "id": "45152797",
   "metadata": {
    "scrolled": true
   },
   "outputs": [
    {
     "data": {
      "text/plain": [
       "country_region_code                                           object\n",
       "sub_region_1                                                  object\n",
       "sub_region_2                                                  object\n",
       "census_fips_code                                             float64\n",
       "date                                                  datetime64[ns]\n",
       "retail_and_recreation_percent_change_from_baseline           float64\n",
       "grocery_and_pharmacy_percent_change_from_baseline            float64\n",
       "parks_percent_change_from_baseline                           float64\n",
       "transit_stations_percent_change_from_baseline                float64\n",
       "workplaces_percent_change_from_baseline                      float64\n",
       "residential_percent_change_from_baseline                     float64\n",
       "dtype: object"
      ]
     },
     "execution_count": 51,
     "metadata": {},
     "output_type": "execute_result"
    }
   ],
   "source": [
    "mobility_data.dtypes"
   ]
  },
  {
   "cell_type": "code",
   "execution_count": 52,
   "id": "a714c6f6",
   "metadata": {
    "scrolled": true
   },
   "outputs": [
    {
     "data": {
      "text/html": [
       "<div>\n",
       "<style scoped>\n",
       "    .dataframe tbody tr th:only-of-type {\n",
       "        vertical-align: middle;\n",
       "    }\n",
       "\n",
       "    .dataframe tbody tr th {\n",
       "        vertical-align: top;\n",
       "    }\n",
       "\n",
       "    .dataframe thead th {\n",
       "        text-align: right;\n",
       "    }\n",
       "</style>\n",
       "<table border=\"1\" class=\"dataframe\">\n",
       "  <thead>\n",
       "    <tr style=\"text-align: right;\">\n",
       "      <th></th>\n",
       "      <th>country_region_code</th>\n",
       "      <th>sub_region_1</th>\n",
       "      <th>sub_region_2</th>\n",
       "      <th>census_fips_code</th>\n",
       "      <th>retail_and_recreation_percent_change_from_baseline</th>\n",
       "      <th>grocery_and_pharmacy_percent_change_from_baseline</th>\n",
       "      <th>parks_percent_change_from_baseline</th>\n",
       "      <th>transit_stations_percent_change_from_baseline</th>\n",
       "      <th>workplaces_percent_change_from_baseline</th>\n",
       "      <th>residential_percent_change_from_baseline</th>\n",
       "      <th>year</th>\n",
       "      <th>month</th>\n",
       "      <th>day</th>\n",
       "    </tr>\n",
       "  </thead>\n",
       "  <tbody>\n",
       "    <tr>\n",
       "      <th>730</th>\n",
       "      <td>US</td>\n",
       "      <td>Alabama</td>\n",
       "      <td>Autauga County</td>\n",
       "      <td>1001.0</td>\n",
       "      <td>-46.0</td>\n",
       "      <td>-28.0</td>\n",
       "      <td>NaN</td>\n",
       "      <td>NaN</td>\n",
       "      <td>-77.0</td>\n",
       "      <td>28.0</td>\n",
       "      <td>2021</td>\n",
       "      <td>1</td>\n",
       "      <td>1</td>\n",
       "    </tr>\n",
       "    <tr>\n",
       "      <th>731</th>\n",
       "      <td>US</td>\n",
       "      <td>Alabama</td>\n",
       "      <td>Autauga County</td>\n",
       "      <td>1001.0</td>\n",
       "      <td>-10.0</td>\n",
       "      <td>-5.0</td>\n",
       "      <td>NaN</td>\n",
       "      <td>NaN</td>\n",
       "      <td>-20.0</td>\n",
       "      <td>7.0</td>\n",
       "      <td>2021</td>\n",
       "      <td>1</td>\n",
       "      <td>2</td>\n",
       "    </tr>\n",
       "    <tr>\n",
       "      <th>732</th>\n",
       "      <td>US</td>\n",
       "      <td>Alabama</td>\n",
       "      <td>Autauga County</td>\n",
       "      <td>1001.0</td>\n",
       "      <td>-12.0</td>\n",
       "      <td>-3.0</td>\n",
       "      <td>-10.0</td>\n",
       "      <td>NaN</td>\n",
       "      <td>-14.0</td>\n",
       "      <td>6.0</td>\n",
       "      <td>2021</td>\n",
       "      <td>1</td>\n",
       "      <td>3</td>\n",
       "    </tr>\n",
       "    <tr>\n",
       "      <th>733</th>\n",
       "      <td>US</td>\n",
       "      <td>Alabama</td>\n",
       "      <td>Autauga County</td>\n",
       "      <td>1001.0</td>\n",
       "      <td>4.0</td>\n",
       "      <td>2.0</td>\n",
       "      <td>NaN</td>\n",
       "      <td>NaN</td>\n",
       "      <td>-26.0</td>\n",
       "      <td>8.0</td>\n",
       "      <td>2021</td>\n",
       "      <td>1</td>\n",
       "      <td>4</td>\n",
       "    </tr>\n",
       "    <tr>\n",
       "      <th>734</th>\n",
       "      <td>US</td>\n",
       "      <td>Alabama</td>\n",
       "      <td>Autauga County</td>\n",
       "      <td>1001.0</td>\n",
       "      <td>2.0</td>\n",
       "      <td>3.0</td>\n",
       "      <td>NaN</td>\n",
       "      <td>NaN</td>\n",
       "      <td>-22.0</td>\n",
       "      <td>8.0</td>\n",
       "      <td>2021</td>\n",
       "      <td>1</td>\n",
       "      <td>5</td>\n",
       "    </tr>\n",
       "  </tbody>\n",
       "</table>\n",
       "</div>"
      ],
      "text/plain": [
       "    country_region_code sub_region_1    sub_region_2  census_fips_code  \\\n",
       "730                  US      Alabama  Autauga County            1001.0   \n",
       "731                  US      Alabama  Autauga County            1001.0   \n",
       "732                  US      Alabama  Autauga County            1001.0   \n",
       "733                  US      Alabama  Autauga County            1001.0   \n",
       "734                  US      Alabama  Autauga County            1001.0   \n",
       "\n",
       "     retail_and_recreation_percent_change_from_baseline  \\\n",
       "730                                              -46.0    \n",
       "731                                              -10.0    \n",
       "732                                              -12.0    \n",
       "733                                                4.0    \n",
       "734                                                2.0    \n",
       "\n",
       "     grocery_and_pharmacy_percent_change_from_baseline  \\\n",
       "730                                              -28.0   \n",
       "731                                               -5.0   \n",
       "732                                               -3.0   \n",
       "733                                                2.0   \n",
       "734                                                3.0   \n",
       "\n",
       "     parks_percent_change_from_baseline  \\\n",
       "730                                 NaN   \n",
       "731                                 NaN   \n",
       "732                               -10.0   \n",
       "733                                 NaN   \n",
       "734                                 NaN   \n",
       "\n",
       "     transit_stations_percent_change_from_baseline  \\\n",
       "730                                            NaN   \n",
       "731                                            NaN   \n",
       "732                                            NaN   \n",
       "733                                            NaN   \n",
       "734                                            NaN   \n",
       "\n",
       "     workplaces_percent_change_from_baseline  \\\n",
       "730                                    -77.0   \n",
       "731                                    -20.0   \n",
       "732                                    -14.0   \n",
       "733                                    -26.0   \n",
       "734                                    -22.0   \n",
       "\n",
       "     residential_percent_change_from_baseline  year  month  day  \n",
       "730                                      28.0  2021      1    1  \n",
       "731                                       7.0  2021      1    2  \n",
       "732                                       6.0  2021      1    3  \n",
       "733                                       8.0  2021      1    4  \n",
       "734                                       8.0  2021      1    5  "
      ]
     },
     "execution_count": 52,
     "metadata": {},
     "output_type": "execute_result"
    }
   ],
   "source": [
    "mobility_data['year'] = pd.DatetimeIndex(mobility_data['date']).year\n",
    "mobility_data['month'] = pd.DatetimeIndex(mobility_data['date']).month\n",
    "mobility_data['day'] = pd.DatetimeIndex(mobility_data['date']).day\n",
    "mobility_data = mobility_data.drop(columns=[\"date\"])\n",
    "mobility_data.head()"
   ]
  },
  {
   "cell_type": "code",
   "execution_count": 53,
   "id": "46008579",
   "metadata": {},
   "outputs": [
    {
     "data": {
      "text/plain": [
       "country_region_code                                    object\n",
       "sub_region_1                                           object\n",
       "sub_region_2                                           object\n",
       "census_fips_code                                      float64\n",
       "retail_and_recreation_percent_change_from_baseline    float64\n",
       "grocery_and_pharmacy_percent_change_from_baseline     float64\n",
       "parks_percent_change_from_baseline                    float64\n",
       "transit_stations_percent_change_from_baseline         float64\n",
       "workplaces_percent_change_from_baseline               float64\n",
       "residential_percent_change_from_baseline              float64\n",
       "year                                                    int64\n",
       "month                                                   int64\n",
       "day                                                     int64\n",
       "dtype: object"
      ]
     },
     "execution_count": 53,
     "metadata": {},
     "output_type": "execute_result"
    }
   ],
   "source": [
    "mobility_data.dtypes"
   ]
  },
  {
   "cell_type": "code",
   "execution_count": 54,
   "id": "4b494191",
   "metadata": {},
   "outputs": [],
   "source": [
    "mobility_data = mobility_data.astype({'census_fips_code': 'int64'})"
   ]
  },
  {
   "cell_type": "code",
   "execution_count": 55,
   "id": "fc668261",
   "metadata": {
    "scrolled": true
   },
   "outputs": [
    {
     "data": {
      "text/plain": [
       "country_region_code                                    object\n",
       "sub_region_1                                           object\n",
       "sub_region_2                                           object\n",
       "census_fips_code                                        int64\n",
       "retail_and_recreation_percent_change_from_baseline    float64\n",
       "grocery_and_pharmacy_percent_change_from_baseline     float64\n",
       "parks_percent_change_from_baseline                    float64\n",
       "transit_stations_percent_change_from_baseline         float64\n",
       "workplaces_percent_change_from_baseline               float64\n",
       "residential_percent_change_from_baseline              float64\n",
       "year                                                    int64\n",
       "month                                                   int64\n",
       "day                                                     int64\n",
       "dtype: object"
      ]
     },
     "execution_count": 55,
     "metadata": {},
     "output_type": "execute_result"
    }
   ],
   "source": [
    "mobility_data.dtypes"
   ]
  },
  {
   "cell_type": "code",
   "execution_count": 56,
   "id": "0fb316d9",
   "metadata": {},
   "outputs": [],
   "source": [
    "mobility_data.to_csv(\"..\\Data\\Clean\\googleMobility\\googleMobility_clean.csv\")"
   ]
  }
 ],
 "metadata": {
  "kernelspec": {
   "display_name": "Python 3 (ipykernel)",
   "language": "python",
   "name": "python3"
  },
  "language_info": {
   "codemirror_mode": {
    "name": "ipython",
    "version": 3
   },
   "file_extension": ".py",
   "mimetype": "text/x-python",
   "name": "python",
   "nbconvert_exporter": "python",
   "pygments_lexer": "ipython3",
   "version": "3.10.5"
  }
 },
 "nbformat": 4,
 "nbformat_minor": 5
}
