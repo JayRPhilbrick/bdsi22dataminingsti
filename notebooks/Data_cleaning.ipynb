{
 "cells": [
  {
   "cell_type": "markdown",
   "id": "06c1b8e2-1214-45d6-8c6f-ac91a5b688fc",
   "metadata": {},
   "source": [
    "# Importing the data"
   ]
  },
  {
   "cell_type": "code",
   "execution_count": 2,
   "id": "e8152f3e-15c2-4c89-836a-711345b0a2cc",
   "metadata": {},
   "outputs": [],
   "source": [
    "import pandas as pd\n",
    "import numpy as np"
   ]
  },
  {
   "cell_type": "code",
   "execution_count": 10,
   "id": "a1c0045d-abc5-42be-85cd-32a1144f5a2c",
   "metadata": {},
   "outputs": [
    {
     "name": "stdout",
     "output_type": "stream",
     "text": [
      "(154644, 8)\n"
     ]
    },
    {
     "data": {
      "text/html": [
       "<div>\n",
       "<style scoped>\n",
       "    .dataframe tbody tr th:only-of-type {\n",
       "        vertical-align: middle;\n",
       "    }\n",
       "\n",
       "    .dataframe tbody tr th {\n",
       "        vertical-align: top;\n",
       "    }\n",
       "\n",
       "    .dataframe thead th {\n",
       "        text-align: right;\n",
       "    }\n",
       "</style>\n",
       "<table border=\"1\" class=\"dataframe\">\n",
       "  <thead>\n",
       "    <tr style=\"text-align: right;\">\n",
       "      <th></th>\n",
       "      <th>Indicator</th>\n",
       "      <th>Year</th>\n",
       "      <th>Geography</th>\n",
       "      <th>FIPS</th>\n",
       "      <th>Sex</th>\n",
       "      <th>Cases</th>\n",
       "      <th>Rate per 100000</th>\n",
       "      <th>Percent</th>\n",
       "    </tr>\n",
       "  </thead>\n",
       "  <tbody>\n",
       "    <tr>\n",
       "      <th>0</th>\n",
       "      <td>Receipt of HIV medical care</td>\n",
       "      <td>2020 (COVID-19 Pandemic)</td>\n",
       "      <td>Abbeville County, SC</td>\n",
       "      <td>45001</td>\n",
       "      <td>Male</td>\n",
       "      <td>39</td>\n",
       "      <td>NaN</td>\n",
       "      <td>92.9</td>\n",
       "    </tr>\n",
       "    <tr>\n",
       "      <th>1</th>\n",
       "      <td>Receipt of HIV medical care</td>\n",
       "      <td>2020 (COVID-19 Pandemic)</td>\n",
       "      <td>Abbeville County, SC</td>\n",
       "      <td>45001</td>\n",
       "      <td>Female</td>\n",
       "      <td>7</td>\n",
       "      <td>NaN</td>\n",
       "      <td>63.6</td>\n",
       "    </tr>\n",
       "    <tr>\n",
       "      <th>2</th>\n",
       "      <td>Receipt of HIV medical care</td>\n",
       "      <td>2019</td>\n",
       "      <td>Abbeville County, SC</td>\n",
       "      <td>45001</td>\n",
       "      <td>Male</td>\n",
       "      <td>35</td>\n",
       "      <td>NaN</td>\n",
       "      <td>87.5</td>\n",
       "    </tr>\n",
       "    <tr>\n",
       "      <th>3</th>\n",
       "      <td>Receipt of HIV medical care</td>\n",
       "      <td>2019</td>\n",
       "      <td>Abbeville County, SC</td>\n",
       "      <td>45001</td>\n",
       "      <td>Female</td>\n",
       "      <td>10</td>\n",
       "      <td>NaN</td>\n",
       "      <td>83.3</td>\n",
       "    </tr>\n",
       "    <tr>\n",
       "      <th>4</th>\n",
       "      <td>Receipt of HIV medical care</td>\n",
       "      <td>2018</td>\n",
       "      <td>Abbeville County, SC</td>\n",
       "      <td>45001</td>\n",
       "      <td>Male</td>\n",
       "      <td>Data not available</td>\n",
       "      <td>NaN</td>\n",
       "      <td>Data not available</td>\n",
       "    </tr>\n",
       "  </tbody>\n",
       "</table>\n",
       "</div>"
      ],
      "text/plain": [
       "                     Indicator                      Year  \\\n",
       "0  Receipt of HIV medical care  2020 (COVID-19 Pandemic)   \n",
       "1  Receipt of HIV medical care  2020 (COVID-19 Pandemic)   \n",
       "2  Receipt of HIV medical care                      2019   \n",
       "3  Receipt of HIV medical care                      2019   \n",
       "4  Receipt of HIV medical care                      2018   \n",
       "\n",
       "              Geography   FIPS     Sex               Cases Rate per 100000  \\\n",
       "0  Abbeville County, SC  45001    Male                  39             NaN   \n",
       "1  Abbeville County, SC  45001  Female                   7             NaN   \n",
       "2  Abbeville County, SC  45001    Male                  35             NaN   \n",
       "3  Abbeville County, SC  45001  Female                  10             NaN   \n",
       "4  Abbeville County, SC  45001    Male  Data not available             NaN   \n",
       "\n",
       "              Percent  \n",
       "0                92.9  \n",
       "1                63.6  \n",
       "2                87.5  \n",
       "3                83.3  \n",
       "4  Data not available  "
      ]
     },
     "execution_count": 10,
     "metadata": {},
     "output_type": "execute_result"
    }
   ],
   "source": [
    "data = pd.read_csv(\"../Data/Raw/HIV.csv\",skiprows=10)\n",
    "print(data.shape)\n",
    "data.head()"
   ]
  },
  {
   "cell_type": "code",
   "execution_count": null,
   "id": "595418db-3786-4c22-9e19-35132c5c99cf",
   "metadata": {},
   "outputs": [],
   "source": []
  }
 ],
 "metadata": {
  "kernelspec": {
   "display_name": "Python 3 (ipykernel)",
   "language": "python",
   "name": "python3"
  },
  "language_info": {
   "codemirror_mode": {
    "name": "ipython",
    "version": 3
   },
   "file_extension": ".py",
   "mimetype": "text/x-python",
   "name": "python",
   "nbconvert_exporter": "python",
   "pygments_lexer": "ipython3",
   "version": "3.9.7"
  }
 },
 "nbformat": 4,
 "nbformat_minor": 5
}
