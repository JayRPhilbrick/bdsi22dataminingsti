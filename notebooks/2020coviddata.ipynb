{
 "cells": [
  {
   "cell_type": "code",
   "execution_count": 1,
   "id": "0e7da4d8",
   "metadata": {},
   "outputs": [],
   "source": [
    "import pandas as pd\n",
    "import numpy as np\n",
    "import seaborn as sns\n",
    "import matplotlib.pyplot as plt\n",
    "import datetime"
   ]
  },
  {
   "cell_type": "code",
   "execution_count": 2,
   "id": "6a2df4d1",
   "metadata": {},
   "outputs": [],
   "source": [
    "data_covid = pd.read_csv(\"../Data/Intermediate/COVIDcounty_cases_processed.csv\")"
   ]
  },
  {
   "cell_type": "code",
   "execution_count": 3,
   "id": "4d66147e",
   "metadata": {},
   "outputs": [],
   "source": [
    "date = 2020"
   ]
  },
  {
   "cell_type": "code",
   "execution_count": 9,
   "id": "562b325c",
   "metadata": {},
   "outputs": [],
   "source": [
    "data_2020 = data_covid[data_covid[\"year\"]==2020]"
   ]
  },
  {
   "cell_type": "code",
   "execution_count": null,
   "id": "626ec3a9",
   "metadata": {},
   "outputs": [],
   "source": [
    "data_202.to_csv('../Data/Clean/USAFacts/COVIDcounts_county_clean.csv')"
   ]
  }
 ],
 "metadata": {
  "kernelspec": {
   "display_name": "Python 3 (ipykernel)",
   "language": "python",
   "name": "python3"
  },
  "language_info": {
   "codemirror_mode": {
    "name": "ipython",
    "version": 3
   },
   "file_extension": ".py",
   "mimetype": "text/x-python",
   "name": "python",
   "nbconvert_exporter": "python",
   "pygments_lexer": "ipython3",
   "version": "3.9.12"
  }
 },
 "nbformat": 4,
 "nbformat_minor": 5
}
