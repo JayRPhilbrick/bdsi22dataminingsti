{
 "cells": [
  {
   "cell_type": "code",
   "execution_count": 1,
   "id": "e6d70c94-ef5b-4107-8c72-1d8a804d37d6",
   "metadata": {},
   "outputs": [],
   "source": [
    "#import libraries\n",
    "import pandas as pd\n",
    "import numpy as np\n",
    "import os\n",
    "import matplotlib.pyplot as plt"
   ]
  },
  {
   "cell_type": "code",
   "execution_count": 2,
   "id": "e427dff7-05eb-4966-8fc9-1cf93597a29d",
   "metadata": {},
   "outputs": [],
   "source": [
    "tot_df = []\n",
    "# for j,i in enumerate(np.arange(2016, 2021, 1)):\n",
    "for j,i in enumerate(np.arange(2016, 2021, 1)):\n",
    "    tot_df.append(pd.read_csv('../Data/Raw/CDC/CDCSTDcountysexrace'+ \n",
    "                              str(i) +'.csv', sep = ',', skiprows = 4))\n",
    "df = pd.concat(tot_df, axis = 0)\n",
    "# df = pd.read_csv('../Data/Raw/CDC/CDCSTDcountysexrace2016.csv', skiprows = 4)"
   ]
  },
  {
   "cell_type": "code",
   "execution_count": 3,
   "id": "70c704d5-5d1b-402b-8f44-e63ef19888b8",
   "metadata": {},
   "outputs": [
    {
     "data": {
      "text/html": [
       "<div>\n",
       "<style scoped>\n",
       "    .dataframe tbody tr th:only-of-type {\n",
       "        vertical-align: middle;\n",
       "    }\n",
       "\n",
       "    .dataframe tbody tr th {\n",
       "        vertical-align: top;\n",
       "    }\n",
       "\n",
       "    .dataframe thead th {\n",
       "        text-align: right;\n",
       "    }\n",
       "</style>\n",
       "<table border=\"1\" class=\"dataframe\">\n",
       "  <thead>\n",
       "    <tr style=\"text-align: right;\">\n",
       "      <th></th>\n",
       "      <th>Indicator</th>\n",
       "      <th>Year</th>\n",
       "      <th>Geography</th>\n",
       "      <th>FIPS</th>\n",
       "      <th>Race/Ethnicity</th>\n",
       "      <th>Sex</th>\n",
       "      <th>Cases</th>\n",
       "      <th>Rate per 100000</th>\n",
       "    </tr>\n",
       "  </thead>\n",
       "  <tbody>\n",
       "    <tr>\n",
       "      <th>0</th>\n",
       "      <td>Primary and Secondary Syphilis</td>\n",
       "      <td>2016</td>\n",
       "      <td>Abbeville County, SC</td>\n",
       "      <td>45001</td>\n",
       "      <td>White</td>\n",
       "      <td>Male</td>\n",
       "      <td>Data not available</td>\n",
       "      <td>Data not available</td>\n",
       "    </tr>\n",
       "    <tr>\n",
       "      <th>1</th>\n",
       "      <td>Primary and Secondary Syphilis</td>\n",
       "      <td>2016</td>\n",
       "      <td>Abbeville County, SC</td>\n",
       "      <td>45001</td>\n",
       "      <td>White</td>\n",
       "      <td>Female</td>\n",
       "      <td>Data not available</td>\n",
       "      <td>Data not available</td>\n",
       "    </tr>\n",
       "    <tr>\n",
       "      <th>2</th>\n",
       "      <td>Primary and Secondary Syphilis</td>\n",
       "      <td>2016</td>\n",
       "      <td>Abbeville County, SC</td>\n",
       "      <td>45001</td>\n",
       "      <td>Unknown</td>\n",
       "      <td>Male</td>\n",
       "      <td>Data not available</td>\n",
       "      <td>Data not available</td>\n",
       "    </tr>\n",
       "    <tr>\n",
       "      <th>3</th>\n",
       "      <td>Primary and Secondary Syphilis</td>\n",
       "      <td>2016</td>\n",
       "      <td>Abbeville County, SC</td>\n",
       "      <td>45001</td>\n",
       "      <td>Unknown</td>\n",
       "      <td>Female</td>\n",
       "      <td>Data not available</td>\n",
       "      <td>Data not available</td>\n",
       "    </tr>\n",
       "    <tr>\n",
       "      <th>4</th>\n",
       "      <td>Primary and Secondary Syphilis</td>\n",
       "      <td>2016</td>\n",
       "      <td>Abbeville County, SC</td>\n",
       "      <td>45001</td>\n",
       "      <td>Native Hawaiian/Other Pacific Islander</td>\n",
       "      <td>Male</td>\n",
       "      <td>Data not available</td>\n",
       "      <td>Data not available</td>\n",
       "    </tr>\n",
       "  </tbody>\n",
       "</table>\n",
       "</div>"
      ],
      "text/plain": [
       "                        Indicator  Year             Geography   FIPS  \\\n",
       "0  Primary and Secondary Syphilis  2016  Abbeville County, SC  45001   \n",
       "1  Primary and Secondary Syphilis  2016  Abbeville County, SC  45001   \n",
       "2  Primary and Secondary Syphilis  2016  Abbeville County, SC  45001   \n",
       "3  Primary and Secondary Syphilis  2016  Abbeville County, SC  45001   \n",
       "4  Primary and Secondary Syphilis  2016  Abbeville County, SC  45001   \n",
       "\n",
       "                           Race/Ethnicity     Sex               Cases  \\\n",
       "0                                   White    Male  Data not available   \n",
       "1                                   White  Female  Data not available   \n",
       "2                                 Unknown    Male  Data not available   \n",
       "3                                 Unknown  Female  Data not available   \n",
       "4  Native Hawaiian/Other Pacific Islander    Male  Data not available   \n",
       "\n",
       "      Rate per 100000  \n",
       "0  Data not available  \n",
       "1  Data not available  \n",
       "2  Data not available  \n",
       "3  Data not available  \n",
       "4  Data not available  "
      ]
     },
     "execution_count": 3,
     "metadata": {},
     "output_type": "execute_result"
    }
   ],
   "source": [
    "df.head()"
   ]
  },
  {
   "cell_type": "code",
   "execution_count": 4,
   "id": "caf4bb94-89eb-4277-976f-79f1fe77291b",
   "metadata": {},
   "outputs": [
    {
     "data": {
      "text/html": [
       "<div>\n",
       "<style scoped>\n",
       "    .dataframe tbody tr th:only-of-type {\n",
       "        vertical-align: middle;\n",
       "    }\n",
       "\n",
       "    .dataframe tbody tr th {\n",
       "        vertical-align: top;\n",
       "    }\n",
       "\n",
       "    .dataframe thead th {\n",
       "        text-align: right;\n",
       "    }\n",
       "</style>\n",
       "<table border=\"1\" class=\"dataframe\">\n",
       "  <thead>\n",
       "    <tr style=\"text-align: right;\">\n",
       "      <th></th>\n",
       "      <th>indicator</th>\n",
       "      <th>year</th>\n",
       "      <th>geography</th>\n",
       "      <th>fips</th>\n",
       "      <th>race_ethnicity</th>\n",
       "      <th>sex</th>\n",
       "      <th>cases</th>\n",
       "      <th>rate_per_100000</th>\n",
       "    </tr>\n",
       "  </thead>\n",
       "  <tbody>\n",
       "    <tr>\n",
       "      <th>0</th>\n",
       "      <td>Primary and Secondary Syphilis</td>\n",
       "      <td>2016</td>\n",
       "      <td>Abbeville County, SC</td>\n",
       "      <td>45001</td>\n",
       "      <td>White</td>\n",
       "      <td>Male</td>\n",
       "      <td>Data not available</td>\n",
       "      <td>Data not available</td>\n",
       "    </tr>\n",
       "    <tr>\n",
       "      <th>1</th>\n",
       "      <td>Primary and Secondary Syphilis</td>\n",
       "      <td>2016</td>\n",
       "      <td>Abbeville County, SC</td>\n",
       "      <td>45001</td>\n",
       "      <td>White</td>\n",
       "      <td>Female</td>\n",
       "      <td>Data not available</td>\n",
       "      <td>Data not available</td>\n",
       "    </tr>\n",
       "    <tr>\n",
       "      <th>2</th>\n",
       "      <td>Primary and Secondary Syphilis</td>\n",
       "      <td>2016</td>\n",
       "      <td>Abbeville County, SC</td>\n",
       "      <td>45001</td>\n",
       "      <td>Unknown</td>\n",
       "      <td>Male</td>\n",
       "      <td>Data not available</td>\n",
       "      <td>Data not available</td>\n",
       "    </tr>\n",
       "    <tr>\n",
       "      <th>3</th>\n",
       "      <td>Primary and Secondary Syphilis</td>\n",
       "      <td>2016</td>\n",
       "      <td>Abbeville County, SC</td>\n",
       "      <td>45001</td>\n",
       "      <td>Unknown</td>\n",
       "      <td>Female</td>\n",
       "      <td>Data not available</td>\n",
       "      <td>Data not available</td>\n",
       "    </tr>\n",
       "    <tr>\n",
       "      <th>4</th>\n",
       "      <td>Primary and Secondary Syphilis</td>\n",
       "      <td>2016</td>\n",
       "      <td>Abbeville County, SC</td>\n",
       "      <td>45001</td>\n",
       "      <td>Native Hawaiian/Other Pacific Islander</td>\n",
       "      <td>Male</td>\n",
       "      <td>Data not available</td>\n",
       "      <td>Data not available</td>\n",
       "    </tr>\n",
       "  </tbody>\n",
       "</table>\n",
       "</div>"
      ],
      "text/plain": [
       "                        indicator  year             geography   fips  \\\n",
       "0  Primary and Secondary Syphilis  2016  Abbeville County, SC  45001   \n",
       "1  Primary and Secondary Syphilis  2016  Abbeville County, SC  45001   \n",
       "2  Primary and Secondary Syphilis  2016  Abbeville County, SC  45001   \n",
       "3  Primary and Secondary Syphilis  2016  Abbeville County, SC  45001   \n",
       "4  Primary and Secondary Syphilis  2016  Abbeville County, SC  45001   \n",
       "\n",
       "                           race_ethnicity     sex               cases  \\\n",
       "0                                   White    Male  Data not available   \n",
       "1                                   White  Female  Data not available   \n",
       "2                                 Unknown    Male  Data not available   \n",
       "3                                 Unknown  Female  Data not available   \n",
       "4  Native Hawaiian/Other Pacific Islander    Male  Data not available   \n",
       "\n",
       "      rate_per_100000  \n",
       "0  Data not available  \n",
       "1  Data not available  \n",
       "2  Data not available  \n",
       "3  Data not available  \n",
       "4  Data not available  "
      ]
     },
     "execution_count": 4,
     "metadata": {},
     "output_type": "execute_result"
    }
   ],
   "source": [
    "df.columns= df.columns.str.lower()\n",
    "df.columns = df.columns.str.replace(' ','_')\n",
    "df.columns = df.columns.str.replace('/','_')\n",
    "df.head()"
   ]
  },
  {
   "cell_type": "code",
   "execution_count": 5,
   "id": "01d1da50-10c7-4329-b23c-643a94312eaf",
   "metadata": {},
   "outputs": [],
   "source": [
    "# df = df.rename(columns = {'Cases':'cases',\n",
    "#                             'Rate per 100000':'ratePer100000',\n",
    "#                              'Indicator':'indicator',\n",
    "#                              'Year':'year',\n",
    "#                              'Geography':'geography',\n",
    "#                              'FIPS':'fips',\n",
    "#                              'Percent':'percent',\n",
    "#                              'Sex':'sex',\n",
    "#                              'Race/Ethnicity' : 'raceEthnicity'})\n",
    "# df.head()"
   ]
  },
  {
   "cell_type": "code",
   "execution_count": 6,
   "id": "02caa34a-42ce-4564-999c-c50c7fe458c5",
   "metadata": {},
   "outputs": [
    {
     "data": {
      "text/plain": [
       "indicator          object\n",
       "year               object\n",
       "geography          object\n",
       "fips                int64\n",
       "race_ethnicity     object\n",
       "sex                object\n",
       "cases              object\n",
       "rate_per_100000    object\n",
       "dtype: object"
      ]
     },
     "execution_count": 6,
     "metadata": {},
     "output_type": "execute_result"
    }
   ],
   "source": [
    "df.dtypes"
   ]
  },
  {
   "cell_type": "code",
   "execution_count": null,
   "id": "0241a41d-785a-4b6c-ae15-90f65805bbcc",
   "metadata": {},
   "outputs": [],
   "source": [
    "df.loc[df[\"year\"].str.startswith('2020',na=False), \"year\"] = \"2020\""
   ]
  },
  {
   "cell_type": "code",
   "execution_count": null,
   "id": "974af3c1-22b4-4e81-89c6-9bae562939db",
   "metadata": {},
   "outputs": [],
   "source": [
    "data_to_be_removed = [\"cases\", \"rate_per_100000\"]"
   ]
  },
  {
   "cell_type": "code",
   "execution_count": null,
   "id": "bc24b835-a704-4055-87f7-0e9d53a71cc9",
   "metadata": {},
   "outputs": [],
   "source": [
    "for col in data_to_be_removed:\n",
    "    df.loc[df[col].str.contains(\"Data\",na = False), col] = np.nan\n",
    "    df[col] = df[col].str.replace(',','')"
   ]
  },
  {
   "cell_type": "code",
   "execution_count": null,
   "id": "36d2e262-e3b2-44eb-b397-62d96532a0bf",
   "metadata": {},
   "outputs": [],
   "source": [
    "df.head()"
   ]
  },
  {
   "cell_type": "code",
   "execution_count": null,
   "id": "c4a18747-b597-4d7b-9b79-9bd058c535e2",
   "metadata": {},
   "outputs": [],
   "source": [
    "df[[\"year\",\"fips\",\"cases\",\"rate_per_100000\"]] = df[[\"year\",\"fips\",\"cases\",\"rate_per_100000\"]].apply(pd.to_numeric)"
   ]
  },
  {
   "cell_type": "code",
   "execution_count": null,
   "id": "4d4ed3fe-7a17-433f-b0f2-34d037c0f9cf",
   "metadata": {},
   "outputs": [],
   "source": [
    "df.dtypes"
   ]
  },
  {
   "cell_type": "code",
   "execution_count": null,
   "id": "11ce52e4-2312-46d0-9874-89bd5bc6b515",
   "metadata": {},
   "outputs": [],
   "source": [
    "df = df.pivot_table(index=['year','geography','fips'], columns=['sex', 'indicator','race_ethnicity']).reset_index()\n",
    "df.columns = df.columns.map('_'.join).str.strip('_')\n",
    "df.head()"
   ]
  },
  {
   "cell_type": "code",
   "execution_count": null,
   "id": "ffa1f7b0-dab4-4a68-a8e5-bc46bf98f4a8",
   "metadata": {},
   "outputs": [],
   "source": [
    "df.columns= df.columns.str.lower()\n",
    "df.columns = df.columns.str.replace(' ','_')\n",
    "df.columns = df.columns.str.replace('/','_')\n",
    "df.head()"
   ]
  },
  {
   "cell_type": "code",
   "execution_count": null,
   "id": "7cd11097-da34-46c7-8f26-64f0383a9cb1",
   "metadata": {},
   "outputs": [],
   "source": [
    "pd.unique(df['year'])"
   ]
  },
  {
   "cell_type": "code",
   "execution_count": null,
   "id": "5e79d422-157b-4f9c-8745-58b531e47854",
   "metadata": {},
   "outputs": [],
   "source": [
    "\n",
    "df.info(memory_usage = \"deep\")"
   ]
  },
  {
   "cell_type": "code",
   "execution_count": null,
   "id": "f4d23985-deba-4b43-b6de-64bc431913a6",
   "metadata": {},
   "outputs": [],
   "source": [
    "df.to_csv(\"../Data/Clean/CDC/disagRaceSexSTD2019_2020_clean.csv\",index=False)"
   ]
  },
  {
   "cell_type": "code",
   "execution_count": null,
   "id": "0e9e8584-b043-496c-aa89-681ce8a1b962",
   "metadata": {},
   "outputs": [],
   "source": []
  }
 ],
 "metadata": {
  "kernelspec": {
   "display_name": "Python 3 (ipykernel)",
   "language": "python",
   "name": "python3"
  },
  "language_info": {
   "codemirror_mode": {
    "name": "ipython",
    "version": 3
   },
   "file_extension": ".py",
   "mimetype": "text/x-python",
   "name": "python",
   "nbconvert_exporter": "python",
   "pygments_lexer": "ipython3",
   "version": "3.10.5"
  }
 },
 "nbformat": 4,
 "nbformat_minor": 5
}
