{
 "cells": [
  {
   "cell_type": "code",
   "execution_count": 6,
   "id": "ba57a37b-ee9e-4380-ac87-d9bb83105e56",
   "metadata": {},
   "outputs": [],
   "source": [
    "import pandas as pd\n",
    "import numpy as np\n",
    "import os\n",
    "from functools import reduce"
   ]
  },
  {
   "cell_type": "code",
   "execution_count": 24,
   "id": "12324858-9e65-459a-9247-aa28a40a6078",
   "metadata": {},
   "outputs": [
    {
     "name": "stdout",
     "output_type": "stream",
     "text": [
      "COVIDcounty_cases_clean.csv\n",
      "ACSDP032016_clean.csv\n",
      "ACSDP032017_clean.csv\n",
      "ACSDP032018_clean.csv\n",
      "ACSDP032019_clean.csv\n",
      "ACSDP032020_clean.csv\n",
      "ACSDP052016_clean.csv\n",
      "ACSDP052017_clean.csv\n",
      "ACSDP052018_clean.csv\n",
      "ACSDP052019_clean.csv\n",
      "ACSDP052020_clean.csv\n",
      "CDCSTDoverall2000_2020_clean.csv\n",
      "disagRaceSexHIV2017_2020_clean.csv\n",
      "disagRaceSexSTD2019_2020_clean.csv\n",
      "HIVcountyage_clean.csv\n"
     ]
    }
   ],
   "source": [
    "total = []\n",
    "folder = '../Data/Clean'\n",
    "for path, subdirs, files in os.walk(folder):\n",
    "    if '.ipynb_checkpoints' not in path:\n",
    "        for name in files:\n",
    "            if not (name.endswith('.txt')):\n",
    "                total.append(pd.DataFrame(pd.read_csv(os.path.join(path,name), sep = ',', index_col = 0)))\n",
    "                print(name)\n",
    "                         "
   ]
  },
  {
   "cell_type": "code",
   "execution_count": 25,
   "id": "ce8f1055-0a5c-4f0c-b683-53df11d380a6",
   "metadata": {},
   "outputs": [
    {
     "name": "stdout",
     "output_type": "stream",
     "text": [
      "(9579, 6)\n",
      "(3220, 22)\n",
      "(3220, 22)\n",
      "(3220, 22)\n",
      "(3220, 22)\n",
      "(3221, 22)\n",
      "(3220, 35)\n",
      "(3220, 36)\n",
      "(3220, 36)\n",
      "(3220, 36)\n",
      "(3221, 36)\n",
      "(67578, 130)\n",
      "(9980, 26)\n",
      "(6189, 122)\n",
      "(10878, 63)\n"
     ]
    }
   ],
   "source": [
    "for i in total:\n",
    "    print(i.shape)"
   ]
  },
  {
   "cell_type": "code",
   "execution_count": 26,
   "id": "27061afb-7e37-4c50-82be-56d270d09cce",
   "metadata": {},
   "outputs": [
    {
     "name": "stderr",
     "output_type": "stream",
     "text": [
      "C:\\Users\\FPSKIN~1\\AppData\\Local\\Temp/ipykernel_14332/2340979731.py:1: FutureWarning: Passing 'suffixes' which cause duplicate columns {'pct_ind_finance_and_insurance_and_real_estate_and_rental_and_leasing_x', 'pct_ind_arts_entertainment_and_recreation_and_accommodation_and_food_services_x', 'pct_ind_educational_services_and_health_care_and_social_assistance_x', 'pct_ind_other_services_except_public_administration_x', 'employment_pop_ratio_x', 'pct_ind_wholesale_trade_x', 'pct_ind_manufacturing_x', 'pct_ind_transportation_and_warehousing_and_utilities_x', 'pct_ind_construction_x', 'id_x', 'pct_ind_retail_trade_x', 'pct_ind_public_administration_x', 'pct_ind_information_x', 'geographic_area_name_x', 'poverty_rate_x', 'pct_ind_agriculture_forestry_fishing_and_hunting_and_mining_x', 'unemployment_rate_x', 'pct_ind_professional_scientific_and_management_and_administrative_and_waste_management_services_x', 'health_insurance_rate_x'} in the result is deprecated and will raise a MergeError in a future version.\n",
      "  df_merged = reduce(lambda  left,right: pd.merge(left,right,on=['year','fips'],\n",
      "C:\\Users\\FPSKIN~1\\AppData\\Local\\Temp/ipykernel_14332/2340979731.py:1: FutureWarning: Passing 'suffixes' which cause duplicate columns {'id_x'} in the result is deprecated and will raise a MergeError in a future version.\n",
      "  df_merged = reduce(lambda  left,right: pd.merge(left,right,on=['year','fips'],\n",
      "C:\\Users\\FPSKIN~1\\AppData\\Local\\Temp/ipykernel_14332/2340979731.py:1: FutureWarning: Passing 'suffixes' which cause duplicate columns {'id_x'} in the result is deprecated and will raise a MergeError in a future version.\n",
      "  df_merged = reduce(lambda  left,right: pd.merge(left,right,on=['year','fips'],\n",
      "C:\\Users\\FPSKIN~1\\AppData\\Local\\Temp/ipykernel_14332/2340979731.py:1: FutureWarning: Passing 'suffixes' which cause duplicate columns {'pct_sex_age_10_to_14_x', 'pct_sex_age_15_to_19_x', 'pct_sex_age_18+_female_x', 'pct_sex_age_18+_x', 'pct_one_or_more_race_native_american_x', 'pct_sex_age_20_to_24_x', 'pct_sex_age_65+_male_x', 'pct_one_or_more_race_asian_x', 'pct_sex_age_65+_female_x', 'pct_one_or_more_race_native_hawaiian_pacific_islander_x', 'Geographic Area Name_x', 'pct_sex_age_75_to_84_x', 'pct_sex_age_60_to_64_x', 'pct_sex_age_5_to_9_x', 'pct_sex_age_under_5_x', 'pct_one_or_more_race_other_race_x', 'pct_sex_age_55_to_59_x', 'pct_sex_age_35_to_44_x', 'pct_sex_age_25_to_34_x', 'pct_ethnicity_hispanic_x', 'pct_sex_age_18+_male_x', 'pct_sex_age_21+_x', 'pct_sex_age_45_to_54_x', 'pct_sex_age_65+_x', 'pct_sex_age_62+_x', 'median_age_x', 'pct_one_or_more_race_white_x', 'pct_sex_age_65_to_74_x', 'total_pop_x', 'pct_one_or_more_race_black_x', 'pct_sex_age_85+_x', 'pct_one_or_more_race_x'} in the result is deprecated and will raise a MergeError in a future version.\n",
      "  df_merged = reduce(lambda  left,right: pd.merge(left,right,on=['year','fips'],\n",
      "C:\\Users\\FPSKIN~1\\AppData\\Local\\Temp/ipykernel_14332/2340979731.py:1: FutureWarning: Passing 'suffixes' which cause duplicate columns {'id_x', 'pct_sex_age_16+_x'} in the result is deprecated and will raise a MergeError in a future version.\n",
      "  df_merged = reduce(lambda  left,right: pd.merge(left,right,on=['year','fips'],\n",
      "C:\\Users\\FPSKIN~1\\AppData\\Local\\Temp/ipykernel_14332/2340979731.py:1: FutureWarning: Passing 'suffixes' which cause duplicate columns {'geography_x'} in the result is deprecated and will raise a MergeError in a future version.\n",
      "  df_merged = reduce(lambda  left,right: pd.merge(left,right,on=['year','fips'],\n"
     ]
    },
    {
     "name": "stdout",
     "output_type": "stream",
     "text": [
      "(74103, 611)\n"
     ]
    }
   ],
   "source": [
    "df_merged = reduce(lambda  left,right: pd.merge(left,right,on=['year','fips'],\n",
    "                                            how='outer'), total)\n",
    "print(df_merged.shape)\n",
    "df_merged.to_csv('../Data/merged_data.csv', index = False)"
   ]
  }
 ],
 "metadata": {
  "kernelspec": {
   "display_name": "Python 3 (ipykernel)",
   "language": "python",
   "name": "python3"
  },
  "language_info": {
   "codemirror_mode": {
    "name": "ipython",
    "version": 3
   },
   "file_extension": ".py",
   "mimetype": "text/x-python",
   "name": "python",
   "nbconvert_exporter": "python",
   "pygments_lexer": "ipython3",
   "version": "3.10.2"
  }
 },
 "nbformat": 4,
 "nbformat_minor": 5
}
