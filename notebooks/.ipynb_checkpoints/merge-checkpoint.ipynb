{
 "cells": [
  {
   "cell_type": "code",
   "execution_count": 215,
   "id": "ba57a37b-ee9e-4380-ac87-d9bb83105e56",
   "metadata": {},
   "outputs": [],
   "source": [
    "import pandas as pd\n",
    "import numpy as np\n",
    "import os\n",
    "from functools import reduce"
   ]
  },
  {
   "cell_type": "code",
   "execution_count": 216,
   "id": "12324858-9e65-459a-9247-aa28a40a6078",
   "metadata": {},
   "outputs": [
    {
     "name": "stdout",
     "output_type": "stream",
     "text": [
      "CDCSTDagesex20192020_clean.csv\n",
      "CDCSTDoverall2000_2020_clean.csv\n",
      "disagRaceSexHIV2017_2020_clean.csv\n",
      "disagRaceSexSTD2019_2020_clean.csv\n",
      "HIVcountyage_clean.csv\n",
      "ACSDP03_merge.csv\n",
      "ACSDP05_merge.csv\n",
      "COVIDcounty_cases_processed.csv\n"
     ]
    }
   ],
   "source": [
    "total = []\n",
    "folder = '../Data/Clean/CDC'\n",
    "for files in os.listdir(folder):\n",
    "    if not (files.endswith('.txt') | files.startswith('.')):\n",
    "        if files == 'CDCSTDagesex2019_clean.csv':\n",
    "            continue\n",
    "        df3 = pd.DataFrame(pd.read_csv(os.path.join(folder,files), sep = ',', index_col = 0))\n",
    "        df3.drop(columns = 'geography', inplace = True)\n",
    "        total.append(df3)\n",
    "        print(files)\n",
    "                \n",
    "folder2 = '../Data/Intermediate'\n",
    "for files in os.listdir(folder2):\n",
    "    if not (files.endswith('.txt') | files.startswith('.')):\n",
    "            total.append(pd.DataFrame(pd.read_csv(os.path.join(folder2,files), sep = ',', index_col = 0)))\n",
    "            print(files)"
   ]
  },
  {
   "cell_type": "code",
   "execution_count": 217,
   "id": "ce8f1055-0a5c-4f0c-b683-53df11d380a6",
   "metadata": {},
   "outputs": [
    {
     "name": "stdout",
     "output_type": "stream",
     "text": [
      "(6191, 170)\n",
      "(42923, 130)\n",
      "(9980, 26)\n",
      "(6189, 122)\n",
      "(10878, 62)\n",
      "(16101, 24)\n",
      "(16101, 34)\n",
      "(9426, 3)\n"
     ]
    }
   ],
   "source": [
    "for i in total:\n",
    "    print(i.shape)"
   ]
  },
  {
   "cell_type": "code",
   "execution_count": 223,
   "id": "cca51bf5-22d6-4b2f-be0a-68fbbf2c8d2e",
   "metadata": {},
   "outputs": [
    {
     "name": "stdout",
     "output_type": "stream",
     "text": [
      "(65365, 558)\n"
     ]
    }
   ],
   "source": [
    "df_merged = reduce(lambda  left,right: pd.merge(left, right, on=['year','fips'],\n",
    "                                            how='outer'), total)\n",
    "print(df_merged.shape)"
   ]
  },
  {
   "cell_type": "code",
   "execution_count": 224,
   "id": "c55e48d1-5d9f-4b77-b315-6b639c1b5840",
   "metadata": {},
   "outputs": [
    {
     "name": "stdout",
     "output_type": "stream",
     "text": [
      "54736    31924.96\n",
      "54737    34244.18\n",
      "54738    21043.78\n",
      "54739    23165.36\n",
      "54740    25660.26\n",
      "           ...   \n",
      "57951    11751.04\n",
      "57952    11965.76\n",
      "57953    10654.26\n",
      "57954    10407.82\n",
      "57955     9757.56\n",
      "Name: per_capita_income22, Length: 3220, dtype: object\n",
      "49154    22888.46\n",
      "49155    25693.29\n",
      "49156    28876.54\n",
      "49157    34344.59\n",
      "49158    25915.82\n",
      "           ...   \n",
      "58468    25600.47\n",
      "58469    33840.03\n",
      "58470    29679.79\n",
      "58471    30123.66\n",
      "58472    36817.41\n",
      "Name: per_capita_income22, Length: 3224, dtype: object\n",
      "51616     24574.6\n",
      "51617    26429.44\n",
      "51618     28251.8\n",
      "51619    34781.44\n",
      "51620     25520.0\n",
      "           ...   \n",
      "58976    24542.12\n",
      "58977     26564.0\n",
      "58978    24163.96\n",
      "58979     13722.8\n",
      "58980     6929.84\n",
      "Name: per_capita_income22, Length: 3224, dtype: object\n",
      "0        25816.44\n",
      "1        26359.08\n",
      "2        29660.52\n",
      "3        35137.08\n",
      "4        24163.44\n",
      "           ...   \n",
      "59025    28901.28\n",
      "59026    38428.26\n",
      "59027     25821.0\n",
      "59028    31858.44\n",
      "59029    32470.62\n",
      "Name: per_capita_income22, Length: 3244, dtype: object\n",
      "3116     29181.72\n",
      "3117     28698.36\n",
      "3118     30793.68\n",
      "3119     34954.68\n",
      "3120     25936.14\n",
      "           ...   \n",
      "59076    30800.52\n",
      "59077    35558.88\n",
      "59078    27606.24\n",
      "59079     32421.6\n",
      "59080    32898.12\n",
      "Name: per_capita_income22, Length: 3246, dtype: object\n"
     ]
    }
   ],
   "source": [
    "rates = [1.22, 1.19, 1.16, 1.14, 1.14]\n",
    "df_merged['per_capita_income22'] = None\n",
    "years = list(range(2016, 2021))\n",
    "\n",
    "for index, i in enumerate(years): \n",
    "    df_merged.loc[df_merged['year'] == i, 'per_capita_income22'] = df_merged.loc[df_merged['year'] == i, 'per_capita_income_' + str(i)] * rates[index]\n",
    "    print(df_merged.loc[df_merged['year'] == i, 'per_capita_income22'])"
   ]
  },
  {
   "cell_type": "code",
   "execution_count": 225,
   "id": "e2a816b6-3eed-45ad-aa71-1c931da80d39",
   "metadata": {},
   "outputs": [],
   "source": [
    "df_merged.to_csv('../Data/merged_data.csv', index = False)"
   ]
  },
  {
   "cell_type": "code",
   "execution_count": null,
   "id": "838d97cd-d5e4-42c6-bb57-9f98873937e2",
   "metadata": {},
   "outputs": [],
   "source": [
    "list(df_merged.columns)\n",
    "#list(df_merged.dtypes)"
   ]
  },
  {
   "cell_type": "code",
   "execution_count": null,
   "id": "94a09b15-578c-4a16-86d8-ec391b487433",
   "metadata": {},
   "outputs": [],
   "source": [
    "df_merged.head()"
   ]
  }
 ],
 "metadata": {
  "kernelspec": {
   "display_name": "Python 3 (ipykernel)",
   "language": "python",
   "name": "python3"
  },
  "language_info": {
   "codemirror_mode": {
    "name": "ipython",
    "version": 3
   },
   "file_extension": ".py",
   "mimetype": "text/x-python",
   "name": "python",
   "nbconvert_exporter": "python",
   "pygments_lexer": "ipython3",
   "version": "3.9.7"
  }
 },
 "nbformat": 4,
 "nbformat_minor": 5
}
