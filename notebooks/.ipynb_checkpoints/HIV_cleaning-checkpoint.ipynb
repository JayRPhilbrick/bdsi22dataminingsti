{
 "cells": [
  {
   "cell_type": "markdown",
   "id": "06c1b8e2-1214-45d6-8c6f-ac91a5b688fc",
   "metadata": {},
   "source": [
    "# Importing the data"
   ]
  },
  {
   "cell_type": "markdown",
   "id": "72a03982-7d01-4a30-b2a4-a3fc0837cdca",
   "metadata": {},
   "source": [
    "At first we will clean the data."
   ]
  },
  {
   "cell_type": "markdown",
   "id": "ae8fca54-ca81-4949-9f2c-af8cb8573da8",
   "metadata": {},
   "source": [
    "## HIV dataset"
   ]
  },
  {
   "cell_type": "code",
   "execution_count": 68,
   "id": "e8152f3e-15c2-4c89-836a-711345b0a2cc",
   "metadata": {},
   "outputs": [],
   "source": [
    "import pandas as pd\n",
    "import numpy as np"
   ]
  },
  {
   "cell_type": "code",
   "execution_count": 69,
   "id": "a1c0045d-abc5-42be-85cd-32a1144f5a2c",
   "metadata": {},
   "outputs": [
    {
     "name": "stdout",
     "output_type": "stream",
     "text": [
      "(154644, 8)\n"
     ]
    },
    {
     "data": {
      "text/html": [
       "<div>\n",
       "<style scoped>\n",
       "    .dataframe tbody tr th:only-of-type {\n",
       "        vertical-align: middle;\n",
       "    }\n",
       "\n",
       "    .dataframe tbody tr th {\n",
       "        vertical-align: top;\n",
       "    }\n",
       "\n",
       "    .dataframe thead th {\n",
       "        text-align: right;\n",
       "    }\n",
       "</style>\n",
       "<table border=\"1\" class=\"dataframe\">\n",
       "  <thead>\n",
       "    <tr style=\"text-align: right;\">\n",
       "      <th></th>\n",
       "      <th>Indicator</th>\n",
       "      <th>Year</th>\n",
       "      <th>Geography</th>\n",
       "      <th>FIPS</th>\n",
       "      <th>Sex</th>\n",
       "      <th>Cases</th>\n",
       "      <th>Rate per 100000</th>\n",
       "      <th>Percent</th>\n",
       "    </tr>\n",
       "  </thead>\n",
       "  <tbody>\n",
       "    <tr>\n",
       "      <th>0</th>\n",
       "      <td>Receipt of HIV medical care</td>\n",
       "      <td>2020 (COVID-19 Pandemic)</td>\n",
       "      <td>Abbeville County, SC</td>\n",
       "      <td>45001</td>\n",
       "      <td>Male</td>\n",
       "      <td>39</td>\n",
       "      <td>NaN</td>\n",
       "      <td>92.9</td>\n",
       "    </tr>\n",
       "    <tr>\n",
       "      <th>1</th>\n",
       "      <td>Receipt of HIV medical care</td>\n",
       "      <td>2020 (COVID-19 Pandemic)</td>\n",
       "      <td>Abbeville County, SC</td>\n",
       "      <td>45001</td>\n",
       "      <td>Female</td>\n",
       "      <td>7</td>\n",
       "      <td>NaN</td>\n",
       "      <td>63.6</td>\n",
       "    </tr>\n",
       "    <tr>\n",
       "      <th>2</th>\n",
       "      <td>Receipt of HIV medical care</td>\n",
       "      <td>2019</td>\n",
       "      <td>Abbeville County, SC</td>\n",
       "      <td>45001</td>\n",
       "      <td>Male</td>\n",
       "      <td>35</td>\n",
       "      <td>NaN</td>\n",
       "      <td>87.5</td>\n",
       "    </tr>\n",
       "    <tr>\n",
       "      <th>3</th>\n",
       "      <td>Receipt of HIV medical care</td>\n",
       "      <td>2019</td>\n",
       "      <td>Abbeville County, SC</td>\n",
       "      <td>45001</td>\n",
       "      <td>Female</td>\n",
       "      <td>10</td>\n",
       "      <td>NaN</td>\n",
       "      <td>83.3</td>\n",
       "    </tr>\n",
       "    <tr>\n",
       "      <th>4</th>\n",
       "      <td>Receipt of HIV medical care</td>\n",
       "      <td>2018</td>\n",
       "      <td>Abbeville County, SC</td>\n",
       "      <td>45001</td>\n",
       "      <td>Male</td>\n",
       "      <td>Data not available</td>\n",
       "      <td>NaN</td>\n",
       "      <td>Data not available</td>\n",
       "    </tr>\n",
       "  </tbody>\n",
       "</table>\n",
       "</div>"
      ],
      "text/plain": [
       "                     Indicator                      Year  \\\n",
       "0  Receipt of HIV medical care  2020 (COVID-19 Pandemic)   \n",
       "1  Receipt of HIV medical care  2020 (COVID-19 Pandemic)   \n",
       "2  Receipt of HIV medical care                      2019   \n",
       "3  Receipt of HIV medical care                      2019   \n",
       "4  Receipt of HIV medical care                      2018   \n",
       "\n",
       "              Geography   FIPS     Sex               Cases Rate per 100000  \\\n",
       "0  Abbeville County, SC  45001    Male                  39             NaN   \n",
       "1  Abbeville County, SC  45001  Female                   7             NaN   \n",
       "2  Abbeville County, SC  45001    Male                  35             NaN   \n",
       "3  Abbeville County, SC  45001  Female                  10             NaN   \n",
       "4  Abbeville County, SC  45001    Male  Data not available             NaN   \n",
       "\n",
       "              Percent  \n",
       "0                92.9  \n",
       "1                63.6  \n",
       "2                87.5  \n",
       "3                83.3  \n",
       "4  Data not available  "
      ]
     },
     "execution_count": 69,
     "metadata": {},
     "output_type": "execute_result"
    }
   ],
   "source": [
    "data = pd.read_csv(\"../Data/Raw/HIV.csv\",skiprows=10)\n",
    "print(data.shape)\n",
    "data.head()"
   ]
  },
  {
   "cell_type": "markdown",
   "id": "1bc2486e-067e-44b3-91fa-1b41fcdd93a8",
   "metadata": {},
   "source": [
    "##### Removing the 2020 (COVID-19 Pandemic) keyword to 2020"
   ]
  },
  {
   "cell_type": "code",
   "execution_count": 70,
   "id": "9156f1d7-d57b-4c60-a67a-545cca8d2e3b",
   "metadata": {},
   "outputs": [],
   "source": [
    "data.loc[data[\"Year\"].str.startswith('2020'), \"Year\"] = \"2020\""
   ]
  },
  {
   "cell_type": "markdown",
   "id": "93bcc404-d5df-430d-83ff-67938ef3119a",
   "metadata": {},
   "source": [
    "##### Removing the Data Surpressed and unavailable keywords in Cases"
   ]
  },
  {
   "cell_type": "code",
   "execution_count": 80,
   "id": "0d9158be-6e10-4517-a279-a5381281b293",
   "metadata": {},
   "outputs": [],
   "source": [
    "data_to_be_removed = [\"Cases\", \"Rate per 100000\", \"Percent\"]"
   ]
  },
  {
   "cell_type": "code",
   "execution_count": 82,
   "id": "2676481c-90a6-46e9-8505-4e2040cedb6d",
   "metadata": {},
   "outputs": [],
   "source": [
    "for col in data_to_be_removed:\n",
    "    data.loc[data[col].str.contains(\"Data\",na = False), col] = np.nan\n",
    "    data[col] = data[col].str.replace(',','')"
   ]
  },
  {
   "cell_type": "code",
   "execution_count": 83,
   "id": "a32d1070-a9bd-4206-b11c-cdc10bde8159",
   "metadata": {},
   "outputs": [],
   "source": [
    "data[[\"Year\",\"FIPS\",\"Cases\",\"Rate per 100000\",\"Percent\"]] = data[[\"Year\",\"FIPS\",\"Cases\",\"Rate per 100000\",\"Percent\"]].apply(pd.to_numeric)"
   ]
  },
  {
   "cell_type": "code",
   "execution_count": 84,
   "id": "87d4b12f-8ec6-4f34-91df-f21f7dcb1ce8",
   "metadata": {},
   "outputs": [
    {
     "data": {
      "text/plain": [
       "Indicator           object\n",
       "Year                 int64\n",
       "Geography           object\n",
       "FIPS                 int64\n",
       "Sex                 object\n",
       "Cases              float64\n",
       "Rate per 100000    float64\n",
       "Percent            float64\n",
       "dtype: object"
      ]
     },
     "execution_count": 84,
     "metadata": {},
     "output_type": "execute_result"
    }
   ],
   "source": [
    "data.dtypes\n",
    "# data.head()"
   ]
  },
  {
   "cell_type": "code",
   "execution_count": 85,
   "id": "36b481d2-e3df-41f5-8d71-72a439fddb61",
   "metadata": {},
   "outputs": [
    {
     "data": {
      "text/html": [
       "<div>\n",
       "<style scoped>\n",
       "    .dataframe tbody tr th:only-of-type {\n",
       "        vertical-align: middle;\n",
       "    }\n",
       "\n",
       "    .dataframe tbody tr th {\n",
       "        vertical-align: top;\n",
       "    }\n",
       "\n",
       "    .dataframe thead th {\n",
       "        text-align: right;\n",
       "    }\n",
       "</style>\n",
       "<table border=\"1\" class=\"dataframe\">\n",
       "  <thead>\n",
       "    <tr style=\"text-align: right;\">\n",
       "      <th></th>\n",
       "      <th>Indicator</th>\n",
       "      <th>Year</th>\n",
       "      <th>Geography</th>\n",
       "      <th>FIPS</th>\n",
       "      <th>Sex</th>\n",
       "      <th>Cases</th>\n",
       "      <th>Rate per 100000</th>\n",
       "      <th>Percent</th>\n",
       "    </tr>\n",
       "  </thead>\n",
       "  <tbody>\n",
       "    <tr>\n",
       "      <th>0</th>\n",
       "      <td>Receipt of HIV medical care</td>\n",
       "      <td>2020</td>\n",
       "      <td>Abbeville County, SC</td>\n",
       "      <td>45001</td>\n",
       "      <td>Male</td>\n",
       "      <td>39.0</td>\n",
       "      <td>NaN</td>\n",
       "      <td>92.9</td>\n",
       "    </tr>\n",
       "    <tr>\n",
       "      <th>1</th>\n",
       "      <td>Receipt of HIV medical care</td>\n",
       "      <td>2020</td>\n",
       "      <td>Abbeville County, SC</td>\n",
       "      <td>45001</td>\n",
       "      <td>Female</td>\n",
       "      <td>7.0</td>\n",
       "      <td>NaN</td>\n",
       "      <td>63.6</td>\n",
       "    </tr>\n",
       "    <tr>\n",
       "      <th>2</th>\n",
       "      <td>Receipt of HIV medical care</td>\n",
       "      <td>2019</td>\n",
       "      <td>Abbeville County, SC</td>\n",
       "      <td>45001</td>\n",
       "      <td>Male</td>\n",
       "      <td>35.0</td>\n",
       "      <td>NaN</td>\n",
       "      <td>87.5</td>\n",
       "    </tr>\n",
       "    <tr>\n",
       "      <th>3</th>\n",
       "      <td>Receipt of HIV medical care</td>\n",
       "      <td>2019</td>\n",
       "      <td>Abbeville County, SC</td>\n",
       "      <td>45001</td>\n",
       "      <td>Female</td>\n",
       "      <td>10.0</td>\n",
       "      <td>NaN</td>\n",
       "      <td>83.3</td>\n",
       "    </tr>\n",
       "    <tr>\n",
       "      <th>4</th>\n",
       "      <td>Receipt of HIV medical care</td>\n",
       "      <td>2018</td>\n",
       "      <td>Abbeville County, SC</td>\n",
       "      <td>45001</td>\n",
       "      <td>Male</td>\n",
       "      <td>NaN</td>\n",
       "      <td>NaN</td>\n",
       "      <td>NaN</td>\n",
       "    </tr>\n",
       "  </tbody>\n",
       "</table>\n",
       "</div>"
      ],
      "text/plain": [
       "                     Indicator  Year             Geography   FIPS     Sex  \\\n",
       "0  Receipt of HIV medical care  2020  Abbeville County, SC  45001    Male   \n",
       "1  Receipt of HIV medical care  2020  Abbeville County, SC  45001  Female   \n",
       "2  Receipt of HIV medical care  2019  Abbeville County, SC  45001    Male   \n",
       "3  Receipt of HIV medical care  2019  Abbeville County, SC  45001  Female   \n",
       "4  Receipt of HIV medical care  2018  Abbeville County, SC  45001    Male   \n",
       "\n",
       "   Cases  Rate per 100000  Percent  \n",
       "0   39.0              NaN     92.9  \n",
       "1    7.0              NaN     63.6  \n",
       "2   35.0              NaN     87.5  \n",
       "3   10.0              NaN     83.3  \n",
       "4    NaN              NaN      NaN  "
      ]
     },
     "execution_count": 85,
     "metadata": {},
     "output_type": "execute_result"
    }
   ],
   "source": [
    "data.head()"
   ]
  },
  {
   "cell_type": "code",
   "execution_count": 87,
   "id": "addf711c-c4dc-4915-84b9-995555ebb0f6",
   "metadata": {},
   "outputs": [
    {
     "data": {
      "text/plain": [
       "(array([0, 0, 1, ..., 2, 3, 3]),\n",
       " Int64Index([2020, 2019, 2018, 2017], dtype='int64'))"
      ]
     },
     "execution_count": 87,
     "metadata": {},
     "output_type": "execute_result"
    }
   ],
   "source": [
    "pd.factorize(data[\"Year\"])"
   ]
  },
  {
   "cell_type": "code",
   "execution_count": 88,
   "id": "5de0c3b9-eda3-432b-b63d-6b165c4798ce",
   "metadata": {},
   "outputs": [],
   "source": [
    "# data.to_csv(\"..//disagRaceSexHIV2017_2020.csv\")"
   ]
  },
  {
   "cell_type": "code",
   "execution_count": null,
   "id": "e51366ae-61c9-4e69-a62c-9d542f9a9756",
   "metadata": {},
   "outputs": [],
   "source": []
  }
 ],
 "metadata": {
  "kernelspec": {
   "display_name": "Python 3 (ipykernel)",
   "language": "python",
   "name": "python3"
  },
  "language_info": {
   "codemirror_mode": {
    "name": "ipython",
    "version": 3
   },
   "file_extension": ".py",
   "mimetype": "text/x-python",
   "name": "python",
   "nbconvert_exporter": "python",
   "pygments_lexer": "ipython3",
   "version": "3.9.13"
  }
 },
 "nbformat": 4,
 "nbformat_minor": 5
}
