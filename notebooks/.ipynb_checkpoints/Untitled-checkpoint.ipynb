{
 "cells": [
  {
   "cell_type": "code",
   "execution_count": 1,
   "id": "ba57a37b-ee9e-4380-ac87-d9bb83105e56",
   "metadata": {},
   "outputs": [],
   "source": [
    "import pandas as pd\n",
    "import numpy as np\n",
    "import os"
   ]
  },
  {
   "cell_type": "code",
   "execution_count": 5,
   "id": "12324858-9e65-459a-9247-aa28a40a6078",
   "metadata": {},
   "outputs": [
    {
     "name": "stdout",
     "output_type": "stream",
     "text": [
      "COVIDcounts_county_clean.csv\n",
      "ACSDP032019_clean.csv\n",
      "ACSDP032020_clean.csv\n",
      "ACSDP052016_clean.csv\n",
      "ACSDP052017_clean.csv\n",
      "ACSDP052018_clean.csv\n",
      "ACSDP052019_clean.csv\n",
      "ACSDP052020_clean.csv\n",
      "CDCSTDoverall2000_2020_clean.csv\n",
      "disagRaceSexHIV2017_2020_clean.csv\n",
      "disagRaceSexSTD2019_2020clean.csv\n",
      "HIVcountyage_clean.csv\n"
     ]
    }
   ],
   "source": [
    "total = []\n",
    "folder = '../Data/Clean'\n",
    "for path, subdirs, files in os.walk(folder):\n",
    "    for name in files:\n",
    "        if not name.endswith('.txt'):\n",
    "            total.append(pd.DataFrame(pd.read_csv(os.path.join(path,name),\n",
    "                                                  sep = ',', index_col = 0)))\n",
    "            print(name)\n",
    "                         "
   ]
  },
  {
   "cell_type": "code",
   "execution_count": 6,
   "id": "ce8f1055-0a5c-4f0c-b683-53df11d380a6",
   "metadata": {},
   "outputs": [
    {
     "name": "stdout",
     "output_type": "stream",
     "text": [
      "(3193, 895)\n",
      "(3220, 22)\n",
      "(3221, 22)\n",
      "(3220, 35)\n",
      "(3220, 36)\n",
      "(3220, 36)\n",
      "(3220, 36)\n",
      "(3221, 36)\n",
      "(67578, 130)\n",
      "(9980, 26)\n",
      "(6189, 122)\n",
      "(10878, 63)\n"
     ]
    }
   ],
   "source": [
    "for i in total:\n",
    "    print(i.shape)"
   ]
  },
  {
   "cell_type": "code",
   "execution_count": 7,
   "id": "631b93fd-a341-4154-a5ef-bf23d66cae65",
   "metadata": {},
   "outputs": [
    {
     "name": "stdout",
     "output_type": "stream",
     "text": [
      "(3193, 895)\n",
      "(3220, 22)\n",
      "(3221, 22)\n",
      "(3220, 35)\n",
      "(3220, 36)\n",
      "(3220, 36)\n",
      "(3220, 36)\n",
      "(3221, 36)\n",
      "(67578, 130)\n",
      "(9980, 26)\n",
      "(6189, 122)\n",
      "(10878, 63)\n"
     ]
    }
   ],
   "source": [
    "hiv = total[-1]\n",
    "del(total[-1])\n",
    "for i in total:\n",
    "    print(i.shape)\n",
    "print(hiv.shape)"
   ]
  }
 ],
 "metadata": {
  "kernelspec": {
   "display_name": "Python 3 (ipykernel)",
   "language": "python",
   "name": "python3"
  },
  "language_info": {
   "codemirror_mode": {
    "name": "ipython",
    "version": 3
   },
   "file_extension": ".py",
   "mimetype": "text/x-python",
   "name": "python",
   "nbconvert_exporter": "python",
   "pygments_lexer": "ipython3",
   "version": "3.9.7"
  }
 },
 "nbformat": 4,
 "nbformat_minor": 5
}
