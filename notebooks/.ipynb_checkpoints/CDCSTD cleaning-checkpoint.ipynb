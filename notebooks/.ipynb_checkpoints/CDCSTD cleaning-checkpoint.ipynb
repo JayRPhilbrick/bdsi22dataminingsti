{
 "cells": [
  {
   "cell_type": "code",
   "execution_count": 1,
   "id": "098eda43",
   "metadata": {},
   "outputs": [],
   "source": [
    "#import libraries\n",
    "import pandas as pd\n",
    "import numpy as np\n",
    "import os\n",
    "import matplotlib.pyplot as plt\n",
    "\n",
    "#suppresses warnings\n",
    "import warnings\n",
    "warnings.filterwarnings('ignore')\n",
    "\n",
    "%matplotlib inline"
   ]
  },
  {
   "cell_type": "code",
   "execution_count": 39,
   "id": "a16865d7",
   "metadata": {},
   "outputs": [],
   "source": [
    "tot_df = []\n",
    "for j,i in enumerate(np.arange(2016, 2021, 1)):\n",
    "    tot_df.append(pd.read_csv('../Data/Raw/CDC/CDCSTDcountysexrace'+ \n",
    "                              str(i) +'.csv', sep = ',', skiprows = 4))\n",
    "df = pd.concat(tot_df, axis = 0)"
   ]
  },
  {
   "cell_type": "code",
   "execution_count": 58,
   "id": "938aec55",
   "metadata": {},
   "outputs": [
    {
     "name": "stdout",
     "output_type": "stream",
     "text": [
      "(1032000, 8)\n",
      "indicator        object\n",
      "year             object\n",
      "geography        object\n",
      "fips              int64\n",
      "raceEthnicity    object\n",
      "sex              object\n",
      "cases            object\n",
      "ratePer100000    object\n",
      "dtype: object\n"
     ]
    },
    {
     "data": {
      "text/html": [
       "<div>\n",
       "<style scoped>\n",
       "    .dataframe tbody tr th:only-of-type {\n",
       "        vertical-align: middle;\n",
       "    }\n",
       "\n",
       "    .dataframe tbody tr th {\n",
       "        vertical-align: top;\n",
       "    }\n",
       "\n",
       "    .dataframe thead th {\n",
       "        text-align: right;\n",
       "    }\n",
       "</style>\n",
       "<table border=\"1\" class=\"dataframe\">\n",
       "  <thead>\n",
       "    <tr style=\"text-align: right;\">\n",
       "      <th></th>\n",
       "      <th>indicator</th>\n",
       "      <th>year</th>\n",
       "      <th>geography</th>\n",
       "      <th>fips</th>\n",
       "      <th>raceEthnicity</th>\n",
       "      <th>sex</th>\n",
       "      <th>cases</th>\n",
       "      <th>ratePer100000</th>\n",
       "    </tr>\n",
       "  </thead>\n",
       "  <tbody>\n",
       "    <tr>\n",
       "      <th>206395</th>\n",
       "      <td>Chlamydia</td>\n",
       "      <td>2020 (COVID-19 Pandemic)</td>\n",
       "      <td>Ziebach County, SD</td>\n",
       "      <td>46137</td>\n",
       "      <td>Black/African American</td>\n",
       "      <td>Female</td>\n",
       "      <td>0</td>\n",
       "      <td>0.0</td>\n",
       "    </tr>\n",
       "    <tr>\n",
       "      <th>206396</th>\n",
       "      <td>Chlamydia</td>\n",
       "      <td>2020 (COVID-19 Pandemic)</td>\n",
       "      <td>Ziebach County, SD</td>\n",
       "      <td>46137</td>\n",
       "      <td>Asian</td>\n",
       "      <td>Male</td>\n",
       "      <td>0</td>\n",
       "      <td>0.0</td>\n",
       "    </tr>\n",
       "    <tr>\n",
       "      <th>206397</th>\n",
       "      <td>Chlamydia</td>\n",
       "      <td>2020 (COVID-19 Pandemic)</td>\n",
       "      <td>Ziebach County, SD</td>\n",
       "      <td>46137</td>\n",
       "      <td>Asian</td>\n",
       "      <td>Female</td>\n",
       "      <td>0</td>\n",
       "      <td>0.0</td>\n",
       "    </tr>\n",
       "    <tr>\n",
       "      <th>206398</th>\n",
       "      <td>Chlamydia</td>\n",
       "      <td>2020 (COVID-19 Pandemic)</td>\n",
       "      <td>Ziebach County, SD</td>\n",
       "      <td>46137</td>\n",
       "      <td>American Indian/Alaska Native</td>\n",
       "      <td>Male</td>\n",
       "      <td>Data suppressed</td>\n",
       "      <td>Data suppressed</td>\n",
       "    </tr>\n",
       "    <tr>\n",
       "      <th>206399</th>\n",
       "      <td>Chlamydia</td>\n",
       "      <td>2020 (COVID-19 Pandemic)</td>\n",
       "      <td>Ziebach County, SD</td>\n",
       "      <td>46137</td>\n",
       "      <td>American Indian/Alaska Native</td>\n",
       "      <td>Female</td>\n",
       "      <td>Data suppressed</td>\n",
       "      <td>Data suppressed</td>\n",
       "    </tr>\n",
       "  </tbody>\n",
       "</table>\n",
       "</div>"
      ],
      "text/plain": [
       "        indicator                      year           geography   fips  \\\n",
       "206395  Chlamydia  2020 (COVID-19 Pandemic)  Ziebach County, SD  46137   \n",
       "206396  Chlamydia  2020 (COVID-19 Pandemic)  Ziebach County, SD  46137   \n",
       "206397  Chlamydia  2020 (COVID-19 Pandemic)  Ziebach County, SD  46137   \n",
       "206398  Chlamydia  2020 (COVID-19 Pandemic)  Ziebach County, SD  46137   \n",
       "206399  Chlamydia  2020 (COVID-19 Pandemic)  Ziebach County, SD  46137   \n",
       "\n",
       "                        raceEthnicity     sex            cases  \\\n",
       "206395         Black/African American  Female                0   \n",
       "206396                          Asian    Male                0   \n",
       "206397                          Asian  Female                0   \n",
       "206398  American Indian/Alaska Native    Male  Data suppressed   \n",
       "206399  American Indian/Alaska Native  Female  Data suppressed   \n",
       "\n",
       "          ratePer100000  \n",
       "206395              0.0  \n",
       "206396              0.0  \n",
       "206397              0.0  \n",
       "206398  Data suppressed  \n",
       "206399  Data suppressed  "
      ]
     },
     "execution_count": 58,
     "metadata": {},
     "output_type": "execute_result"
    }
   ],
   "source": [
    "print(df.shape)\n",
    "print(df.dtypes)\n",
    "df = df.rename(columns = {'Cases':'cases',\n",
    "                          'Rate per 100000':'ratePer100000',\n",
    "                         'Indicator':'indicator',\n",
    "                         'Year':'year',\n",
    "                         'Geography':'geography',\n",
    "                         'FIPS':'fips',\n",
    "                         'Race/Ethnicity':'raceEthnicity',\n",
    "                         'Sex':'sex'})\n",
    "df.tail()"
   ]
  },
  {
   "cell_type": "code",
   "execution_count": 60,
   "id": "e03ba82e",
   "metadata": {},
   "outputs": [
    {
     "ename": "IndentationError",
     "evalue": "unexpected indent (Temp/ipykernel_20420/2997987020.py, line 4)",
     "output_type": "error",
     "traceback": [
      "\u001b[1;36m  File \u001b[1;32m\"C:\\Users\\FPSKIN~1\\AppData\\Local\\Temp/ipykernel_20420/2997987020.py\"\u001b[1;36m, line \u001b[1;32m4\u001b[0m\n\u001b[1;33m    'ratePer100000':'int64'})\u001b[0m\n\u001b[1;37m    ^\u001b[0m\n\u001b[1;31mIndentationError\u001b[0m\u001b[1;31m:\u001b[0m unexpected indent\n"
     ]
    }
   ],
   "source": [
    "df['year'] = df['year'].str.replace('2020 (COVID-19 Pandemic)', '2020')\n",
    "df.isnull().sum(axis=0)\n",
    "#df['year']=df.astype({'year': 'int64', 'cases':'int64', 'ratePer100000':'int64'})\n",
    "df.head()"
   ]
  },
  {
   "cell_type": "code",
   "execution_count": 41,
   "id": "f000efc7",
   "metadata": {},
   "outputs": [
    {
     "name": "stdout",
     "output_type": "stream",
     "text": [
      "(206400, 8)\n",
      "(206400, 8)\n",
      "(206400, 8)\n",
      "(206400, 8)\n",
      "(206400, 8)\n"
     ]
    }
   ],
   "source": [
    "df2016 = pd.DataFrame(tot_df[0])\n",
    "print(df2016.shape)\n",
    "df2017 = pd.DataFrame(tot_df[1])\n",
    "print(df2017.shape)\n",
    "df2018 = pd.DataFrame(tot_df[2])\n",
    "print(df2018.shape)\n",
    "df2019 = pd.DataFrame(tot_df[3])\n",
    "print(df2019.shape)\n",
    "df2020 = pd.DataFrame(tot_df[4])\n",
    "print(df2020.shape)"
   ]
  },
  {
   "cell_type": "code",
   "execution_count": 21,
   "id": "94711106",
   "metadata": {
    "scrolled": false
   },
   "outputs": [
    {
     "data": {
      "text/plain": [
       "Indicator          object\n",
       "Year                int64\n",
       "Geography          object\n",
       "FIPS                int64\n",
       "Race/Ethnicity     object\n",
       "Sex                object\n",
       "Cases              object\n",
       "Rate per 100000    object\n",
       "dtype: object"
      ]
     },
     "execution_count": 21,
     "metadata": {},
     "output_type": "execute_result"
    }
   ],
   "source": [
    "df2016.dtypes"
   ]
  },
  {
   "cell_type": "code",
   "execution_count": null,
   "id": "e5d276bf",
   "metadata": {},
   "outputs": [],
   "source": [
    "for i in enumerate(tot_df):\n",
    "    tot_df[i]['Ca']"
   ]
  }
 ],
 "metadata": {
  "kernelspec": {
   "display_name": "Python 3 (ipykernel)",
   "language": "python",
   "name": "python3"
  },
  "language_info": {
   "codemirror_mode": {
    "name": "ipython",
    "version": 3
   },
   "file_extension": ".py",
   "mimetype": "text/x-python",
   "name": "python",
   "nbconvert_exporter": "python",
   "pygments_lexer": "ipython3",
   "version": "3.9.7"
  }
 },
 "nbformat": 4,
 "nbformat_minor": 5
}
